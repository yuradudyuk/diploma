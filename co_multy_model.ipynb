{
 "cells": [
  {
   "cell_type": "code",
   "execution_count": 1,
   "outputs": [
    {
     "data": {
      "text/plain": "            no2        o3       so2     pm2.5      pm10        co      tmax  \\\ntime  -0.415741  0.387441 -0.240323 -0.368899 -0.390421 -0.605185  0.826676   \nlon   -0.424547  0.030846 -0.461588 -0.207922 -0.254245 -0.258727 -0.042636   \nlat   -0.188201  0.042263 -0.147747 -0.097050 -0.086878 -0.051185 -0.007945   \nno2    1.000000 -0.521072  0.726618  0.624651  0.651734  0.751877 -0.277203   \no3    -0.521072  1.000000 -0.059292 -0.308254 -0.297094 -0.510993  0.349467   \nso2    0.726618 -0.059292  1.000000  0.687509  0.715760  0.611125 -0.049439   \npm2.5  0.624651 -0.308254  0.687509  1.000000  0.989233  0.782036 -0.012987   \npm10   0.651734 -0.297094  0.715760  0.989233  1.000000  0.777753 -0.032763   \nco     0.751877 -0.510993  0.611125  0.782036  0.777753  1.000000 -0.392282   \ntmax  -0.277203  0.349467 -0.049439 -0.012987 -0.032763 -0.392282  1.000000   \ntmin  -0.243154  0.175435 -0.159459 -0.153268 -0.179913 -0.413195  0.876554   \nhum    0.308719 -0.673717 -0.013148  0.282630  0.249959  0.439669 -0.353050   \nopady -0.064895 -0.169933 -0.183186 -0.116184 -0.150461 -0.085150  0.132974   \ntysk  -0.005493 -0.075370 -0.060192  0.132733  0.143303  0.060516 -0.118298   \nwind   0.074401  0.313442  0.199419 -0.069917 -0.046335 -0.030763 -0.105003   \n\n           tmin       hum     opady      tysk      wind  \ntime   0.846596 -0.440903  0.224874 -0.222992 -0.080717  \nlon   -0.032703  0.175312  0.085854  0.094838 -0.096535  \nlat    0.002081  0.045270 -0.023346  0.340029 -0.002991  \nno2   -0.243154  0.308719 -0.064895 -0.005493  0.074401  \no3     0.175435 -0.673717 -0.169933 -0.075370  0.313442  \nso2   -0.159459 -0.013148 -0.183186 -0.060192  0.199419  \npm2.5 -0.153268  0.282630 -0.116184  0.132733 -0.069917  \npm10  -0.179913  0.249959 -0.150461  0.143303 -0.046335  \nco    -0.413195  0.439669 -0.085150  0.060516 -0.030763  \ntmax   0.876554 -0.353050  0.132974 -0.118298 -0.105003  \ntmin   1.000000 -0.112886  0.353958 -0.261290 -0.053905  \nhum   -0.112886  1.000000  0.416990 -0.102690 -0.035014  \nopady  0.353958  0.416990  1.000000 -0.335279  0.003805  \ntysk  -0.261290 -0.102690 -0.335279  1.000000 -0.238502  \nwind  -0.053905 -0.035014  0.003805 -0.238502  1.000000  ",
      "text/html": "<div>\n<style scoped>\n    .dataframe tbody tr th:only-of-type {\n        vertical-align: middle;\n    }\n\n    .dataframe tbody tr th {\n        vertical-align: top;\n    }\n\n    .dataframe thead th {\n        text-align: right;\n    }\n</style>\n<table border=\"1\" class=\"dataframe\">\n  <thead>\n    <tr style=\"text-align: right;\">\n      <th></th>\n      <th>no2</th>\n      <th>o3</th>\n      <th>so2</th>\n      <th>pm2.5</th>\n      <th>pm10</th>\n      <th>co</th>\n      <th>tmax</th>\n      <th>tmin</th>\n      <th>hum</th>\n      <th>opady</th>\n      <th>tysk</th>\n      <th>wind</th>\n    </tr>\n  </thead>\n  <tbody>\n    <tr>\n      <th>time</th>\n      <td>-0.415741</td>\n      <td>0.387441</td>\n      <td>-0.240323</td>\n      <td>-0.368899</td>\n      <td>-0.390421</td>\n      <td>-0.605185</td>\n      <td>0.826676</td>\n      <td>0.846596</td>\n      <td>-0.440903</td>\n      <td>0.224874</td>\n      <td>-0.222992</td>\n      <td>-0.080717</td>\n    </tr>\n    <tr>\n      <th>lon</th>\n      <td>-0.424547</td>\n      <td>0.030846</td>\n      <td>-0.461588</td>\n      <td>-0.207922</td>\n      <td>-0.254245</td>\n      <td>-0.258727</td>\n      <td>-0.042636</td>\n      <td>-0.032703</td>\n      <td>0.175312</td>\n      <td>0.085854</td>\n      <td>0.094838</td>\n      <td>-0.096535</td>\n    </tr>\n    <tr>\n      <th>lat</th>\n      <td>-0.188201</td>\n      <td>0.042263</td>\n      <td>-0.147747</td>\n      <td>-0.097050</td>\n      <td>-0.086878</td>\n      <td>-0.051185</td>\n      <td>-0.007945</td>\n      <td>0.002081</td>\n      <td>0.045270</td>\n      <td>-0.023346</td>\n      <td>0.340029</td>\n      <td>-0.002991</td>\n    </tr>\n    <tr>\n      <th>no2</th>\n      <td>1.000000</td>\n      <td>-0.521072</td>\n      <td>0.726618</td>\n      <td>0.624651</td>\n      <td>0.651734</td>\n      <td>0.751877</td>\n      <td>-0.277203</td>\n      <td>-0.243154</td>\n      <td>0.308719</td>\n      <td>-0.064895</td>\n      <td>-0.005493</td>\n      <td>0.074401</td>\n    </tr>\n    <tr>\n      <th>o3</th>\n      <td>-0.521072</td>\n      <td>1.000000</td>\n      <td>-0.059292</td>\n      <td>-0.308254</td>\n      <td>-0.297094</td>\n      <td>-0.510993</td>\n      <td>0.349467</td>\n      <td>0.175435</td>\n      <td>-0.673717</td>\n      <td>-0.169933</td>\n      <td>-0.075370</td>\n      <td>0.313442</td>\n    </tr>\n    <tr>\n      <th>so2</th>\n      <td>0.726618</td>\n      <td>-0.059292</td>\n      <td>1.000000</td>\n      <td>0.687509</td>\n      <td>0.715760</td>\n      <td>0.611125</td>\n      <td>-0.049439</td>\n      <td>-0.159459</td>\n      <td>-0.013148</td>\n      <td>-0.183186</td>\n      <td>-0.060192</td>\n      <td>0.199419</td>\n    </tr>\n    <tr>\n      <th>pm2.5</th>\n      <td>0.624651</td>\n      <td>-0.308254</td>\n      <td>0.687509</td>\n      <td>1.000000</td>\n      <td>0.989233</td>\n      <td>0.782036</td>\n      <td>-0.012987</td>\n      <td>-0.153268</td>\n      <td>0.282630</td>\n      <td>-0.116184</td>\n      <td>0.132733</td>\n      <td>-0.069917</td>\n    </tr>\n    <tr>\n      <th>pm10</th>\n      <td>0.651734</td>\n      <td>-0.297094</td>\n      <td>0.715760</td>\n      <td>0.989233</td>\n      <td>1.000000</td>\n      <td>0.777753</td>\n      <td>-0.032763</td>\n      <td>-0.179913</td>\n      <td>0.249959</td>\n      <td>-0.150461</td>\n      <td>0.143303</td>\n      <td>-0.046335</td>\n    </tr>\n    <tr>\n      <th>co</th>\n      <td>0.751877</td>\n      <td>-0.510993</td>\n      <td>0.611125</td>\n      <td>0.782036</td>\n      <td>0.777753</td>\n      <td>1.000000</td>\n      <td>-0.392282</td>\n      <td>-0.413195</td>\n      <td>0.439669</td>\n      <td>-0.085150</td>\n      <td>0.060516</td>\n      <td>-0.030763</td>\n    </tr>\n    <tr>\n      <th>tmax</th>\n      <td>-0.277203</td>\n      <td>0.349467</td>\n      <td>-0.049439</td>\n      <td>-0.012987</td>\n      <td>-0.032763</td>\n      <td>-0.392282</td>\n      <td>1.000000</td>\n      <td>0.876554</td>\n      <td>-0.353050</td>\n      <td>0.132974</td>\n      <td>-0.118298</td>\n      <td>-0.105003</td>\n    </tr>\n    <tr>\n      <th>tmin</th>\n      <td>-0.243154</td>\n      <td>0.175435</td>\n      <td>-0.159459</td>\n      <td>-0.153268</td>\n      <td>-0.179913</td>\n      <td>-0.413195</td>\n      <td>0.876554</td>\n      <td>1.000000</td>\n      <td>-0.112886</td>\n      <td>0.353958</td>\n      <td>-0.261290</td>\n      <td>-0.053905</td>\n    </tr>\n    <tr>\n      <th>hum</th>\n      <td>0.308719</td>\n      <td>-0.673717</td>\n      <td>-0.013148</td>\n      <td>0.282630</td>\n      <td>0.249959</td>\n      <td>0.439669</td>\n      <td>-0.353050</td>\n      <td>-0.112886</td>\n      <td>1.000000</td>\n      <td>0.416990</td>\n      <td>-0.102690</td>\n      <td>-0.035014</td>\n    </tr>\n    <tr>\n      <th>opady</th>\n      <td>-0.064895</td>\n      <td>-0.169933</td>\n      <td>-0.183186</td>\n      <td>-0.116184</td>\n      <td>-0.150461</td>\n      <td>-0.085150</td>\n      <td>0.132974</td>\n      <td>0.353958</td>\n      <td>0.416990</td>\n      <td>1.000000</td>\n      <td>-0.335279</td>\n      <td>0.003805</td>\n    </tr>\n    <tr>\n      <th>tysk</th>\n      <td>-0.005493</td>\n      <td>-0.075370</td>\n      <td>-0.060192</td>\n      <td>0.132733</td>\n      <td>0.143303</td>\n      <td>0.060516</td>\n      <td>-0.118298</td>\n      <td>-0.261290</td>\n      <td>-0.102690</td>\n      <td>-0.335279</td>\n      <td>1.000000</td>\n      <td>-0.238502</td>\n    </tr>\n    <tr>\n      <th>wind</th>\n      <td>0.074401</td>\n      <td>0.313442</td>\n      <td>0.199419</td>\n      <td>-0.069917</td>\n      <td>-0.046335</td>\n      <td>-0.030763</td>\n      <td>-0.105003</td>\n      <td>-0.053905</td>\n      <td>-0.035014</td>\n      <td>0.003805</td>\n      <td>-0.238502</td>\n      <td>1.000000</td>\n    </tr>\n  </tbody>\n</table>\n</div>"
     },
     "execution_count": 1,
     "metadata": {},
     "output_type": "execute_result"
    }
   ],
   "source": [
    "import xarray as xr\n",
    "import pandas as pd\n",
    "import numpy as np\n",
    "import math as mh\n",
    "import matplotlib.pyplot as plt\n",
    "from sklearn.linear_model import LinearRegression\n",
    "from sklearn.preprocessing import PolynomialFeatures\n",
    "from sklearn.model_selection import train_test_split\n",
    "import seaborn as sns\n",
    "import statsmodels.api as sm\n",
    "from statsmodels.stats.outliers_influence import variance_inflation_factor\n",
    "from sklearn import metrics\n",
    "from sklearn.ensemble import RandomForestRegressor\n",
    "dff=pd.read_csv('atlast_data.csv',index_col=0)\n",
    "cor=dff.corr()\n",
    "#cor=cor.drop(columns=['time','lon','lat'])\n",
    "cor.drop(columns=['time','lon','lat'],axis=0)\n"
   ],
   "metadata": {
    "collapsed": false,
    "pycharm": {
     "name": "#%%\n"
    }
   }
  },
  {
   "cell_type": "code",
   "execution_count": 2,
   "outputs": [
    {
     "name": "stdout",
     "output_type": "stream",
     "text": [
      "r-squered for train 0.5325654441667887\n",
      "r-squered for test 0.5607874641648717\n",
      "             coef        p-value\n",
      "const  439.978169   4.603955e-18\n",
      "time    -0.644798   2.335749e-60\n",
      "lon     -5.598352  5.135113e-108\n",
      "lat     -4.540383   3.438988e-06\n",
      "tmax     2.306730   5.145293e-49\n",
      "tmin    -1.960865   4.477000e-15\n",
      "hum      1.617047   6.283198e-77\n"
     ]
    },
    {
     "name": "stderr",
     "output_type": "stream",
     "text": [
      "C:\\Users\\Yura Dudyuk\\anaconda3\\lib\\site-packages\\statsmodels\\tsa\\tsatools.py:142: FutureWarning: In a future version of pandas all arguments of concat except for the argument 'objs' will be keyword-only\n",
      "  x = pd.concat(x[::order], 1)\n"
     ]
    }
   ],
   "source": [
    "chem=dff['co']\n",
    "features=dff.drop(columns=['no2','o3','so2','pm10','co','pm2.5','wind','tysk','opady'],axis=1)\n",
    "X_train,X_test,Y_train,Y_test = train_test_split (features,chem,test_size=0.15,random_state=10)\n",
    "regr=LinearRegression()\n",
    "regr.fit(X_train,Y_train)\n",
    "print(\"r-squered for train\",regr.score(X_train,Y_train))\n",
    "print(\"r-squered for test\",regr.score(X_test,Y_test))\n",
    "x_incl_const=sm.add_constant(X_train)\n",
    "model = sm.OLS(Y_train,x_incl_const)\n",
    "results=model.fit()\n",
    "dd=pd.DataFrame({'coef': results.params,'p-value':results.pvalues})\n",
    "print(dd)"
   ],
   "metadata": {
    "collapsed": false,
    "pycharm": {
     "name": "#%%\n"
    }
   }
  },
  {
   "cell_type": "code",
   "execution_count": 3,
   "outputs": [
    {
     "data": {
      "text/plain": "  coef_name           vif\n0     const  16112.269272\n1      time      6.637450\n2       lon      1.103104\n3       lat      1.004306\n4      tmax      6.152524\n5      tmin     10.168143\n6       hum      2.385600",
      "text/html": "<div>\n<style scoped>\n    .dataframe tbody tr th:only-of-type {\n        vertical-align: middle;\n    }\n\n    .dataframe tbody tr th {\n        vertical-align: top;\n    }\n\n    .dataframe thead th {\n        text-align: right;\n    }\n</style>\n<table border=\"1\" class=\"dataframe\">\n  <thead>\n    <tr style=\"text-align: right;\">\n      <th></th>\n      <th>coef_name</th>\n      <th>vif</th>\n    </tr>\n  </thead>\n  <tbody>\n    <tr>\n      <th>0</th>\n      <td>const</td>\n      <td>16112.269272</td>\n    </tr>\n    <tr>\n      <th>1</th>\n      <td>time</td>\n      <td>6.637450</td>\n    </tr>\n    <tr>\n      <th>2</th>\n      <td>lon</td>\n      <td>1.103104</td>\n    </tr>\n    <tr>\n      <th>3</th>\n      <td>lat</td>\n      <td>1.004306</td>\n    </tr>\n    <tr>\n      <th>4</th>\n      <td>tmax</td>\n      <td>6.152524</td>\n    </tr>\n    <tr>\n      <th>5</th>\n      <td>tmin</td>\n      <td>10.168143</td>\n    </tr>\n    <tr>\n      <th>6</th>\n      <td>hum</td>\n      <td>2.385600</td>\n    </tr>\n  </tbody>\n</table>\n</div>"
     },
     "execution_count": 3,
     "metadata": {},
     "output_type": "execute_result"
    }
   ],
   "source": [
    "variance_inflation_factor(exog=x_incl_const.values,exog_idx=1)\n",
    "vif=[variance_inflation_factor(exog=x_incl_const.values,exog_idx=i) for i in range(x_incl_const.shape[1])]\n",
    "dd=pd.DataFrame({'coef_name': x_incl_const.columns,'vif':vif})\n",
    "dd"
   ],
   "metadata": {
    "collapsed": false,
    "pycharm": {
     "name": "#%%\n"
    }
   }
  },
  {
   "cell_type": "code",
   "execution_count": 4,
   "outputs": [
    {
     "name": "stdout",
     "output_type": "stream",
     "text": [
      "BIC 25200.79763439282\n",
      "r-squared 0.5325654441667889\n"
     ]
    },
    {
     "name": "stderr",
     "output_type": "stream",
     "text": [
      "C:\\Users\\Yura Dudyuk\\anaconda3\\lib\\site-packages\\statsmodels\\tsa\\tsatools.py:142: FutureWarning: In a future version of pandas all arguments of concat except for the argument 'objs' will be keyword-only\n",
      "  x = pd.concat(x[::order], 1)\n"
     ]
    }
   ],
   "source": [
    "x_incl_const=sm.add_constant(X_train)\n",
    "model = sm.OLS(Y_train,x_incl_const)\n",
    "results=model.fit()\n",
    "org_coef=pd.DataFrame({'coef': results.params,'p-value':results.pvalues})\n",
    "print('BIC',results.bic)\n",
    "print('r-squared',results.rsquared)"
   ],
   "metadata": {
    "collapsed": false,
    "pycharm": {
     "name": "#%%\n"
    }
   }
  },
  {
   "cell_type": "code",
   "execution_count": 5,
   "outputs": [
    {
     "name": "stdout",
     "output_type": "stream",
     "text": [
      "BIC 25254.49720801494\n",
      "r-squared 0.5222167652829612\n"
     ]
    },
    {
     "name": "stderr",
     "output_type": "stream",
     "text": [
      "C:\\Users\\Yura Dudyuk\\anaconda3\\lib\\site-packages\\statsmodels\\tsa\\tsatools.py:142: FutureWarning: In a future version of pandas all arguments of concat except for the argument 'objs' will be keyword-only\n",
      "  x = pd.concat(x[::order], 1)\n"
     ]
    }
   ],
   "source": [
    "x_incl_const=sm.add_constant(X_train)\n",
    "x_incl_const=x_incl_const.drop(['tmin'],axis=1)\n",
    "model = sm.OLS(Y_train,x_incl_const)\n",
    "results=model.fit()\n",
    "reduced_coef=pd.DataFrame({'coef': results.params,'p-value':results.pvalues})\n",
    "print('BIC',results.bic)\n",
    "print('r-squared',results.rsquared)\n"
   ],
   "metadata": {
    "collapsed": false,
    "pycharm": {
     "name": "#%%\n"
    }
   }
  },
  {
   "cell_type": "code",
   "execution_count": 6,
   "outputs": [
    {
     "data": {
      "text/plain": "             coef        p-value        coef        p-value\nconst  439.978169   4.603955e-18  466.763904   8.547091e-20\ntime    -0.644798   2.335749e-60   -0.850871  6.562131e-171\nlon     -5.598352  5.135113e-108   -5.176171   3.617216e-96\nlat     -4.540383   3.438988e-06   -4.275334   1.501315e-05\ntmax     2.306730   5.145293e-49    1.472091   6.617346e-38\ntmin    -1.960865   4.477000e-15         NaN            NaN\nhum      1.617047   6.283198e-77    1.169639   3.153650e-72",
      "text/html": "<div>\n<style scoped>\n    .dataframe tbody tr th:only-of-type {\n        vertical-align: middle;\n    }\n\n    .dataframe tbody tr th {\n        vertical-align: top;\n    }\n\n    .dataframe thead th {\n        text-align: right;\n    }\n</style>\n<table border=\"1\" class=\"dataframe\">\n  <thead>\n    <tr style=\"text-align: right;\">\n      <th></th>\n      <th>coef</th>\n      <th>p-value</th>\n      <th>coef</th>\n      <th>p-value</th>\n    </tr>\n  </thead>\n  <tbody>\n    <tr>\n      <th>const</th>\n      <td>439.978169</td>\n      <td>4.603955e-18</td>\n      <td>466.763904</td>\n      <td>8.547091e-20</td>\n    </tr>\n    <tr>\n      <th>time</th>\n      <td>-0.644798</td>\n      <td>2.335749e-60</td>\n      <td>-0.850871</td>\n      <td>6.562131e-171</td>\n    </tr>\n    <tr>\n      <th>lon</th>\n      <td>-5.598352</td>\n      <td>5.135113e-108</td>\n      <td>-5.176171</td>\n      <td>3.617216e-96</td>\n    </tr>\n    <tr>\n      <th>lat</th>\n      <td>-4.540383</td>\n      <td>3.438988e-06</td>\n      <td>-4.275334</td>\n      <td>1.501315e-05</td>\n    </tr>\n    <tr>\n      <th>tmax</th>\n      <td>2.306730</td>\n      <td>5.145293e-49</td>\n      <td>1.472091</td>\n      <td>6.617346e-38</td>\n    </tr>\n    <tr>\n      <th>tmin</th>\n      <td>-1.960865</td>\n      <td>4.477000e-15</td>\n      <td>NaN</td>\n      <td>NaN</td>\n    </tr>\n    <tr>\n      <th>hum</th>\n      <td>1.617047</td>\n      <td>6.283198e-77</td>\n      <td>1.169639</td>\n      <td>3.153650e-72</td>\n    </tr>\n  </tbody>\n</table>\n</div>"
     },
     "execution_count": 6,
     "metadata": {},
     "output_type": "execute_result"
    }
   ],
   "source": [
    "frames=[org_coef,reduced_coef]\n",
    "news=pd.concat(frames,axis=1)\n",
    "news"
   ],
   "metadata": {
    "collapsed": false,
    "pycharm": {
     "name": "#%%\n"
    }
   }
  },
  {
   "cell_type": "code",
   "execution_count": 7,
   "outputs": [
    {
     "data": {
      "text/plain": "array([189.72279571, 158.86869165, 194.27190021, 225.99404436,\n       168.94557873, 183.50464519, 159.14513337, 173.85663107,\n       181.38893739, 166.09855747, 184.40668837, 161.8426251 ,\n       145.40944001, 214.46533631, 188.42457918, 153.37176006,\n       149.55120192, 204.06583264, 177.96912615, 191.43724177,\n       191.29726592, 169.66440807, 202.12951639, 231.55495616,\n       206.82688454, 173.9389369 , 165.24043643, 185.98321162,\n       196.19714446, 176.10839144, 209.99283048, 162.96134519,\n       178.10186101, 192.7483398 , 168.94914693, 197.23356641,\n       190.61327844, 181.97998487, 178.65416627, 171.48914784,\n       169.36706508, 212.15579004, 212.18327141, 179.03643334,\n       191.86822423, 218.28137545, 200.1767113 , 153.8796799 ,\n       142.3624596 , 216.53172365, 190.26129481, 199.49643821,\n       140.72329585, 188.40974842, 190.09873452, 210.92772348,\n       153.9636571 , 202.09603442, 157.84967912, 208.57140988,\n       150.7760749 , 196.60921279, 196.58127237, 201.16015577,\n       193.32634483, 169.44690932, 166.10393637, 144.88554543,\n       163.46528383, 180.18663345, 164.62268669, 175.88686545,\n       176.88530183, 156.17410687, 146.07913989, 213.24295655,\n       167.72906625, 196.1752615 , 176.96155797, 207.24233779,\n       190.40232989, 155.04090304, 181.28040501, 202.21069604,\n       191.02941841, 222.35343982, 159.46197374, 159.85244342,\n       154.31228112, 204.02692451, 202.48694177, 202.76932004,\n       183.16632525, 184.45460762, 147.89321608, 173.88677488,\n       134.99402389, 180.54448061, 188.39208371, 188.47674005,\n       147.76814901, 177.05150089, 204.08459943, 157.27507245,\n       197.10324386, 179.91714929, 196.63540444, 155.54099581,\n       162.78391994, 138.57037698, 175.88577635, 199.15738386,\n       154.25489911, 194.90954039, 193.98336575, 181.35864936,\n       204.98696758, 171.85880138, 177.9950884 , 159.49757048,\n       208.08619371, 194.89968265, 171.30705621, 156.25992252,\n       168.8906269 , 190.48678996, 174.03072182, 186.65922525,\n       191.82055627, 199.62378044, 169.93584473, 190.87170555,\n       150.0812271 , 213.57565781, 199.90297104, 221.54393062,\n       161.30978793, 189.2424804 , 157.60699948, 194.05694077,\n       184.87966659, 221.08059947, 238.21609673, 222.28245421,\n       185.75288708, 176.82843191, 166.61899162, 159.06034263,\n       216.90443034, 165.68975278, 200.06471213, 190.68401876,\n       153.04037922, 171.6197815 , 229.33488327, 195.65087143,\n       190.91156546, 172.21448197, 150.83210246, 187.77230943,\n       189.22959608, 159.16792773, 169.48449045, 201.82630814,\n       160.34217927, 199.88781399, 217.10088411, 156.09468652,\n       200.72986327, 142.57642381, 208.22050548, 196.30921029,\n       159.37506439, 135.79380155, 175.66671046, 176.1495215 ,\n       196.03870273, 196.19825852, 173.51553013, 189.71414267,\n       183.77970906, 154.10294528, 152.07764562, 173.06528837,\n       187.50709815, 196.41964261, 191.34930979, 201.75958447,\n       203.61777363, 175.23210264, 178.26662566, 195.02534454,\n       206.99615582, 193.41159454, 178.90210708, 160.92801909,\n       185.04482835, 197.50252363, 203.10987998, 179.4335825 ,\n       182.78947739, 156.70606512, 159.92094685, 171.33797923,\n       170.13154949, 189.92537944, 200.82527952, 132.56212259,\n       182.66801968, 198.75145173, 190.95547247, 201.3268288 ,\n       193.52669334, 195.68759633, 198.06822099, 196.15778778,\n       231.58878145, 181.01352368, 162.08189079, 174.46458028,\n       139.49375141, 145.65769474, 191.54441314, 204.89736453,\n       215.74155725, 188.7743733 , 200.67396476, 194.87145693,\n       189.80228709, 154.42302007, 175.52938354, 194.06671712,\n       153.3773701 , 200.0304753 , 209.88216268, 186.94815951,\n       212.67518521, 158.44786312, 156.95673668, 168.31854298,\n       199.17932441, 152.71999406, 206.27512673, 153.74874793,\n       225.10801195, 223.80014049, 218.46153807, 204.32006538,\n       155.83218298, 152.79069204, 189.5374713 , 213.42339549,\n       197.13051155, 164.96244474, 188.92258721, 223.88383968,\n       203.68199416, 184.84768201, 168.13705008, 165.01878944,\n       206.80935009, 166.61050502, 150.10973591, 165.77349291,\n       196.35759882, 201.28450772, 177.3851216 , 186.2088285 ,\n       149.12431305, 177.15564791, 153.02239584, 224.02198611,\n       195.23726297, 188.22672212, 168.97329677, 200.21235454,\n       222.47326921, 177.59599315, 147.58932493, 182.51050909,\n       181.74480795, 170.50706487, 205.09739593, 176.98169923,\n       150.24104464, 151.24486529, 160.79030941, 199.10806137,\n       183.90588202, 182.94698419, 169.77203194, 175.32668089,\n       177.52096763, 218.3959408 , 221.91486533, 204.50917302,\n       215.44798655, 199.34556767, 187.38170311, 136.86023116,\n       175.68662454, 186.72618266, 183.08350317, 208.30083931,\n       191.8804564 , 165.10400352, 193.43616189, 234.73452322,\n       187.94328002, 166.76848521, 155.39346599, 223.59625029,\n       166.94362273, 162.93910876, 172.41453699, 217.71836895,\n       174.28032986, 146.80470915, 134.28692447, 169.52684939,\n       142.95631447, 174.23983839, 190.59301266, 213.31941611,\n       189.3409205 , 210.32728865, 237.6943239 , 200.87706542,\n       146.94695625, 184.06417566, 198.26362795, 201.73594847,\n       162.8940724 , 225.52584025, 191.98863632, 210.76605799,\n       177.04790552, 145.12430068, 193.1836417 , 141.56314328,\n       214.71138204, 161.47559068, 155.21083227, 181.53281304,\n       149.72257937, 191.49823435, 157.04721797, 165.07772861,\n       204.75321898, 169.47336224, 171.45633502, 193.23425446,\n       160.43561138, 161.53476776, 170.28203325, 198.39912988,\n       194.14423341, 172.61904733, 173.58866462, 217.74068889,\n       208.13351295, 165.7373197 , 161.72677767, 214.04391999,\n       156.5313822 , 193.62666523, 184.69536321, 202.73683193,\n       204.21537454, 185.5145718 , 232.59700566, 176.52016168,\n       187.01325533, 196.86031803, 162.69316574, 142.9444903 ,\n       195.99247788, 149.99060525, 171.46557662, 217.433986  ,\n       152.98179396, 143.35188397, 180.40143335, 197.51373835,\n       224.59159275, 149.42169663, 184.27184783, 188.26760281,\n       190.84150645, 148.79089371, 141.93216932, 172.15910263,\n       209.28147285, 151.2024137 , 189.68859349, 188.55661408,\n       194.87102913, 206.01293325, 139.85265488, 225.62957592,\n       167.32943598, 152.05607837, 198.881465  , 144.10835957,\n       222.45955898, 225.90499566, 159.05769709, 177.28131965,\n       181.18258804, 143.53318581, 172.450669  , 190.89799433,\n       188.95490142, 193.349383  , 152.6828368 , 213.28101297,\n       164.55299515, 146.48366934, 182.11953409, 237.75832068,\n       145.28074295, 191.82955776, 207.75044306, 205.90260682,\n       211.26139372, 152.98254949, 138.30998331, 149.96699031,\n       170.32018869, 157.59659762, 148.03065361, 182.25046455,\n       192.18474134, 185.06458286, 199.03657315, 202.13154611,\n       192.04045311, 172.66762621, 153.95226881, 175.15221103,\n       171.30079107, 173.37996262, 211.23325827, 171.35703438,\n       219.27555246, 200.79862751, 163.09980328, 166.51824932,\n       159.94925652, 175.48714569, 176.90649779, 191.28267287,\n       191.48472279, 152.31579393, 191.03642386, 152.92871047,\n       194.83710493, 173.68243046, 204.36307025, 180.16997087,\n       161.99686478, 198.83473153, 179.29781374, 221.49041928,\n       216.19328636, 190.67789226, 180.20614926, 159.28583025,\n       154.24010797, 195.35307498, 187.04530427, 179.72343431,\n       171.03065645, 175.797529  , 209.22108755, 194.37172768,\n       199.55770145, 213.49157756, 159.62692593, 171.1276526 ,\n       212.63419983, 175.32179149, 229.56779321, 203.21024408,\n       150.31369685, 197.13691307, 174.94640023, 219.89300168,\n       146.41825196, 202.41976538, 181.71070286, 206.90322676,\n       176.28785917, 185.56358859, 181.75483292, 182.34520276,\n       195.18817197])"
     },
     "execution_count": 7,
     "metadata": {},
     "output_type": "execute_result"
    }
   ],
   "source": [
    "y_test_pred=regr.predict(X_test)\n",
    "y_test_pred\n"
   ],
   "metadata": {
    "collapsed": false,
    "pycharm": {
     "name": "#%%\n"
    }
   }
  },
  {
   "cell_type": "code",
   "execution_count": 8,
   "outputs": [
    {
     "data": {
      "text/plain": "<matplotlib.collections.PathCollection at 0x17865157b80>"
     },
     "execution_count": 8,
     "metadata": {},
     "output_type": "execute_result"
    },
    {
     "data": {
      "text/plain": "<Figure size 432x288 with 1 Axes>",
      "image/png": "[encoded data removed]"
     },
     "metadata": {},
     "output_type": "display_data"
    }
   ],
   "source": [],
   "metadata": {
    "collapsed": false,
    "pycharm": {
     "name": "#%%\n"
    }
   }
  },
  {
   "cell_type": "code",
   "execution_count": 9,
   "outputs": [
    {
     "data": {
      "text/plain": "<Figure size 360x360 with 1 Axes>",
      "image/png": "[encoded data removed]"
     },
     "metadata": {},
     "output_type": "display_data"
    }
   ],
   "source": [
    "sns.displot(Y_test-y_test_pred)\n",
    "y_for_gaus=Y_test-y_test_pred"
   ],
   "metadata": {
    "collapsed": false,
    "pycharm": {
     "name": "#%%\n"
    }
   }
  },
  {
   "cell_type": "code",
   "execution_count": 10,
   "outputs": [
    {
     "data": {
      "text/plain": "ShapiroResult(statistic=0.9743122458457947, pvalue=1.1733489913012818e-07)"
     },
     "execution_count": 10,
     "metadata": {},
     "output_type": "execute_result"
    }
   ],
   "source": [
    "import scipy\n",
    "scipy.stats.shapiro(y_for_gaus)"
   ],
   "metadata": {
    "collapsed": false,
    "pycharm": {
     "name": "#%%\n"
    }
   }
  },
  {
   "cell_type": "code",
   "execution_count": 11,
   "outputs": [
    {
     "name": "stdout",
     "output_type": "stream",
     "text": [
      "MAE 14.822224590391857\n",
      "MSE 387.9380153636237\n",
      "RMSE 19.69614214417696\n"
     ]
    }
   ],
   "source": [
    "print('MAE',metrics.mean_absolute_error(Y_test,y_test_pred))\n",
    "print('MSE',metrics.mean_squared_error(Y_test,y_test_pred))\n",
    "print('RMSE',np.sqrt(metrics.mean_squared_error(Y_test,y_test_pred)))"
   ],
   "metadata": {
    "collapsed": false,
    "pycharm": {
     "name": "#%%\n"
    }
   }
  },
  {
   "cell_type": "code",
   "execution_count": 12,
   "outputs": [
    {
     "name": "stdout",
     "output_type": "stream",
     "text": [
      "r-squered for train 0.8464115564436074\n",
      "r-squered for test 0.8356153358533669\n",
      "MAE 8.861728602616232\n",
      "MSE 145.1940806835237\n",
      "RMSE 12.049650645704368\n"
     ]
    },
    {
     "data": {
      "text/plain": "ShapiroResult(statistic=0.9576957821846008, pvalue=9.548784679624944e-11)"
     },
     "execution_count": 12,
     "metadata": {},
     "output_type": "execute_result"
    },
    {
     "data": {
      "text/plain": "<Figure size 360x360 with 1 Axes>",
      "image/png": "[encoded data removed]"
     },
     "metadata": {},
     "output_type": "display_data"
    }
   ],
   "source": [
    "model=RandomForestRegressor(n_estimators=60,min_samples_leaf=5,max_depth=6,n_jobs=1)\n",
    "model.fit(X_train,Y_train)\n",
    "print(\"r-squered for train\",model.score(X_train,Y_train))\n",
    "print(\"r-squered for test\",model.score(X_test,Y_test))\n",
    "y_test_pred=model.predict(X_test)\n",
    "\n",
    "sns.displot(Y_test-y_test_pred)\n",
    "y_for_gaus=Y_test-y_test_pred\n",
    "scipy.stats.shapiro(y_for_gaus)\n",
    "print('MAE',metrics.mean_absolute_error(Y_test,y_test_pred))\n",
    "print('MSE',metrics.mean_squared_error(Y_test,y_test_pred))\n",
    "print('RMSE',np.sqrt(metrics.mean_squared_error(Y_test,y_test_pred)))\n",
    "scipy.stats.shapiro(y_for_gaus)"
   ],
   "metadata": {
    "collapsed": false,
    "pycharm": {
     "name": "#%%\n"
    }
   }
  },
  {
   "cell_type": "code",
   "execution_count": null,
   "outputs": [],
   "source": [],
   "metadata": {
    "collapsed": false,
    "pycharm": {
     "name": "#%%\n"
    }
   }
  }
 ],
 "metadata": {
  "kernelspec": {
   "display_name": "Python 3",
   "language": "python",
   "name": "python3"
  },
  "language_info": {
   "codemirror_mode": {
    "name": "ipython",
    "version": 2
   },
   "file_extension": ".py",
   "mimetype": "text/x-python",
   "name": "python",
   "nbconvert_exporter": "python",
   "pygments_lexer": "ipython2",
   "version": "2.7.6"
  }
 },
 "nbformat": 4,
 "nbformat_minor": 0
}