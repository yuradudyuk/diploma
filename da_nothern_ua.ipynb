{
 "cells": [
  {
   "cell_type": "code",
   "execution_count": 2,
   "outputs": [
    {
     "data": {
      "text/plain": "       time    lon    lat        no2         o3       so2      pm2.5  \\\n0         1  23.55  51.75   5.252700  51.692347  2.654524   9.605743   \n1         2  23.55  51.75   7.707136  46.039968  3.895643  18.098120   \n2         3  23.55  51.75   9.924423  40.913612  4.210040  18.534868   \n3         4  23.55  51.75  11.300662  40.129539  7.031236  31.374064   \n4         5  23.55  51.75   4.829215  58.696457  2.343223   7.440000   \n...     ...    ...    ...        ...        ...       ...        ...   \n78563    88  29.55  50.45   1.984611  64.259562  0.604152   6.088051   \n78564    89  29.55  50.45   1.527000  57.127258  0.217689   4.162439   \n78565    90  29.55  50.45   1.121115  66.479965  0.252951   4.161693   \n78566    91  29.55  50.45   0.909588  61.472402  0.217021   3.282997   \n78567    92  29.55  50.45   0.960055  66.336650  0.809058   4.857992   \n\n            pm10          co  \n0      12.695112  192.441569  \n1      25.414060  229.828125  \n2      22.058535  252.312439  \n3      40.542399  321.204244  \n4      11.433828  196.356608  \n...          ...         ...  \n78563   7.003332  139.368612  \n78564   4.099697  129.047353  \n78565   4.442520  144.590190  \n78566   3.462619  144.497070  \n78567   5.528108  123.786265  \n\n[78568 rows x 9 columns]",
      "text/html": "<div>\n<style scoped>\n    .dataframe tbody tr th:only-of-type {\n        vertical-align: middle;\n    }\n\n    .dataframe tbody tr th {\n        vertical-align: top;\n    }\n\n    .dataframe thead th {\n        text-align: right;\n    }\n</style>\n<table border=\"1\" class=\"dataframe\">\n  <thead>\n    <tr style=\"text-align: right;\">\n      <th></th>\n      <th>time</th>\n      <th>lon</th>\n      <th>lat</th>\n      <th>no2</th>\n      <th>o3</th>\n      <th>so2</th>\n      <th>pm2.5</th>\n      <th>pm10</th>\n      <th>co</th>\n    </tr>\n  </thead>\n  <tbody>\n    <tr>\n      <th>0</th>\n      <td>1</td>\n      <td>23.55</td>\n      <td>51.75</td>\n      <td>5.252700</td>\n      <td>51.692347</td>\n      <td>2.654524</td>\n      <td>9.605743</td>\n      <td>12.695112</td>\n      <td>192.441569</td>\n    </tr>\n    <tr>\n      <th>1</th>\n      <td>2</td>\n      <td>23.55</td>\n      <td>51.75</td>\n      <td>7.707136</td>\n      <td>46.039968</td>\n      <td>3.895643</td>\n      <td>18.098120</td>\n      <td>25.414060</td>\n      <td>229.828125</td>\n    </tr>\n    <tr>\n      <th>2</th>\n      <td>3</td>\n      <td>23.55</td>\n      <td>51.75</td>\n      <td>9.924423</td>\n      <td>40.913612</td>\n      <td>4.210040</td>\n      <td>18.534868</td>\n      <td>22.058535</td>\n      <td>252.312439</td>\n    </tr>\n    <tr>\n      <th>3</th>\n      <td>4</td>\n      <td>23.55</td>\n      <td>51.75</td>\n      <td>11.300662</td>\n      <td>40.129539</td>\n      <td>7.031236</td>\n      <td>31.374064</td>\n      <td>40.542399</td>\n      <td>321.204244</td>\n    </tr>\n    <tr>\n      <th>4</th>\n      <td>5</td>\n      <td>23.55</td>\n      <td>51.75</td>\n      <td>4.829215</td>\n      <td>58.696457</td>\n      <td>2.343223</td>\n      <td>7.440000</td>\n      <td>11.433828</td>\n      <td>196.356608</td>\n    </tr>\n    <tr>\n      <th>...</th>\n      <td>...</td>\n      <td>...</td>\n      <td>...</td>\n      <td>...</td>\n      <td>...</td>\n      <td>...</td>\n      <td>...</td>\n      <td>...</td>\n      <td>...</td>\n    </tr>\n    <tr>\n      <th>78563</th>\n      <td>88</td>\n      <td>29.55</td>\n      <td>50.45</td>\n      <td>1.984611</td>\n      <td>64.259562</td>\n      <td>0.604152</td>\n      <td>6.088051</td>\n      <td>7.003332</td>\n      <td>139.368612</td>\n    </tr>\n    <tr>\n      <th>78564</th>\n      <td>89</td>\n      <td>29.55</td>\n      <td>50.45</td>\n      <td>1.527000</td>\n      <td>57.127258</td>\n      <td>0.217689</td>\n      <td>4.162439</td>\n      <td>4.099697</td>\n      <td>129.047353</td>\n    </tr>\n    <tr>\n      <th>78565</th>\n      <td>90</td>\n      <td>29.55</td>\n      <td>50.45</td>\n      <td>1.121115</td>\n      <td>66.479965</td>\n      <td>0.252951</td>\n      <td>4.161693</td>\n      <td>4.442520</td>\n      <td>144.590190</td>\n    </tr>\n    <tr>\n      <th>78566</th>\n      <td>91</td>\n      <td>29.55</td>\n      <td>50.45</td>\n      <td>0.909588</td>\n      <td>61.472402</td>\n      <td>0.217021</td>\n      <td>3.282997</td>\n      <td>3.462619</td>\n      <td>144.497070</td>\n    </tr>\n    <tr>\n      <th>78567</th>\n      <td>92</td>\n      <td>29.55</td>\n      <td>50.45</td>\n      <td>0.960055</td>\n      <td>66.336650</td>\n      <td>0.809058</td>\n      <td>4.857992</td>\n      <td>5.528108</td>\n      <td>123.786265</td>\n    </tr>\n  </tbody>\n</table>\n<p>78568 rows × 9 columns</p>\n</div>"
     },
     "execution_count": 2,
     "metadata": {},
     "output_type": "execute_result"
    }
   ],
   "source": [
    "import xarray as xr\n",
    "import pandas as pd\n",
    "import numpy as np\n",
    "import math as mh\n",
    "\n",
    "dff=pd.read_csv('dataframe_of_nothern_Ukraine.csv',delimiter=',',index_col=0 )\n",
    "dff"
   ],
   "metadata": {
    "collapsed": false,
    "pycharm": {
     "name": "#%%\n"
    }
   }
  },
  {
   "cell_type": "code",
   "execution_count": 70,
   "outputs": [
    {
     "data": {
      "text/plain": "               time           lon           lat       no2        o3       so2  \\\ntime   1.000000e+00  3.141615e-16 -3.343364e-16 -0.401044  0.384411 -0.249115   \nlon    3.141615e-16  1.000000e+00 -3.538392e-13 -0.401664  0.036451 -0.477324   \nlat   -3.343364e-16 -3.538392e-13  1.000000e+00 -0.204583  0.050976 -0.137722   \nno2   -4.010443e-01 -4.016643e-01 -2.045826e-01  1.000000 -0.518834  0.713587   \no3     3.844107e-01  3.645087e-02  5.097587e-02 -0.518834  1.000000 -0.059526   \nso2   -2.491152e-01 -4.773245e-01 -1.377223e-01  0.713587 -0.059526  1.000000   \npm2.5 -3.730933e-01 -1.851586e-01 -1.098663e-01  0.629329 -0.311927  0.686588   \npm10  -3.955351e-01 -2.340303e-01 -9.956952e-02  0.650456 -0.299448  0.719308   \nco    -5.836027e-01 -2.118697e-01 -7.679612e-02  0.755072 -0.501702  0.589958   \n\n           pm10        co  \ntime  -0.395535 -0.583603  \nlon   -0.234030 -0.211870  \nlat   -0.099570 -0.076796  \nno2    0.650456  0.755072  \no3    -0.299448 -0.501702  \nso2    0.719308  0.589958  \npm2.5  0.988645  0.783630  \npm10   1.000000  0.773201  \nco     0.773201  1.000000  ",
      "text/html": "<div>\n<style scoped>\n    .dataframe tbody tr th:only-of-type {\n        vertical-align: middle;\n    }\n\n    .dataframe tbody tr th {\n        vertical-align: top;\n    }\n\n    .dataframe thead th {\n        text-align: right;\n    }\n</style>\n<table border=\"1\" class=\"dataframe\">\n  <thead>\n    <tr style=\"text-align: right;\">\n      <th></th>\n      <th>time</th>\n      <th>lon</th>\n      <th>lat</th>\n      <th>no2</th>\n      <th>o3</th>\n      <th>so2</th>\n      <th>pm10</th>\n      <th>co</th>\n    </tr>\n  </thead>\n  <tbody>\n    <tr>\n      <th>time</th>\n      <td>1.000000e+00</td>\n      <td>3.141615e-16</td>\n      <td>-3.343364e-16</td>\n      <td>-0.401044</td>\n      <td>0.384411</td>\n      <td>-0.249115</td>\n      <td>-0.395535</td>\n      <td>-0.583603</td>\n    </tr>\n    <tr>\n      <th>lon</th>\n      <td>3.141615e-16</td>\n      <td>1.000000e+00</td>\n      <td>-3.538392e-13</td>\n      <td>-0.401664</td>\n      <td>0.036451</td>\n      <td>-0.477324</td>\n      <td>-0.234030</td>\n      <td>-0.211870</td>\n    </tr>\n    <tr>\n      <th>lat</th>\n      <td>-3.343364e-16</td>\n      <td>-3.538392e-13</td>\n      <td>1.000000e+00</td>\n      <td>-0.204583</td>\n      <td>0.050976</td>\n      <td>-0.137722</td>\n      <td>-0.099570</td>\n      <td>-0.076796</td>\n    </tr>\n    <tr>\n      <th>no2</th>\n      <td>-4.010443e-01</td>\n      <td>-4.016643e-01</td>\n      <td>-2.045826e-01</td>\n      <td>1.000000</td>\n      <td>-0.518834</td>\n      <td>0.713587</td>\n      <td>0.650456</td>\n      <td>0.755072</td>\n    </tr>\n    <tr>\n      <th>o3</th>\n      <td>3.844107e-01</td>\n      <td>3.645087e-02</td>\n      <td>5.097587e-02</td>\n      <td>-0.518834</td>\n      <td>1.000000</td>\n      <td>-0.059526</td>\n      <td>-0.299448</td>\n      <td>-0.501702</td>\n    </tr>\n    <tr>\n      <th>so2</th>\n      <td>-2.491152e-01</td>\n      <td>-4.773245e-01</td>\n      <td>-1.377223e-01</td>\n      <td>0.713587</td>\n      <td>-0.059526</td>\n      <td>1.000000</td>\n      <td>0.719308</td>\n      <td>0.589958</td>\n    </tr>\n    <tr>\n      <th>pm2.5</th>\n      <td>-3.730933e-01</td>\n      <td>-1.851586e-01</td>\n      <td>-1.098663e-01</td>\n      <td>0.629329</td>\n      <td>-0.311927</td>\n      <td>0.686588</td>\n      <td>0.988645</td>\n      <td>0.783630</td>\n    </tr>\n    <tr>\n      <th>pm10</th>\n      <td>-3.955351e-01</td>\n      <td>-2.340303e-01</td>\n      <td>-9.956952e-02</td>\n      <td>0.650456</td>\n      <td>-0.299448</td>\n      <td>0.719308</td>\n      <td>1.000000</td>\n      <td>0.773201</td>\n    </tr>\n    <tr>\n      <th>co</th>\n      <td>-5.836027e-01</td>\n      <td>-2.118697e-01</td>\n      <td>-7.679612e-02</td>\n      <td>0.755072</td>\n      <td>-0.501702</td>\n      <td>0.589958</td>\n      <td>0.773201</td>\n      <td>1.000000</td>\n    </tr>\n  </tbody>\n</table>\n</div>"
     },
     "execution_count": 70,
     "metadata": {},
     "output_type": "execute_result"
    }
   ],
   "source": [
    "dd=dff.corr()\n",
    "dd.drop(columns=['pm2.5'])\n"
   ],
   "metadata": {
    "collapsed": false,
    "pycharm": {
     "name": "#%%\n"
    }
   }
  },
  {
   "cell_type": "code",
   "execution_count": 71,
   "outputs": [
    {
     "name": "stdout",
     "output_type": "stream",
     "text": [
      "5.068236500607242 5.160193486910744\n"
     ]
    }
   ],
   "source": [
    "pm25=np.array(dd['pm2.5'])\n",
    "pm10=np.array(dd['pm10'])\n",
    "pm25=pm25.__abs__()\n",
    "a=pm25.sum()\n",
    "pm10=pm10.__abs__()\n",
    "b=pm10.sum()\n",
    "print(a,b)\n",
    "#choosing pm10 instead of pm2.5"
   ],
   "metadata": {
    "collapsed": false,
    "pycharm": {
     "name": "#%%\n"
    }
   }
  },
  {
   "cell_type": "code",
   "execution_count": 4,
   "outputs": [
    {
     "data": {
      "text/plain": "<Figure size 432x288 with 1 Axes>",
      "image/png": "[encoded data removed]"
     },
     "metadata": {
      "needs_background": "light"
     },
     "output_type": "display_data"
    }
   ],
   "source": [
    "import matplotlib.pyplot as plt\n",
    "from sklearn.linear_model import LinearRegression\n",
    "from sklearn.preprocessing import PolynomialFeatures\n",
    "Y = dff['pm2.5']\n",
    "X = dff['pm10']\n",
    "plt.scatter(X, Y)\n",
    "plt.xlabel('pm10')\n",
    "plt.ylabel(\"pm2.5\")\n",
    "plt.show()"
   ],
   "metadata": {
    "collapsed": false,
    "pycharm": {
     "name": "#%%\n"
    }
   }
  },
  {
   "cell_type": "code",
   "execution_count": 73,
   "outputs": [
    {
     "name": "stdout",
     "output_type": "stream",
     "text": [
      "0.189000105103295 + x* [0.80892057]\n",
      "0.9774188133892213\n"
     ]
    }
   ],
   "source": [
    "#pm2.5 independent part, pm10 dependent\n",
    "x = np.array(dff['pm10']).reshape((-1, 1))\n",
    "y = np.array(dff['pm2.5'])\n",
    "model = LinearRegression().fit(x, y)\n",
    "r_sq = model.score(x, y)\n",
    "#intercept - це вільний член\n",
    "a=model.intercept_\n",
    "b=model.coef_\n",
    "print(a,'+ x*',b)\n",
    "print(r_sq)"
   ],
   "metadata": {
    "collapsed": false,
    "pycharm": {
     "name": "#%%\n"
    }
   }
  },
  {
   "cell_type": "code",
   "execution_count": 5,
   "outputs": [
    {
     "data": {
      "text/plain": "<Figure size 432x288 with 1 Axes>",
      "image/png": "[encoded data removed]"
     },
     "metadata": {
      "needs_background": "light"
     },
     "output_type": "display_data"
    }
   ],
   "source": [
    "Y = dff['no2']\n",
    "X = dff['time']\n",
    "plt.scatter(X, Y)\n",
    "plt.xlabel('')\n",
    "plt.ylabel(\"no2\")\n",
    "plt.show()"
   ],
   "metadata": {
    "collapsed": false,
    "pycharm": {
     "name": "#%%\n"
    }
   }
  },
  {
   "cell_type": "code",
   "execution_count": 75,
   "outputs": [
    {
     "data": {
      "text/plain": "<Figure size 432x288 with 1 Axes>",
      "image/png": "[encoded data removed]"
     },
     "metadata": {
      "needs_background": "light"
     },
     "output_type": "display_data"
    }
   ],
   "source": [
    "Y = dff['no2']\n",
    "X = dff['lon']\n",
    "plt.scatter(X, Y)\n",
    "plt.xlabel('latitude')\n",
    "plt.ylabel(\"no2\")\n",
    "plt.show()"
   ],
   "metadata": {
    "collapsed": false,
    "pycharm": {
     "name": "#%%\n"
    }
   }
  },
  {
   "cell_type": "code",
   "execution_count": 76,
   "outputs": [
    {
     "data": {
      "text/plain": "<Figure size 432x288 with 1 Axes>",
      "image/png": "[encoded data removed]"
     },
     "metadata": {
      "needs_background": "light"
     },
     "output_type": "display_data"
    }
   ],
   "source": [
    "Y = dff['no2']\n",
    "X = dff['lat']\n",
    "plt.scatter(X, Y)\n",
    "plt.xlabel('latitude')\n",
    "plt.ylabel(\"no2\")\n",
    "plt.show()"
   ],
   "metadata": {
    "collapsed": false,
    "pycharm": {
     "name": "#%%\n"
    }
   }
  },
  {
   "cell_type": "code",
   "execution_count": 77,
   "outputs": [
    {
     "name": "stdout",
     "output_type": "stream",
     "text": [
      "time no2\n",
      "0.16083650333755184\n",
      "0.20769411252724468\n",
      "0.20527309554914275\n",
      "0.05678868392727332\n",
      "0.0516139519124984\n",
      "0.06039065041502101\n",
      "0.15733371486886405\n",
      "0.16661244094256467\n",
      "0.18027303660359228\n",
      "bla\n",
      "lon no2\n",
      "0.16133421736735087\n",
      "0.1937077011445899\n",
      "0.20618014771974558\n",
      "0.16930579328594264\n",
      "0.19966816288200906\n",
      "0.21409828670999764\n",
      "0.16540375402276308\n",
      "0.19686868008950142\n",
      "0.21029227908400205\n",
      "bla\n",
      "lat no2\n",
      "0.04185402045255571\n",
      "0.05865657848108097\n",
      "0.05558079858507914\n",
      "0.042025397332830394\n",
      "0.05884298182902348\n",
      "0.05578065097817708\n",
      "0.04194019309248642\n",
      "0.058750550050761796\n",
      "0.0556814146470993\n",
      "bla\n",
      "sdfsdfsdf\n",
      "time so2\n",
      "0.062058389657251856\n",
      "0.054702944322715163\n",
      "0.06135453511382938\n",
      "0.005393116639807349\n",
      "7.919081790319638e-08\n",
      "0.001101525695183292\n",
      "0.04673250587087907\n",
      "0.024158979221148957\n",
      "0.035479435821897276\n",
      "bla\n",
      "lon so2\n",
      "0.22783863645188118\n",
      "0.17067691361897852\n",
      "0.24926351130943392\n",
      "0.23669665631677295\n",
      "0.17324745541075015\n",
      "0.25580720862361284\n",
      "0.23242687996167477\n",
      "0.17212912347908083\n",
      "0.25274950691770115\n",
      "bla\n",
      "lat so2\n",
      "0.018967427556900396\n",
      "0.011654097398946628\n",
      "0.01840281917409259\n",
      "0.019022155946178954\n",
      "0.01169774846155247\n",
      "0.018468727646403726\n",
      "0.018995021712374105\n",
      "0.011676047412847002\n",
      "0.01843598302211069\n",
      "bla\n",
      "sdfsdfsdf\n",
      "time co\n",
      "0.34059216106560286\n",
      "0.4276141386425715\n",
      "0.3943256268903512\n",
      "0.022495008354891155\n",
      "0.025963610756259192\n",
      "0.0246707176751485\n",
      "0.19547405109440075\n",
      "0.2296385245961664\n",
      "0.2181553098894483\n",
      "bla\n",
      "lon co\n",
      "0.04488879008331137\n",
      "0.05259995713601706\n",
      "0.05057579634366005\n",
      "0.04722128873239806\n",
      "0.054745605060094404\n",
      "0.052886817677428755\n",
      "0.04608015734085358\n",
      "0.05370944240199871\n",
      "0.05176362156245251\n",
      "bla\n",
      "lat co\n",
      "0.00589764404348625\n",
      "0.003480733212371523\n",
      "0.004600774518599526\n",
      "0.005942992680476711\n",
      "0.00350499452234343\n",
      "0.0046340767002170935\n",
      "0.0059203465741595185\n",
      "0.0034928892550113444\n",
      "0.0046174542505325045\n",
      "bla\n",
      "sdfsdfsdf\n",
      "time pm10\n",
      "0.15644801553571752\n",
      "0.1465912216792069\n",
      "0.17499474386450886\n",
      "0.014652478584214035\n",
      "0.00515233967151274\n",
      "0.010107790829921526\n",
      "0.1031111852341311\n",
      "0.07597224445609563\n",
      "0.1007047789348905\n",
      "bla\n",
      "lon pm10\n",
      "0.05477017747106583\n",
      "0.08087438995798701\n",
      "0.07264219646378667\n",
      "0.05777077132261588\n",
      "0.08323017525982512\n",
      "0.07575121271861018\n",
      "0.05630283056873764\n",
      "0.08211418472172272\n",
      "0.07424626137029244\n",
      "bla\n",
      "no2 pm10\n",
      "0.4230935395164125\n",
      "0.29866897465772557\n",
      "0.38983852627455706\n",
      "0.2803048182544363\n",
      "0.3816358752848107\n",
      "0.36941946593232877\n",
      "0.3748688466586586\n",
      "0.37986205537042206\n",
      "0.4206397097075445\n",
      "bla\n",
      "so2 pm10\n",
      "0.5174046044291967\n",
      "0.3704641297849032\n",
      "0.4765060466215104\n",
      "0.2356500112282207\n",
      "0.40855920524272715\n",
      "0.35209410072035496\n",
      "0.4014402148383859\n",
      "0.45446423215089427\n",
      "0.47502083321966515\n",
      "bla\n",
      "co pm10\n",
      "0.5978398543128556\n",
      "0.43471046634974775\n",
      "0.5650647727984589\n",
      "0.4937653366241168\n",
      "0.4643382142911693\n",
      "0.5399361000926826\n",
      "0.5550599150327071\n",
      "0.4625173489855311\n",
      "0.5667386442451146\n",
      "bla\n",
      "sdfsdfsdf\n",
      "time o3\n",
      "0.14777155390718544\n",
      "0.1170947789229102\n",
      "0.13576860288219983\n",
      "0.08728256567169723\n",
      "0.07956626651302579\n",
      "0.08638031991066775\n",
      "0.14281503805061835\n",
      "0.11666179460418491\n",
      "0.13350537060649137\n",
      "bla\n",
      "lon o3\n",
      "0.0013286661261381338\n",
      "0.0033277155769732003\n",
      "0.0022704970560460946\n",
      "0.0013344916736569568\n",
      "0.0033320678461576936\n",
      "0.002275097795025216\n",
      "0.0013322155597064178\n",
      "0.00333154523271062\n",
      "0.0022739181699572564\n",
      "bla\n",
      "no2 o3\n",
      "0.26918906055305825\n",
      "0.3119605897846516\n",
      "0.2949166485117801\n",
      "0.16009479917444847\n",
      "0.16548366941757797\n",
      "0.1662453115878928\n",
      "0.23708826794186388\n",
      "0.2564458116568795\n",
      "0.25137348901758394\n",
      "bla\n",
      "co o3\n",
      "0.25170503740625383\n",
      "0.2564998593783958\n",
      "0.2598734919770239\n",
      "0.2301309720725635\n",
      "0.22759762254276472\n",
      "0.23413159941570372\n",
      "0.24905043791970494\n",
      "0.24960108170866657\n",
      "0.25503277126423396\n",
      "bla\n",
      "pm10 o3\n",
      "0.08966896014587256\n",
      "0.08547725933694605\n",
      "0.09020887748755202\n",
      "0.04543937372913698\n",
      "0.04086342380319874\n",
      "0.04444074437953471\n",
      "0.07477975006710902\n",
      "0.06791934371661057\n",
      "0.07350846583376325\n",
      "bla\n"
     ]
    }
   ],
   "source": [
    "\n",
    "coordinates=['time','lon','lat']\n",
    "elem=['no2','o3','so2','pm10','co','pm2.5']\n",
    "\n",
    "def regretion(dependent,independent):\n",
    "    print(dependent,independent)\n",
    "    x = np.array(dff[dependent]).reshape((-1, 1))\n",
    "    y = np.array(dff[independent])\n",
    "    model = LinearRegression().fit(x, y)\n",
    "    #коефіцієнт детермінації метод score\n",
    "    #linaer 1\n",
    "    r_sq = model.score(x, y)\n",
    "    print(r_sq)\n",
    "    x_ln=np.log(x)\n",
    "    x_ln.reshape((-1,1))\n",
    "    x_1x=1/(x)\n",
    "    x_1x.reshape((-1,1))\n",
    "    y_ln=np.log(y)\n",
    "    y_1y=1/(y)\n",
    "    #2\n",
    "    model = LinearRegression().fit(x, y_1y)\n",
    "    r_sq = model.score(x, y_1y)\n",
    "    print(r_sq)\n",
    "    #3\n",
    "    model = LinearRegression().fit(x, y_ln)\n",
    "    r_sq = model.score(x, y_ln)\n",
    "    print(r_sq)\n",
    "    #4\n",
    "    model = LinearRegression().fit(x_1x, y)\n",
    "    r_sq = model.score(x_1x, y)\n",
    "    print(r_sq)\n",
    "    #5\n",
    "    model = LinearRegression().fit(x_1x, y_1y)\n",
    "    r_sq = model.score(x_1x, y_1y)\n",
    "    print(r_sq)\n",
    "    #6\n",
    "    model = LinearRegression().fit(x_1x, y_ln)\n",
    "    r_sq = model.score(x_1x, y_ln)\n",
    "    print(r_sq)\n",
    "    #7\n",
    "    model = LinearRegression().fit(x_ln, y)\n",
    "    r_sq = model.score(x_ln, y)\n",
    "    print(r_sq)\n",
    "    #8\n",
    "    model = LinearRegression().fit(x_ln, y_1y)\n",
    "    r_sq = model.score(x_ln, y_1y)\n",
    "    print(r_sq)\n",
    "    #9\n",
    "    model = LinearRegression().fit(x_ln, y_ln)\n",
    "    r_sq = model.score(x_ln, y_ln)\n",
    "    print(r_sq)\n",
    "    print('bla')\n",
    "regretion(coordinates[0],elem[0])\n",
    "regretion(coordinates[1],elem[0])\n",
    "regretion(coordinates[2],elem[0])\n",
    "print('sdfsdfsdf')\n",
    "regretion(coordinates[0],elem[2])\n",
    "regretion(coordinates[1],elem[2])\n",
    "regretion(coordinates[2],elem[2])\n",
    "print('sdfsdfsdf')\n",
    "regretion(coordinates[0],elem[4])\n",
    "regretion(coordinates[1],elem[4])\n",
    "regretion(coordinates[2],elem[4])\n",
    "print('sdfsdfsdf')\n",
    "regretion(coordinates[0],elem[3])\n",
    "regretion(coordinates[1],elem[3])\n",
    "regretion(elem[0],elem[3])\n",
    "regretion(elem[2],elem[3])\n",
    "regretion(elem[4],elem[3])\n",
    "print('sdfsdfsdf')\n",
    "regretion(coordinates[0],elem[1])\n",
    "regretion(coordinates[1],elem[1])\n",
    "regretion(elem[0],elem[1])\n",
    "regretion(elem[4],elem[1])\n",
    "regretion(elem[3],elem[1])"
   ],
   "metadata": {
    "collapsed": false,
    "pycharm": {
     "name": "#%%\n"
    }
   }
  },
  {
   "cell_type": "code",
   "execution_count": 78,
   "outputs": [
    {
     "name": "stdout",
     "output_type": "stream",
     "text": [
      "pm10 pm2.5\n",
      "0.9774188133892213\n",
      "0.6300983149206912\n",
      "0.8601913461455775\n",
      "0.6168945885925504\n",
      "0.9472000313966218\n",
      "0.8670015291529249\n",
      "0.8534929041748816\n",
      "0.8790857675335617\n",
      "0.967845627068789\n",
      "bla\n"
     ]
    }
   ],
   "source": [
    "regretion(elem[3],elem[5])"
   ],
   "metadata": {
    "collapsed": false,
    "pycharm": {
     "name": "#%%\n"
    }
   }
  },
  {
   "cell_type": "code",
   "execution_count": 79,
   "outputs": [
    {
     "data": {
      "text/plain": "<Figure size 432x288 with 1 Axes>",
      "image/png": "[encoded data removed]"
     },
     "metadata": {
      "needs_background": "light"
     },
     "output_type": "display_data"
    }
   ],
   "source": [
    "Y = dff['no2']\n",
    "X = dff['lon']\n",
    "plt.scatter(X, Y)\n",
    "plt.xlabel('longitude')\n",
    "plt.ylabel(\"no2\")\n",
    "plt.show()"
   ],
   "metadata": {
    "collapsed": false,
    "pycharm": {
     "name": "#%%\n"
    }
   }
  },
  {
   "cell_type": "code",
   "execution_count": 80,
   "outputs": [
    {
     "data": {
      "text/plain": "<Figure size 432x288 with 1 Axes>",
      "image/png": "[encoded data removed]"
     },
     "metadata": {
      "needs_background": "light"
     },
     "output_type": "display_data"
    }
   ],
   "source": [
    "Y = dff['no2']\n",
    "X = dff['co']\n",
    "plt.scatter(X, Y)\n",
    "plt.xlabel('*****')\n",
    "plt.ylabel(\"no2\")\n",
    "plt.show()"
   ],
   "metadata": {
    "collapsed": false,
    "pycharm": {
     "name": "#%%\n"
    }
   }
  },
  {
   "cell_type": "code",
   "execution_count": 81,
   "outputs": [
    {
     "data": {
      "text/plain": "<Figure size 432x288 with 1 Axes>",
      "image/png": "[encoded data removed]"
     },
     "metadata": {
      "needs_background": "light"
     },
     "output_type": "display_data"
    }
   ],
   "source": [
    "Y = dff['no2']\n",
    "X = dff['o3']\n",
    "plt.scatter(X, Y)\n",
    "plt.xlabel('*****')\n",
    "plt.ylabel(\"no2\")\n",
    "plt.show()"
   ],
   "metadata": {
    "collapsed": false,
    "pycharm": {
     "name": "#%%\n"
    }
   }
  },
  {
   "cell_type": "code",
   "execution_count": 82,
   "outputs": [
    {
     "data": {
      "text/plain": "<Figure size 432x288 with 1 Axes>",
      "image/png": "[encoded data removed]"
     },
     "metadata": {
      "needs_background": "light"
     },
     "output_type": "display_data"
    }
   ],
   "source": [
    "Y = dff['no2']\n",
    "X = dff['so2']\n",
    "plt.scatter(X, Y)\n",
    "plt.xlabel('*****')\n",
    "plt.ylabel(\"no2\")\n",
    "plt.show()"
   ],
   "metadata": {
    "collapsed": false,
    "pycharm": {
     "name": "#%%\n"
    }
   }
  },
  {
   "cell_type": "code",
   "execution_count": 83,
   "outputs": [
    {
     "data": {
      "text/plain": "<Figure size 432x288 with 1 Axes>",
      "image/png": "[encoded data removed]"
     },
     "metadata": {
      "needs_background": "light"
     },
     "output_type": "display_data"
    }
   ],
   "source": [
    "Y = dff['no2']\n",
    "X = dff['pm2.5']\n",
    "plt.scatter(X, Y)\n",
    "plt.xlabel('*****')\n",
    "plt.ylabel(\"no2\")\n",
    "plt.show()"
   ],
   "metadata": {
    "collapsed": false,
    "pycharm": {
     "name": "#%%\n"
    }
   }
  },
  {
   "cell_type": "code",
   "execution_count": 84,
   "outputs": [
    {
     "data": {
      "text/plain": "<Figure size 432x288 with 1 Axes>",
      "image/png": "[encoded data removed]"
     },
     "metadata": {
      "needs_background": "light"
     },
     "output_type": "display_data"
    }
   ],
   "source": [
    "Y = dff['pm2.5']\n",
    "X = dff['no2']\n",
    "plt.scatter(X, Y)\n",
    "plt.xlabel('*****')\n",
    "plt.ylabel(\"no2\")\n",
    "plt.show()"
   ],
   "metadata": {
    "collapsed": false,
    "pycharm": {
     "name": "#%%\n"
    }
   }
  },
  {
   "cell_type": "code",
   "execution_count": 85,
   "outputs": [
    {
     "data": {
      "text/plain": "<Figure size 432x288 with 1 Axes>",
      "image/png": "[encoded data removed]"
     },
     "metadata": {
      "needs_background": "light"
     },
     "output_type": "display_data"
    }
   ],
   "source": [
    "Y = dff['pm2.5']\n",
    "X = dff['pm10']\n",
    "plt.scatter(X, Y)\n",
    "plt.xlabel('*****')\n",
    "plt.ylabel(\"pm2.5\")\n",
    "plt.show()"
   ],
   "metadata": {
    "collapsed": false,
    "pycharm": {
     "name": "#%%\n"
    }
   }
  },
  {
   "cell_type": "code",
   "execution_count": 121,
   "outputs": [
    {
     "name": "stdout",
     "output_type": "stream",
     "text": [
      "2.0271251719596624 + x* [-0.01018638]\n",
      "0.062058389657251856\n"
     ]
    },
    {
     "data": {
      "text/plain": "0.06683077446022223"
     },
     "execution_count": 121,
     "metadata": {},
     "output_type": "execute_result"
    }
   ],
   "source": [
    "import numpy as np\n",
    "import sklearn.pipeline as pl\n",
    "import sklearn.preprocessing as sp\n",
    "#import sklearn.linear_model as lm\n",
    "import sklearn.metrics as sm\n",
    "import matplotlib.pyplot as mp\n",
    "from sklearn.preprocessing import PolynomialFeatures\n",
    "x = np.array(dff['time']).reshape((-1, 1))\n",
    "y = np.array(dff['so2'])\n",
    "model = LinearRegression().fit(x, y)\n",
    "r_sq = model.score(x, y)\n",
    "#intercept - це вільний член\n",
    "a=model.intercept_\n",
    "b=model.coef_\n",
    "print(a,'+ x*',b)\n",
    "print(r_sq)\n",
    "\n",
    "poly_reg = PolynomialFeatures(degree=4)\n",
    "X_poly = poly_reg.fit_transform(x)\n",
    "pol_reg = LinearRegression()\n",
    "pol_reg.fit(X_poly, y)\n",
    "m=pol_reg.score(X_poly,y)\n",
    "m"
   ],
   "metadata": {
    "collapsed": false,
    "pycharm": {
     "name": "#%%\n"
    }
   }
  },
  {
   "cell_type": "code",
   "execution_count": 108,
   "outputs": [
    {
     "data": {
      "text/plain": "'auto'"
     },
     "execution_count": 108,
     "metadata": {},
     "output_type": "execute_result"
    }
   ],
   "source": [
    "from sklearn.ensemble import RandomForestRegressor\n",
    "coordinates=['time','lon','lat']\n",
    "elem=['no2','o3','so2','pm10','co','pm2.5']\n",
    "trn=dff.drop(columns=['pm2.5','so2','co','pm10','o3'],axis=1)\n",
    "y = np.array(dff['no2'])\n",
    "model1= RandomForestRegressor()\n",
    "model1.fit(trn,y)\n",
    "r_2=model1.score(trn,y)\n",
    "c=model1.max_features\n",
    "\n",
    "\n"
   ],
   "metadata": {
    "collapsed": false,
    "pycharm": {
     "name": "#%%\n"
    }
   }
  },
  {
   "cell_type": "code",
   "execution_count": 107,
   "outputs": [
    {
     "data": {
      "text/plain": "'auto'"
     },
     "execution_count": 107,
     "metadata": {},
     "output_type": "execute_result"
    }
   ],
   "source": [],
   "metadata": {
    "collapsed": false,
    "pycharm": {
     "name": "#%%\n"
    }
   }
  },
  {
   "cell_type": "code",
   "execution_count": null,
   "outputs": [],
   "source": [],
   "metadata": {
    "collapsed": false,
    "pycharm": {
     "name": "#%%\n"
    }
   }
  }
 ],
 "metadata": {
  "kernelspec": {
   "display_name": "Python 3",
   "language": "python",
   "name": "python3"
  },
  "language_info": {
   "codemirror_mode": {
    "name": "ipython",
    "version": 2
   },
   "file_extension": ".py",
   "mimetype": "text/x-python",
   "name": "python",
   "nbconvert_exporter": "python",
   "pygments_lexer": "ipython2",
   "version": "2.7.6"
  }
 },
 "nbformat": 4,
 "nbformat_minor": 0
}