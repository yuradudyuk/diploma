{
 "cells": [
  {
   "cell_type": "code",
   "execution_count": 17,
   "outputs": [
    {
     "data": {
      "text/plain": "        longitude   latitude  level                time     co_conc  no2_conc  \\\n0       23.549999  51.750000    0.0 2021-03-01 01:00:00  186.673981  3.648893   \n1       23.549999  51.750000    0.0 2021-03-01 05:00:00  192.282684  4.524402   \n2       23.549999  51.750000    0.0 2021-03-01 09:00:00  176.808044  3.244327   \n3       23.549999  51.750000    0.0 2021-03-01 13:00:00  170.230804  3.606734   \n4       23.549999  51.750000    0.0 2021-03-01 17:00:00  214.836731  8.910893   \n...           ...        ...    ...                 ...         ...       ...   \n471403  29.549999  50.450001    0.0 2021-05-31 05:00:00  130.686829  1.501547   \n471404  29.549999  50.450001    0.0 2021-05-31 09:00:00  120.163002  0.405684   \n471405  29.549999  50.450001    0.0 2021-05-31 13:00:00  118.494102  0.388468   \n471406  29.549999  50.450001    0.0 2021-05-31 17:00:00  120.162895  0.867260   \n471407  29.549999  50.450001    0.0 2021-05-31 21:00:00  126.901070  1.478014   \n\n          o3_conc  pm10_conc  pm2p5_conc  so2_conc  \n0       54.783260  10.876151    8.385854  1.558661  \n1       48.232368   7.111606    6.330842  1.346493  \n2       54.647785   8.558146    6.790668  2.418943  \n3       59.555054   9.112255    6.916603  2.467004  \n4       45.860107  16.531658   12.233769  3.665690  \n...           ...        ...         ...       ...  \n471403  61.177982   6.835760    5.820477  1.073204  \n471404  77.142914   5.399390    4.972664  0.753744  \n471405  77.647720   5.429473    4.823545  1.197433  \n471406  72.650696   5.881469    5.313124  0.871724  \n471407  54.156368   5.220471    4.342747  0.612998  \n\n[471408 rows x 10 columns]",
      "text/html": "<div>\n<style scoped>\n    .dataframe tbody tr th:only-of-type {\n        vertical-align: middle;\n    }\n\n    .dataframe tbody tr th {\n        vertical-align: top;\n    }\n\n    .dataframe thead th {\n        text-align: right;\n    }\n</style>\n<table border=\"1\" class=\"dataframe\">\n  <thead>\n    <tr style=\"text-align: right;\">\n      <th></th>\n      <th>longitude</th>\n      <th>latitude</th>\n      <th>level</th>\n      <th>time</th>\n      <th>co_conc</th>\n      <th>no2_conc</th>\n      <th>o3_conc</th>\n      <th>pm10_conc</th>\n      <th>pm2p5_conc</th>\n      <th>so2_conc</th>\n    </tr>\n  </thead>\n  <tbody>\n    <tr>\n      <th>0</th>\n      <td>23.549999</td>\n      <td>51.750000</td>\n      <td>0.0</td>\n      <td>2021-03-01 01:00:00</td>\n      <td>186.673981</td>\n      <td>3.648893</td>\n      <td>54.783260</td>\n      <td>10.876151</td>\n      <td>8.385854</td>\n      <td>1.558661</td>\n    </tr>\n    <tr>\n      <th>1</th>\n      <td>23.549999</td>\n      <td>51.750000</td>\n      <td>0.0</td>\n      <td>2021-03-01 05:00:00</td>\n      <td>192.282684</td>\n      <td>4.524402</td>\n      <td>48.232368</td>\n      <td>7.111606</td>\n      <td>6.330842</td>\n      <td>1.346493</td>\n    </tr>\n    <tr>\n      <th>2</th>\n      <td>23.549999</td>\n      <td>51.750000</td>\n      <td>0.0</td>\n      <td>2021-03-01 09:00:00</td>\n      <td>176.808044</td>\n      <td>3.244327</td>\n      <td>54.647785</td>\n      <td>8.558146</td>\n      <td>6.790668</td>\n      <td>2.418943</td>\n    </tr>\n    <tr>\n      <th>3</th>\n      <td>23.549999</td>\n      <td>51.750000</td>\n      <td>0.0</td>\n      <td>2021-03-01 13:00:00</td>\n      <td>170.230804</td>\n      <td>3.606734</td>\n      <td>59.555054</td>\n      <td>9.112255</td>\n      <td>6.916603</td>\n      <td>2.467004</td>\n    </tr>\n    <tr>\n      <th>4</th>\n      <td>23.549999</td>\n      <td>51.750000</td>\n      <td>0.0</td>\n      <td>2021-03-01 17:00:00</td>\n      <td>214.836731</td>\n      <td>8.910893</td>\n      <td>45.860107</td>\n      <td>16.531658</td>\n      <td>12.233769</td>\n      <td>3.665690</td>\n    </tr>\n    <tr>\n      <th>...</th>\n      <td>...</td>\n      <td>...</td>\n      <td>...</td>\n      <td>...</td>\n      <td>...</td>\n      <td>...</td>\n      <td>...</td>\n      <td>...</td>\n      <td>...</td>\n      <td>...</td>\n    </tr>\n    <tr>\n      <th>471403</th>\n      <td>29.549999</td>\n      <td>50.450001</td>\n      <td>0.0</td>\n      <td>2021-05-31 05:00:00</td>\n      <td>130.686829</td>\n      <td>1.501547</td>\n      <td>61.177982</td>\n      <td>6.835760</td>\n      <td>5.820477</td>\n      <td>1.073204</td>\n    </tr>\n    <tr>\n      <th>471404</th>\n      <td>29.549999</td>\n      <td>50.450001</td>\n      <td>0.0</td>\n      <td>2021-05-31 09:00:00</td>\n      <td>120.163002</td>\n      <td>0.405684</td>\n      <td>77.142914</td>\n      <td>5.399390</td>\n      <td>4.972664</td>\n      <td>0.753744</td>\n    </tr>\n    <tr>\n      <th>471405</th>\n      <td>29.549999</td>\n      <td>50.450001</td>\n      <td>0.0</td>\n      <td>2021-05-31 13:00:00</td>\n      <td>118.494102</td>\n      <td>0.388468</td>\n      <td>77.647720</td>\n      <td>5.429473</td>\n      <td>4.823545</td>\n      <td>1.197433</td>\n    </tr>\n    <tr>\n      <th>471406</th>\n      <td>29.549999</td>\n      <td>50.450001</td>\n      <td>0.0</td>\n      <td>2021-05-31 17:00:00</td>\n      <td>120.162895</td>\n      <td>0.867260</td>\n      <td>72.650696</td>\n      <td>5.881469</td>\n      <td>5.313124</td>\n      <td>0.871724</td>\n    </tr>\n    <tr>\n      <th>471407</th>\n      <td>29.549999</td>\n      <td>50.450001</td>\n      <td>0.0</td>\n      <td>2021-05-31 21:00:00</td>\n      <td>126.901070</td>\n      <td>1.478014</td>\n      <td>54.156368</td>\n      <td>5.220471</td>\n      <td>4.342747</td>\n      <td>0.612998</td>\n    </tr>\n  </tbody>\n</table>\n<p>471408 rows × 10 columns</p>\n</div>"
     },
     "execution_count": 17,
     "metadata": {},
     "output_type": "execute_result"
    }
   ],
   "source": [
    "import pandas as pd\n",
    "import xarray as xr\n",
    "from pandas import to_datetime as tdt\n",
    "import numpy as np\n",
    "\n",
    "names_of_conc=['no2_conc','o3_conc','so2_conc','pm2p5_conc','pm10_conc','co_conc']\n",
    "names_of_outfiles=['no2_for_matrix.txt','o3_for_matrix.txt','so2_for_matrix.txt','pm2p5_for_matrix.txt','pm10_for_matrix.txt','co_for_matrix.txt']\n",
    "\n",
    "n=7728\n",
    "ds = xr.open_dataset('vykydy_spring_north.nc')\n",
    "df_ = ds.to_dataframe().reset_index()\n",
    "start_date = tdt('2021-03-01')\n",
    "df_['time'] = start_date + df_['time']\n",
    "df_.drop(columns=['level'])\n",
    "latitude=np.array(df_['latitude'])\n",
    "latitude=np.unique(latitude)\n",
    "df_"
   ],
   "metadata": {
    "collapsed": false,
    "pycharm": {
     "name": "#%%\n"
    }
   }
  },
  {
   "cell_type": "code",
   "execution_count": 18,
   "outputs": [
    {
     "data": {
      "text/plain": "78568"
     },
     "execution_count": 18,
     "metadata": {},
     "output_type": "execute_result"
    }
   ],
   "source": [
    "import numpy as np\n",
    "time = [i for i in range(1,93)]\n",
    "counter = int(471408/6/92)\n",
    "time_repeat =  []\n",
    "for _ in range(counter):\n",
    "    time_repeat.extend(time)\n",
    "\n",
    "latitude=np.array(df_['latitude'])\n",
    "latitude=np.unique(latitude)\n",
    "latitude=np.around(latitude,2)\n",
    "longitude=np.array(df_['longitude'])\n",
    "longitude=np.unique(longitude)\n",
    "longitude=np.around(longitude,2)\n",
    "longitude\n",
    "longitude_for_df=[]\n",
    "\n",
    "for j in longitude:\n",
    "    longitude_for_df.extend(j for _ in range(1288))\n",
    "latitude_for_df=[]\n",
    "for i in latitude:\n",
    "    latitude_for_df.extend(i for _ in range(92))\n",
    "latitude_for_df.reverse()\n",
    "latitude_for_df2=[]\n",
    "len(latitude_for_df)\n",
    "for _ in range(61):\n",
    "    latitude_for_df2.extend(latitude_for_df)\n",
    "len(latitude_for_df2)\n",
    "\n"
   ],
   "metadata": {
    "collapsed": false,
    "pycharm": {
     "name": "#%%\n"
    }
   }
  },
  {
   "cell_type": "code",
   "execution_count": 19,
   "outputs": [
    {
     "name": "stdout",
     "output_type": "stream",
     "text": [
      "29.55\n"
     ]
    }
   ],
   "source": [
    "len(longitude_for_df)\n",
    "print(longitude_for_df[78560])\n"
   ],
   "metadata": {
    "collapsed": false,
    "pycharm": {
     "name": "#%%\n"
    }
   }
  },
  {
   "cell_type": "code",
   "execution_count": 20,
   "outputs": [
    {
     "data": {
      "text/plain": "       time        no2         o3       so2      pm2.5       pm10          co\n0         1   5.252700  51.692347  2.654524   9.605743  12.695112  192.441569\n1         2   7.707136  46.039968  3.895643  18.098120  25.414060  229.828125\n2         3   9.924423  40.913612  4.210040  18.534868  22.058535  252.312439\n3         4  11.300662  40.129539  7.031236  31.374064  40.542399  321.204244\n4         5   4.829215  58.696457  2.343223   7.440000  11.433828  196.356608\n...     ...        ...        ...       ...        ...        ...         ...\n78563    88   1.984611  64.259562  0.604152   6.088051   7.003332  139.368612\n78564    89   1.527000  57.127258  0.217689   4.162439   4.099697  129.047353\n78565    90   1.121115  66.479965  0.252951   4.161693   4.442520  144.590190\n78566    91   0.909588  61.472402  0.217021   3.282997   3.462619  144.497070\n78567    92   0.960055  66.336650  0.809058   4.857992   5.528108  123.786265\n\n[78568 rows x 7 columns]",
      "text/html": "<div>\n<style scoped>\n    .dataframe tbody tr th:only-of-type {\n        vertical-align: middle;\n    }\n\n    .dataframe tbody tr th {\n        vertical-align: top;\n    }\n\n    .dataframe thead th {\n        text-align: right;\n    }\n</style>\n<table border=\"1\" class=\"dataframe\">\n  <thead>\n    <tr style=\"text-align: right;\">\n      <th></th>\n      <th>time</th>\n      <th>no2</th>\n      <th>o3</th>\n      <th>so2</th>\n      <th>pm2.5</th>\n      <th>pm10</th>\n      <th>co</th>\n    </tr>\n  </thead>\n  <tbody>\n    <tr>\n      <th>0</th>\n      <td>1</td>\n      <td>5.252700</td>\n      <td>51.692347</td>\n      <td>2.654524</td>\n      <td>9.605743</td>\n      <td>12.695112</td>\n      <td>192.441569</td>\n    </tr>\n    <tr>\n      <th>1</th>\n      <td>2</td>\n      <td>7.707136</td>\n      <td>46.039968</td>\n      <td>3.895643</td>\n      <td>18.098120</td>\n      <td>25.414060</td>\n      <td>229.828125</td>\n    </tr>\n    <tr>\n      <th>2</th>\n      <td>3</td>\n      <td>9.924423</td>\n      <td>40.913612</td>\n      <td>4.210040</td>\n      <td>18.534868</td>\n      <td>22.058535</td>\n      <td>252.312439</td>\n    </tr>\n    <tr>\n      <th>3</th>\n      <td>4</td>\n      <td>11.300662</td>\n      <td>40.129539</td>\n      <td>7.031236</td>\n      <td>31.374064</td>\n      <td>40.542399</td>\n      <td>321.204244</td>\n    </tr>\n    <tr>\n      <th>4</th>\n      <td>5</td>\n      <td>4.829215</td>\n      <td>58.696457</td>\n      <td>2.343223</td>\n      <td>7.440000</td>\n      <td>11.433828</td>\n      <td>196.356608</td>\n    </tr>\n    <tr>\n      <th>...</th>\n      <td>...</td>\n      <td>...</td>\n      <td>...</td>\n      <td>...</td>\n      <td>...</td>\n      <td>...</td>\n      <td>...</td>\n    </tr>\n    <tr>\n      <th>78563</th>\n      <td>88</td>\n      <td>1.984611</td>\n      <td>64.259562</td>\n      <td>0.604152</td>\n      <td>6.088051</td>\n      <td>7.003332</td>\n      <td>139.368612</td>\n    </tr>\n    <tr>\n      <th>78564</th>\n      <td>89</td>\n      <td>1.527000</td>\n      <td>57.127258</td>\n      <td>0.217689</td>\n      <td>4.162439</td>\n      <td>4.099697</td>\n      <td>129.047353</td>\n    </tr>\n    <tr>\n      <th>78565</th>\n      <td>90</td>\n      <td>1.121115</td>\n      <td>66.479965</td>\n      <td>0.252951</td>\n      <td>4.161693</td>\n      <td>4.442520</td>\n      <td>144.590190</td>\n    </tr>\n    <tr>\n      <th>78566</th>\n      <td>91</td>\n      <td>0.909588</td>\n      <td>61.472402</td>\n      <td>0.217021</td>\n      <td>3.282997</td>\n      <td>3.462619</td>\n      <td>144.497070</td>\n    </tr>\n    <tr>\n      <th>78567</th>\n      <td>92</td>\n      <td>0.960055</td>\n      <td>66.336650</td>\n      <td>0.809058</td>\n      <td>4.857992</td>\n      <td>5.528108</td>\n      <td>123.786265</td>\n    </tr>\n  </tbody>\n</table>\n<p>78568 rows × 7 columns</p>\n</div>"
     },
     "execution_count": 20,
     "metadata": {},
     "output_type": "execute_result"
    }
   ],
   "source": [
    "\n",
    "service=np.array(df_['no2_conc'])\n",
    "vykydy_no2=[]\n",
    "for i in range (0,471408,6):\n",
    "    ser=((service[i]+service[i+1]+service[i+2]+service[i+3]+service[i+4]+service[i+5])/6)\n",
    "    vykydy_no2.append(ser)\n",
    " #       np.savetxt(outfile, vykydy, delimiter='\\n', fmt='%1.15f')\n",
    "\n",
    "service=np.array(df_['so2_conc'])\n",
    "vykydy_so2=[]\n",
    "for i in range (0,471408,6):\n",
    "    ser=((service[i]+service[i+1]+service[i+2]+service[i+3]+service[i+4]+service[i+5])/6)\n",
    "    vykydy_so2.append(ser)\n",
    "\n",
    "service=np.array(df_['co_conc'])\n",
    "vykydy_co=[]\n",
    "for i in range (0,471408,6):\n",
    "    ser=((service[i]+service[i+1]+service[i+2]+service[i+3]+service[i+4]+service[i+5])/6)\n",
    "    vykydy_co.append(ser)\n",
    "\n",
    "service=np.array(df_['o3_conc'])\n",
    "vykydy_o3=[]\n",
    "for i in range (0,471408,6):\n",
    "    ser=((service[i]+service[i+1]+service[i+2]+service[i+3]+service[i+4]+service[i+5])/6)\n",
    "    vykydy_o3.append(ser)\n",
    "\n",
    "service=np.array(df_['pm2p5_conc'])\n",
    "vykydy_pm2p5=[]\n",
    "for i in range (0,471408,6):\n",
    "    ser=((service[i]+service[i+1]+service[i+2]+service[i+3]+service[i+4]+service[i+5])/6)\n",
    "    vykydy_pm2p5.append(ser)\n",
    "\n",
    "service=np.array(df_['pm10_conc'])\n",
    "vykydy_pm10=[]\n",
    "for i in range (0,471408,6):\n",
    "    ser=((service[i]+service[i+1]+service[i+2]+service[i+3]+service[i+4]+service[i+5])/6)\n",
    "    vykydy_pm10.append(ser)\n",
    "df2=pd.DataFrame({'time':time_repeat,'no2': vykydy_no2, 'o3': vykydy_o3,'so2':vykydy_so2,'pm2.5':vykydy_pm2p5,'pm10': vykydy_pm10, 'co': vykydy_co})\n",
    "df2"
   ],
   "metadata": {
    "collapsed": false,
    "pycharm": {
     "name": "#%%\n"
    }
   }
  },
  {
   "cell_type": "code",
   "execution_count": 22,
   "outputs": [],
   "source": [
    "df2=pd.DataFrame({'time':time_repeat,'lon':longitude_for_df,'lat':latitude_for_df2,'no2': vykydy_no2, 'o3': vykydy_o3,'so2':vykydy_so2,'pm2.5':vykydy_pm2p5,'pm10': vykydy_pm10, 'co': vykydy_co})\n",
    "df2.to_csv('dataframe_of_nothern_Ukraine.csv')"
   ],
   "metadata": {
    "collapsed": false,
    "pycharm": {
     "name": "#%%\n"
    }
   }
  },
  {
   "cell_type": "code",
   "execution_count": 21,
   "outputs": [],
   "source": [],
   "metadata": {
    "collapsed": false,
    "pycharm": {
     "name": "#%%\n"
    }
   }
  }
 ],
 "metadata": {
  "kernelspec": {
   "display_name": "Python 3",
   "language": "python",
   "name": "python3"
  },
  "language_info": {
   "codemirror_mode": {
    "name": "ipython",
    "version": 2
   },
   "file_extension": ".py",
   "mimetype": "text/x-python",
   "name": "python",
   "nbconvert_exporter": "python",
   "pygments_lexer": "ipython2",
   "version": "2.7.6"
  }
 },
 "nbformat": 4,
 "nbformat_minor": 0
}