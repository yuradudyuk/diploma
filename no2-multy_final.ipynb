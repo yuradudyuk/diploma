{
 "cells": [
  {
   "cell_type": "code",
   "execution_count": 166,
   "outputs": [],
   "source": [
    "import xarray as xr\n",
    "import pandas as pd\n",
    "import numpy as np\n",
    "import math as mh\n",
    "import matplotlib.pyplot as plt\n",
    "from sklearn.linear_model import LinearRegression\n",
    "from sklearn.preprocessing import PolynomialFeatures\n",
    "from sklearn.model_selection import train_test_split\n",
    "import seaborn as sns\n",
    "import statsmodels.api as sm\n",
    "from statsmodels.stats.outliers_influence import variance_inflation_factor\n",
    "from sklearn import metrics\n",
    "from sklearn.ensemble import RandomForestRegressor"
   ],
   "metadata": {
    "collapsed": false,
    "pycharm": {
     "name": "#%%\n"
    }
   }
  },
  {
   "cell_type": "code",
   "execution_count": 167,
   "outputs": [
    {
     "data": {
      "text/plain": "       time    lon    lat        no2         o3       so2      pm2.5  \\\n2576      1  23.75  51.75   4.711908  51.553411  2.401234   9.248417   \n2577      2  23.75  51.75   6.672050  46.996750  3.451919  17.601891   \n2578      3  23.75  51.75   8.941137  41.624018  3.784783  16.831771   \n2579      4  23.75  51.75  10.849893  40.627284  6.811707  30.603221   \n2580      5  23.75  51.75   4.367971  59.191040  1.967694   6.767345   \n...     ...    ...    ...        ...        ...       ...        ...   \n74423    88  29.25  50.75   2.374783  63.589274  0.443204   5.575825   \n74424    89  29.25  50.75   2.250813  55.532491  0.304400   4.095932   \n74425    90  29.25  50.75   1.334874  67.426381  0.322781   4.207631   \n74426    91  29.25  50.75   1.308244  59.159719  0.302089   3.470493   \n74427    92  29.25  50.75   1.194311  63.613556  0.854371   4.865907   \n\n            pm10          co   tmax   tmin    hum  opady    tysk  wind  \n2576   12.351810  185.938477   5.65   0.05  92.97   0.25  101.22  2.97  \n2577   23.520398  225.714315   7.78  -0.69  91.62   0.19  101.08  4.43  \n2578   21.090757  240.643168   6.35  -2.21  92.66   0.16  100.83  1.99  \n2579   39.304944  322.964640   4.91  -0.49  94.47   0.42   99.36  4.11  \n2580    9.922366  192.327454   2.52  -3.39  81.22   0.41   99.75  2.61  \n...          ...         ...    ...    ...    ...    ...     ...   ...  \n74423   6.442769  141.999288  20.41   9.20  85.01   4.26   99.61  1.49  \n74424   4.510385  142.136587  19.88  12.81  89.09  19.11   99.27  1.77  \n74425   4.545102  145.511047  18.63  11.64  84.04   3.05   99.19  3.31  \n74426   3.625675  143.809682  14.80   9.72  90.18  27.87   99.40  2.48  \n74427   5.494563  122.833923  15.47   7.74  79.16   2.17   99.73  2.79  \n\n[3312 rows x 15 columns]",
      "text/html": "<div>\n<style scoped>\n    .dataframe tbody tr th:only-of-type {\n        vertical-align: middle;\n    }\n\n    .dataframe tbody tr th {\n        vertical-align: top;\n    }\n\n    .dataframe thead th {\n        text-align: right;\n    }\n</style>\n<table border=\"1\" class=\"dataframe\">\n  <thead>\n    <tr style=\"text-align: right;\">\n      <th></th>\n      <th>time</th>\n      <th>lon</th>\n      <th>lat</th>\n      <th>no2</th>\n      <th>o3</th>\n      <th>so2</th>\n      <th>pm2.5</th>\n      <th>pm10</th>\n      <th>co</th>\n      <th>tmax</th>\n      <th>tmin</th>\n      <th>hum</th>\n      <th>opady</th>\n      <th>tysk</th>\n      <th>wind</th>\n    </tr>\n  </thead>\n  <tbody>\n    <tr>\n      <th>2576</th>\n      <td>1</td>\n      <td>23.75</td>\n      <td>51.75</td>\n      <td>4.711908</td>\n      <td>51.553411</td>\n      <td>2.401234</td>\n      <td>9.248417</td>\n      <td>12.351810</td>\n      <td>185.938477</td>\n      <td>5.65</td>\n      <td>0.05</td>\n      <td>92.97</td>\n      <td>0.25</td>\n      <td>101.22</td>\n      <td>2.97</td>\n    </tr>\n    <tr>\n      <th>2577</th>\n      <td>2</td>\n      <td>23.75</td>\n      <td>51.75</td>\n      <td>6.672050</td>\n      <td>46.996750</td>\n      <td>3.451919</td>\n      <td>17.601891</td>\n      <td>23.520398</td>\n      <td>225.714315</td>\n      <td>7.78</td>\n      <td>-0.69</td>\n      <td>91.62</td>\n      <td>0.19</td>\n      <td>101.08</td>\n      <td>4.43</td>\n    </tr>\n    <tr>\n      <th>2578</th>\n      <td>3</td>\n      <td>23.75</td>\n      <td>51.75</td>\n      <td>8.941137</td>\n      <td>41.624018</td>\n      <td>3.784783</td>\n      <td>16.831771</td>\n      <td>21.090757</td>\n      <td>240.643168</td>\n      <td>6.35</td>\n      <td>-2.21</td>\n      <td>92.66</td>\n      <td>0.16</td>\n      <td>100.83</td>\n      <td>1.99</td>\n    </tr>\n    <tr>\n      <th>2579</th>\n      <td>4</td>\n      <td>23.75</td>\n      <td>51.75</td>\n      <td>10.849893</td>\n      <td>40.627284</td>\n      <td>6.811707</td>\n      <td>30.603221</td>\n      <td>39.304944</td>\n      <td>322.964640</td>\n      <td>4.91</td>\n      <td>-0.49</td>\n      <td>94.47</td>\n      <td>0.42</td>\n      <td>99.36</td>\n      <td>4.11</td>\n    </tr>\n    <tr>\n      <th>2580</th>\n      <td>5</td>\n      <td>23.75</td>\n      <td>51.75</td>\n      <td>4.367971</td>\n      <td>59.191040</td>\n      <td>1.967694</td>\n      <td>6.767345</td>\n      <td>9.922366</td>\n      <td>192.327454</td>\n      <td>2.52</td>\n      <td>-3.39</td>\n      <td>81.22</td>\n      <td>0.41</td>\n      <td>99.75</td>\n      <td>2.61</td>\n    </tr>\n    <tr>\n      <th>...</th>\n      <td>...</td>\n      <td>...</td>\n      <td>...</td>\n      <td>...</td>\n      <td>...</td>\n      <td>...</td>\n      <td>...</td>\n      <td>...</td>\n      <td>...</td>\n      <td>...</td>\n      <td>...</td>\n      <td>...</td>\n      <td>...</td>\n      <td>...</td>\n      <td>...</td>\n    </tr>\n    <tr>\n      <th>74423</th>\n      <td>88</td>\n      <td>29.25</td>\n      <td>50.75</td>\n      <td>2.374783</td>\n      <td>63.589274</td>\n      <td>0.443204</td>\n      <td>5.575825</td>\n      <td>6.442769</td>\n      <td>141.999288</td>\n      <td>20.41</td>\n      <td>9.20</td>\n      <td>85.01</td>\n      <td>4.26</td>\n      <td>99.61</td>\n      <td>1.49</td>\n    </tr>\n    <tr>\n      <th>74424</th>\n      <td>89</td>\n      <td>29.25</td>\n      <td>50.75</td>\n      <td>2.250813</td>\n      <td>55.532491</td>\n      <td>0.304400</td>\n      <td>4.095932</td>\n      <td>4.510385</td>\n      <td>142.136587</td>\n      <td>19.88</td>\n      <td>12.81</td>\n      <td>89.09</td>\n      <td>19.11</td>\n      <td>99.27</td>\n      <td>1.77</td>\n    </tr>\n    <tr>\n      <th>74425</th>\n      <td>90</td>\n      <td>29.25</td>\n      <td>50.75</td>\n      <td>1.334874</td>\n      <td>67.426381</td>\n      <td>0.322781</td>\n      <td>4.207631</td>\n      <td>4.545102</td>\n      <td>145.511047</td>\n      <td>18.63</td>\n      <td>11.64</td>\n      <td>84.04</td>\n      <td>3.05</td>\n      <td>99.19</td>\n      <td>3.31</td>\n    </tr>\n    <tr>\n      <th>74426</th>\n      <td>91</td>\n      <td>29.25</td>\n      <td>50.75</td>\n      <td>1.308244</td>\n      <td>59.159719</td>\n      <td>0.302089</td>\n      <td>3.470493</td>\n      <td>3.625675</td>\n      <td>143.809682</td>\n      <td>14.80</td>\n      <td>9.72</td>\n      <td>90.18</td>\n      <td>27.87</td>\n      <td>99.40</td>\n      <td>2.48</td>\n    </tr>\n    <tr>\n      <th>74427</th>\n      <td>92</td>\n      <td>29.25</td>\n      <td>50.75</td>\n      <td>1.194311</td>\n      <td>63.613556</td>\n      <td>0.854371</td>\n      <td>4.865907</td>\n      <td>5.494563</td>\n      <td>122.833923</td>\n      <td>15.47</td>\n      <td>7.74</td>\n      <td>79.16</td>\n      <td>2.17</td>\n      <td>99.73</td>\n      <td>2.79</td>\n    </tr>\n  </tbody>\n</table>\n<p>3312 rows × 15 columns</p>\n</div>"
     },
     "execution_count": 167,
     "metadata": {},
     "output_type": "execute_result"
    }
   ],
   "source": [
    "dff=pd.read_csv('atlast_data.csv',index_col=0)\n",
    "dff"
   ],
   "metadata": {
    "collapsed": false,
    "pycharm": {
     "name": "#%%\n"
    }
   }
  },
  {
   "cell_type": "code",
   "execution_count": 168,
   "outputs": [
    {
     "data": {
      "text/plain": "            no2        o3       so2     pm2.5      pm10        co      tmax  \\\ntime  -0.415741  0.387441 -0.240323 -0.368899 -0.390421 -0.605185  0.826676   \nlon   -0.424547  0.030846 -0.461588 -0.207922 -0.254245 -0.258727 -0.042636   \nlat   -0.188201  0.042263 -0.147747 -0.097050 -0.086878 -0.051185 -0.007945   \nno2    1.000000 -0.521072  0.726618  0.624651  0.651734  0.751877 -0.277203   \no3    -0.521072  1.000000 -0.059292 -0.308254 -0.297094 -0.510993  0.349467   \nso2    0.726618 -0.059292  1.000000  0.687509  0.715760  0.611125 -0.049439   \npm2.5  0.624651 -0.308254  0.687509  1.000000  0.989233  0.782036 -0.012987   \npm10   0.651734 -0.297094  0.715760  0.989233  1.000000  0.777753 -0.032763   \nco     0.751877 -0.510993  0.611125  0.782036  0.777753  1.000000 -0.392282   \ntmax  -0.277203  0.349467 -0.049439 -0.012987 -0.032763 -0.392282  1.000000   \ntmin  -0.243154  0.175435 -0.159459 -0.153268 -0.179913 -0.413195  0.876554   \nhum    0.308719 -0.673717 -0.013148  0.282630  0.249959  0.439669 -0.353050   \nopady -0.064895 -0.169933 -0.183186 -0.116184 -0.150461 -0.085150  0.132974   \ntysk  -0.005493 -0.075370 -0.060192  0.132733  0.143303  0.060516 -0.118298   \nwind   0.074401  0.313442  0.199419 -0.069917 -0.046335 -0.030763 -0.105003   \n\n           tmin       hum     opady      tysk      wind  \ntime   0.846596 -0.440903  0.224874 -0.222992 -0.080717  \nlon   -0.032703  0.175312  0.085854  0.094838 -0.096535  \nlat    0.002081  0.045270 -0.023346  0.340029 -0.002991  \nno2   -0.243154  0.308719 -0.064895 -0.005493  0.074401  \no3     0.175435 -0.673717 -0.169933 -0.075370  0.313442  \nso2   -0.159459 -0.013148 -0.183186 -0.060192  0.199419  \npm2.5 -0.153268  0.282630 -0.116184  0.132733 -0.069917  \npm10  -0.179913  0.249959 -0.150461  0.143303 -0.046335  \nco    -0.413195  0.439669 -0.085150  0.060516 -0.030763  \ntmax   0.876554 -0.353050  0.132974 -0.118298 -0.105003  \ntmin   1.000000 -0.112886  0.353958 -0.261290 -0.053905  \nhum   -0.112886  1.000000  0.416990 -0.102690 -0.035014  \nopady  0.353958  0.416990  1.000000 -0.335279  0.003805  \ntysk  -0.261290 -0.102690 -0.335279  1.000000 -0.238502  \nwind  -0.053905 -0.035014  0.003805 -0.238502  1.000000  ",
      "text/html": "<div>\n<style scoped>\n    .dataframe tbody tr th:only-of-type {\n        vertical-align: middle;\n    }\n\n    .dataframe tbody tr th {\n        vertical-align: top;\n    }\n\n    .dataframe thead th {\n        text-align: right;\n    }\n</style>\n<table border=\"1\" class=\"dataframe\">\n  <thead>\n    <tr style=\"text-align: right;\">\n      <th></th>\n      <th>no2</th>\n      <th>o3</th>\n      <th>so2</th>\n      <th>pm2.5</th>\n      <th>pm10</th>\n      <th>co</th>\n      <th>tmax</th>\n      <th>tmin</th>\n      <th>hum</th>\n      <th>opady</th>\n      <th>tysk</th>\n      <th>wind</th>\n    </tr>\n  </thead>\n  <tbody>\n    <tr>\n      <th>time</th>\n      <td>-0.415741</td>\n      <td>0.387441</td>\n      <td>-0.240323</td>\n      <td>-0.368899</td>\n      <td>-0.390421</td>\n      <td>-0.605185</td>\n      <td>0.826676</td>\n      <td>0.846596</td>\n      <td>-0.440903</td>\n      <td>0.224874</td>\n      <td>-0.222992</td>\n      <td>-0.080717</td>\n    </tr>\n    <tr>\n      <th>lon</th>\n      <td>-0.424547</td>\n      <td>0.030846</td>\n      <td>-0.461588</td>\n      <td>-0.207922</td>\n      <td>-0.254245</td>\n      <td>-0.258727</td>\n      <td>-0.042636</td>\n      <td>-0.032703</td>\n      <td>0.175312</td>\n      <td>0.085854</td>\n      <td>0.094838</td>\n      <td>-0.096535</td>\n    </tr>\n    <tr>\n      <th>lat</th>\n      <td>-0.188201</td>\n      <td>0.042263</td>\n      <td>-0.147747</td>\n      <td>-0.097050</td>\n      <td>-0.086878</td>\n      <td>-0.051185</td>\n      <td>-0.007945</td>\n      <td>0.002081</td>\n      <td>0.045270</td>\n      <td>-0.023346</td>\n      <td>0.340029</td>\n      <td>-0.002991</td>\n    </tr>\n    <tr>\n      <th>no2</th>\n      <td>1.000000</td>\n      <td>-0.521072</td>\n      <td>0.726618</td>\n      <td>0.624651</td>\n      <td>0.651734</td>\n      <td>0.751877</td>\n      <td>-0.277203</td>\n      <td>-0.243154</td>\n      <td>0.308719</td>\n      <td>-0.064895</td>\n      <td>-0.005493</td>\n      <td>0.074401</td>\n    </tr>\n    <tr>\n      <th>o3</th>\n      <td>-0.521072</td>\n      <td>1.000000</td>\n      <td>-0.059292</td>\n      <td>-0.308254</td>\n      <td>-0.297094</td>\n      <td>-0.510993</td>\n      <td>0.349467</td>\n      <td>0.175435</td>\n      <td>-0.673717</td>\n      <td>-0.169933</td>\n      <td>-0.075370</td>\n      <td>0.313442</td>\n    </tr>\n    <tr>\n      <th>so2</th>\n      <td>0.726618</td>\n      <td>-0.059292</td>\n      <td>1.000000</td>\n      <td>0.687509</td>\n      <td>0.715760</td>\n      <td>0.611125</td>\n      <td>-0.049439</td>\n      <td>-0.159459</td>\n      <td>-0.013148</td>\n      <td>-0.183186</td>\n      <td>-0.060192</td>\n      <td>0.199419</td>\n    </tr>\n    <tr>\n      <th>pm2.5</th>\n      <td>0.624651</td>\n      <td>-0.308254</td>\n      <td>0.687509</td>\n      <td>1.000000</td>\n      <td>0.989233</td>\n      <td>0.782036</td>\n      <td>-0.012987</td>\n      <td>-0.153268</td>\n      <td>0.282630</td>\n      <td>-0.116184</td>\n      <td>0.132733</td>\n      <td>-0.069917</td>\n    </tr>\n    <tr>\n      <th>pm10</th>\n      <td>0.651734</td>\n      <td>-0.297094</td>\n      <td>0.715760</td>\n      <td>0.989233</td>\n      <td>1.000000</td>\n      <td>0.777753</td>\n      <td>-0.032763</td>\n      <td>-0.179913</td>\n      <td>0.249959</td>\n      <td>-0.150461</td>\n      <td>0.143303</td>\n      <td>-0.046335</td>\n    </tr>\n    <tr>\n      <th>co</th>\n      <td>0.751877</td>\n      <td>-0.510993</td>\n      <td>0.611125</td>\n      <td>0.782036</td>\n      <td>0.777753</td>\n      <td>1.000000</td>\n      <td>-0.392282</td>\n      <td>-0.413195</td>\n      <td>0.439669</td>\n      <td>-0.085150</td>\n      <td>0.060516</td>\n      <td>-0.030763</td>\n    </tr>\n    <tr>\n      <th>tmax</th>\n      <td>-0.277203</td>\n      <td>0.349467</td>\n      <td>-0.049439</td>\n      <td>-0.012987</td>\n      <td>-0.032763</td>\n      <td>-0.392282</td>\n      <td>1.000000</td>\n      <td>0.876554</td>\n      <td>-0.353050</td>\n      <td>0.132974</td>\n      <td>-0.118298</td>\n      <td>-0.105003</td>\n    </tr>\n    <tr>\n      <th>tmin</th>\n      <td>-0.243154</td>\n      <td>0.175435</td>\n      <td>-0.159459</td>\n      <td>-0.153268</td>\n      <td>-0.179913</td>\n      <td>-0.413195</td>\n      <td>0.876554</td>\n      <td>1.000000</td>\n      <td>-0.112886</td>\n      <td>0.353958</td>\n      <td>-0.261290</td>\n      <td>-0.053905</td>\n    </tr>\n    <tr>\n      <th>hum</th>\n      <td>0.308719</td>\n      <td>-0.673717</td>\n      <td>-0.013148</td>\n      <td>0.282630</td>\n      <td>0.249959</td>\n      <td>0.439669</td>\n      <td>-0.353050</td>\n      <td>-0.112886</td>\n      <td>1.000000</td>\n      <td>0.416990</td>\n      <td>-0.102690</td>\n      <td>-0.035014</td>\n    </tr>\n    <tr>\n      <th>opady</th>\n      <td>-0.064895</td>\n      <td>-0.169933</td>\n      <td>-0.183186</td>\n      <td>-0.116184</td>\n      <td>-0.150461</td>\n      <td>-0.085150</td>\n      <td>0.132974</td>\n      <td>0.353958</td>\n      <td>0.416990</td>\n      <td>1.000000</td>\n      <td>-0.335279</td>\n      <td>0.003805</td>\n    </tr>\n    <tr>\n      <th>tysk</th>\n      <td>-0.005493</td>\n      <td>-0.075370</td>\n      <td>-0.060192</td>\n      <td>0.132733</td>\n      <td>0.143303</td>\n      <td>0.060516</td>\n      <td>-0.118298</td>\n      <td>-0.261290</td>\n      <td>-0.102690</td>\n      <td>-0.335279</td>\n      <td>1.000000</td>\n      <td>-0.238502</td>\n    </tr>\n    <tr>\n      <th>wind</th>\n      <td>0.074401</td>\n      <td>0.313442</td>\n      <td>0.199419</td>\n      <td>-0.069917</td>\n      <td>-0.046335</td>\n      <td>-0.030763</td>\n      <td>-0.105003</td>\n      <td>-0.053905</td>\n      <td>-0.035014</td>\n      <td>0.003805</td>\n      <td>-0.238502</td>\n      <td>1.000000</td>\n    </tr>\n  </tbody>\n</table>\n</div>"
     },
     "execution_count": 168,
     "metadata": {},
     "output_type": "execute_result"
    }
   ],
   "source": [
    "cor=dff.corr()\n",
    "#cor=cor.drop(columns=['time','lon','lat'])\n",
    "cor.drop(columns=['time','lon','lat'],axis=0)"
   ],
   "metadata": {
    "collapsed": false,
    "pycharm": {
     "name": "#%%\n"
    }
   }
  },
  {
   "cell_type": "code",
   "execution_count": 168,
   "outputs": [],
   "source": [],
   "metadata": {
    "collapsed": false,
    "pycharm": {
     "name": "#%%\n"
    }
   }
  },
  {
   "cell_type": "code",
   "execution_count": 169,
   "outputs": [
    {
     "name": "stdout",
     "output_type": "stream",
     "text": [
      "r-squered for train 0.4396104254208072\n",
      "r-squered for test 0.5089497518281048\n",
      "            coef        p-value\n",
      "const  46.702307   9.508314e-61\n",
      "time   -0.025065   8.876851e-32\n",
      "lon    -0.409697  5.148437e-179\n",
      "lat    -0.725594   1.891584e-40\n",
      "tmax    0.035531   2.680003e-05\n",
      "tmin    0.003147   8.178785e-01\n",
      "hum     0.055218   6.785553e-32\n"
     ]
    },
    {
     "name": "stderr",
     "output_type": "stream",
     "text": [
      "C:\\Users\\Yura Dudyuk\\anaconda3\\lib\\site-packages\\statsmodels\\tsa\\tsatools.py:142: FutureWarning: In a future version of pandas all arguments of concat except for the argument 'objs' will be keyword-only\n",
      "  x = pd.concat(x[::order], 1)\n"
     ]
    }
   ],
   "source": [
    "no2=dff['no2']\n",
    "features=dff.drop(columns=['no2','o3','so2','pm10','co','pm2.5','wind','tysk','opady'],axis=1)\n",
    "X_train,X_test,Y_train,Y_test = train_test_split (features,no2,test_size=0.15,random_state=10)\n",
    "regr=LinearRegression()\n",
    "regr.fit(X_train,Y_train)\n",
    "print(\"r-squered for train\",regr.score(X_train,Y_train))\n",
    "print(\"r-squered for test\",regr.score(X_test,Y_test))\n",
    "x_incl_const=sm.add_constant(X_train)\n",
    "model = sm.OLS(Y_train,x_incl_const)\n",
    "results=model.fit()\n",
    "dd=pd.DataFrame({'coef': results.params,'p-value':results.pvalues})\n",
    "print(dd)"
   ],
   "metadata": {
    "collapsed": false,
    "pycharm": {
     "name": "#%%\n"
    }
   }
  },
  {
   "cell_type": "code",
   "execution_count": 170,
   "outputs": [
    {
     "data": {
      "text/plain": "6.637450337005221"
     },
     "execution_count": 170,
     "metadata": {},
     "output_type": "execute_result"
    }
   ],
   "source": [
    "variance_inflation_factor(exog=x_incl_const.values,exog_idx=1)"
   ],
   "metadata": {
    "collapsed": false,
    "pycharm": {
     "name": "#%%\n"
    }
   }
  },
  {
   "cell_type": "code",
   "execution_count": 171,
   "outputs": [
    {
     "data": {
      "text/plain": "  coef_name           vif\n0     const  16112.269272\n1      time      6.637450\n2       lon      1.103104\n3       lat      1.004306\n4      tmax      6.152524\n5      tmin     10.168143\n6       hum      2.385600",
      "text/html": "<div>\n<style scoped>\n    .dataframe tbody tr th:only-of-type {\n        vertical-align: middle;\n    }\n\n    .dataframe tbody tr th {\n        vertical-align: top;\n    }\n\n    .dataframe thead th {\n        text-align: right;\n    }\n</style>\n<table border=\"1\" class=\"dataframe\">\n  <thead>\n    <tr style=\"text-align: right;\">\n      <th></th>\n      <th>coef_name</th>\n      <th>vif</th>\n    </tr>\n  </thead>\n  <tbody>\n    <tr>\n      <th>0</th>\n      <td>const</td>\n      <td>16112.269272</td>\n    </tr>\n    <tr>\n      <th>1</th>\n      <td>time</td>\n      <td>6.637450</td>\n    </tr>\n    <tr>\n      <th>2</th>\n      <td>lon</td>\n      <td>1.103104</td>\n    </tr>\n    <tr>\n      <th>3</th>\n      <td>lat</td>\n      <td>1.004306</td>\n    </tr>\n    <tr>\n      <th>4</th>\n      <td>tmax</td>\n      <td>6.152524</td>\n    </tr>\n    <tr>\n      <th>5</th>\n      <td>tmin</td>\n      <td>10.168143</td>\n    </tr>\n    <tr>\n      <th>6</th>\n      <td>hum</td>\n      <td>2.385600</td>\n    </tr>\n  </tbody>\n</table>\n</div>"
     },
     "execution_count": 171,
     "metadata": {},
     "output_type": "execute_result"
    }
   ],
   "source": [
    "vif=[variance_inflation_factor(exog=x_incl_const.values,exog_idx=i) for i in range(x_incl_const.shape[1])]\n",
    "dd=pd.DataFrame({'coef_name': x_incl_const.columns,'vif':vif})\n",
    "dd"
   ],
   "metadata": {
    "collapsed": false,
    "pycharm": {
     "name": "#%%\n"
    }
   }
  },
  {
   "cell_type": "code",
   "execution_count": 172,
   "outputs": [
    {
     "name": "stdout",
     "output_type": "stream",
     "text": [
      "BIC 8866.318613575768\n",
      "r-squared 0.4396104254208071\n"
     ]
    },
    {
     "name": "stderr",
     "output_type": "stream",
     "text": [
      "C:\\Users\\Yura Dudyuk\\anaconda3\\lib\\site-packages\\statsmodels\\tsa\\tsatools.py:142: FutureWarning: In a future version of pandas all arguments of concat except for the argument 'objs' will be keyword-only\n",
      "  x = pd.concat(x[::order], 1)\n"
     ]
    }
   ],
   "source": [
    "x_incl_const=sm.add_constant(X_train)\n",
    "model = sm.OLS(Y_train,x_incl_const)\n",
    "results=model.fit()\n",
    "org_coef=pd.DataFrame({'coef': results.params,'p-value':results.pvalues})\n",
    "print('BIC',results.bic)\n",
    "print('r-squared',results.rsquared)"
   ],
   "metadata": {
    "collapsed": false,
    "pycharm": {
     "name": "#%%\n"
    }
   }
  },
  {
   "cell_type": "code",
   "execution_count": 173,
   "outputs": [
    {
     "name": "stdout",
     "output_type": "stream",
     "text": [
      "BIC 8858.429064024212\n",
      "r-squared 0.43959984102715843\n"
     ]
    },
    {
     "name": "stderr",
     "output_type": "stream",
     "text": [
      "C:\\Users\\Yura Dudyuk\\anaconda3\\lib\\site-packages\\statsmodels\\tsa\\tsatools.py:142: FutureWarning: In a future version of pandas all arguments of concat except for the argument 'objs' will be keyword-only\n",
      "  x = pd.concat(x[::order], 1)\n"
     ]
    }
   ],
   "source": [
    "x_incl_const=sm.add_constant(X_train)\n",
    "x_incl_const=x_incl_const.drop(['tmin'],axis=1)\n",
    "model = sm.OLS(Y_train,x_incl_const)\n",
    "results=model.fit()\n",
    "reduced_coef=pd.DataFrame({'coef': results.params,'p-value':results.pvalues})\n",
    "print('BIC',results.bic)\n",
    "print('r-squared',results.rsquared)"
   ],
   "metadata": {
    "collapsed": false,
    "pycharm": {
     "name": "#%%\n"
    }
   }
  },
  {
   "cell_type": "code",
   "execution_count": 174,
   "outputs": [
    {
     "data": {
      "text/plain": "            coef        p-value       coef        p-value\nconst  46.702307   9.508314e-61  46.659316   6.398395e-61\ntime   -0.025065   8.876851e-32  -0.024734   3.356777e-55\nlon    -0.409697  5.148437e-179  -0.410375  2.028359e-187\nlat    -0.725594   1.891584e-40  -0.726019   1.496614e-40\ntmax    0.035531   2.680003e-05   0.036871   1.972386e-09\ntmin    0.003147   8.178785e-01        NaN            NaN\nhum     0.055218   6.785553e-32   0.055936   5.020192e-57",
      "text/html": "<div>\n<style scoped>\n    .dataframe tbody tr th:only-of-type {\n        vertical-align: middle;\n    }\n\n    .dataframe tbody tr th {\n        vertical-align: top;\n    }\n\n    .dataframe thead th {\n        text-align: right;\n    }\n</style>\n<table border=\"1\" class=\"dataframe\">\n  <thead>\n    <tr style=\"text-align: right;\">\n      <th></th>\n      <th>coef</th>\n      <th>p-value</th>\n      <th>coef</th>\n      <th>p-value</th>\n    </tr>\n  </thead>\n  <tbody>\n    <tr>\n      <th>const</th>\n      <td>46.702307</td>\n      <td>9.508314e-61</td>\n      <td>46.659316</td>\n      <td>6.398395e-61</td>\n    </tr>\n    <tr>\n      <th>time</th>\n      <td>-0.025065</td>\n      <td>8.876851e-32</td>\n      <td>-0.024734</td>\n      <td>3.356777e-55</td>\n    </tr>\n    <tr>\n      <th>lon</th>\n      <td>-0.409697</td>\n      <td>5.148437e-179</td>\n      <td>-0.410375</td>\n      <td>2.028359e-187</td>\n    </tr>\n    <tr>\n      <th>lat</th>\n      <td>-0.725594</td>\n      <td>1.891584e-40</td>\n      <td>-0.726019</td>\n      <td>1.496614e-40</td>\n    </tr>\n    <tr>\n      <th>tmax</th>\n      <td>0.035531</td>\n      <td>2.680003e-05</td>\n      <td>0.036871</td>\n      <td>1.972386e-09</td>\n    </tr>\n    <tr>\n      <th>tmin</th>\n      <td>0.003147</td>\n      <td>8.178785e-01</td>\n      <td>NaN</td>\n      <td>NaN</td>\n    </tr>\n    <tr>\n      <th>hum</th>\n      <td>0.055218</td>\n      <td>6.785553e-32</td>\n      <td>0.055936</td>\n      <td>5.020192e-57</td>\n    </tr>\n  </tbody>\n</table>\n</div>"
     },
     "execution_count": 174,
     "metadata": {},
     "output_type": "execute_result"
    }
   ],
   "source": [
    "frames=[org_coef,reduced_coef]\n",
    "news=pd.concat(frames,axis=1)\n",
    "news"
   ],
   "metadata": {
    "collapsed": false,
    "pycharm": {
     "name": "#%%\n"
    }
   }
  },
  {
   "cell_type": "code",
   "execution_count": 175,
   "outputs": [
    {
     "name": "stdout",
     "output_type": "stream",
     "text": [
      "r-squered for train 0.43959984102715843\n",
      "r-squered for test 0.5089240886918669\n",
      "            coef        p-value\n",
      "const  46.659316   6.398395e-61\n",
      "time   -0.024734   3.356777e-55\n",
      "lon    -0.410375  2.028359e-187\n",
      "lat    -0.726019   1.496614e-40\n",
      "tmax    0.036871   1.972386e-09\n",
      "hum     0.055936   5.020192e-57\n"
     ]
    },
    {
     "name": "stderr",
     "output_type": "stream",
     "text": [
      "C:\\Users\\Yura Dudyuk\\anaconda3\\lib\\site-packages\\statsmodels\\tsa\\tsatools.py:142: FutureWarning: In a future version of pandas all arguments of concat except for the argument 'objs' will be keyword-only\n",
      "  x = pd.concat(x[::order], 1)\n"
     ]
    }
   ],
   "source": [
    "no2=dff['no2']\n",
    "#no2=np.log(dff['no2'])\n",
    "features=dff.drop(columns=['no2','o3','so2','pm10','co','pm2.5','wind','tysk','opady','tmin'],axis=1)\n",
    "#features=df2.drop(columns=['no2'],axis=1)\n",
    "X_train,X_test,Y_train,Y_test = train_test_split (features,no2,test_size=0.15,random_state=10)\n",
    "regr=LinearRegression()\n",
    "regr.fit(X_train,Y_train)\n",
    "print(\"r-squered for train\",regr.score(X_train,Y_train))\n",
    "print(\"r-squered for test\",regr.score(X_test,Y_test))\n",
    "\n",
    "x_incl_const=sm.add_constant(X_train)\n",
    "model = sm.OLS(Y_train,x_incl_const)\n",
    "results=model.fit()\n",
    "dd=pd.DataFrame({'coef': results.params,'p-value':results.pvalues})\n",
    "print(dd)"
   ],
   "metadata": {
    "collapsed": false,
    "pycharm": {
     "name": "#%%\n"
    }
   }
  },
  {
   "cell_type": "code",
   "execution_count": 176,
   "outputs": [
    {
     "data": {
      "text/plain": "array([2.76018547, 1.53679704, 3.35953145, 4.4022866 , 2.83561461,\n       1.80370951, 1.98276481, 2.25066323, 1.97339174, 1.69542529,\n       2.10108869, 2.01553201, 1.13286527, 3.73611069, 2.85380182,\n       1.04052003, 1.04794202, 3.2374689 , 3.35499706, 3.26435237,\n       3.15199176, 0.78963657, 3.62434858, 4.66820104, 3.32299263,\n       3.12840251, 2.45439352, 2.25498927, 3.11896307, 2.52390539,\n       3.93452054, 1.77369655, 1.8330484 , 2.38999099, 2.25233256,\n       3.30794193, 2.92694071, 2.94196436, 1.93949105, 2.56639343,\n       2.23864362, 4.34685516, 3.58258563, 2.77525208, 3.63307309,\n       3.82222766, 3.53055922, 0.86981732, 0.72526716, 3.96612601,\n       2.48404435, 3.43717433, 0.24135039, 2.64083851, 2.79905566,\n       3.74009191, 0.9500047 , 2.88582268, 2.0229766 , 3.758629  ,\n       1.46306963, 2.77143432, 3.37874569, 4.0016963 , 2.78806049,\n       1.93953025, 2.39549055, 0.9412133 , 1.64853769, 1.40930987,\n       1.47113911, 2.25471351, 2.26659413, 0.95395159, 0.71253267,\n       3.67097066, 1.49579256, 3.34201956, 1.45291878, 3.20076099,\n       3.30897407, 1.7155152 , 1.67356096, 2.36615074, 2.50157376,\n       4.7334682 , 1.91096198, 1.03405485, 0.84339303, 3.05105655,\n       3.82233394, 3.8225131 , 3.21696479, 2.24833987, 0.73467924,\n       1.81136189, 0.53312794, 2.7268991 , 2.16234401, 2.50089585,\n       0.25095015, 2.14420016, 3.25668345, 1.19394162, 3.48977638,\n       1.75115632, 3.1903042 , 1.33357883, 1.2513409 , 0.5745452 ,\n       2.32749141, 3.59867836, 0.61823925, 3.19520622, 3.11028631,\n       2.43427252, 3.15299178, 2.75939151, 1.71635302, 2.12638487,\n       3.47759838, 3.0995802 , 2.06445843, 0.62381269, 2.1862596 ,\n       2.88600096, 1.92624265, 2.33575187, 2.80513349, 2.24876579,\n       2.26954385, 3.08661768, 1.32207642, 3.83354143, 3.50855592,\n       3.95068177, 1.53636369, 2.48465393, 1.53788978, 2.27278828,\n       2.29190641, 3.68341651, 4.70368492, 3.88853544, 2.27529825,\n       1.59894697, 1.93179728, 1.40683883, 4.26170768, 2.57903684,\n       3.22683499, 2.6741936 , 1.16399439, 2.53379635, 4.29978686,\n       3.41117606, 2.83369584, 1.4945538 , 1.03480664, 2.67367023,\n       2.39778778, 1.50600859, 1.96716762, 3.53110371, 1.56180682,\n       2.75279873, 3.46541713, 1.05438392, 3.69064091, 0.45169678,\n       3.62745525, 2.29511709, 1.2019815 , 0.21741023, 1.38068856,\n       1.97632112, 2.7431967 , 2.5098549 , 1.77088235, 3.13485287,\n       2.31262265, 1.43115848, 1.29831018, 2.19778458, 1.83423408,\n       3.31161548, 1.91668141, 2.83594064, 2.96690087, 1.68263827,\n       1.95113106, 2.30752429, 3.35881665, 3.02293003, 1.81521175,\n       1.88970232, 1.67395269, 3.04534935, 3.7449304 , 1.9661404 ,\n       2.79875567, 1.51724952, 1.71945394, 1.43575057, 1.94448525,\n       2.96027484, 2.44856281, 0.19090705, 2.66870667, 2.99428456,\n       2.81368005, 3.00739498, 3.10763052, 3.04115089, 2.41627851,\n       3.24417826, 4.7700266 , 1.65677058, 1.22069496, 2.95051548,\n       0.89212954, 0.49539688, 2.27683712, 3.42148166, 4.28921627,\n       2.42999269, 2.85211193, 2.64378036, 2.81284389, 1.28478039,\n       2.56516914, 2.1016561 , 0.71804964, 3.31143459, 3.49175244,\n       2.44669507, 3.75982969, 1.63315629, 0.89089525, 1.96224482,\n       3.14496272, 1.75816325, 3.63288791, 1.12239094, 4.09136075,\n       4.35433654, 3.8550284 , 2.32728155, 1.4508439 , 1.66094791,\n       1.91702919, 3.9088396 , 2.34327673, 1.59815429, 2.43956892,\n       4.10354728, 2.90953042, 2.81864464, 1.35552225, 1.76223362,\n       3.44586791, 2.71150011, 1.28631378, 1.73815132, 3.44228831,\n       3.05644307, 1.58979083, 2.37116682, 0.90508082, 2.02074674,\n       0.41220113, 4.17529019, 2.55506175, 2.32659272, 0.86400932,\n       3.70294008, 3.57835244, 1.87266564, 1.83123035, 2.18717223,\n       2.27418854, 1.27533234, 3.65219247, 1.23938403, 1.02152403,\n       1.50783713, 2.5561467 , 2.62086423, 2.13992867, 2.94605501,\n       2.23812622, 1.32305796, 2.4159183 , 4.46157314, 4.52866121,\n       3.64803492, 3.60754221, 2.44137498, 2.56025981, 0.39244671,\n       1.96523899, 3.54865262, 1.96123454, 3.07383752, 3.24365631,\n       1.62740938, 3.39674721, 4.42164821, 2.84883506, 1.42047955,\n       1.07123431, 4.342311  , 1.10556873, 2.18752362, 2.61299571,\n       3.85265272, 1.3311733 , 0.43702104, 0.25120911, 2.13089552,\n       0.55891566, 2.02272708, 2.41281501, 3.77944355, 2.57560721,\n       3.87610088, 4.98836237, 2.72770848, 0.81852293, 2.00368962,\n       2.50440297, 3.29095651, 1.81858138, 4.26659902, 2.77793473,\n       3.66827222, 2.47134909, 0.90748836, 2.90369536, 0.84311111,\n       4.08434288, 1.29725655, 0.75369059, 1.72929459, 1.34064004,\n       2.5035486 , 1.85436977, 2.12663771, 3.54750081, 2.46382137,\n       2.33180014, 3.4381004 , 1.58079629, 1.96539968, 2.91177412,\n       3.43363854, 2.7111893 , 0.99586703, 1.76799897, 4.05411892,\n       3.98670797, 1.73801977, 2.46031686, 3.86947516, 1.04380037,\n       2.47459817, 2.23618863, 3.09711403, 4.26825335, 2.25218136,\n       4.99010223, 1.51172346, 2.60705537, 2.83455344, 1.44212988,\n       0.94808478, 2.85040571, 0.35266935, 2.88722061, 3.76453011,\n       1.19977061, 1.01731395, 1.4815462 , 3.23059493, 3.82478145,\n       0.70751948, 2.76328197, 2.64391866, 2.69326954, 0.69677111,\n       1.0791888 , 2.59901844, 4.42000747, 2.02615853, 2.91582548,\n       2.68191292, 2.65524121, 3.20152898, 0.48436938, 4.31807464,\n       1.81838833, 1.40900539, 3.04977435, 1.17228223, 4.19226671,\n       4.97227115, 1.33009097, 1.76325454, 1.92833809, 0.83411626,\n       2.60633565, 2.77224615, 3.0026999 , 3.27334194, 1.63206501,\n       3.47521585, 1.66596623, 0.55576667, 1.93112675, 4.80236988,\n       0.1756958 , 2.56403864, 3.60806181, 3.67988787, 3.41376044,\n       1.4317714 , 0.47498162, 1.06162793, 2.61532009, 1.08982593,\n       1.14957783, 2.07183286, 3.06580338, 1.46095884, 2.23166722,\n       3.45123629, 2.27940179, 2.27864719, 1.92423327, 2.28795018,\n       1.90778496, 2.57683654, 4.17274128, 1.40678175, 3.42441066,\n       3.90524117, 1.16263247, 1.52324031, 0.96196807, 2.63116389,\n       1.23281671, 3.12717778, 2.50113803, 1.22530353, 2.88350516,\n       0.44246944, 3.49099782, 2.81649641, 3.30274257, 2.05497105,\n       1.96121547, 2.62389318, 2.0048754 , 4.0772393 , 3.95959285,\n       2.39090137, 1.64715355, 1.20710199, 1.24831411, 3.22071484,\n       2.15407175, 2.77579122, 2.02588008, 1.33037192, 3.46740545,\n       2.70657281, 2.53223369, 3.97539745, 1.17475453, 1.57066469,\n       4.03913354, 1.43911479, 4.56442623, 3.10846123, 0.39032677,\n       3.48055995, 2.59452368, 3.36239692, 0.67003188, 3.54008934,\n       2.15653434, 3.39473094, 2.44132971, 2.3081206 , 1.59325646,\n       1.66990055, 2.82927026])"
     },
     "execution_count": 176,
     "metadata": {},
     "output_type": "execute_result"
    }
   ],
   "source": [
    "y_test_pred=regr.predict(X_test)\n",
    "y_test_pred"
   ],
   "metadata": {
    "collapsed": false,
    "pycharm": {
     "name": "#%%\n"
    }
   }
  },
  {
   "cell_type": "code",
   "execution_count": 176,
   "outputs": [],
   "source": [],
   "metadata": {
    "collapsed": false,
    "pycharm": {
     "name": "#%%\n"
    }
   }
  },
  {
   "cell_type": "code",
   "execution_count": 177,
   "outputs": [
    {
     "data": {
      "text/plain": "<Figure size 360x360 with 1 Axes>",
      "image/png": "[encoded data removed]"
     },
     "metadata": {},
     "output_type": "display_data"
    }
   ],
   "source": [
    "sns.displot(Y_test-y_test_pred)\n",
    "y_for_gaus=Y_test-y_test_pred"
   ],
   "metadata": {
    "collapsed": false,
    "pycharm": {
     "name": "#%%\n"
    }
   }
  },
  {
   "cell_type": "code",
   "execution_count": 178,
   "outputs": [
    {
     "data": {
      "text/plain": "ShapiroResult(statistic=0.9105865955352783, pvalue=1.5816040066126671e-16)"
     },
     "execution_count": 178,
     "metadata": {},
     "output_type": "execute_result"
    }
   ],
   "source": [
    "import scipy\n",
    "scipy.stats.shapiro(y_for_gaus)"
   ],
   "metadata": {
    "collapsed": false,
    "pycharm": {
     "name": "#%%\n"
    }
   }
  },
  {
   "cell_type": "code",
   "execution_count": 179,
   "outputs": [
    {
     "name": "stdout",
     "output_type": "stream",
     "text": [
      "MAE 0.7747053988776353\n",
      "MSE 1.1622712962823503\n",
      "RMSE 1.0780868686160454\n"
     ]
    }
   ],
   "source": [
    "print('MAE',metrics.mean_absolute_error(Y_test,y_test_pred))\n",
    "print('MSE',metrics.mean_squared_error(Y_test,y_test_pred))\n",
    "print('RMSE',np.sqrt(metrics.mean_squared_error(Y_test,y_test_pred)))"
   ],
   "metadata": {
    "collapsed": false,
    "pycharm": {
     "name": "#%%\n"
    }
   }
  },
  {
   "cell_type": "code",
   "execution_count": 179,
   "outputs": [],
   "source": [],
   "metadata": {
    "collapsed": false,
    "pycharm": {
     "name": "#%%\n"
    }
   }
  },
  {
   "cell_type": "code",
   "execution_count": 179,
   "outputs": [],
   "source": [],
   "metadata": {
    "collapsed": false,
    "pycharm": {
     "name": "#%%\n"
    }
   }
  },
  {
   "cell_type": "code",
   "execution_count": 180,
   "outputs": [
    {
     "name": "stdout",
     "output_type": "stream",
     "text": [
      "r-squered for train 0.7461884650380997\n",
      "r-squered for test 0.7506789024538654\n",
      "MAE 0.5435272517500255\n",
      "MSE 0.5900895331305674\n",
      "RMSE 0.7681728536798\n"
     ]
    },
    {
     "data": {
      "text/plain": "<Figure size 360x360 with 1 Axes>",
      "image/png": "[encoded data removed]"
     },
     "metadata": {},
     "output_type": "display_data"
    }
   ],
   "source": [
    "model=RandomForestRegressor(n_estimators=60,min_samples_leaf=5,max_depth=6,n_jobs=1)\n",
    "model.fit(X_train,Y_train)\n",
    "print(\"r-squered for train\",model.score(X_train,Y_train))\n",
    "print(\"r-squered for test\",model.score(X_test,Y_test))\n",
    "y_test_pred=model.predict(X_test)\n",
    "\n",
    "sns.displot(Y_test-y_test_pred)\n",
    "y_for_gaus=Y_test-y_test_pred\n",
    "scipy.stats.shapiro(y_for_gaus)\n",
    "print('MAE',metrics.mean_absolute_error(Y_test,y_test_pred))\n",
    "print('MSE',metrics.mean_squared_error(Y_test,y_test_pred))\n",
    "print('RMSE',np.sqrt(metrics.mean_squared_error(Y_test,y_test_pred)))"
   ],
   "metadata": {
    "collapsed": false,
    "pycharm": {
     "name": "#%%\n"
    }
   }
  },
  {
   "cell_type": "code",
   "execution_count": 181,
   "outputs": [
    {
     "data": {
      "text/plain": "ShapiroResult(statistic=0.9257162809371948, pvalue=5.751273667243184e-15)"
     },
     "execution_count": 181,
     "metadata": {},
     "output_type": "execute_result"
    }
   ],
   "source": [
    "scipy.stats.shapiro(y_for_gaus)"
   ],
   "metadata": {
    "collapsed": false,
    "pycharm": {
     "name": "#%%\n"
    }
   }
  },
  {
   "cell_type": "code",
   "execution_count": 181,
   "outputs": [],
   "source": [],
   "metadata": {
    "collapsed": false,
    "pycharm": {
     "name": "#%%\n"
    }
   }
  }
 ],
 "metadata": {
  "kernelspec": {
   "display_name": "Python 3",
   "language": "python",
   "name": "python3"
  },
  "language_info": {
   "codemirror_mode": {
    "name": "ipython",
    "version": 2
   },
   "file_extension": ".py",
   "mimetype": "text/x-python",
   "name": "python",
   "nbconvert_exporter": "python",
   "pygments_lexer": "ipython2",
   "version": "2.7.6"
  }
 },
 "nbformat": 4,
 "nbformat_minor": 0
}