{
 "cells": [
  {
   "cell_type": "code",
   "execution_count": 2,
   "outputs": [],
   "source": [
    "import xarray as xr\n",
    "import pandas as pd\n",
    "import numpy as np\n",
    "import math as mh\n",
    "import matplotlib.pyplot as plt\n",
    "from sklearn.linear_model import LinearRegression\n",
    "from sklearn.preprocessing import PolynomialFeatures\n",
    "from sklearn.model_selection import train_test_split\n",
    "import seaborn as sns\n",
    "import statsmodels.api as sm\n",
    "from statsmodels.stats.outliers_influence import variance_inflation_factor\n",
    "from sklearn import metrics\n",
    "\n",
    "\n",
    "\n",
    "dff=pd.read_csv('dataframe_of_nothern_Ukraine.csv',delimiter=',',index_col=0 )\n"
   ],
   "metadata": {
    "collapsed": false,
    "pycharm": {
     "name": "#%%\n"
    }
   }
  },
  {
   "cell_type": "code",
   "execution_count": 4,
   "outputs": [
    {
     "data": {
      "text/plain": "            no2        o3       so2     pm2.5      pm10        co\ntime  -0.401044  0.384411 -0.249115 -0.373093 -0.395535 -0.583603\nlon   -0.401664  0.036451 -0.477324 -0.185159 -0.234030 -0.211870\nlat   -0.204583  0.050976 -0.137722 -0.109866 -0.099570 -0.076796\nno2    1.000000 -0.518834  0.713587  0.629329  0.650456  0.755072\no3    -0.518834  1.000000 -0.059526 -0.311927 -0.299448 -0.501702\nso2    0.713587 -0.059526  1.000000  0.686588  0.719308  0.589958\npm2.5  0.629329 -0.311927  0.686588  1.000000  0.988645  0.783630\npm10   0.650456 -0.299448  0.719308  0.988645  1.000000  0.773201\nco     0.755072 -0.501702  0.589958  0.783630  0.773201  1.000000",
      "text/html": "<div>\n<style scoped>\n    .dataframe tbody tr th:only-of-type {\n        vertical-align: middle;\n    }\n\n    .dataframe tbody tr th {\n        vertical-align: top;\n    }\n\n    .dataframe thead th {\n        text-align: right;\n    }\n</style>\n<table border=\"1\" class=\"dataframe\">\n  <thead>\n    <tr style=\"text-align: right;\">\n      <th></th>\n      <th>no2</th>\n      <th>o3</th>\n      <th>so2</th>\n      <th>pm2.5</th>\n      <th>pm10</th>\n      <th>co</th>\n    </tr>\n  </thead>\n  <tbody>\n    <tr>\n      <th>time</th>\n      <td>-0.401044</td>\n      <td>0.384411</td>\n      <td>-0.249115</td>\n      <td>-0.373093</td>\n      <td>-0.395535</td>\n      <td>-0.583603</td>\n    </tr>\n    <tr>\n      <th>lon</th>\n      <td>-0.401664</td>\n      <td>0.036451</td>\n      <td>-0.477324</td>\n      <td>-0.185159</td>\n      <td>-0.234030</td>\n      <td>-0.211870</td>\n    </tr>\n    <tr>\n      <th>lat</th>\n      <td>-0.204583</td>\n      <td>0.050976</td>\n      <td>-0.137722</td>\n      <td>-0.109866</td>\n      <td>-0.099570</td>\n      <td>-0.076796</td>\n    </tr>\n    <tr>\n      <th>no2</th>\n      <td>1.000000</td>\n      <td>-0.518834</td>\n      <td>0.713587</td>\n      <td>0.629329</td>\n      <td>0.650456</td>\n      <td>0.755072</td>\n    </tr>\n    <tr>\n      <th>o3</th>\n      <td>-0.518834</td>\n      <td>1.000000</td>\n      <td>-0.059526</td>\n      <td>-0.311927</td>\n      <td>-0.299448</td>\n      <td>-0.501702</td>\n    </tr>\n    <tr>\n      <th>so2</th>\n      <td>0.713587</td>\n      <td>-0.059526</td>\n      <td>1.000000</td>\n      <td>0.686588</td>\n      <td>0.719308</td>\n      <td>0.589958</td>\n    </tr>\n    <tr>\n      <th>pm2.5</th>\n      <td>0.629329</td>\n      <td>-0.311927</td>\n      <td>0.686588</td>\n      <td>1.000000</td>\n      <td>0.988645</td>\n      <td>0.783630</td>\n    </tr>\n    <tr>\n      <th>pm10</th>\n      <td>0.650456</td>\n      <td>-0.299448</td>\n      <td>0.719308</td>\n      <td>0.988645</td>\n      <td>1.000000</td>\n      <td>0.773201</td>\n    </tr>\n    <tr>\n      <th>co</th>\n      <td>0.755072</td>\n      <td>-0.501702</td>\n      <td>0.589958</td>\n      <td>0.783630</td>\n      <td>0.773201</td>\n      <td>1.000000</td>\n    </tr>\n  </tbody>\n</table>\n</div>"
     },
     "execution_count": 4,
     "metadata": {},
     "output_type": "execute_result"
    }
   ],
   "source": [
    "dd=dff.corr()\n",
    "dd.drop(columns=['time','lon','lat'])\n"
   ],
   "metadata": {
    "collapsed": false,
    "pycharm": {
     "name": "#%%\n"
    }
   }
  },
  {
   "cell_type": "code",
   "execution_count": 3,
   "outputs": [],
   "source": [
    "no2=dff['no2']\n",
    "\n",
    "features=dff.drop(columns=['no2','o3','so2','pm10','co','pm2.5'],axis=1)\n",
    "X_train,X_test,Y_train,Y_test = train_test_split (features,no2,test_size=0.2,random_state=10)\n"
   ],
   "metadata": {
    "collapsed": false,
    "pycharm": {
     "name": "#%%\n"
    }
   }
  },
  {
   "cell_type": "code",
   "execution_count": 4,
   "outputs": [
    {
     "name": "stdout",
     "output_type": "stream",
     "text": [
      "r-squered for train 0.3644142742790488\n",
      "r-squered for test 0.36239295811267924\n",
      "r-squered for train 0.3644142742790488\n",
      "r-squered for test 0.36239295811267924\n",
      "            coef  p-value\n",
      "const  55.036996      0.0\n",
      "time   -0.024295      0.0\n",
      "lon    -0.368261      0.0\n",
      "lat    -0.814939      0.0\n"
     ]
    },
    {
     "name": "stderr",
     "output_type": "stream",
     "text": [
      "C:\\Users\\Yura Dudyuk\\anaconda3\\lib\\site-packages\\statsmodels\\tsa\\tsatools.py:142: FutureWarning: In a future version of pandas all arguments of concat except for the argument 'objs' will be keyword-only\n",
      "  x = pd.concat(x[::order], 1)\n"
     ]
    }
   ],
   "source": [
    "regr=LinearRegression()\n",
    "regr.fit(X_train,Y_train)\n",
    "print(\"r-squered for train\",regr.score(X_train,Y_train))\n",
    "print(\"r-squered for test\",regr.score(X_test,Y_test))\n",
    "print(\"r-squered for train\",regr.score(X_train,Y_train))\n",
    "print(\"r-squered for test\",regr.score(X_test,Y_test))\n",
    "x_incl_const=sm.add_constant(X_train)\n",
    "model = sm.OLS(Y_train,x_incl_const)\n",
    "results=model.fit()\n",
    "dd=pd.DataFrame({'coef': results.params,'p-value':results.pvalues})\n",
    "print(dd)"
   ],
   "metadata": {
    "collapsed": false,
    "pycharm": {
     "name": "#%%\n"
    }
   }
  },
  {
   "cell_type": "code",
   "execution_count": 20,
   "outputs": [
    {
     "name": "stdout",
     "output_type": "stream",
     "text": [
      "r-squered for train 0.4650657973608393\n",
      "r-squered for test 0.4715438980527852\n"
     ]
    }
   ],
   "source": [],
   "metadata": {
    "collapsed": false,
    "pycharm": {
     "name": "#%%\n"
    }
   }
  },
  {
   "cell_type": "code",
   "execution_count": 21,
   "outputs": [],
   "source": [],
   "metadata": {
    "collapsed": false,
    "pycharm": {
     "name": "#%%\n"
    }
   }
  },
  {
   "cell_type": "code",
   "execution_count": 22,
   "outputs": [
    {
     "name": "stdout",
     "output_type": "stream",
     "text": [
      "r-squered for train 0.16300435874331187\n",
      "r-squered for test 0.16116669000633288\n"
     ]
    }
   ],
   "source": [
    "\n"
   ],
   "metadata": {
    "collapsed": false,
    "pycharm": {
     "name": "#%%\n"
    }
   }
  },
  {
   "cell_type": "code",
   "execution_count": 23,
   "outputs": [
    {
     "name": "stdout",
     "output_type": "stream",
     "text": [
      "r-squered for train 0.22803266509016862\n",
      "r-squered for test 0.23748637962332764\n",
      "[-1.80603173  0.03135097]\n"
     ]
    }
   ],
   "source": [
    "features=dff.drop(columns=['no2','o3','so2','pm10','co','pm2.5','lat','time'],axis=1)\n",
    "#features=np.log(features)\n",
    "no2=np.log(dff['no2'])\n",
    "poly_reg = PolynomialFeatures(degree=2, include_bias=False)\n",
    "X_poly = poly_reg.fit_transform(features)\n",
    "X_train,X_test,Y_train,Y_test = train_test_split (X_poly,no2,test_size=0.3,random_state=10)\n",
    "pol_reg = LinearRegression()\n",
    "pol_reg.fit(X_train, Y_train)\n",
    "print(\"r-squered for train\",pol_reg.score(X_train,Y_train))\n",
    "print(\"r-squered for test\",pol_reg.score(X_test,Y_test))\n",
    "print(pol_reg.coef_)\n"
   ],
   "metadata": {
    "collapsed": false,
    "pycharm": {
     "name": "#%%\n"
    }
   }
  },
  {
   "cell_type": "code",
   "execution_count": 24,
   "outputs": [
    {
     "name": "stdout",
     "output_type": "stream",
     "text": [
      "r-squered for train 0.04471659753044188\n",
      "r-squered for test 0.047274600259085475\n"
     ]
    }
   ],
   "source": [
    "features=dff.drop(columns=['no2','o3','so2','pm10','co','pm2.5','lon','time'],axis=1)\n",
    "\n",
    "no2=(dff['no2'])\n",
    "poly_reg = PolynomialFeatures(degree=3)\n",
    "X_poly = poly_reg.fit_transform(features)\n",
    "X_train,X_test,Y_train,Y_test = train_test_split (X_poly,no2,test_size=0.3,random_state=10)\n",
    "pol_reg = LinearRegression()\n",
    "pol_reg.fit(X_train, Y_train)\n",
    "print(\"r-squered for train\",pol_reg.score(X_train,Y_train))\n",
    "print(\"r-squered for test\",pol_reg.score(X_test,Y_test))\n"
   ],
   "metadata": {
    "collapsed": false,
    "pycharm": {
     "name": "#%%\n"
    }
   }
  },
  {
   "cell_type": "code",
   "execution_count": 25,
   "outputs": [
    {
     "name": "stdout",
     "output_type": "stream",
     "text": [
      "r-squered for train 0.05779040528857493\n",
      "r-squered for test 0.060624028645015926\n"
     ]
    }
   ],
   "source": [
    "no2=dff['no2']\n",
    "no2=1/no2\n",
    "features=dff.drop(columns=['no2','o3','so2','pm10','co','pm2.5','lon','time'],axis=1)\n",
    "X_train,X_test,Y_train,Y_test = train_test_split (features,no2,test_size=0.3,random_state=10)\n",
    "regr=LinearRegression()\n",
    "regr.fit(X_train,Y_train)\n",
    "print(\"r-squered for train\",regr.score(X_train,Y_train))\n",
    "print(\"r-squered for test\",regr.score(X_test,Y_test))\n",
    "a=(regr.intercept_)\n",
    "b=(regr.coef_)\n",
    "no2_lat=a+features*b\n",
    "no2_lat=pow(no2_lat,-1)\n"
   ],
   "metadata": {
    "collapsed": false,
    "pycharm": {
     "name": "#%%\n"
    }
   }
  },
  {
   "cell_type": "code",
   "execution_count": 26,
   "outputs": [
    {
     "name": "stdout",
     "output_type": "stream",
     "text": [
      "r-squered for train 0.20739986064140858\n",
      "r-squered for test 0.2083315752739351\n"
     ]
    }
   ],
   "source": [
    "no2=dff['no2']\n",
    "no2=1/no2\n",
    "features=dff.drop(columns=['no2','o3','so2','pm10','co','pm2.5','lon','lat'],axis=1)\n",
    "X_train,X_test,Y_train,Y_test = train_test_split (features,no2,test_size=0.3,random_state=10)\n",
    "regr=LinearRegression()\n",
    "regr.fit(X_train,Y_train)\n",
    "print(\"r-squered for train\",regr.score(X_train,Y_train))\n",
    "print(\"r-squered for test\",regr.score(X_test,Y_test))\n",
    "a=(regr.intercept_)\n",
    "b=(regr.coef_)\n",
    "no2_time=a+features*b\n",
    "no2_time=pow(no2_time,-1)\n"
   ],
   "metadata": {
    "collapsed": false,
    "pycharm": {
     "name": "#%%\n"
    }
   }
  },
  {
   "cell_type": "code",
   "execution_count": 27,
   "outputs": [
    {
     "name": "stdout",
     "output_type": "stream",
     "text": [
      "r-squered for train 0.21108256650552581\n",
      "r-squered for test 0.22098464131555773\n"
     ]
    }
   ],
   "source": [
    "no21=dff['no2']\n",
    "\n",
    "no2=np.log(no21)\n",
    "features=dff.drop(columns=['no2','o3','so2','pm10','co','pm2.5','time','lat'],axis=1)\n",
    "features=1/features\n",
    "X_train,X_test,Y_train,Y_test = train_test_split (features,no2,test_size=0.3,random_state=10)\n",
    "regr=LinearRegression()\n",
    "regr.fit(X_train,Y_train)\n",
    "print(\"r-squered for train\",regr.score(X_train,Y_train))\n",
    "print(\"r-squered for test\",regr.score(X_test,Y_test))\n",
    "a=(regr.intercept_)\n",
    "b=(regr.coef_)\n",
    "no2_lon=a+features*b\n",
    "no2_lon=pow(2.71828,no2_lon)\n",
    "\n"
   ],
   "metadata": {
    "collapsed": false,
    "pycharm": {
     "name": "#%%\n"
    }
   }
  },
  {
   "cell_type": "code",
   "execution_count": 28,
   "outputs": [
    {
     "data": {
      "text/plain": "pandas.core.frame.DataFrame"
     },
     "execution_count": 28,
     "metadata": {},
     "output_type": "execute_result"
    }
   ],
   "source": [
    "type(no2_lon)"
   ],
   "metadata": {
    "collapsed": false,
    "pycharm": {
     "name": "#%%\n"
    }
   }
  },
  {
   "cell_type": "code",
   "execution_count": 29,
   "outputs": [
    {
     "name": "stdout",
     "output_type": "stream",
     "text": [
      "r-squered for train 0.3889464301559512\n",
      "r-squered for test 0.39786617044087136\n"
     ]
    },
    {
     "data": {
      "text/plain": "             no2   f(time)    f(lon)    f(lat)\n0       5.252700  3.036412  3.363205  1.534600\n1       7.707136  2.993490  3.363205  1.534600\n2       9.924423  2.951764  3.363205  1.534600\n3      11.300662  2.911186  3.363205  1.534600\n4       4.829215  2.871709  3.363205  1.534600\n...          ...       ...       ...       ...\n78563   1.984611  1.351052  1.415492  2.288428\n78564   1.527000  1.342487  1.415492  2.288428\n78565   1.121115  1.334030  1.415492  2.288428\n78566   0.909588  1.325679  1.415492  2.288428\n78567   0.960055  1.317431  1.415492  2.288428\n\n[78568 rows x 4 columns]",
      "text/html": "<div>\n<style scoped>\n    .dataframe tbody tr th:only-of-type {\n        vertical-align: middle;\n    }\n\n    .dataframe tbody tr th {\n        vertical-align: top;\n    }\n\n    .dataframe thead th {\n        text-align: right;\n    }\n</style>\n<table border=\"1\" class=\"dataframe\">\n  <thead>\n    <tr style=\"text-align: right;\">\n      <th></th>\n      <th>no2</th>\n      <th>f(time)</th>\n      <th>f(lon)</th>\n      <th>f(lat)</th>\n    </tr>\n  </thead>\n  <tbody>\n    <tr>\n      <th>0</th>\n      <td>5.252700</td>\n      <td>3.036412</td>\n      <td>3.363205</td>\n      <td>1.534600</td>\n    </tr>\n    <tr>\n      <th>1</th>\n      <td>7.707136</td>\n      <td>2.993490</td>\n      <td>3.363205</td>\n      <td>1.534600</td>\n    </tr>\n    <tr>\n      <th>2</th>\n      <td>9.924423</td>\n      <td>2.951764</td>\n      <td>3.363205</td>\n      <td>1.534600</td>\n    </tr>\n    <tr>\n      <th>3</th>\n      <td>11.300662</td>\n      <td>2.911186</td>\n      <td>3.363205</td>\n      <td>1.534600</td>\n    </tr>\n    <tr>\n      <th>4</th>\n      <td>4.829215</td>\n      <td>2.871709</td>\n      <td>3.363205</td>\n      <td>1.534600</td>\n    </tr>\n    <tr>\n      <th>...</th>\n      <td>...</td>\n      <td>...</td>\n      <td>...</td>\n      <td>...</td>\n    </tr>\n    <tr>\n      <th>78563</th>\n      <td>1.984611</td>\n      <td>1.351052</td>\n      <td>1.415492</td>\n      <td>2.288428</td>\n    </tr>\n    <tr>\n      <th>78564</th>\n      <td>1.527000</td>\n      <td>1.342487</td>\n      <td>1.415492</td>\n      <td>2.288428</td>\n    </tr>\n    <tr>\n      <th>78565</th>\n      <td>1.121115</td>\n      <td>1.334030</td>\n      <td>1.415492</td>\n      <td>2.288428</td>\n    </tr>\n    <tr>\n      <th>78566</th>\n      <td>0.909588</td>\n      <td>1.325679</td>\n      <td>1.415492</td>\n      <td>2.288428</td>\n    </tr>\n    <tr>\n      <th>78567</th>\n      <td>0.960055</td>\n      <td>1.317431</td>\n      <td>1.415492</td>\n      <td>2.288428</td>\n    </tr>\n  </tbody>\n</table>\n<p>78568 rows × 4 columns</p>\n</div>"
     },
     "execution_count": 29,
     "metadata": {},
     "output_type": "execute_result"
    }
   ],
   "source": [
    "df1 = pd.DataFrame({'no2': no21,'f(time)': no2_time['time'],'f(lon)': no2_lon['lon'],'f(lat)': no2_lat['lat']})\n",
    "chemical=df1['no2']\n",
    "\n",
    "features=df1.drop(columns=['no2'],axis=1)\n",
    "X_train,X_test,Y_train,Y_test = train_test_split (features,chemical,test_size=0.1,random_state=10)\n",
    "regr=LinearRegression()\n",
    "regr.fit(X_train,Y_train)\n",
    "print(\"r-squered for train\",regr.score(X_train,Y_train))\n",
    "print(\"r-squered for test\",regr.score(X_test,Y_test))\n",
    "\n",
    "df1"
   ],
   "metadata": {
    "collapsed": false,
    "pycharm": {
     "name": "#%%\n"
    }
   }
  },
  {
   "cell_type": "code",
   "execution_count": 30,
   "outputs": [
    {
     "name": "stdout",
     "output_type": "stream",
     "text": [
      "r-squered for train 0.3889464301559512\n",
      "r-squered for test 0.39786617044087136\n"
     ]
    }
   ],
   "source": [],
   "metadata": {
    "collapsed": false,
    "pycharm": {
     "name": "#%%\n"
    }
   }
  },
  {
   "cell_type": "code",
   "execution_count": 30,
   "outputs": [],
   "source": [],
   "metadata": {
    "collapsed": false,
    "pycharm": {
     "name": "#%%\n"
    }
   }
  }
 ],
 "metadata": {
  "kernelspec": {
   "display_name": "Python 3",
   "language": "python",
   "name": "python3"
  },
  "language_info": {
   "codemirror_mode": {
    "name": "ipython",
    "version": 2
   },
   "file_extension": ".py",
   "mimetype": "text/x-python",
   "name": "python",
   "nbconvert_exporter": "python",
   "pygments_lexer": "ipython2",
   "version": "2.7.6"
  }
 },
 "nbformat": 4,
 "nbformat_minor": 0
}