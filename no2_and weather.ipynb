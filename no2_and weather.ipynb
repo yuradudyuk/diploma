{
 "cells": [
  {
   "cell_type": "code",
   "execution_count": 165,
   "outputs": [],
   "source": [
    "import xarray as xr\n",
    "import pandas as pd\n",
    "import numpy as np\n",
    "import math as mh\n",
    "import matplotlib.pyplot as plt\n",
    "from sklearn.linear_model import LinearRegression\n",
    "from sklearn.preprocessing import PolynomialFeatures\n",
    "from sklearn.model_selection import train_test_split\n",
    "import seaborn as sns\n",
    "\n"
   ],
   "metadata": {
    "collapsed": false,
    "pycharm": {
     "name": "#%%\n"
    }
   }
  },
  {
   "cell_type": "code",
   "execution_count": 53,
   "outputs": [
    {
     "data": {
      "text/plain": "      time    lon    lat        no2         o3       so2      pm2.5  \\\n2576     1  23.75  51.75   4.711908  51.553411  2.401234   9.248417   \n2577     2  23.75  51.75   6.672050  46.996750  3.451919  17.601891   \n2578     3  23.75  51.75   8.941137  41.624018  3.784783  16.831771   \n2579     4  23.75  51.75  10.849893  40.627284  6.811707  30.603221   \n2580     5  23.75  51.75   4.367971  59.191040  1.967694   6.767345   \n...    ...    ...    ...        ...        ...       ...        ...   \n2663    88  23.75  51.75   2.784445  72.439138  3.062533   6.394257   \n2664    89  23.75  51.75   3.303068  76.702627  2.680770   7.800020   \n2665    90  23.75  51.75   3.394346  56.460551  1.741416   8.097721   \n2666    91  23.75  51.75   1.243193  57.585114  1.048023   5.143442   \n2667    92  23.75  51.75   1.454494  55.151825  0.477096   3.914976   \n\n           pm10          co  \n2576  12.351810  185.938477  \n2577  23.520398  225.714315  \n2578  21.090757  240.643168  \n2579  39.304944  322.964640  \n2580   9.922366  192.327454  \n...         ...         ...  \n2663   8.649928  145.270030  \n2664   9.007910  181.546488  \n2665  10.260835  169.729574  \n2666   5.530619  150.894409  \n2667   5.309301  130.425985  \n\n[92 rows x 9 columns]",
      "text/html": "<div>\n<style scoped>\n    .dataframe tbody tr th:only-of-type {\n        vertical-align: middle;\n    }\n\n    .dataframe tbody tr th {\n        vertical-align: top;\n    }\n\n    .dataframe thead th {\n        text-align: right;\n    }\n</style>\n<table border=\"1\" class=\"dataframe\">\n  <thead>\n    <tr style=\"text-align: right;\">\n      <th></th>\n      <th>time</th>\n      <th>lon</th>\n      <th>lat</th>\n      <th>no2</th>\n      <th>o3</th>\n      <th>so2</th>\n      <th>pm2.5</th>\n      <th>pm10</th>\n      <th>co</th>\n    </tr>\n  </thead>\n  <tbody>\n    <tr>\n      <th>2576</th>\n      <td>1</td>\n      <td>23.75</td>\n      <td>51.75</td>\n      <td>4.711908</td>\n      <td>51.553411</td>\n      <td>2.401234</td>\n      <td>9.248417</td>\n      <td>12.351810</td>\n      <td>185.938477</td>\n    </tr>\n    <tr>\n      <th>2577</th>\n      <td>2</td>\n      <td>23.75</td>\n      <td>51.75</td>\n      <td>6.672050</td>\n      <td>46.996750</td>\n      <td>3.451919</td>\n      <td>17.601891</td>\n      <td>23.520398</td>\n      <td>225.714315</td>\n    </tr>\n    <tr>\n      <th>2578</th>\n      <td>3</td>\n      <td>23.75</td>\n      <td>51.75</td>\n      <td>8.941137</td>\n      <td>41.624018</td>\n      <td>3.784783</td>\n      <td>16.831771</td>\n      <td>21.090757</td>\n      <td>240.643168</td>\n    </tr>\n    <tr>\n      <th>2579</th>\n      <td>4</td>\n      <td>23.75</td>\n      <td>51.75</td>\n      <td>10.849893</td>\n      <td>40.627284</td>\n      <td>6.811707</td>\n      <td>30.603221</td>\n      <td>39.304944</td>\n      <td>322.964640</td>\n    </tr>\n    <tr>\n      <th>2580</th>\n      <td>5</td>\n      <td>23.75</td>\n      <td>51.75</td>\n      <td>4.367971</td>\n      <td>59.191040</td>\n      <td>1.967694</td>\n      <td>6.767345</td>\n      <td>9.922366</td>\n      <td>192.327454</td>\n    </tr>\n    <tr>\n      <th>...</th>\n      <td>...</td>\n      <td>...</td>\n      <td>...</td>\n      <td>...</td>\n      <td>...</td>\n      <td>...</td>\n      <td>...</td>\n      <td>...</td>\n      <td>...</td>\n    </tr>\n    <tr>\n      <th>2663</th>\n      <td>88</td>\n      <td>23.75</td>\n      <td>51.75</td>\n      <td>2.784445</td>\n      <td>72.439138</td>\n      <td>3.062533</td>\n      <td>6.394257</td>\n      <td>8.649928</td>\n      <td>145.270030</td>\n    </tr>\n    <tr>\n      <th>2664</th>\n      <td>89</td>\n      <td>23.75</td>\n      <td>51.75</td>\n      <td>3.303068</td>\n      <td>76.702627</td>\n      <td>2.680770</td>\n      <td>7.800020</td>\n      <td>9.007910</td>\n      <td>181.546488</td>\n    </tr>\n    <tr>\n      <th>2665</th>\n      <td>90</td>\n      <td>23.75</td>\n      <td>51.75</td>\n      <td>3.394346</td>\n      <td>56.460551</td>\n      <td>1.741416</td>\n      <td>8.097721</td>\n      <td>10.260835</td>\n      <td>169.729574</td>\n    </tr>\n    <tr>\n      <th>2666</th>\n      <td>91</td>\n      <td>23.75</td>\n      <td>51.75</td>\n      <td>1.243193</td>\n      <td>57.585114</td>\n      <td>1.048023</td>\n      <td>5.143442</td>\n      <td>5.530619</td>\n      <td>150.894409</td>\n    </tr>\n    <tr>\n      <th>2667</th>\n      <td>92</td>\n      <td>23.75</td>\n      <td>51.75</td>\n      <td>1.454494</td>\n      <td>55.151825</td>\n      <td>0.477096</td>\n      <td>3.914976</td>\n      <td>5.309301</td>\n      <td>130.425985</td>\n    </tr>\n  </tbody>\n</table>\n<p>92 rows × 9 columns</p>\n</div>"
     },
     "execution_count": 53,
     "metadata": {},
     "output_type": "execute_result"
    }
   ],
   "source": [
    "df=pd.read_csv('dataframe_of_nothern_Ukraine.csv',delimiter=',',index_col=0 )\n",
    "df=df[(df['lon']>23.5) & (df['lon']<29.55) & (df['lat']>50.5) & (df['lat']<52)]\n",
    "\n",
    "d1=df[ (df['lat']==51.75) & (df['lon']==23.75) ]\n",
    "d1"
   ],
   "metadata": {
    "collapsed": false,
    "pycharm": {
     "name": "#%%\n"
    }
   }
  },
  {
   "cell_type": "code",
   "execution_count": 54,
   "outputs": [
    {
     "data": {
      "text/plain": "      time    lon    lat        no2         o3       so2      pm2.5  \\\n3036     1  23.75  51.25   4.840130  48.524028  2.717281   9.012988   \n3037     2  23.75  51.25   6.837524  44.847107  4.719621  18.235998   \n3038     3  23.75  51.25  10.987905  37.628128  4.515273  21.235669   \n3039     4  23.75  51.25  11.166643  43.213018  8.834831  33.463201   \n3040     5  23.75  51.25   3.937010  59.098231  1.823967   8.118919   \n...    ...    ...    ...        ...        ...       ...        ...   \n3123    88  23.75  51.25   2.898940  73.561569  3.122199   7.098291   \n3124    89  23.75  51.25   3.070972  75.323029  2.403116   6.981778   \n3125    90  23.75  51.25   2.476567  58.476939  1.795598   7.614861   \n3126    91  23.75  51.25   1.432638  54.677755  1.070145   4.985533   \n3127    92  23.75  51.25   1.265684  52.702891  0.483782   4.947699   \n\n           pm10          co  \n3036  11.661130  185.316935  \n3037  25.784821  225.869507  \n3038  26.101789  257.875081  \n3039  43.322795  321.567342  \n3040  12.774082  193.354574  \n...         ...         ...  \n3123  10.249259  140.762451  \n3124   7.901318  169.351176  \n3125  10.490540  164.154378  \n3126   5.358394  152.036112  \n3127   8.662075  130.280273  \n\n[92 rows x 9 columns]",
      "text/html": "<div>\n<style scoped>\n    .dataframe tbody tr th:only-of-type {\n        vertical-align: middle;\n    }\n\n    .dataframe tbody tr th {\n        vertical-align: top;\n    }\n\n    .dataframe thead th {\n        text-align: right;\n    }\n</style>\n<table border=\"1\" class=\"dataframe\">\n  <thead>\n    <tr style=\"text-align: right;\">\n      <th></th>\n      <th>time</th>\n      <th>lon</th>\n      <th>lat</th>\n      <th>no2</th>\n      <th>o3</th>\n      <th>so2</th>\n      <th>pm2.5</th>\n      <th>pm10</th>\n      <th>co</th>\n    </tr>\n  </thead>\n  <tbody>\n    <tr>\n      <th>3036</th>\n      <td>1</td>\n      <td>23.75</td>\n      <td>51.25</td>\n      <td>4.840130</td>\n      <td>48.524028</td>\n      <td>2.717281</td>\n      <td>9.012988</td>\n      <td>11.661130</td>\n      <td>185.316935</td>\n    </tr>\n    <tr>\n      <th>3037</th>\n      <td>2</td>\n      <td>23.75</td>\n      <td>51.25</td>\n      <td>6.837524</td>\n      <td>44.847107</td>\n      <td>4.719621</td>\n      <td>18.235998</td>\n      <td>25.784821</td>\n      <td>225.869507</td>\n    </tr>\n    <tr>\n      <th>3038</th>\n      <td>3</td>\n      <td>23.75</td>\n      <td>51.25</td>\n      <td>10.987905</td>\n      <td>37.628128</td>\n      <td>4.515273</td>\n      <td>21.235669</td>\n      <td>26.101789</td>\n      <td>257.875081</td>\n    </tr>\n    <tr>\n      <th>3039</th>\n      <td>4</td>\n      <td>23.75</td>\n      <td>51.25</td>\n      <td>11.166643</td>\n      <td>43.213018</td>\n      <td>8.834831</td>\n      <td>33.463201</td>\n      <td>43.322795</td>\n      <td>321.567342</td>\n    </tr>\n    <tr>\n      <th>3040</th>\n      <td>5</td>\n      <td>23.75</td>\n      <td>51.25</td>\n      <td>3.937010</td>\n      <td>59.098231</td>\n      <td>1.823967</td>\n      <td>8.118919</td>\n      <td>12.774082</td>\n      <td>193.354574</td>\n    </tr>\n    <tr>\n      <th>...</th>\n      <td>...</td>\n      <td>...</td>\n      <td>...</td>\n      <td>...</td>\n      <td>...</td>\n      <td>...</td>\n      <td>...</td>\n      <td>...</td>\n      <td>...</td>\n    </tr>\n    <tr>\n      <th>3123</th>\n      <td>88</td>\n      <td>23.75</td>\n      <td>51.25</td>\n      <td>2.898940</td>\n      <td>73.561569</td>\n      <td>3.122199</td>\n      <td>7.098291</td>\n      <td>10.249259</td>\n      <td>140.762451</td>\n    </tr>\n    <tr>\n      <th>3124</th>\n      <td>89</td>\n      <td>23.75</td>\n      <td>51.25</td>\n      <td>3.070972</td>\n      <td>75.323029</td>\n      <td>2.403116</td>\n      <td>6.981778</td>\n      <td>7.901318</td>\n      <td>169.351176</td>\n    </tr>\n    <tr>\n      <th>3125</th>\n      <td>90</td>\n      <td>23.75</td>\n      <td>51.25</td>\n      <td>2.476567</td>\n      <td>58.476939</td>\n      <td>1.795598</td>\n      <td>7.614861</td>\n      <td>10.490540</td>\n      <td>164.154378</td>\n    </tr>\n    <tr>\n      <th>3126</th>\n      <td>91</td>\n      <td>23.75</td>\n      <td>51.25</td>\n      <td>1.432638</td>\n      <td>54.677755</td>\n      <td>1.070145</td>\n      <td>4.985533</td>\n      <td>5.358394</td>\n      <td>152.036112</td>\n    </tr>\n    <tr>\n      <th>3127</th>\n      <td>92</td>\n      <td>23.75</td>\n      <td>51.25</td>\n      <td>1.265684</td>\n      <td>52.702891</td>\n      <td>0.483782</td>\n      <td>4.947699</td>\n      <td>8.662075</td>\n      <td>130.280273</td>\n    </tr>\n  </tbody>\n</table>\n<p>92 rows × 9 columns</p>\n</div>"
     },
     "execution_count": 54,
     "metadata": {},
     "output_type": "execute_result"
    }
   ],
   "source": [
    "\n",
    "d2=df[ (df['lat']==51.25) & (df['lon']==23.75) ]\n",
    "d2"
   ],
   "metadata": {
    "collapsed": false,
    "pycharm": {
     "name": "#%%\n"
    }
   }
  },
  {
   "cell_type": "code",
   "execution_count": 55,
   "outputs": [
    {
     "data": {
      "text/plain": "      time    lon    lat        no2         o3       so2      pm2.5  \\\n3496     1  23.75  50.75   6.829152  41.789032  3.133268   9.386179   \n3497     2  23.75  50.75   8.563565  42.982829  5.410757  19.147448   \n3498     3  23.75  50.75  11.538144  42.790924  4.868828  24.276563   \n3499     4  23.75  50.75  11.225159  47.781901  7.526946  33.165901   \n3500     5  23.75  50.75   5.430863  56.562063  2.624227  10.072824   \n...    ...    ...    ...        ...        ...       ...        ...   \n3583    88  23.75  50.75   3.969422  73.893148  3.325564   6.961477   \n3584    89  23.75  50.75   4.487466  69.586502  2.836430   6.933515   \n3585    90  23.75  50.75   3.832836  57.775538  2.488466   8.341197   \n3586    91  23.75  50.75   2.142337  56.235779  1.162519   4.458217   \n3587    92  23.75  50.75   2.043937  53.811574  1.404906   5.116597   \n\n           pm10          co  \n3496  12.554518  197.029358  \n3497  24.766518  236.159058  \n3498  28.554876  277.270854  \n3499  43.693609  318.889628  \n3500  14.968698  205.079386  \n...         ...         ...  \n3583   9.153272  143.940196  \n3584   8.315390  163.794230  \n3585  10.290483  169.182515  \n3586   5.089073  156.776866  \n3587   6.981492  129.553172  \n\n[92 rows x 9 columns]",
      "text/html": "<div>\n<style scoped>\n    .dataframe tbody tr th:only-of-type {\n        vertical-align: middle;\n    }\n\n    .dataframe tbody tr th {\n        vertical-align: top;\n    }\n\n    .dataframe thead th {\n        text-align: right;\n    }\n</style>\n<table border=\"1\" class=\"dataframe\">\n  <thead>\n    <tr style=\"text-align: right;\">\n      <th></th>\n      <th>time</th>\n      <th>lon</th>\n      <th>lat</th>\n      <th>no2</th>\n      <th>o3</th>\n      <th>so2</th>\n      <th>pm2.5</th>\n      <th>pm10</th>\n      <th>co</th>\n    </tr>\n  </thead>\n  <tbody>\n    <tr>\n      <th>3496</th>\n      <td>1</td>\n      <td>23.75</td>\n      <td>50.75</td>\n      <td>6.829152</td>\n      <td>41.789032</td>\n      <td>3.133268</td>\n      <td>9.386179</td>\n      <td>12.554518</td>\n      <td>197.029358</td>\n    </tr>\n    <tr>\n      <th>3497</th>\n      <td>2</td>\n      <td>23.75</td>\n      <td>50.75</td>\n      <td>8.563565</td>\n      <td>42.982829</td>\n      <td>5.410757</td>\n      <td>19.147448</td>\n      <td>24.766518</td>\n      <td>236.159058</td>\n    </tr>\n    <tr>\n      <th>3498</th>\n      <td>3</td>\n      <td>23.75</td>\n      <td>50.75</td>\n      <td>11.538144</td>\n      <td>42.790924</td>\n      <td>4.868828</td>\n      <td>24.276563</td>\n      <td>28.554876</td>\n      <td>277.270854</td>\n    </tr>\n    <tr>\n      <th>3499</th>\n      <td>4</td>\n      <td>23.75</td>\n      <td>50.75</td>\n      <td>11.225159</td>\n      <td>47.781901</td>\n      <td>7.526946</td>\n      <td>33.165901</td>\n      <td>43.693609</td>\n      <td>318.889628</td>\n    </tr>\n    <tr>\n      <th>3500</th>\n      <td>5</td>\n      <td>23.75</td>\n      <td>50.75</td>\n      <td>5.430863</td>\n      <td>56.562063</td>\n      <td>2.624227</td>\n      <td>10.072824</td>\n      <td>14.968698</td>\n      <td>205.079386</td>\n    </tr>\n    <tr>\n      <th>...</th>\n      <td>...</td>\n      <td>...</td>\n      <td>...</td>\n      <td>...</td>\n      <td>...</td>\n      <td>...</td>\n      <td>...</td>\n      <td>...</td>\n      <td>...</td>\n    </tr>\n    <tr>\n      <th>3583</th>\n      <td>88</td>\n      <td>23.75</td>\n      <td>50.75</td>\n      <td>3.969422</td>\n      <td>73.893148</td>\n      <td>3.325564</td>\n      <td>6.961477</td>\n      <td>9.153272</td>\n      <td>143.940196</td>\n    </tr>\n    <tr>\n      <th>3584</th>\n      <td>89</td>\n      <td>23.75</td>\n      <td>50.75</td>\n      <td>4.487466</td>\n      <td>69.586502</td>\n      <td>2.836430</td>\n      <td>6.933515</td>\n      <td>8.315390</td>\n      <td>163.794230</td>\n    </tr>\n    <tr>\n      <th>3585</th>\n      <td>90</td>\n      <td>23.75</td>\n      <td>50.75</td>\n      <td>3.832836</td>\n      <td>57.775538</td>\n      <td>2.488466</td>\n      <td>8.341197</td>\n      <td>10.290483</td>\n      <td>169.182515</td>\n    </tr>\n    <tr>\n      <th>3586</th>\n      <td>91</td>\n      <td>23.75</td>\n      <td>50.75</td>\n      <td>2.142337</td>\n      <td>56.235779</td>\n      <td>1.162519</td>\n      <td>4.458217</td>\n      <td>5.089073</td>\n      <td>156.776866</td>\n    </tr>\n    <tr>\n      <th>3587</th>\n      <td>92</td>\n      <td>23.75</td>\n      <td>50.75</td>\n      <td>2.043937</td>\n      <td>53.811574</td>\n      <td>1.404906</td>\n      <td>5.116597</td>\n      <td>6.981492</td>\n      <td>129.553172</td>\n    </tr>\n  </tbody>\n</table>\n<p>92 rows × 9 columns</p>\n</div>"
     },
     "execution_count": 55,
     "metadata": {},
     "output_type": "execute_result"
    }
   ],
   "source": [
    "d3=df[ (df['lat']==50.75) & (df['lon']==23.75) ]\n",
    "d3"
   ],
   "metadata": {
    "collapsed": false,
    "pycharm": {
     "name": "#%%\n"
    }
   }
  },
  {
   "cell_type": "code",
   "execution_count": 56,
   "outputs": [],
   "source": [
    "d4=df[ (df['lat']==51.75) & (df['lon']==24.25) ]\n",
    "d5=df[ (df['lat']==51.25) & (df['lon']==24.25) ]\n",
    "d6=df[ (df['lat']==50.75) & (df['lon']==24.25) ]\n",
    "\n",
    "d7=df[ (df['lat']==51.75) & (df['lon']==24.75) ]\n",
    "d8=df[ (df['lat']==51.25) & (df['lon']==24.75) ]\n",
    "d9=df[ (df['lat']==50.75) & (df['lon']==24.75) ]\n",
    "\n",
    "d10=df[ (df['lat']==51.75) & (df['lon']==25.25) ]\n",
    "d11=df[ (df['lat']==51.25) & (df['lon']==25.25) ]\n",
    "d12=df[ (df['lat']==50.75) & (df['lon']==25.25) ]\n",
    "\n",
    "d13=df[ (df['lat']==51.75) & (df['lon']==25.75) ]\n",
    "d14=df[ (df['lat']==51.25) & (df['lon']==25.75) ]\n",
    "d15=df[ (df['lat']==50.75) & (df['lon']==25.75) ]\n",
    "\n",
    "d16=df[ (df['lat']==51.75) & (df['lon']==26.25) ]\n",
    "d17=df[ (df['lat']==51.25) & (df['lon']==26.25) ]\n",
    "d18=df[ (df['lat']==50.75) & (df['lon']==26.25) ]\n",
    "\n",
    "d19=df[ (df['lat']==51.75) & (df['lon']==26.75) ]\n",
    "d20=df[ (df['lat']==51.25) & (df['lon']==26.75) ]\n",
    "d21=df[ (df['lat']==50.75) & (df['lon']==26.75) ]\n",
    "\n",
    "d22=df[ (df['lat']==51.75) & (df['lon']==27.25) ]\n",
    "d23=df[ (df['lat']==51.25) & (df['lon']==27.25) ]\n",
    "d24=df[ (df['lat']==50.75) & (df['lon']==27.25) ]\n",
    "\n",
    "d25=df[ (df['lat']==51.75) & (df['lon']==27.75) ]\n",
    "d26=df[ (df['lat']==51.25) & (df['lon']==27.75) ]\n",
    "d27=df[ (df['lat']==50.75) & (df['lon']==27.75) ]\n",
    "\n",
    "d28=df[ (df['lat']==51.75) & (df['lon']==28.25) ]\n",
    "d29=df[ (df['lat']==51.25) & (df['lon']==28.25) ]\n",
    "d30=df[ (df['lat']==50.75) & (df['lon']==28.25) ]\n",
    "\n",
    "d31=df[ (df['lat']==51.75) & (df['lon']==28.75) ]\n",
    "d32=df[ (df['lat']==51.25) & (df['lon']==28.75) ]\n",
    "d33=df[ (df['lat']==50.75) & (df['lon']==28.75) ]\n",
    "\n",
    "d34=df[ (df['lat']==51.75) & (df['lon']==29.25) ]\n",
    "d35=df[ (df['lat']==51.25) & (df['lon']==29.25) ]\n",
    "d36=df[ (df['lat']==50.75) & (df['lon']==29.25) ]"
   ],
   "metadata": {
    "collapsed": false,
    "pycharm": {
     "name": "#%%\n"
    }
   }
  },
  {
   "cell_type": "code",
   "execution_count": 57,
   "outputs": [],
   "source": [
    "frames=[d1,d2,d3,d4,d5,d6,d7,d8,d9,d10,d11,d12,d13,d14,d15,d16,d17,d18,d19,d20,d21,d22,d23,d24,d25,d26,d27,d28,d29,d30,d31,d32,d33,d34,d35,d36]\n",
    "df_all = pd.concat(frames)\n",
    "\n",
    "df_all.to_csv('data_of_copernicus.csv')"
   ],
   "metadata": {
    "collapsed": false,
    "pycharm": {
     "name": "#%%\n"
    }
   }
  },
  {
   "cell_type": "code",
   "execution_count": 121,
   "outputs": [
    {
     "data": {
      "text/plain": "       time    lon    lat        no2         o3       so2      pm2.5  \\\n2576      1  23.75  51.75   4.711908  51.553411  2.401234   9.248417   \n2577      2  23.75  51.75   6.672050  46.996750  3.451919  17.601891   \n2578      3  23.75  51.75   8.941137  41.624018  3.784783  16.831771   \n2579      4  23.75  51.75  10.849893  40.627284  6.811707  30.603221   \n2580      5  23.75  51.75   4.367971  59.191040  1.967694   6.767345   \n...     ...    ...    ...        ...        ...       ...        ...   \n74423    88  29.25  50.75   2.374783  63.589274  0.443204   5.575825   \n74424    89  29.25  50.75   2.250813  55.532491  0.304400   4.095932   \n74425    90  29.25  50.75   1.334874  67.426381  0.322781   4.207631   \n74426    91  29.25  50.75   1.308244  59.159719  0.302089   3.470493   \n74427    92  29.25  50.75   1.194311  63.613556  0.854371   4.865907   \n\n            pm10          co  \n2576   12.351810  185.938477  \n2577   23.520398  225.714315  \n2578   21.090757  240.643168  \n2579   39.304944  322.964640  \n2580    9.922366  192.327454  \n...          ...         ...  \n74423   6.442769  141.999288  \n74424   4.510385  142.136587  \n74425   4.545102  145.511047  \n74426   3.625675  143.809682  \n74427   5.494563  122.833923  \n\n[3312 rows x 9 columns]",
      "text/html": "<div>\n<style scoped>\n    .dataframe tbody tr th:only-of-type {\n        vertical-align: middle;\n    }\n\n    .dataframe tbody tr th {\n        vertical-align: top;\n    }\n\n    .dataframe thead th {\n        text-align: right;\n    }\n</style>\n<table border=\"1\" class=\"dataframe\">\n  <thead>\n    <tr style=\"text-align: right;\">\n      <th></th>\n      <th>time</th>\n      <th>lon</th>\n      <th>lat</th>\n      <th>no2</th>\n      <th>o3</th>\n      <th>so2</th>\n      <th>pm2.5</th>\n      <th>pm10</th>\n      <th>co</th>\n    </tr>\n  </thead>\n  <tbody>\n    <tr>\n      <th>2576</th>\n      <td>1</td>\n      <td>23.75</td>\n      <td>51.75</td>\n      <td>4.711908</td>\n      <td>51.553411</td>\n      <td>2.401234</td>\n      <td>9.248417</td>\n      <td>12.351810</td>\n      <td>185.938477</td>\n    </tr>\n    <tr>\n      <th>2577</th>\n      <td>2</td>\n      <td>23.75</td>\n      <td>51.75</td>\n      <td>6.672050</td>\n      <td>46.996750</td>\n      <td>3.451919</td>\n      <td>17.601891</td>\n      <td>23.520398</td>\n      <td>225.714315</td>\n    </tr>\n    <tr>\n      <th>2578</th>\n      <td>3</td>\n      <td>23.75</td>\n      <td>51.75</td>\n      <td>8.941137</td>\n      <td>41.624018</td>\n      <td>3.784783</td>\n      <td>16.831771</td>\n      <td>21.090757</td>\n      <td>240.643168</td>\n    </tr>\n    <tr>\n      <th>2579</th>\n      <td>4</td>\n      <td>23.75</td>\n      <td>51.75</td>\n      <td>10.849893</td>\n      <td>40.627284</td>\n      <td>6.811707</td>\n      <td>30.603221</td>\n      <td>39.304944</td>\n      <td>322.964640</td>\n    </tr>\n    <tr>\n      <th>2580</th>\n      <td>5</td>\n      <td>23.75</td>\n      <td>51.75</td>\n      <td>4.367971</td>\n      <td>59.191040</td>\n      <td>1.967694</td>\n      <td>6.767345</td>\n      <td>9.922366</td>\n      <td>192.327454</td>\n    </tr>\n    <tr>\n      <th>...</th>\n      <td>...</td>\n      <td>...</td>\n      <td>...</td>\n      <td>...</td>\n      <td>...</td>\n      <td>...</td>\n      <td>...</td>\n      <td>...</td>\n      <td>...</td>\n    </tr>\n    <tr>\n      <th>74423</th>\n      <td>88</td>\n      <td>29.25</td>\n      <td>50.75</td>\n      <td>2.374783</td>\n      <td>63.589274</td>\n      <td>0.443204</td>\n      <td>5.575825</td>\n      <td>6.442769</td>\n      <td>141.999288</td>\n    </tr>\n    <tr>\n      <th>74424</th>\n      <td>89</td>\n      <td>29.25</td>\n      <td>50.75</td>\n      <td>2.250813</td>\n      <td>55.532491</td>\n      <td>0.304400</td>\n      <td>4.095932</td>\n      <td>4.510385</td>\n      <td>142.136587</td>\n    </tr>\n    <tr>\n      <th>74425</th>\n      <td>90</td>\n      <td>29.25</td>\n      <td>50.75</td>\n      <td>1.334874</td>\n      <td>67.426381</td>\n      <td>0.322781</td>\n      <td>4.207631</td>\n      <td>4.545102</td>\n      <td>145.511047</td>\n    </tr>\n    <tr>\n      <th>74426</th>\n      <td>91</td>\n      <td>29.25</td>\n      <td>50.75</td>\n      <td>1.308244</td>\n      <td>59.159719</td>\n      <td>0.302089</td>\n      <td>3.470493</td>\n      <td>3.625675</td>\n      <td>143.809682</td>\n    </tr>\n    <tr>\n      <th>74427</th>\n      <td>92</td>\n      <td>29.25</td>\n      <td>50.75</td>\n      <td>1.194311</td>\n      <td>63.613556</td>\n      <td>0.854371</td>\n      <td>4.865907</td>\n      <td>5.494563</td>\n      <td>122.833923</td>\n    </tr>\n  </tbody>\n</table>\n<p>3312 rows × 9 columns</p>\n</div>"
     },
     "execution_count": 121,
     "metadata": {},
     "output_type": "execute_result"
    }
   ],
   "source": [
    "df2=pd.read_csv('sdfsfsd.csv',delimiter=',',index_col=0)\n",
    "df3=pd.read_csv('data_of_copernicus.csv',delimiter=',',index_col=0)\n",
    "df3"
   ],
   "metadata": {
    "collapsed": false,
    "pycharm": {
     "name": "#%%\n"
    }
   }
  },
  {
   "cell_type": "code",
   "execution_count": 112,
   "outputs": [
    {
     "data": {
      "text/plain": "      T2M_MAX  T2M_MIN   RH2M  PRECTOTCORR      PS  WS2M\n0        5.65     0.05  92.97         0.25  101.22  2.97\n1        7.78    -0.69  91.62         0.19  101.08  4.43\n2        6.35    -2.21  92.66         0.16  100.83  1.99\n3        4.91    -0.49  94.47         0.42   99.36  4.11\n4        2.52    -3.39  81.22         0.41   99.75  2.61\n...       ...      ...    ...          ...     ...   ...\n3307    20.41     9.20  85.01         4.26   99.61  1.49\n3308    19.88    12.81  89.09        19.11   99.27  1.77\n3309    18.63    11.64  84.04         3.05   99.19  3.31\n3310    14.80     9.72  90.18        27.87   99.40  2.48\n3311    15.47     7.74  79.16         2.17   99.73  2.79\n\n[3312 rows x 6 columns]",
      "text/html": "<div>\n<style scoped>\n    .dataframe tbody tr th:only-of-type {\n        vertical-align: middle;\n    }\n\n    .dataframe tbody tr th {\n        vertical-align: top;\n    }\n\n    .dataframe thead th {\n        text-align: right;\n    }\n</style>\n<table border=\"1\" class=\"dataframe\">\n  <thead>\n    <tr style=\"text-align: right;\">\n      <th></th>\n      <th>T2M_MAX</th>\n      <th>T2M_MIN</th>\n      <th>RH2M</th>\n      <th>PRECTOTCORR</th>\n      <th>PS</th>\n      <th>WS2M</th>\n    </tr>\n  </thead>\n  <tbody>\n    <tr>\n      <th>0</th>\n      <td>5.65</td>\n      <td>0.05</td>\n      <td>92.97</td>\n      <td>0.25</td>\n      <td>101.22</td>\n      <td>2.97</td>\n    </tr>\n    <tr>\n      <th>1</th>\n      <td>7.78</td>\n      <td>-0.69</td>\n      <td>91.62</td>\n      <td>0.19</td>\n      <td>101.08</td>\n      <td>4.43</td>\n    </tr>\n    <tr>\n      <th>2</th>\n      <td>6.35</td>\n      <td>-2.21</td>\n      <td>92.66</td>\n      <td>0.16</td>\n      <td>100.83</td>\n      <td>1.99</td>\n    </tr>\n    <tr>\n      <th>3</th>\n      <td>4.91</td>\n      <td>-0.49</td>\n      <td>94.47</td>\n      <td>0.42</td>\n      <td>99.36</td>\n      <td>4.11</td>\n    </tr>\n    <tr>\n      <th>4</th>\n      <td>2.52</td>\n      <td>-3.39</td>\n      <td>81.22</td>\n      <td>0.41</td>\n      <td>99.75</td>\n      <td>2.61</td>\n    </tr>\n    <tr>\n      <th>...</th>\n      <td>...</td>\n      <td>...</td>\n      <td>...</td>\n      <td>...</td>\n      <td>...</td>\n      <td>...</td>\n    </tr>\n    <tr>\n      <th>3307</th>\n      <td>20.41</td>\n      <td>9.20</td>\n      <td>85.01</td>\n      <td>4.26</td>\n      <td>99.61</td>\n      <td>1.49</td>\n    </tr>\n    <tr>\n      <th>3308</th>\n      <td>19.88</td>\n      <td>12.81</td>\n      <td>89.09</td>\n      <td>19.11</td>\n      <td>99.27</td>\n      <td>1.77</td>\n    </tr>\n    <tr>\n      <th>3309</th>\n      <td>18.63</td>\n      <td>11.64</td>\n      <td>84.04</td>\n      <td>3.05</td>\n      <td>99.19</td>\n      <td>3.31</td>\n    </tr>\n    <tr>\n      <th>3310</th>\n      <td>14.80</td>\n      <td>9.72</td>\n      <td>90.18</td>\n      <td>27.87</td>\n      <td>99.40</td>\n      <td>2.48</td>\n    </tr>\n    <tr>\n      <th>3311</th>\n      <td>15.47</td>\n      <td>7.74</td>\n      <td>79.16</td>\n      <td>2.17</td>\n      <td>99.73</td>\n      <td>2.79</td>\n    </tr>\n  </tbody>\n</table>\n<p>3312 rows × 6 columns</p>\n</div>"
     },
     "execution_count": 112,
     "metadata": {},
     "output_type": "execute_result"
    }
   ],
   "source": [
    "df2"
   ],
   "metadata": {
    "collapsed": false,
    "pycharm": {
     "name": "#%%\n"
    }
   }
  },
  {
   "cell_type": "code",
   "execution_count": 122,
   "outputs": [],
   "source": [
    "tmax=[]\n",
    "tmax=df2['T2M_MAX']\n",
    "tmax=np.array(tmax)\n",
    "tmin=[]\n",
    "tmin=df2['T2M_MIN']\n",
    "tmin=np.array(tmin)\n",
    "rh2m=np.array(df2['RH2M'])\n",
    "precto=np.array(df2['PRECTOTCORR'])\n",
    "ps=np.array(df2['PS'])\n",
    "ws=np.array(df2['WS2M'])"
   ],
   "metadata": {
    "collapsed": false,
    "pycharm": {
     "name": "#%%\n"
    }
   }
  },
  {
   "cell_type": "code",
   "execution_count": 130,
   "outputs": [
    {
     "data": {
      "text/plain": "      index  time    lon    lat        no2         o3       so2      pm2.5  \\\n0      2576     1  23.75  51.75   4.711908  51.553411  2.401234   9.248417   \n1      2577     2  23.75  51.75   6.672050  46.996750  3.451919  17.601891   \n2      2578     3  23.75  51.75   8.941137  41.624018  3.784783  16.831771   \n3      2579     4  23.75  51.75  10.849893  40.627284  6.811707  30.603221   \n4      2580     5  23.75  51.75   4.367971  59.191040  1.967694   6.767345   \n...     ...   ...    ...    ...        ...        ...       ...        ...   \n3307  74423    88  29.25  50.75   2.374783  63.589274  0.443204   5.575825   \n3308  74424    89  29.25  50.75   2.250813  55.532491  0.304400   4.095932   \n3309  74425    90  29.25  50.75   1.334874  67.426381  0.322781   4.207631   \n3310  74426    91  29.25  50.75   1.308244  59.159719  0.302089   3.470493   \n3311  74427    92  29.25  50.75   1.194311  63.613556  0.854371   4.865907   \n\n           pm10          co   tmax   tmin    hum  opady    tysk  wind  \n0     12.351810  185.938477   5.65   0.05  92.97   0.25  101.22  2.97  \n1     23.520398  225.714315   7.78  -0.69  91.62   0.19  101.08  4.43  \n2     21.090757  240.643168   6.35  -2.21  92.66   0.16  100.83  1.99  \n3     39.304944  322.964640   4.91  -0.49  94.47   0.42   99.36  4.11  \n4      9.922366  192.327454   2.52  -3.39  81.22   0.41   99.75  2.61  \n...         ...         ...    ...    ...    ...    ...     ...   ...  \n3307   6.442769  141.999288  20.41   9.20  85.01   4.26   99.61  1.49  \n3308   4.510385  142.136587  19.88  12.81  89.09  19.11   99.27  1.77  \n3309   4.545102  145.511047  18.63  11.64  84.04   3.05   99.19  3.31  \n3310   3.625675  143.809682  14.80   9.72  90.18  27.87   99.40  2.48  \n3311   5.494563  122.833923  15.47   7.74  79.16   2.17   99.73  2.79  \n\n[3312 rows x 16 columns]",
      "text/html": "<div>\n<style scoped>\n    .dataframe tbody tr th:only-of-type {\n        vertical-align: middle;\n    }\n\n    .dataframe tbody tr th {\n        vertical-align: top;\n    }\n\n    .dataframe thead th {\n        text-align: right;\n    }\n</style>\n<table border=\"1\" class=\"dataframe\">\n  <thead>\n    <tr style=\"text-align: right;\">\n      <th></th>\n      <th>index</th>\n      <th>time</th>\n      <th>lon</th>\n      <th>lat</th>\n      <th>no2</th>\n      <th>o3</th>\n      <th>so2</th>\n      <th>pm2.5</th>\n      <th>pm10</th>\n      <th>co</th>\n      <th>tmax</th>\n      <th>tmin</th>\n      <th>hum</th>\n      <th>opady</th>\n      <th>tysk</th>\n      <th>wind</th>\n    </tr>\n  </thead>\n  <tbody>\n    <tr>\n      <th>0</th>\n      <td>2576</td>\n      <td>1</td>\n      <td>23.75</td>\n      <td>51.75</td>\n      <td>4.711908</td>\n      <td>51.553411</td>\n      <td>2.401234</td>\n      <td>9.248417</td>\n      <td>12.351810</td>\n      <td>185.938477</td>\n      <td>5.65</td>\n      <td>0.05</td>\n      <td>92.97</td>\n      <td>0.25</td>\n      <td>101.22</td>\n      <td>2.97</td>\n    </tr>\n    <tr>\n      <th>1</th>\n      <td>2577</td>\n      <td>2</td>\n      <td>23.75</td>\n      <td>51.75</td>\n      <td>6.672050</td>\n      <td>46.996750</td>\n      <td>3.451919</td>\n      <td>17.601891</td>\n      <td>23.520398</td>\n      <td>225.714315</td>\n      <td>7.78</td>\n      <td>-0.69</td>\n      <td>91.62</td>\n      <td>0.19</td>\n      <td>101.08</td>\n      <td>4.43</td>\n    </tr>\n    <tr>\n      <th>2</th>\n      <td>2578</td>\n      <td>3</td>\n      <td>23.75</td>\n      <td>51.75</td>\n      <td>8.941137</td>\n      <td>41.624018</td>\n      <td>3.784783</td>\n      <td>16.831771</td>\n      <td>21.090757</td>\n      <td>240.643168</td>\n      <td>6.35</td>\n      <td>-2.21</td>\n      <td>92.66</td>\n      <td>0.16</td>\n      <td>100.83</td>\n      <td>1.99</td>\n    </tr>\n    <tr>\n      <th>3</th>\n      <td>2579</td>\n      <td>4</td>\n      <td>23.75</td>\n      <td>51.75</td>\n      <td>10.849893</td>\n      <td>40.627284</td>\n      <td>6.811707</td>\n      <td>30.603221</td>\n      <td>39.304944</td>\n      <td>322.964640</td>\n      <td>4.91</td>\n      <td>-0.49</td>\n      <td>94.47</td>\n      <td>0.42</td>\n      <td>99.36</td>\n      <td>4.11</td>\n    </tr>\n    <tr>\n      <th>4</th>\n      <td>2580</td>\n      <td>5</td>\n      <td>23.75</td>\n      <td>51.75</td>\n      <td>4.367971</td>\n      <td>59.191040</td>\n      <td>1.967694</td>\n      <td>6.767345</td>\n      <td>9.922366</td>\n      <td>192.327454</td>\n      <td>2.52</td>\n      <td>-3.39</td>\n      <td>81.22</td>\n      <td>0.41</td>\n      <td>99.75</td>\n      <td>2.61</td>\n    </tr>\n    <tr>\n      <th>...</th>\n      <td>...</td>\n      <td>...</td>\n      <td>...</td>\n      <td>...</td>\n      <td>...</td>\n      <td>...</td>\n      <td>...</td>\n      <td>...</td>\n      <td>...</td>\n      <td>...</td>\n      <td>...</td>\n      <td>...</td>\n      <td>...</td>\n      <td>...</td>\n      <td>...</td>\n      <td>...</td>\n    </tr>\n    <tr>\n      <th>3307</th>\n      <td>74423</td>\n      <td>88</td>\n      <td>29.25</td>\n      <td>50.75</td>\n      <td>2.374783</td>\n      <td>63.589274</td>\n      <td>0.443204</td>\n      <td>5.575825</td>\n      <td>6.442769</td>\n      <td>141.999288</td>\n      <td>20.41</td>\n      <td>9.20</td>\n      <td>85.01</td>\n      <td>4.26</td>\n      <td>99.61</td>\n      <td>1.49</td>\n    </tr>\n    <tr>\n      <th>3308</th>\n      <td>74424</td>\n      <td>89</td>\n      <td>29.25</td>\n      <td>50.75</td>\n      <td>2.250813</td>\n      <td>55.532491</td>\n      <td>0.304400</td>\n      <td>4.095932</td>\n      <td>4.510385</td>\n      <td>142.136587</td>\n      <td>19.88</td>\n      <td>12.81</td>\n      <td>89.09</td>\n      <td>19.11</td>\n      <td>99.27</td>\n      <td>1.77</td>\n    </tr>\n    <tr>\n      <th>3309</th>\n      <td>74425</td>\n      <td>90</td>\n      <td>29.25</td>\n      <td>50.75</td>\n      <td>1.334874</td>\n      <td>67.426381</td>\n      <td>0.322781</td>\n      <td>4.207631</td>\n      <td>4.545102</td>\n      <td>145.511047</td>\n      <td>18.63</td>\n      <td>11.64</td>\n      <td>84.04</td>\n      <td>3.05</td>\n      <td>99.19</td>\n      <td>3.31</td>\n    </tr>\n    <tr>\n      <th>3310</th>\n      <td>74426</td>\n      <td>91</td>\n      <td>29.25</td>\n      <td>50.75</td>\n      <td>1.308244</td>\n      <td>59.159719</td>\n      <td>0.302089</td>\n      <td>3.470493</td>\n      <td>3.625675</td>\n      <td>143.809682</td>\n      <td>14.80</td>\n      <td>9.72</td>\n      <td>90.18</td>\n      <td>27.87</td>\n      <td>99.40</td>\n      <td>2.48</td>\n    </tr>\n    <tr>\n      <th>3311</th>\n      <td>74427</td>\n      <td>92</td>\n      <td>29.25</td>\n      <td>50.75</td>\n      <td>1.194311</td>\n      <td>63.613556</td>\n      <td>0.854371</td>\n      <td>4.865907</td>\n      <td>5.494563</td>\n      <td>122.833923</td>\n      <td>15.47</td>\n      <td>7.74</td>\n      <td>79.16</td>\n      <td>2.17</td>\n      <td>99.73</td>\n      <td>2.79</td>\n    </tr>\n  </tbody>\n</table>\n<p>3312 rows × 16 columns</p>\n</div>"
     },
     "execution_count": 130,
     "metadata": {},
     "output_type": "execute_result"
    }
   ],
   "source": [
    "df3['tmax']=tmax\n",
    "df3['tmin']=tmin\n",
    "df3['hum']=rh2m\n",
    "df3['opady']=precto\n",
    "df3['tysk']=ps\n",
    "df3['wind']=ws\n",
    "df3.reset_index()"
   ],
   "metadata": {
    "collapsed": false,
    "pycharm": {
     "name": "#%%\n"
    }
   }
  },
  {
   "cell_type": "code",
   "execution_count": 137,
   "outputs": [
    {
     "ename": "TypeError",
     "evalue": "to_csv() got an unexpected keyword argument 'index_col'",
     "output_type": "error",
     "traceback": [
      "\u001B[1;31m---------------------------------------------------------------------------\u001B[0m",
      "\u001B[1;31mTypeError\u001B[0m                                 Traceback (most recent call last)",
      "\u001B[1;32mC:\\Users\\YURADU~1\\AppData\\Local\\Temp/ipykernel_16448/2134624024.py\u001B[0m in \u001B[0;36m<module>\u001B[1;34m\u001B[0m\n\u001B[1;32m----> 1\u001B[1;33m \u001B[0mdf3\u001B[0m\u001B[1;33m.\u001B[0m\u001B[0mto_csv\u001B[0m\u001B[1;33m(\u001B[0m\u001B[1;34m'atlast_data.csv'\u001B[0m\u001B[1;33m,\u001B[0m\u001B[0mindex_col\u001B[0m\u001B[1;33m=\u001B[0m\u001B[1;36m0\u001B[0m\u001B[1;33m)\u001B[0m\u001B[1;33m\u001B[0m\u001B[1;33m\u001B[0m\u001B[0m\n\u001B[0m",
      "\u001B[1;31mTypeError\u001B[0m: to_csv() got an unexpected keyword argument 'index_col'"
     ]
    }
   ],
   "source": [],
   "metadata": {
    "collapsed": false,
    "pycharm": {
     "name": "#%%\n"
    }
   }
  },
  {
   "cell_type": "code",
   "execution_count": 167,
   "outputs": [
    {
     "data": {
      "text/plain": "       time    lon    lat        no2         o3       so2      pm2.5  \\\n2576      1  23.75  51.75   4.711908  51.553411  2.401234   9.248417   \n2577      2  23.75  51.75   6.672050  46.996750  3.451919  17.601891   \n2578      3  23.75  51.75   8.941137  41.624018  3.784783  16.831771   \n2579      4  23.75  51.75  10.849893  40.627284  6.811707  30.603221   \n2580      5  23.75  51.75   4.367971  59.191040  1.967694   6.767345   \n...     ...    ...    ...        ...        ...       ...        ...   \n74423    88  29.25  50.75   2.374783  63.589274  0.443204   5.575825   \n74424    89  29.25  50.75   2.250813  55.532491  0.304400   4.095932   \n74425    90  29.25  50.75   1.334874  67.426381  0.322781   4.207631   \n74426    91  29.25  50.75   1.308244  59.159719  0.302089   3.470493   \n74427    92  29.25  50.75   1.194311  63.613556  0.854371   4.865907   \n\n            pm10          co   tmax   tmin    hum  opady    tysk  wind  \n2576   12.351810  185.938477   5.65   0.05  92.97   0.25  101.22  2.97  \n2577   23.520398  225.714315   7.78  -0.69  91.62   0.19  101.08  4.43  \n2578   21.090757  240.643168   6.35  -2.21  92.66   0.16  100.83  1.99  \n2579   39.304944  322.964640   4.91  -0.49  94.47   0.42   99.36  4.11  \n2580    9.922366  192.327454   2.52  -3.39  81.22   0.41   99.75  2.61  \n...          ...         ...    ...    ...    ...    ...     ...   ...  \n74423   6.442769  141.999288  20.41   9.20  85.01   4.26   99.61  1.49  \n74424   4.510385  142.136587  19.88  12.81  89.09  19.11   99.27  1.77  \n74425   4.545102  145.511047  18.63  11.64  84.04   3.05   99.19  3.31  \n74426   3.625675  143.809682  14.80   9.72  90.18  27.87   99.40  2.48  \n74427   5.494563  122.833923  15.47   7.74  79.16   2.17   99.73  2.79  \n\n[3312 rows x 15 columns]",
      "text/html": "<div>\n<style scoped>\n    .dataframe tbody tr th:only-of-type {\n        vertical-align: middle;\n    }\n\n    .dataframe tbody tr th {\n        vertical-align: top;\n    }\n\n    .dataframe thead th {\n        text-align: right;\n    }\n</style>\n<table border=\"1\" class=\"dataframe\">\n  <thead>\n    <tr style=\"text-align: right;\">\n      <th></th>\n      <th>time</th>\n      <th>lon</th>\n      <th>lat</th>\n      <th>no2</th>\n      <th>o3</th>\n      <th>so2</th>\n      <th>pm2.5</th>\n      <th>pm10</th>\n      <th>co</th>\n      <th>tmax</th>\n      <th>tmin</th>\n      <th>hum</th>\n      <th>opady</th>\n      <th>tysk</th>\n      <th>wind</th>\n    </tr>\n  </thead>\n  <tbody>\n    <tr>\n      <th>2576</th>\n      <td>1</td>\n      <td>23.75</td>\n      <td>51.75</td>\n      <td>4.711908</td>\n      <td>51.553411</td>\n      <td>2.401234</td>\n      <td>9.248417</td>\n      <td>12.351810</td>\n      <td>185.938477</td>\n      <td>5.65</td>\n      <td>0.05</td>\n      <td>92.97</td>\n      <td>0.25</td>\n      <td>101.22</td>\n      <td>2.97</td>\n    </tr>\n    <tr>\n      <th>2577</th>\n      <td>2</td>\n      <td>23.75</td>\n      <td>51.75</td>\n      <td>6.672050</td>\n      <td>46.996750</td>\n      <td>3.451919</td>\n      <td>17.601891</td>\n      <td>23.520398</td>\n      <td>225.714315</td>\n      <td>7.78</td>\n      <td>-0.69</td>\n      <td>91.62</td>\n      <td>0.19</td>\n      <td>101.08</td>\n      <td>4.43</td>\n    </tr>\n    <tr>\n      <th>2578</th>\n      <td>3</td>\n      <td>23.75</td>\n      <td>51.75</td>\n      <td>8.941137</td>\n      <td>41.624018</td>\n      <td>3.784783</td>\n      <td>16.831771</td>\n      <td>21.090757</td>\n      <td>240.643168</td>\n      <td>6.35</td>\n      <td>-2.21</td>\n      <td>92.66</td>\n      <td>0.16</td>\n      <td>100.83</td>\n      <td>1.99</td>\n    </tr>\n    <tr>\n      <th>2579</th>\n      <td>4</td>\n      <td>23.75</td>\n      <td>51.75</td>\n      <td>10.849893</td>\n      <td>40.627284</td>\n      <td>6.811707</td>\n      <td>30.603221</td>\n      <td>39.304944</td>\n      <td>322.964640</td>\n      <td>4.91</td>\n      <td>-0.49</td>\n      <td>94.47</td>\n      <td>0.42</td>\n      <td>99.36</td>\n      <td>4.11</td>\n    </tr>\n    <tr>\n      <th>2580</th>\n      <td>5</td>\n      <td>23.75</td>\n      <td>51.75</td>\n      <td>4.367971</td>\n      <td>59.191040</td>\n      <td>1.967694</td>\n      <td>6.767345</td>\n      <td>9.922366</td>\n      <td>192.327454</td>\n      <td>2.52</td>\n      <td>-3.39</td>\n      <td>81.22</td>\n      <td>0.41</td>\n      <td>99.75</td>\n      <td>2.61</td>\n    </tr>\n    <tr>\n      <th>...</th>\n      <td>...</td>\n      <td>...</td>\n      <td>...</td>\n      <td>...</td>\n      <td>...</td>\n      <td>...</td>\n      <td>...</td>\n      <td>...</td>\n      <td>...</td>\n      <td>...</td>\n      <td>...</td>\n      <td>...</td>\n      <td>...</td>\n      <td>...</td>\n      <td>...</td>\n    </tr>\n    <tr>\n      <th>74423</th>\n      <td>88</td>\n      <td>29.25</td>\n      <td>50.75</td>\n      <td>2.374783</td>\n      <td>63.589274</td>\n      <td>0.443204</td>\n      <td>5.575825</td>\n      <td>6.442769</td>\n      <td>141.999288</td>\n      <td>20.41</td>\n      <td>9.20</td>\n      <td>85.01</td>\n      <td>4.26</td>\n      <td>99.61</td>\n      <td>1.49</td>\n    </tr>\n    <tr>\n      <th>74424</th>\n      <td>89</td>\n      <td>29.25</td>\n      <td>50.75</td>\n      <td>2.250813</td>\n      <td>55.532491</td>\n      <td>0.304400</td>\n      <td>4.095932</td>\n      <td>4.510385</td>\n      <td>142.136587</td>\n      <td>19.88</td>\n      <td>12.81</td>\n      <td>89.09</td>\n      <td>19.11</td>\n      <td>99.27</td>\n      <td>1.77</td>\n    </tr>\n    <tr>\n      <th>74425</th>\n      <td>90</td>\n      <td>29.25</td>\n      <td>50.75</td>\n      <td>1.334874</td>\n      <td>67.426381</td>\n      <td>0.322781</td>\n      <td>4.207631</td>\n      <td>4.545102</td>\n      <td>145.511047</td>\n      <td>18.63</td>\n      <td>11.64</td>\n      <td>84.04</td>\n      <td>3.05</td>\n      <td>99.19</td>\n      <td>3.31</td>\n    </tr>\n    <tr>\n      <th>74426</th>\n      <td>91</td>\n      <td>29.25</td>\n      <td>50.75</td>\n      <td>1.308244</td>\n      <td>59.159719</td>\n      <td>0.302089</td>\n      <td>3.470493</td>\n      <td>3.625675</td>\n      <td>143.809682</td>\n      <td>14.80</td>\n      <td>9.72</td>\n      <td>90.18</td>\n      <td>27.87</td>\n      <td>99.40</td>\n      <td>2.48</td>\n    </tr>\n    <tr>\n      <th>74427</th>\n      <td>92</td>\n      <td>29.25</td>\n      <td>50.75</td>\n      <td>1.194311</td>\n      <td>63.613556</td>\n      <td>0.854371</td>\n      <td>4.865907</td>\n      <td>5.494563</td>\n      <td>122.833923</td>\n      <td>15.47</td>\n      <td>7.74</td>\n      <td>79.16</td>\n      <td>2.17</td>\n      <td>99.73</td>\n      <td>2.79</td>\n    </tr>\n  </tbody>\n</table>\n<p>3312 rows × 15 columns</p>\n</div>"
     },
     "execution_count": 167,
     "metadata": {},
     "output_type": "execute_result"
    }
   ],
   "source": [
    "dff=pd.read_csv('atlast_data.csv',index_col=0)\n",
    "dff"
   ],
   "metadata": {
    "collapsed": false,
    "pycharm": {
     "name": "#%%\n"
    }
   }
  },
  {
   "cell_type": "code",
   "execution_count": 169,
   "outputs": [
    {
     "data": {
      "text/plain": "               time           lon           lat       no2        o3       so2  \\\ntime   1.000000e+00  6.927895e-16 -1.080034e-15 -0.415741  0.387441 -0.240323   \nlon    6.927895e-16  1.000000e+00 -1.323062e-13 -0.424547  0.030846 -0.461588   \nlat   -1.080034e-15 -1.323062e-13  1.000000e+00 -0.188201  0.042263 -0.147747   \nno2   -4.157407e-01 -4.245472e-01 -1.882012e-01  1.000000 -0.521072  0.726618   \no3     3.874413e-01  3.084573e-02  4.226300e-02 -0.521072  1.000000 -0.059292   \nso2   -2.403226e-01 -4.615877e-01 -1.477465e-01  0.726618 -0.059292  1.000000   \npm2.5 -3.688992e-01 -2.079217e-01 -9.704955e-02  0.624651 -0.308254  0.687509   \npm10  -3.904206e-01 -2.542448e-01 -8.687757e-02  0.651734 -0.297094  0.715760   \nco    -6.051847e-01 -2.587266e-01 -5.118523e-02  0.751877 -0.510993  0.611125   \ntmax   8.266757e-01 -4.263557e-02 -7.944774e-03 -0.277203  0.349467 -0.049439   \ntmin   8.465955e-01 -3.270308e-02  2.080689e-03 -0.243154  0.175435 -0.159459   \nhum   -4.409034e-01  1.753123e-01  4.527032e-02  0.308719 -0.673717 -0.013148   \nopady  2.248742e-01  8.585410e-02 -2.334578e-02 -0.064895 -0.169933 -0.183186   \ntysk  -2.229923e-01  9.483832e-02  3.400290e-01 -0.005493 -0.075370 -0.060192   \nwind  -8.071662e-02 -9.653526e-02 -2.990669e-03  0.074401  0.313442  0.199419   \n\n          pm2.5      pm10        co      tmax      tmin       hum     opady  \\\ntime  -0.368899 -0.390421 -0.605185  0.826676  0.846596 -0.440903  0.224874   \nlon   -0.207922 -0.254245 -0.258727 -0.042636 -0.032703  0.175312  0.085854   \nlat   -0.097050 -0.086878 -0.051185 -0.007945  0.002081  0.045270 -0.023346   \nno2    0.624651  0.651734  0.751877 -0.277203 -0.243154  0.308719 -0.064895   \no3    -0.308254 -0.297094 -0.510993  0.349467  0.175435 -0.673717 -0.169933   \nso2    0.687509  0.715760  0.611125 -0.049439 -0.159459 -0.013148 -0.183186   \npm2.5  1.000000  0.989233  0.782036 -0.012987 -0.153268  0.282630 -0.116184   \npm10   0.989233  1.000000  0.777753 -0.032763 -0.179913  0.249959 -0.150461   \nco     0.782036  0.777753  1.000000 -0.392282 -0.413195  0.439669 -0.085150   \ntmax  -0.012987 -0.032763 -0.392282  1.000000  0.876554 -0.353050  0.132974   \ntmin  -0.153268 -0.179913 -0.413195  0.876554  1.000000 -0.112886  0.353958   \nhum    0.282630  0.249959  0.439669 -0.353050 -0.112886  1.000000  0.416990   \nopady -0.116184 -0.150461 -0.085150  0.132974  0.353958  0.416990  1.000000   \ntysk   0.132733  0.143303  0.060516 -0.118298 -0.261290 -0.102690 -0.335279   \nwind  -0.069917 -0.046335 -0.030763 -0.105003 -0.053905 -0.035014  0.003805   \n\n           tysk      wind  \ntime  -0.222992 -0.080717  \nlon    0.094838 -0.096535  \nlat    0.340029 -0.002991  \nno2   -0.005493  0.074401  \no3    -0.075370  0.313442  \nso2   -0.060192  0.199419  \npm2.5  0.132733 -0.069917  \npm10   0.143303 -0.046335  \nco     0.060516 -0.030763  \ntmax  -0.118298 -0.105003  \ntmin  -0.261290 -0.053905  \nhum   -0.102690 -0.035014  \nopady -0.335279  0.003805  \ntysk   1.000000 -0.238502  \nwind  -0.238502  1.000000  ",
      "text/html": "<div>\n<style scoped>\n    .dataframe tbody tr th:only-of-type {\n        vertical-align: middle;\n    }\n\n    .dataframe tbody tr th {\n        vertical-align: top;\n    }\n\n    .dataframe thead th {\n        text-align: right;\n    }\n</style>\n<table border=\"1\" class=\"dataframe\">\n  <thead>\n    <tr style=\"text-align: right;\">\n      <th></th>\n      <th>time</th>\n      <th>lon</th>\n      <th>lat</th>\n      <th>no2</th>\n      <th>o3</th>\n      <th>so2</th>\n      <th>pm2.5</th>\n      <th>pm10</th>\n      <th>co</th>\n      <th>tmax</th>\n      <th>tmin</th>\n      <th>hum</th>\n      <th>opady</th>\n      <th>tysk</th>\n      <th>wind</th>\n    </tr>\n  </thead>\n  <tbody>\n    <tr>\n      <th>time</th>\n      <td>1.000000e+00</td>\n      <td>6.927895e-16</td>\n      <td>-1.080034e-15</td>\n      <td>-0.415741</td>\n      <td>0.387441</td>\n      <td>-0.240323</td>\n      <td>-0.368899</td>\n      <td>-0.390421</td>\n      <td>-0.605185</td>\n      <td>0.826676</td>\n      <td>0.846596</td>\n      <td>-0.440903</td>\n      <td>0.224874</td>\n      <td>-0.222992</td>\n      <td>-0.080717</td>\n    </tr>\n    <tr>\n      <th>lon</th>\n      <td>6.927895e-16</td>\n      <td>1.000000e+00</td>\n      <td>-1.323062e-13</td>\n      <td>-0.424547</td>\n      <td>0.030846</td>\n      <td>-0.461588</td>\n      <td>-0.207922</td>\n      <td>-0.254245</td>\n      <td>-0.258727</td>\n      <td>-0.042636</td>\n      <td>-0.032703</td>\n      <td>0.175312</td>\n      <td>0.085854</td>\n      <td>0.094838</td>\n      <td>-0.096535</td>\n    </tr>\n    <tr>\n      <th>lat</th>\n      <td>-1.080034e-15</td>\n      <td>-1.323062e-13</td>\n      <td>1.000000e+00</td>\n      <td>-0.188201</td>\n      <td>0.042263</td>\n      <td>-0.147747</td>\n      <td>-0.097050</td>\n      <td>-0.086878</td>\n      <td>-0.051185</td>\n      <td>-0.007945</td>\n      <td>0.002081</td>\n      <td>0.045270</td>\n      <td>-0.023346</td>\n      <td>0.340029</td>\n      <td>-0.002991</td>\n    </tr>\n    <tr>\n      <th>no2</th>\n      <td>-4.157407e-01</td>\n      <td>-4.245472e-01</td>\n      <td>-1.882012e-01</td>\n      <td>1.000000</td>\n      <td>-0.521072</td>\n      <td>0.726618</td>\n      <td>0.624651</td>\n      <td>0.651734</td>\n      <td>0.751877</td>\n      <td>-0.277203</td>\n      <td>-0.243154</td>\n      <td>0.308719</td>\n      <td>-0.064895</td>\n      <td>-0.005493</td>\n      <td>0.074401</td>\n    </tr>\n    <tr>\n      <th>o3</th>\n      <td>3.874413e-01</td>\n      <td>3.084573e-02</td>\n      <td>4.226300e-02</td>\n      <td>-0.521072</td>\n      <td>1.000000</td>\n      <td>-0.059292</td>\n      <td>-0.308254</td>\n      <td>-0.297094</td>\n      <td>-0.510993</td>\n      <td>0.349467</td>\n      <td>0.175435</td>\n      <td>-0.673717</td>\n      <td>-0.169933</td>\n      <td>-0.075370</td>\n      <td>0.313442</td>\n    </tr>\n    <tr>\n      <th>so2</th>\n      <td>-2.403226e-01</td>\n      <td>-4.615877e-01</td>\n      <td>-1.477465e-01</td>\n      <td>0.726618</td>\n      <td>-0.059292</td>\n      <td>1.000000</td>\n      <td>0.687509</td>\n      <td>0.715760</td>\n      <td>0.611125</td>\n      <td>-0.049439</td>\n      <td>-0.159459</td>\n      <td>-0.013148</td>\n      <td>-0.183186</td>\n      <td>-0.060192</td>\n      <td>0.199419</td>\n    </tr>\n    <tr>\n      <th>pm2.5</th>\n      <td>-3.688992e-01</td>\n      <td>-2.079217e-01</td>\n      <td>-9.704955e-02</td>\n      <td>0.624651</td>\n      <td>-0.308254</td>\n      <td>0.687509</td>\n      <td>1.000000</td>\n      <td>0.989233</td>\n      <td>0.782036</td>\n      <td>-0.012987</td>\n      <td>-0.153268</td>\n      <td>0.282630</td>\n      <td>-0.116184</td>\n      <td>0.132733</td>\n      <td>-0.069917</td>\n    </tr>\n    <tr>\n      <th>pm10</th>\n      <td>-3.904206e-01</td>\n      <td>-2.542448e-01</td>\n      <td>-8.687757e-02</td>\n      <td>0.651734</td>\n      <td>-0.297094</td>\n      <td>0.715760</td>\n      <td>0.989233</td>\n      <td>1.000000</td>\n      <td>0.777753</td>\n      <td>-0.032763</td>\n      <td>-0.179913</td>\n      <td>0.249959</td>\n      <td>-0.150461</td>\n      <td>0.143303</td>\n      <td>-0.046335</td>\n    </tr>\n    <tr>\n      <th>co</th>\n      <td>-6.051847e-01</td>\n      <td>-2.587266e-01</td>\n      <td>-5.118523e-02</td>\n      <td>0.751877</td>\n      <td>-0.510993</td>\n      <td>0.611125</td>\n      <td>0.782036</td>\n      <td>0.777753</td>\n      <td>1.000000</td>\n      <td>-0.392282</td>\n      <td>-0.413195</td>\n      <td>0.439669</td>\n      <td>-0.085150</td>\n      <td>0.060516</td>\n      <td>-0.030763</td>\n    </tr>\n    <tr>\n      <th>tmax</th>\n      <td>8.266757e-01</td>\n      <td>-4.263557e-02</td>\n      <td>-7.944774e-03</td>\n      <td>-0.277203</td>\n      <td>0.349467</td>\n      <td>-0.049439</td>\n      <td>-0.012987</td>\n      <td>-0.032763</td>\n      <td>-0.392282</td>\n      <td>1.000000</td>\n      <td>0.876554</td>\n      <td>-0.353050</td>\n      <td>0.132974</td>\n      <td>-0.118298</td>\n      <td>-0.105003</td>\n    </tr>\n    <tr>\n      <th>tmin</th>\n      <td>8.465955e-01</td>\n      <td>-3.270308e-02</td>\n      <td>2.080689e-03</td>\n      <td>-0.243154</td>\n      <td>0.175435</td>\n      <td>-0.159459</td>\n      <td>-0.153268</td>\n      <td>-0.179913</td>\n      <td>-0.413195</td>\n      <td>0.876554</td>\n      <td>1.000000</td>\n      <td>-0.112886</td>\n      <td>0.353958</td>\n      <td>-0.261290</td>\n      <td>-0.053905</td>\n    </tr>\n    <tr>\n      <th>hum</th>\n      <td>-4.409034e-01</td>\n      <td>1.753123e-01</td>\n      <td>4.527032e-02</td>\n      <td>0.308719</td>\n      <td>-0.673717</td>\n      <td>-0.013148</td>\n      <td>0.282630</td>\n      <td>0.249959</td>\n      <td>0.439669</td>\n      <td>-0.353050</td>\n      <td>-0.112886</td>\n      <td>1.000000</td>\n      <td>0.416990</td>\n      <td>-0.102690</td>\n      <td>-0.035014</td>\n    </tr>\n    <tr>\n      <th>opady</th>\n      <td>2.248742e-01</td>\n      <td>8.585410e-02</td>\n      <td>-2.334578e-02</td>\n      <td>-0.064895</td>\n      <td>-0.169933</td>\n      <td>-0.183186</td>\n      <td>-0.116184</td>\n      <td>-0.150461</td>\n      <td>-0.085150</td>\n      <td>0.132974</td>\n      <td>0.353958</td>\n      <td>0.416990</td>\n      <td>1.000000</td>\n      <td>-0.335279</td>\n      <td>0.003805</td>\n    </tr>\n    <tr>\n      <th>tysk</th>\n      <td>-2.229923e-01</td>\n      <td>9.483832e-02</td>\n      <td>3.400290e-01</td>\n      <td>-0.005493</td>\n      <td>-0.075370</td>\n      <td>-0.060192</td>\n      <td>0.132733</td>\n      <td>0.143303</td>\n      <td>0.060516</td>\n      <td>-0.118298</td>\n      <td>-0.261290</td>\n      <td>-0.102690</td>\n      <td>-0.335279</td>\n      <td>1.000000</td>\n      <td>-0.238502</td>\n    </tr>\n    <tr>\n      <th>wind</th>\n      <td>-8.071662e-02</td>\n      <td>-9.653526e-02</td>\n      <td>-2.990669e-03</td>\n      <td>0.074401</td>\n      <td>0.313442</td>\n      <td>0.199419</td>\n      <td>-0.069917</td>\n      <td>-0.046335</td>\n      <td>-0.030763</td>\n      <td>-0.105003</td>\n      <td>-0.053905</td>\n      <td>-0.035014</td>\n      <td>0.003805</td>\n      <td>-0.238502</td>\n      <td>1.000000</td>\n    </tr>\n  </tbody>\n</table>\n</div>"
     },
     "execution_count": 169,
     "metadata": {},
     "output_type": "execute_result"
    }
   ],
   "source": [
    "cor=dff.corr()\n",
    "cor"
   ],
   "metadata": {
    "collapsed": false,
    "pycharm": {
     "name": "#%%\n"
    }
   }
  },
  {
   "cell_type": "code",
   "execution_count": 172,
   "outputs": [
    {
     "ename": "AttributeError",
     "evalue": "'tuple' object has no attribute 'copy'",
     "output_type": "error",
     "traceback": [
      "\u001B[1;31m---------------------------------------------------------------------------\u001B[0m",
      "\u001B[1;31mAttributeError\u001B[0m                            Traceback (most recent call last)",
      "\u001B[1;32mC:\\Users\\YURADU~1\\AppData\\Local\\Temp/ipykernel_16448/1992300400.py\u001B[0m in \u001B[0;36m<module>\u001B[1;34m\u001B[0m\n\u001B[0;32m      1\u001B[0m \u001B[0mplt\u001B[0m\u001B[1;33m.\u001B[0m\u001B[0mfigure\u001B[0m\u001B[1;33m(\u001B[0m\u001B[0mfigsize\u001B[0m\u001B[1;33m=\u001B[0m\u001B[1;33m(\u001B[0m\u001B[1;36m10\u001B[0m\u001B[1;33m,\u001B[0m\u001B[1;36m10\u001B[0m\u001B[1;33m)\u001B[0m\u001B[1;33m)\u001B[0m\u001B[1;33m\u001B[0m\u001B[1;33m\u001B[0m\u001B[0m\n\u001B[1;32m----> 2\u001B[1;33m \u001B[0msns\u001B[0m\u001B[1;33m.\u001B[0m\u001B[0mheatmap\u001B[0m\u001B[1;33m(\u001B[0m\u001B[0mdff\u001B[0m\u001B[1;33m.\u001B[0m\u001B[0mcorr\u001B[0m\u001B[1;33m(\u001B[0m\u001B[1;33m)\u001B[0m\u001B[1;33m,\u001B[0m\u001B[0mannot\u001B[0m\u001B[1;33m=\u001B[0m\u001B[1;32mTrue\u001B[0m\u001B[1;33m,\u001B[0m\u001B[0mannot_kws\u001B[0m\u001B[1;33m=\u001B[0m\u001B[1;33m(\u001B[0m\u001B[1;34m\"size\"\u001B[0m\u001B[1;33m,\u001B[0m\u001B[1;36m14\u001B[0m\u001B[1;33m)\u001B[0m\u001B[1;33m)\u001B[0m\u001B[1;33m\u001B[0m\u001B[1;33m\u001B[0m\u001B[0m\n\u001B[0m\u001B[0;32m      3\u001B[0m \u001B[0msns\u001B[0m\u001B[1;33m.\u001B[0m\u001B[0mset_style\u001B[0m\u001B[1;33m(\u001B[0m\u001B[1;34m'white'\u001B[0m\u001B[1;33m)\u001B[0m\u001B[1;33m\u001B[0m\u001B[1;33m\u001B[0m\u001B[0m\n\u001B[0;32m      4\u001B[0m \u001B[0mplt\u001B[0m\u001B[1;33m.\u001B[0m\u001B[0mxticks\u001B[0m\u001B[1;33m(\u001B[0m\u001B[0mfontsize\u001B[0m\u001B[1;33m=\u001B[0m\u001B[1;36m14\u001B[0m\u001B[1;33m)\u001B[0m\u001B[1;33m\u001B[0m\u001B[1;33m\u001B[0m\u001B[0m\n\u001B[0;32m      5\u001B[0m \u001B[0mplt\u001B[0m\u001B[1;33m.\u001B[0m\u001B[0myticks\u001B[0m\u001B[1;33m(\u001B[0m\u001B[0mfontsize\u001B[0m\u001B[1;33m=\u001B[0m\u001B[1;36m14\u001B[0m\u001B[1;33m)\u001B[0m\u001B[1;33m\u001B[0m\u001B[1;33m\u001B[0m\u001B[0m\n",
      "\u001B[1;32m~\\anaconda3\\lib\\site-packages\\seaborn\\_decorators.py\u001B[0m in \u001B[0;36minner_f\u001B[1;34m(*args, **kwargs)\u001B[0m\n\u001B[0;32m     44\u001B[0m             )\n\u001B[0;32m     45\u001B[0m         \u001B[0mkwargs\u001B[0m\u001B[1;33m.\u001B[0m\u001B[0mupdate\u001B[0m\u001B[1;33m(\u001B[0m\u001B[1;33m{\u001B[0m\u001B[0mk\u001B[0m\u001B[1;33m:\u001B[0m \u001B[0marg\u001B[0m \u001B[1;32mfor\u001B[0m \u001B[0mk\u001B[0m\u001B[1;33m,\u001B[0m \u001B[0marg\u001B[0m \u001B[1;32min\u001B[0m \u001B[0mzip\u001B[0m\u001B[1;33m(\u001B[0m\u001B[0msig\u001B[0m\u001B[1;33m.\u001B[0m\u001B[0mparameters\u001B[0m\u001B[1;33m,\u001B[0m \u001B[0margs\u001B[0m\u001B[1;33m)\u001B[0m\u001B[1;33m}\u001B[0m\u001B[1;33m)\u001B[0m\u001B[1;33m\u001B[0m\u001B[1;33m\u001B[0m\u001B[0m\n\u001B[1;32m---> 46\u001B[1;33m         \u001B[1;32mreturn\u001B[0m \u001B[0mf\u001B[0m\u001B[1;33m(\u001B[0m\u001B[1;33m**\u001B[0m\u001B[0mkwargs\u001B[0m\u001B[1;33m)\u001B[0m\u001B[1;33m\u001B[0m\u001B[1;33m\u001B[0m\u001B[0m\n\u001B[0m\u001B[0;32m     47\u001B[0m     \u001B[1;32mreturn\u001B[0m \u001B[0minner_f\u001B[0m\u001B[1;33m\u001B[0m\u001B[1;33m\u001B[0m\u001B[0m\n\u001B[0;32m     48\u001B[0m \u001B[1;33m\u001B[0m\u001B[0m\n",
      "\u001B[1;32m~\\anaconda3\\lib\\site-packages\\seaborn\\matrix.py\u001B[0m in \u001B[0;36mheatmap\u001B[1;34m(data, vmin, vmax, cmap, center, robust, annot, fmt, annot_kws, linewidths, linecolor, cbar, cbar_kws, cbar_ax, square, xticklabels, yticklabels, mask, ax, **kwargs)\u001B[0m\n\u001B[0;32m    538\u001B[0m     \"\"\"\n\u001B[0;32m    539\u001B[0m     \u001B[1;31m# Initialize the plotter object\u001B[0m\u001B[1;33m\u001B[0m\u001B[1;33m\u001B[0m\u001B[0m\n\u001B[1;32m--> 540\u001B[1;33m     plotter = _HeatMapper(data, vmin, vmax, cmap, center, robust, annot, fmt,\n\u001B[0m\u001B[0;32m    541\u001B[0m                           \u001B[0mannot_kws\u001B[0m\u001B[1;33m,\u001B[0m \u001B[0mcbar\u001B[0m\u001B[1;33m,\u001B[0m \u001B[0mcbar_kws\u001B[0m\u001B[1;33m,\u001B[0m \u001B[0mxticklabels\u001B[0m\u001B[1;33m,\u001B[0m\u001B[1;33m\u001B[0m\u001B[1;33m\u001B[0m\u001B[0m\n\u001B[0;32m    542\u001B[0m                           yticklabels, mask)\n",
      "\u001B[1;32m~\\anaconda3\\lib\\site-packages\\seaborn\\matrix.py\u001B[0m in \u001B[0;36m__init__\u001B[1;34m(self, data, vmin, vmax, cmap, center, robust, annot, fmt, annot_kws, cbar, cbar_kws, xticklabels, yticklabels, mask)\u001B[0m\n\u001B[0;32m    182\u001B[0m \u001B[1;33m\u001B[0m\u001B[0m\n\u001B[0;32m    183\u001B[0m         \u001B[0mself\u001B[0m\u001B[1;33m.\u001B[0m\u001B[0mfmt\u001B[0m \u001B[1;33m=\u001B[0m \u001B[0mfmt\u001B[0m\u001B[1;33m\u001B[0m\u001B[1;33m\u001B[0m\u001B[0m\n\u001B[1;32m--> 184\u001B[1;33m         \u001B[0mself\u001B[0m\u001B[1;33m.\u001B[0m\u001B[0mannot_kws\u001B[0m \u001B[1;33m=\u001B[0m \u001B[1;33m{\u001B[0m\u001B[1;33m}\u001B[0m \u001B[1;32mif\u001B[0m \u001B[0mannot_kws\u001B[0m \u001B[1;32mis\u001B[0m \u001B[1;32mNone\u001B[0m \u001B[1;32melse\u001B[0m \u001B[0mannot_kws\u001B[0m\u001B[1;33m.\u001B[0m\u001B[0mcopy\u001B[0m\u001B[1;33m(\u001B[0m\u001B[1;33m)\u001B[0m\u001B[1;33m\u001B[0m\u001B[1;33m\u001B[0m\u001B[0m\n\u001B[0m\u001B[0;32m    185\u001B[0m         \u001B[0mself\u001B[0m\u001B[1;33m.\u001B[0m\u001B[0mcbar\u001B[0m \u001B[1;33m=\u001B[0m \u001B[0mcbar\u001B[0m\u001B[1;33m\u001B[0m\u001B[1;33m\u001B[0m\u001B[0m\n\u001B[0;32m    186\u001B[0m         \u001B[0mself\u001B[0m\u001B[1;33m.\u001B[0m\u001B[0mcbar_kws\u001B[0m \u001B[1;33m=\u001B[0m \u001B[1;33m{\u001B[0m\u001B[1;33m}\u001B[0m \u001B[1;32mif\u001B[0m \u001B[0mcbar_kws\u001B[0m \u001B[1;32mis\u001B[0m \u001B[1;32mNone\u001B[0m \u001B[1;32melse\u001B[0m \u001B[0mcbar_kws\u001B[0m\u001B[1;33m.\u001B[0m\u001B[0mcopy\u001B[0m\u001B[1;33m(\u001B[0m\u001B[1;33m)\u001B[0m\u001B[1;33m\u001B[0m\u001B[1;33m\u001B[0m\u001B[0m\n",
      "\u001B[1;31mAttributeError\u001B[0m: 'tuple' object has no attribute 'copy'"
     ]
    },
    {
     "data": {
      "text/plain": "<Figure size 720x720 with 0 Axes>"
     },
     "metadata": {},
     "output_type": "display_data"
    }
   ],
   "source": [
    "plt.figure(figsize=(10,10))\n",
    "sns.heatmap(dff.corr(),annot=True,annot_kws=(\"size\",14))\n",
    "sns.set_style('white')\n",
    "plt.xticks(fontsize=14)\n",
    "plt.yticks(fontsize=14)\n",
    "plt.show()"
   ],
   "metadata": {
    "collapsed": false,
    "pycharm": {
     "name": "#%%\n"
    }
   }
  },
  {
   "cell_type": "code",
   "execution_count": 140,
   "outputs": [],
   "source": [
    "import xarray as xr\n",
    "import pandas as pd\n",
    "import numpy as np\n",
    "import math as mh\n",
    "import matplotlib.pyplot as plt\n",
    "from sklearn.linear_model import LinearRegression\n",
    "from sklearn.preprocessing import PolynomialFeatures\n",
    "from sklearn.model_selection import train_test_split"
   ],
   "metadata": {
    "collapsed": false,
    "pycharm": {
     "name": "#%%\n"
    }
   }
  },
  {
   "cell_type": "code",
   "execution_count": 147,
   "outputs": [
    {
     "name": "stdout",
     "output_type": "stream",
     "text": [
      "r-squered for train 0.5184417453603785\n",
      "r-squered for test 0.6037751334402204\n"
     ]
    }
   ],
   "source": [
    "no2=dff['no2']\n",
    "no2=np.log(dff['no2'])\n",
    "features=dff.drop(columns=['no2','o3','so2','pm10','co','pm2.5','wind','tysk'],axis=1)\n",
    "X_train,X_test,Y_train,Y_test = train_test_split (features,no2,test_size=0.15,random_state=10)\n",
    "regr=LinearRegression()\n",
    "regr.fit(X_train,Y_train)\n",
    "print(\"r-squered for train\",regr.score(X_train,Y_train))\n",
    "print(\"r-squered for test\",regr.score(X_test,Y_test))\n",
    "#features=dff.drop(columns=['no2','o3','so2','pm10','co','pm2.5','wind','tysk','lat','lon','opady','hum','tmax','tmin','time'],axis=1)"
   ],
   "metadata": {
    "collapsed": false,
    "pycharm": {
     "name": "#%%\n"
    }
   }
  },
  {
   "cell_type": "code",
   "execution_count": 151,
   "outputs": [
    {
     "data": {
      "text/plain": "<Figure size 432x288 with 1 Axes>",
      "image/png": "[encoded data removed]"
     },
     "metadata": {
      "needs_background": "light"
     },
     "output_type": "display_data"
    },
    {
     "data": {
      "text/plain": "<Figure size 432x288 with 1 Axes>",
      "image/png": "[encoded data removed]"
     },
     "metadata": {
      "needs_background": "light"
     },
     "output_type": "display_data"
    },
    {
     "data": {
      "text/plain": "<Figure size 432x288 with 1 Axes>",
      "image/png": "[encoded data removed]"
     },
     "metadata": {
      "needs_background": "light"
     },
     "output_type": "display_data"
    }
   ],
   "source": [
    "features=dff.drop(columns=['no2','o3','so2','pm10','co','pm2.5','wind','tysk','lat','lon','opady','hum','tmax','tmin','time'],axis=1)\n",
    "Y = dff['no2']\n",
    "X = dff['hum']\n",
    "plt.scatter(X, Y)\n",
    "plt.xlabel('humidity')\n",
    "plt.ylabel(\"no2\")\n",
    "plt.show()\n",
    "Y = dff['no2']\n",
    "X = dff['tmax']\n",
    "plt.scatter(X, Y)\n",
    "plt.xlabel('tmax')\n",
    "plt.ylabel(\"no2\")\n",
    "plt.show()\n",
    "Y = dff['no2']\n",
    "X = dff['tmin']\n",
    "plt.scatter(X, Y)\n",
    "plt.xlabel('tmin')\n",
    "plt.ylabel(\"no2\")\n",
    "plt.show()\n"
   ],
   "metadata": {
    "collapsed": false,
    "pycharm": {
     "name": "#%%\n"
    }
   }
  },
  {
   "cell_type": "code",
   "execution_count": 162,
   "outputs": [
    {
     "name": "stdout",
     "output_type": "stream",
     "text": [
      "time no2\n",
      "r-squered for train 0.17056870263622503\n",
      "r-squered for test 0.1816767764382149\n",
      "\n",
      "\n",
      "r-squered for train 0.21424127436108198\n",
      "r-squered for test 0.22923930937262016\n",
      "\n",
      "\n",
      "r-squered for train 0.21204843571085663\n",
      "r-squered for test 0.23027639000492184\n",
      "\n",
      "\n",
      "r-squered for train 0.06688733448544404\n",
      "r-squered for test 0.03791643656750865\n",
      "\n",
      "\n",
      "r-squered for train 0.05559075025061633\n",
      "r-squered for test 0.04459260658563535\n",
      "\n",
      "\n",
      "r-squered for train 0.06675269171998488\n",
      "r-squered for test 0.04811087346636078\n",
      "\n",
      "\n",
      "r-squered for train 0.17263136967592085\n",
      "r-squered for test 0.15963224049336666\n",
      "\n",
      "\n",
      "r-squered for train 0.1740107602887636\n",
      "r-squered for test 0.17328682918855753\n",
      "\n",
      "\n",
      "r-squered for train 0.18977976815448305\n",
      "r-squered for test 0.18729682490795252\n",
      "\n",
      "\n",
      "poli 2 y\n",
      "r-squered for train 0.1738755601868257\n",
      "r-squered for test 0.1808368055911309\n",
      "\n",
      "\n",
      "poli 3 y\n",
      "r-squered for train 0.17820284086371851\n",
      "r-squered for test 0.18041591362092968\n",
      "\n",
      "\n",
      "poli 2 ln y\n",
      "r-squered for train 0.2121540204271397\n",
      "r-squered for test 0.2299223653100141\n",
      "\n",
      "\n",
      "poli 3 ln y\n",
      "r-squered for train 0.21500158349330845\n",
      "r-squered for test 0.23037915922032526\n",
      "\n",
      "\n",
      "bla\n",
      "\n",
      "\n",
      "lon no2\n",
      "r-squered for train 0.17259808428642498\n",
      "r-squered for test 0.21093755177182094\n",
      "\n",
      "\n",
      "r-squered for train 0.18578444611157474\n",
      "r-squered for test 0.22368093515093412\n",
      "\n",
      "\n",
      "r-squered for train 0.20537050886684716\n",
      "r-squered for test 0.24749814092350975\n",
      "\n",
      "\n",
      "r-squered for train 0.18014248927590526\n",
      "r-squered for test 0.22020291708580242\n",
      "\n",
      "\n",
      "r-squered for train 0.1922197454359038\n",
      "r-squered for test 0.22969241856668243\n",
      "\n",
      "\n",
      "r-squered for train 0.21318157225262402\n",
      "r-squered for test 0.2558047277636949\n",
      "\n",
      "\n",
      "r-squered for train 0.17648839050007425\n",
      "r-squered for test 0.2157056143742231\n",
      "\n",
      "\n",
      "r-squered for train 0.18918976090699358\n",
      "r-squered for test 0.2269101846763213\n",
      "\n",
      "\n",
      "r-squered for train 0.20945052986220947\n",
      "r-squered for test 0.25185736190717223\n",
      "\n",
      "\n",
      "poli 2 y\n",
      "r-squered for train 0.20027570114899573\n",
      "r-squered for test 0.24463453546788072\n",
      "\n",
      "\n",
      "poli 3 y\n",
      "r-squered for train 0.20067984133756456\n",
      "r-squered for test 0.24559686188676544\n",
      "\n",
      "\n",
      "poli 2 ln y\n",
      "r-squered for train 0.23191282147558745\n",
      "r-squered for test 0.27233137636075155\n",
      "\n",
      "\n",
      "poli 3 ln y\n",
      "r-squered for train 0.23330512215067667\n",
      "r-squered for test 0.2731590920145124\n",
      "\n",
      "\n",
      "bla\n",
      "\n",
      "\n",
      "lat no2\n",
      "r-squered for train 0.03262888668625008\n",
      "r-squered for test 0.04625091482718402\n",
      "\n",
      "\n",
      "r-squered for train 0.04284080256158851\n",
      "r-squered for test 0.05872286245791347\n",
      "\n",
      "\n",
      "r-squered for train 0.04298129621560087\n",
      "r-squered for test 0.05865774872870255\n",
      "\n",
      "\n",
      "r-squered for train 0.03268144246757887\n",
      "r-squered for test 0.04653879112101211\n",
      "\n",
      "\n",
      "r-squered for train 0.042880644379414745\n",
      "r-squered for test 0.05904805763714316\n",
      "\n",
      "\n",
      "r-squered for train 0.043036051035639455\n",
      "r-squered for test 0.05900772879870697\n",
      "\n",
      "\n",
      "r-squered for train 0.032655419892667625\n",
      "r-squered for test 0.04639517393072157\n",
      "\n",
      "\n",
      "r-squered for train 0.042861062640503156\n",
      "r-squered for test 0.058885894980017284\n",
      "\n",
      "\n",
      "r-squered for train 0.04300901221742148\n",
      "r-squered for test 0.05883315953529156\n",
      "\n",
      "\n",
      "poli 2 y\n",
      "r-squered for train 0.03332044667106371\n",
      "r-squered for test 0.052738466835902775\n",
      "\n",
      "\n",
      "poli 3 y\n",
      "r-squered for train 0.03332044667106382\n",
      "r-squered for test 0.05273846683590466\n",
      "\n",
      "\n",
      "poli 2 ln y\n",
      "r-squered for train 0.0435570853054128\n",
      "r-squered for test 0.06509293792987847\n",
      "\n",
      "\n",
      "poli 3 ln y\n",
      "r-squered for train 0.0435570853054128\n",
      "r-squered for test 0.06509293792984783\n",
      "\n",
      "\n",
      "bla\n",
      "\n",
      "\n",
      "hum no2\n",
      "r-squered for train 0.09755390503576278\n",
      "r-squered for test 0.08574503105452302\n",
      "\n",
      "\n",
      "r-squered for train 0.08220333318372708\n",
      "r-squered for test 0.05975404410441676\n",
      "\n",
      "\n",
      "r-squered for train 0.0981728058950867\n",
      "r-squered for test 0.0784152474103813\n",
      "\n",
      "\n",
      "r-squered for train 0.08689080858856701\n",
      "r-squered for test 0.07762729261056989\n",
      "\n",
      "\n",
      "r-squered for train 0.07388210347888391\n",
      "r-squered for test 0.055193108816067205\n",
      "\n",
      "\n",
      "r-squered for train 0.08816908340719509\n",
      "r-squered for test 0.07198518670927467\n",
      "\n",
      "\n",
      "r-squered for train 0.09237877611643819\n",
      "r-squered for test 0.08182571684345108\n",
      "\n",
      "\n",
      "r-squered for train 0.0782607198962808\n",
      "r-squered for test 0.057610541039546215\n",
      "\n",
      "\n",
      "r-squered for train 0.09338637886715118\n",
      "r-squered for test 0.07535636269600654\n",
      "\n",
      "\n",
      "poli 2 y\n",
      "r-squered for train 0.12217144977096372\n",
      "r-squered for test 0.10518472011410751\n",
      "\n",
      "\n",
      "poli 3 y\n",
      "r-squered for train 0.12538252832968544\n",
      "r-squered for test 0.10735267511687596\n",
      "\n",
      "\n",
      "poli 2 ln y\n",
      "r-squered for train 0.11808085444507599\n",
      "r-squered for test 0.09101820675734773\n",
      "\n",
      "\n",
      "poli 3 ln y\n",
      "r-squered for train 0.11825130006676465\n",
      "r-squered for test 0.09141056642164236\n",
      "\n",
      "\n",
      "bla\n",
      "\n",
      "\n"
     ]
    }
   ],
   "source": [
    "coordinates=['time','lon','lat','hum','tmax','tmin','opady','tysk','wind']\n",
    "elem=['no2','o3','so2','pm10','co','pm2.5']\n",
    "\n",
    "def regretion(dependent,independent):\n",
    "    print(dependent,independent)\n",
    "    x = np.array(dff[dependent]).reshape((-1, 1))\n",
    "    y = np.array(dff[independent])\n",
    "    #linaer 1\n",
    "    X_train,X_test,Y_train,Y_test = train_test_split (x,y,test_size=0.2,random_state=10)\n",
    "    model = LinearRegression().fit(X_train,Y_train)\n",
    "    print(\"r-squered for train\",model.score(X_train,Y_train))\n",
    "    print(\"r-squered for test\",model.score(X_test,Y_test))\n",
    "    print('\\n')\n",
    "    #arrays for other regressions\n",
    "    x_ln=np.log(x)\n",
    "    x_ln.reshape((-1,1))\n",
    "    x_1x=1/(x)\n",
    "    x_1x.reshape((-1,1))\n",
    "    y_ln=np.log(y)\n",
    "    y_1y=1/(y)\n",
    "    #2\n",
    "    X_train,X_test,Y_train,Y_test = train_test_split (x,y_1y,test_size=0.2,random_state=10)\n",
    "    model = LinearRegression().fit(X_train,Y_train)\n",
    "    print(\"r-squered for train\",model.score(X_train,Y_train))\n",
    "    print(\"r-squered for test\",model.score(X_test,Y_test))\n",
    "    print('\\n')\n",
    "    #3\n",
    "    X_train,X_test,Y_train,Y_test = train_test_split (x,y_ln,test_size=0.2,random_state=10)\n",
    "    model = LinearRegression().fit(X_train,Y_train)\n",
    "    print(\"r-squered for train\",model.score(X_train,Y_train))\n",
    "    print(\"r-squered for test\",model.score(X_test,Y_test))\n",
    "    print('\\n')\n",
    "    #4\n",
    "    X_train,X_test,Y_train,Y_test = train_test_split (x_1x,y,test_size=0.2,random_state=10)\n",
    "    model = LinearRegression().fit(X_train,Y_train)\n",
    "    print(\"r-squered for train\",model.score(X_train,Y_train))\n",
    "    print(\"r-squered for test\",model.score(X_test,Y_test))\n",
    "    print('\\n')\n",
    "    #5\n",
    "\n",
    "    X_train,X_test,Y_train,Y_test = train_test_split (x_1x,y_1y,test_size=0.2,random_state=10)\n",
    "    model = LinearRegression().fit(X_train,Y_train)\n",
    "    print(\"r-squered for train\",model.score(X_train,Y_train))\n",
    "    print(\"r-squered for test\",model.score(X_test,Y_test))\n",
    "    print('\\n')\n",
    "    #6\n",
    "    X_train,X_test,Y_train,Y_test = train_test_split (x_1x,y_ln,test_size=0.2,random_state=10)\n",
    "    model = LinearRegression().fit(X_train,Y_train)\n",
    "    print(\"r-squered for train\",model.score(X_train,Y_train))\n",
    "    print(\"r-squered for test\",model.score(X_test,Y_test))\n",
    "    print('\\n')\n",
    "    #7\n",
    "    X_train,X_test,Y_train,Y_test = train_test_split (x_ln,y,test_size=0.2,random_state=10)\n",
    "    model = LinearRegression().fit(X_train,Y_train)\n",
    "    print(\"r-squered for train\",model.score(X_train,Y_train))\n",
    "    print(\"r-squered for test\",model.score(X_test,Y_test))\n",
    "    print('\\n')\n",
    "    #8\n",
    "    X_train,X_test,Y_train,Y_test = train_test_split (x_ln,y_1y,test_size=0.2,random_state=10)\n",
    "    model = LinearRegression().fit(X_train,Y_train)\n",
    "    print(\"r-squered for train\",model.score(X_train,Y_train))\n",
    "    print(\"r-squered for test\",model.score(X_test,Y_test))\n",
    "    print('\\n')\n",
    "    #9\n",
    "    X_train,X_test,Y_train,Y_test = train_test_split (x_ln,y_ln,test_size=0.2,random_state=10)\n",
    "    model = LinearRegression().fit(X_train,Y_train)\n",
    "    print(\"r-squered for train\",model.score(X_train,Y_train))\n",
    "    print(\"r-squered for test\",model.score(X_test,Y_test))\n",
    "    print('\\n')\n",
    "    #10 polinom 2 x y\n",
    "    print('poli 2 y')\n",
    "    poly_reg = PolynomialFeatures(degree=2)\n",
    "    X_poly = poly_reg.fit_transform(x)\n",
    "    X_train, X_test, Y_train, Y_test = train_test_split(X_poly, y, test_size=0.2, random_state=10)\n",
    "    pol_reg = LinearRegression()\n",
    "    pol_reg.fit(X_train, Y_train)\n",
    "    print(\"r-squered for train\", pol_reg.score(X_train, Y_train))\n",
    "    print(\"r-squered for test\", pol_reg.score(X_test, Y_test))\n",
    "    print('\\n')\n",
    "    #11 polinom 3 x y\n",
    "    print('poli 3 y')\n",
    "    poly_reg = PolynomialFeatures(degree=3)\n",
    "    X_poly = poly_reg.fit_transform(x)\n",
    "    X_train, X_test, Y_train, Y_test = train_test_split(X_poly, y, test_size=0.2, random_state=10)\n",
    "    pol_reg = LinearRegression()\n",
    "    pol_reg.fit(X_train, Y_train)\n",
    "    print(\"r-squered for train\", pol_reg.score(X_train, Y_train))\n",
    "    print(\"r-squered for test\", pol_reg.score(X_test, Y_test))\n",
    "    print('\\n')\n",
    "    #12 poli 2 x lny\n",
    "    print('poli 2 ln y')\n",
    "    poly_reg = PolynomialFeatures(degree=2)\n",
    "    X_poly = poly_reg.fit_transform(x)\n",
    "    X_train, X_test, Y_train, Y_test = train_test_split(X_poly, y_ln, test_size=0.2, random_state=10)\n",
    "    pol_reg = LinearRegression()\n",
    "    pol_reg.fit(X_train, Y_train)\n",
    "    print(\"r-squered for train\", pol_reg.score(X_train, Y_train))\n",
    "    print(\"r-squered for test\", pol_reg.score(X_test, Y_test))\n",
    "    print('\\n')\n",
    "    #13 poli 3 x lny\n",
    "    print('poli 3 ln y')\n",
    "    poly_reg = PolynomialFeatures(degree=3)\n",
    "    X_poly = poly_reg.fit_transform(x)\n",
    "    X_train, X_test, Y_train, Y_test = train_test_split(X_poly, y_ln, test_size=0.2, random_state=10)\n",
    "    pol_reg = LinearRegression()\n",
    "    pol_reg.fit(X_train, Y_train)\n",
    "    print(\"r-squered for train\", pol_reg.score(X_train, Y_train))\n",
    "    print(\"r-squered for test\", pol_reg.score(X_test, Y_test))\n",
    "    print('\\n')\n",
    "    print('bla')\n",
    "    print('\\n')\n",
    "for i in range(4):\n",
    "    regretion(coordinates[i],elem[0])\n"
   ],
   "metadata": {
    "collapsed": false,
    "pycharm": {
     "name": "#%%\n"
    }
   }
  },
  {
   "cell_type": "code",
   "execution_count": 164,
   "outputs": [
    {
     "name": "stdout",
     "output_type": "stream",
     "text": [
      "tmax no2\n",
      "r-squered for train 0.07258509565460125\n",
      "r-squered for test 0.09348346279917152\n",
      "\n",
      "\n",
      "r-squered for train 0.10514585177070135\n",
      "r-squered for test 0.12388510614356096\n",
      "\n",
      "\n",
      "r-squered for train 0.0998095651434261\n",
      "r-squered for test 0.1247121051210267\n",
      "\n",
      "\n",
      "poli 2  y\n",
      "r-squered for train 0.08539698677711605\n",
      "r-squered for test 0.11151713821674303\n",
      "\n",
      "\n",
      "poli 3  y\n",
      "r-squered for train 0.10647663011694308\n",
      "r-squered for test 0.1218610429500977\n",
      "\n",
      "\n",
      "poli 2 ln y\n",
      "r-squered for train 0.10725761926871336\n",
      "r-squered for test 0.13700441707488287\n",
      "\n",
      "\n",
      "poli 3 ln y\n",
      "r-squered for train 0.12571355005542317\n",
      "r-squered for test 0.1421944224507199\n",
      "\n",
      "\n",
      "bla\n",
      "\n",
      "\n",
      "tmin no2\n",
      "r-squered for train 0.055596057997782555\n",
      "r-squered for test 0.07296011147373316\n",
      "\n",
      "\n",
      "r-squered for train 0.09218655450584001\n",
      "r-squered for test 0.11731028325676884\n",
      "\n",
      "\n",
      "r-squered for train 0.08123816297696784\n",
      "r-squered for test 0.1077164496277796\n",
      "\n",
      "\n",
      "poli 2  y\n",
      "r-squered for train 0.07646473640410012\n",
      "r-squered for test 0.09177989415247656\n",
      "\n",
      "\n",
      "poli 3  y\n",
      "r-squered for train 0.08206230757836608\n",
      "r-squered for test 0.09488563539165373\n",
      "\n",
      "\n",
      "poli 2 ln y\n",
      "r-squered for train 0.102046546689877\n",
      "r-squered for test 0.12808762916884286\n",
      "\n",
      "\n",
      "poli 3 ln y\n",
      "r-squered for train 0.10661037198239232\n",
      "r-squered for test 0.12868998663595244\n",
      "\n",
      "\n",
      "bla\n",
      "\n",
      "\n"
     ]
    }
   ],
   "source": [
    "def regretion2(dependent,independent):\n",
    "    print(dependent,independent)\n",
    "    x = np.array(dff[dependent]).reshape((-1, 1))\n",
    "    y = np.array(dff[independent])\n",
    "    #linaer 1\n",
    "    X_train,X_test,Y_train,Y_test = train_test_split (x,y,test_size=0.2,random_state=10)\n",
    "    model = LinearRegression().fit(X_train,Y_train)\n",
    "    print(\"r-squered for train\",model.score(X_train,Y_train))\n",
    "    print(\"r-squered for test\",model.score(X_test,Y_test))\n",
    "    print('\\n')\n",
    "\n",
    "    #arrays for other regressions\n",
    "\n",
    "    y_ln=np.log(y)\n",
    "    y_1y=1/(y)\n",
    "    #2\n",
    "    X_train,X_test,Y_train,Y_test = train_test_split (x,y_1y,test_size=0.2,random_state=10)\n",
    "    model = LinearRegression().fit(X_train,Y_train)\n",
    "    print(\"r-squered for train\",model.score(X_train,Y_train))\n",
    "    print(\"r-squered for test\",model.score(X_test,Y_test))\n",
    "    print('\\n')\n",
    "    #3\n",
    "    X_train,X_test,Y_train,Y_test = train_test_split (x,y_ln,test_size=0.2,random_state=10)\n",
    "    model = LinearRegression().fit(X_train,Y_train)\n",
    "    print(\"r-squered for train\",model.score(X_train,Y_train))\n",
    "    print(\"r-squered for test\",model.score(X_test,Y_test))\n",
    "    print('\\n')\n",
    "    #10 polinom 2 x y\n",
    "    print('poli 2  y')\n",
    "    poly_reg = PolynomialFeatures(degree=2)\n",
    "    X_poly = poly_reg.fit_transform(x)\n",
    "    X_train, X_test, Y_train, Y_test = train_test_split(X_poly, y, test_size=0.2, random_state=10)\n",
    "    pol_reg = LinearRegression()\n",
    "    pol_reg.fit(X_train, Y_train)\n",
    "    print(\"r-squered for train\", pol_reg.score(X_train, Y_train))\n",
    "    print(\"r-squered for test\", pol_reg.score(X_test, Y_test))\n",
    "    print('\\n')\n",
    "    #11 polinom 3 x y\n",
    "    print('poli 3  y')\n",
    "    poly_reg = PolynomialFeatures(degree=3)\n",
    "    X_poly = poly_reg.fit_transform(x)\n",
    "    X_train, X_test, Y_train, Y_test = train_test_split(X_poly, y, test_size=0.2, random_state=10)\n",
    "    pol_reg = LinearRegression()\n",
    "    pol_reg.fit(X_train, Y_train)\n",
    "    print(\"r-squered for train\", pol_reg.score(X_train, Y_train))\n",
    "    print(\"r-squered for test\", pol_reg.score(X_test, Y_test))\n",
    "    print('\\n')\n",
    "    #12 poli 2 x lny\n",
    "    print('poli 2 ln y')\n",
    "    poly_reg = PolynomialFeatures(degree=2)\n",
    "    X_poly = poly_reg.fit_transform(x)\n",
    "    X_train, X_test, Y_train, Y_test = train_test_split(X_poly, y_ln, test_size=0.2, random_state=10)\n",
    "    pol_reg = LinearRegression()\n",
    "    pol_reg.fit(X_train, Y_train)\n",
    "    print(\"r-squered for train\", pol_reg.score(X_train, Y_train))\n",
    "    print(\"r-squered for test\", pol_reg.score(X_test, Y_test))\n",
    "    print('\\n')\n",
    "    #13 poli 3 x lny\n",
    "    print('poli 3 ln y')\n",
    "    poly_reg = PolynomialFeatures(degree=3)\n",
    "    X_poly = poly_reg.fit_transform(x)\n",
    "    X_train, X_test, Y_train, Y_test = train_test_split(X_poly, y_ln, test_size=0.2, random_state=10)\n",
    "    pol_reg = LinearRegression()\n",
    "    pol_reg.fit(X_train, Y_train)\n",
    "    print(\"r-squered for train\", pol_reg.score(X_train, Y_train))\n",
    "    print(\"r-squered for test\", pol_reg.score(X_test, Y_test))\n",
    "    print('\\n')\n",
    "    print('bla')\n",
    "    print('\\n')\n",
    "regretion2(coordinates[4],elem[0])\n",
    "regretion2(coordinates[5],elem[0])"
   ],
   "metadata": {
    "collapsed": false,
    "pycharm": {
     "name": "#%%\n"
    }
   }
  },
  {
   "cell_type": "code",
   "execution_count": null,
   "outputs": [],
   "source": [],
   "metadata": {
    "collapsed": false,
    "pycharm": {
     "name": "#%%\n"
    }
   }
  }
 ],
 "metadata": {
  "kernelspec": {
   "display_name": "Python 3",
   "language": "python",
   "name": "python3"
  },
  "language_info": {
   "codemirror_mode": {
    "name": "ipython",
    "version": 2
   },
   "file_extension": ".py",
   "mimetype": "text/x-python",
   "name": "python",
   "nbconvert_exporter": "python",
   "pygments_lexer": "ipython2",
   "version": "2.7.6"
  }
 },
 "nbformat": 4,
 "nbformat_minor": 0
}