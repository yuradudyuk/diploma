{
 "cells": [
  {
   "cell_type": "code",
   "execution_count": 45,
   "outputs": [
    {
     "data": {
      "text/plain": "            no2        o3       so2     pm2.5      pm10        co      tmax  \\\ntime  -0.415741  0.387441 -0.240323 -0.368899 -0.390421 -0.605185  0.826676   \nlon   -0.424547  0.030846 -0.461588 -0.207922 -0.254245 -0.258727 -0.042636   \nlat   -0.188201  0.042263 -0.147747 -0.097050 -0.086878 -0.051185 -0.007945   \nno2    1.000000 -0.521072  0.726618  0.624651  0.651734  0.751877 -0.277203   \no3    -0.521072  1.000000 -0.059292 -0.308254 -0.297094 -0.510993  0.349467   \nso2    0.726618 -0.059292  1.000000  0.687509  0.715760  0.611125 -0.049439   \npm2.5  0.624651 -0.308254  0.687509  1.000000  0.989233  0.782036 -0.012987   \npm10   0.651734 -0.297094  0.715760  0.989233  1.000000  0.777753 -0.032763   \nco     0.751877 -0.510993  0.611125  0.782036  0.777753  1.000000 -0.392282   \ntmax  -0.277203  0.349467 -0.049439 -0.012987 -0.032763 -0.392282  1.000000   \ntmin  -0.243154  0.175435 -0.159459 -0.153268 -0.179913 -0.413195  0.876554   \nhum    0.308719 -0.673717 -0.013148  0.282630  0.249959  0.439669 -0.353050   \nopady -0.064895 -0.169933 -0.183186 -0.116184 -0.150461 -0.085150  0.132974   \ntysk  -0.005493 -0.075370 -0.060192  0.132733  0.143303  0.060516 -0.118298   \nwind   0.074401  0.313442  0.199419 -0.069917 -0.046335 -0.030763 -0.105003   \n\n           tmin       hum     opady      tysk      wind  \ntime   0.846596 -0.440903  0.224874 -0.222992 -0.080717  \nlon   -0.032703  0.175312  0.085854  0.094838 -0.096535  \nlat    0.002081  0.045270 -0.023346  0.340029 -0.002991  \nno2   -0.243154  0.308719 -0.064895 -0.005493  0.074401  \no3     0.175435 -0.673717 -0.169933 -0.075370  0.313442  \nso2   -0.159459 -0.013148 -0.183186 -0.060192  0.199419  \npm2.5 -0.153268  0.282630 -0.116184  0.132733 -0.069917  \npm10  -0.179913  0.249959 -0.150461  0.143303 -0.046335  \nco    -0.413195  0.439669 -0.085150  0.060516 -0.030763  \ntmax   0.876554 -0.353050  0.132974 -0.118298 -0.105003  \ntmin   1.000000 -0.112886  0.353958 -0.261290 -0.053905  \nhum   -0.112886  1.000000  0.416990 -0.102690 -0.035014  \nopady  0.353958  0.416990  1.000000 -0.335279  0.003805  \ntysk  -0.261290 -0.102690 -0.335279  1.000000 -0.238502  \nwind  -0.053905 -0.035014  0.003805 -0.238502  1.000000  ",
      "text/html": "<div>\n<style scoped>\n    .dataframe tbody tr th:only-of-type {\n        vertical-align: middle;\n    }\n\n    .dataframe tbody tr th {\n        vertical-align: top;\n    }\n\n    .dataframe thead th {\n        text-align: right;\n    }\n</style>\n<table border=\"1\" class=\"dataframe\">\n  <thead>\n    <tr style=\"text-align: right;\">\n      <th></th>\n      <th>no2</th>\n      <th>o3</th>\n      <th>so2</th>\n      <th>pm2.5</th>\n      <th>pm10</th>\n      <th>co</th>\n      <th>tmax</th>\n      <th>tmin</th>\n      <th>hum</th>\n      <th>opady</th>\n      <th>tysk</th>\n      <th>wind</th>\n    </tr>\n  </thead>\n  <tbody>\n    <tr>\n      <th>time</th>\n      <td>-0.415741</td>\n      <td>0.387441</td>\n      <td>-0.240323</td>\n      <td>-0.368899</td>\n      <td>-0.390421</td>\n      <td>-0.605185</td>\n      <td>0.826676</td>\n      <td>0.846596</td>\n      <td>-0.440903</td>\n      <td>0.224874</td>\n      <td>-0.222992</td>\n      <td>-0.080717</td>\n    </tr>\n    <tr>\n      <th>lon</th>\n      <td>-0.424547</td>\n      <td>0.030846</td>\n      <td>-0.461588</td>\n      <td>-0.207922</td>\n      <td>-0.254245</td>\n      <td>-0.258727</td>\n      <td>-0.042636</td>\n      <td>-0.032703</td>\n      <td>0.175312</td>\n      <td>0.085854</td>\n      <td>0.094838</td>\n      <td>-0.096535</td>\n    </tr>\n    <tr>\n      <th>lat</th>\n      <td>-0.188201</td>\n      <td>0.042263</td>\n      <td>-0.147747</td>\n      <td>-0.097050</td>\n      <td>-0.086878</td>\n      <td>-0.051185</td>\n      <td>-0.007945</td>\n      <td>0.002081</td>\n      <td>0.045270</td>\n      <td>-0.023346</td>\n      <td>0.340029</td>\n      <td>-0.002991</td>\n    </tr>\n    <tr>\n      <th>no2</th>\n      <td>1.000000</td>\n      <td>-0.521072</td>\n      <td>0.726618</td>\n      <td>0.624651</td>\n      <td>0.651734</td>\n      <td>0.751877</td>\n      <td>-0.277203</td>\n      <td>-0.243154</td>\n      <td>0.308719</td>\n      <td>-0.064895</td>\n      <td>-0.005493</td>\n      <td>0.074401</td>\n    </tr>\n    <tr>\n      <th>o3</th>\n      <td>-0.521072</td>\n      <td>1.000000</td>\n      <td>-0.059292</td>\n      <td>-0.308254</td>\n      <td>-0.297094</td>\n      <td>-0.510993</td>\n      <td>0.349467</td>\n      <td>0.175435</td>\n      <td>-0.673717</td>\n      <td>-0.169933</td>\n      <td>-0.075370</td>\n      <td>0.313442</td>\n    </tr>\n    <tr>\n      <th>so2</th>\n      <td>0.726618</td>\n      <td>-0.059292</td>\n      <td>1.000000</td>\n      <td>0.687509</td>\n      <td>0.715760</td>\n      <td>0.611125</td>\n      <td>-0.049439</td>\n      <td>-0.159459</td>\n      <td>-0.013148</td>\n      <td>-0.183186</td>\n      <td>-0.060192</td>\n      <td>0.199419</td>\n    </tr>\n    <tr>\n      <th>pm2.5</th>\n      <td>0.624651</td>\n      <td>-0.308254</td>\n      <td>0.687509</td>\n      <td>1.000000</td>\n      <td>0.989233</td>\n      <td>0.782036</td>\n      <td>-0.012987</td>\n      <td>-0.153268</td>\n      <td>0.282630</td>\n      <td>-0.116184</td>\n      <td>0.132733</td>\n      <td>-0.069917</td>\n    </tr>\n    <tr>\n      <th>pm10</th>\n      <td>0.651734</td>\n      <td>-0.297094</td>\n      <td>0.715760</td>\n      <td>0.989233</td>\n      <td>1.000000</td>\n      <td>0.777753</td>\n      <td>-0.032763</td>\n      <td>-0.179913</td>\n      <td>0.249959</td>\n      <td>-0.150461</td>\n      <td>0.143303</td>\n      <td>-0.046335</td>\n    </tr>\n    <tr>\n      <th>co</th>\n      <td>0.751877</td>\n      <td>-0.510993</td>\n      <td>0.611125</td>\n      <td>0.782036</td>\n      <td>0.777753</td>\n      <td>1.000000</td>\n      <td>-0.392282</td>\n      <td>-0.413195</td>\n      <td>0.439669</td>\n      <td>-0.085150</td>\n      <td>0.060516</td>\n      <td>-0.030763</td>\n    </tr>\n    <tr>\n      <th>tmax</th>\n      <td>-0.277203</td>\n      <td>0.349467</td>\n      <td>-0.049439</td>\n      <td>-0.012987</td>\n      <td>-0.032763</td>\n      <td>-0.392282</td>\n      <td>1.000000</td>\n      <td>0.876554</td>\n      <td>-0.353050</td>\n      <td>0.132974</td>\n      <td>-0.118298</td>\n      <td>-0.105003</td>\n    </tr>\n    <tr>\n      <th>tmin</th>\n      <td>-0.243154</td>\n      <td>0.175435</td>\n      <td>-0.159459</td>\n      <td>-0.153268</td>\n      <td>-0.179913</td>\n      <td>-0.413195</td>\n      <td>0.876554</td>\n      <td>1.000000</td>\n      <td>-0.112886</td>\n      <td>0.353958</td>\n      <td>-0.261290</td>\n      <td>-0.053905</td>\n    </tr>\n    <tr>\n      <th>hum</th>\n      <td>0.308719</td>\n      <td>-0.673717</td>\n      <td>-0.013148</td>\n      <td>0.282630</td>\n      <td>0.249959</td>\n      <td>0.439669</td>\n      <td>-0.353050</td>\n      <td>-0.112886</td>\n      <td>1.000000</td>\n      <td>0.416990</td>\n      <td>-0.102690</td>\n      <td>-0.035014</td>\n    </tr>\n    <tr>\n      <th>opady</th>\n      <td>-0.064895</td>\n      <td>-0.169933</td>\n      <td>-0.183186</td>\n      <td>-0.116184</td>\n      <td>-0.150461</td>\n      <td>-0.085150</td>\n      <td>0.132974</td>\n      <td>0.353958</td>\n      <td>0.416990</td>\n      <td>1.000000</td>\n      <td>-0.335279</td>\n      <td>0.003805</td>\n    </tr>\n    <tr>\n      <th>tysk</th>\n      <td>-0.005493</td>\n      <td>-0.075370</td>\n      <td>-0.060192</td>\n      <td>0.132733</td>\n      <td>0.143303</td>\n      <td>0.060516</td>\n      <td>-0.118298</td>\n      <td>-0.261290</td>\n      <td>-0.102690</td>\n      <td>-0.335279</td>\n      <td>1.000000</td>\n      <td>-0.238502</td>\n    </tr>\n    <tr>\n      <th>wind</th>\n      <td>0.074401</td>\n      <td>0.313442</td>\n      <td>0.199419</td>\n      <td>-0.069917</td>\n      <td>-0.046335</td>\n      <td>-0.030763</td>\n      <td>-0.105003</td>\n      <td>-0.053905</td>\n      <td>-0.035014</td>\n      <td>0.003805</td>\n      <td>-0.238502</td>\n      <td>1.000000</td>\n    </tr>\n  </tbody>\n</table>\n</div>"
     },
     "execution_count": 45,
     "metadata": {},
     "output_type": "execute_result"
    }
   ],
   "source": [
    "import xarray as xr\n",
    "import pandas as pd\n",
    "import numpy as np\n",
    "import math as mh\n",
    "import matplotlib.pyplot as plt\n",
    "from sklearn.linear_model import LinearRegression\n",
    "from sklearn.preprocessing import PolynomialFeatures\n",
    "from sklearn.model_selection import train_test_split\n",
    "import seaborn as sns\n",
    "import statsmodels.api as sm\n",
    "from statsmodels.stats.outliers_influence import variance_inflation_factor\n",
    "from sklearn import metrics\n",
    "from sklearn.ensemble import RandomForestRegressor\n",
    "dff=pd.read_csv('atlast_data.csv',index_col=0)\n",
    "cor=dff.corr()\n",
    "#cor=cor.drop(columns=['time','lon','lat'])\n",
    "cor.drop(columns=['time','lon','lat'],axis=0)\n"
   ],
   "metadata": {
    "collapsed": false,
    "pycharm": {
     "name": "#%%\n"
    }
   }
  },
  {
   "cell_type": "code",
   "execution_count": 46,
   "outputs": [
    {
     "name": "stdout",
     "output_type": "stream",
     "text": [
      "r-squered for train 0.6886276905716382\n",
      "r-squered for test 0.7164424486092944\n",
      "             coef        p-value\n",
      "const  120.925048   0.000000e+00\n",
      "time    -0.025730   2.067474e-02\n",
      "no2     -2.606179  4.958148e-118\n",
      "pm10     0.233320   9.266049e-11\n",
      "co      -0.022999   2.196687e-03\n",
      "tmax     0.341165   2.323488e-11\n",
      "tmin    -0.264375   7.304717e-05\n",
      "hum     -0.717897  1.302800e-168\n",
      "opady    0.222206   1.198890e-07\n",
      "wind     3.103987  4.981081e-182\n"
     ]
    },
    {
     "name": "stderr",
     "output_type": "stream",
     "text": [
      "C:\\Users\\Yura Dudyuk\\anaconda3\\lib\\site-packages\\statsmodels\\tsa\\tsatools.py:142: FutureWarning: In a future version of pandas all arguments of concat except for the argument 'objs' will be keyword-only\n",
      "  x = pd.concat(x[::order], 1)\n"
     ]
    }
   ],
   "source": [
    "chem=dff['o3']\n",
    "features=dff.drop(columns=['o3','so2','pm2.5','tysk','lat','lon'],axis=1)\n",
    "X_train,X_test,Y_train,Y_test = train_test_split (features,chem,test_size=0.15,random_state=10)\n",
    "regr=LinearRegression()\n",
    "regr.fit(X_train,Y_train)\n",
    "print(\"r-squered for train\",regr.score(X_train,Y_train))\n",
    "print(\"r-squered for test\",regr.score(X_test,Y_test))\n",
    "x_incl_const=sm.add_constant(X_train)\n",
    "model = sm.OLS(Y_train,x_incl_const)\n",
    "results=model.fit()\n",
    "dd=pd.DataFrame({'coef': results.params,'p-value':results.pvalues})\n",
    "print(dd)"
   ],
   "metadata": {
    "collapsed": false,
    "pycharm": {
     "name": "#%%\n"
    }
   }
  },
  {
   "cell_type": "code",
   "execution_count": 47,
   "outputs": [
    {
     "data": {
      "text/plain": "  coef_name         vif\n0     const  633.147661\n1      time    8.358409\n2       no2    2.629631\n3      pm10    4.529896\n4        co    5.086150\n5      tmax   10.116272\n6      tmin   10.952355\n7       hum    2.943223\n8     opady    1.679818\n9      wind    1.082689",
      "text/html": "<div>\n<style scoped>\n    .dataframe tbody tr th:only-of-type {\n        vertical-align: middle;\n    }\n\n    .dataframe tbody tr th {\n        vertical-align: top;\n    }\n\n    .dataframe thead th {\n        text-align: right;\n    }\n</style>\n<table border=\"1\" class=\"dataframe\">\n  <thead>\n    <tr style=\"text-align: right;\">\n      <th></th>\n      <th>coef_name</th>\n      <th>vif</th>\n    </tr>\n  </thead>\n  <tbody>\n    <tr>\n      <th>0</th>\n      <td>const</td>\n      <td>633.147661</td>\n    </tr>\n    <tr>\n      <th>1</th>\n      <td>time</td>\n      <td>8.358409</td>\n    </tr>\n    <tr>\n      <th>2</th>\n      <td>no2</td>\n      <td>2.629631</td>\n    </tr>\n    <tr>\n      <th>3</th>\n      <td>pm10</td>\n      <td>4.529896</td>\n    </tr>\n    <tr>\n      <th>4</th>\n      <td>co</td>\n      <td>5.086150</td>\n    </tr>\n    <tr>\n      <th>5</th>\n      <td>tmax</td>\n      <td>10.116272</td>\n    </tr>\n    <tr>\n      <th>6</th>\n      <td>tmin</td>\n      <td>10.952355</td>\n    </tr>\n    <tr>\n      <th>7</th>\n      <td>hum</td>\n      <td>2.943223</td>\n    </tr>\n    <tr>\n      <th>8</th>\n      <td>opady</td>\n      <td>1.679818</td>\n    </tr>\n    <tr>\n      <th>9</th>\n      <td>wind</td>\n      <td>1.082689</td>\n    </tr>\n  </tbody>\n</table>\n</div>"
     },
     "execution_count": 47,
     "metadata": {},
     "output_type": "execute_result"
    }
   ],
   "source": [
    "variance_inflation_factor(exog=x_incl_const.values,exog_idx=1)\n",
    "vif=[variance_inflation_factor(exog=x_incl_const.values,exog_idx=i) for i in range(x_incl_const.shape[1])]\n",
    "dd=pd.DataFrame({'coef_name': x_incl_const.columns,'vif':vif})\n",
    "dd"
   ],
   "metadata": {
    "collapsed": false,
    "pycharm": {
     "name": "#%%\n"
    }
   }
  },
  {
   "cell_type": "code",
   "execution_count": 48,
   "outputs": [
    {
     "name": "stdout",
     "output_type": "stream",
     "text": [
      "BIC 17591.331015586202\n",
      "r-squared 0.6886276905716382\n"
     ]
    },
    {
     "name": "stderr",
     "output_type": "stream",
     "text": [
      "C:\\Users\\Yura Dudyuk\\anaconda3\\lib\\site-packages\\statsmodels\\tsa\\tsatools.py:142: FutureWarning: In a future version of pandas all arguments of concat except for the argument 'objs' will be keyword-only\n",
      "  x = pd.concat(x[::order], 1)\n"
     ]
    }
   ],
   "source": [
    "x_incl_const=sm.add_constant(X_train)\n",
    "model = sm.OLS(Y_train,x_incl_const)\n",
    "results=model.fit()\n",
    "org_coef=pd.DataFrame({'coef': results.params,'p-value':results.pvalues})\n",
    "print('BIC',results.bic)\n",
    "print('r-squared',results.rsquared)"
   ],
   "metadata": {
    "collapsed": false,
    "pycharm": {
     "name": "#%%\n"
    }
   }
  },
  {
   "cell_type": "code",
   "execution_count": 49,
   "outputs": [
    {
     "name": "stdout",
     "output_type": "stream",
     "text": [
      "BIC 17599.177425605394\n",
      "r-squared 0.686876319168346\n"
     ]
    },
    {
     "name": "stderr",
     "output_type": "stream",
     "text": [
      "C:\\Users\\Yura Dudyuk\\anaconda3\\lib\\site-packages\\statsmodels\\tsa\\tsatools.py:142: FutureWarning: In a future version of pandas all arguments of concat except for the argument 'objs' will be keyword-only\n",
      "  x = pd.concat(x[::order], 1)\n"
     ]
    }
   ],
   "source": [
    "x_incl_const=sm.add_constant(X_train)\n",
    "x_incl_const=x_incl_const.drop(['tmin'],axis=1)\n",
    "model = sm.OLS(Y_train,x_incl_const)\n",
    "results=model.fit()\n",
    "reduced_coef=pd.DataFrame({'coef': results.params,'p-value':results.pvalues})\n",
    "print('BIC',results.bic)\n",
    "print('r-squared',results.rsquared)"
   ],
   "metadata": {
    "collapsed": false,
    "pycharm": {
     "name": "#%%\n"
    }
   }
  },
  {
   "cell_type": "code",
   "execution_count": 50,
   "outputs": [
    {
     "data": {
      "text/plain": "             coef        p-value        coef        p-value\nconst  120.925048   0.000000e+00  127.317477   0.000000e+00\ntime    -0.025730   2.067474e-02   -0.047023   1.531822e-06\nno2     -2.606179  4.958148e-118   -2.702620  2.454669e-131\npm10     0.233320   9.266049e-11    0.260888   1.893776e-13\nco      -0.022999   2.196687e-03   -0.022696   2.576535e-03\ntmax     0.341165   2.323488e-11    0.203616   5.260751e-08\ntmin    -0.264375   7.304717e-05         NaN            NaN\nhum     -0.717897  1.302800e-168   -0.770307  3.217124e-254\nopady    0.222206   1.198890e-07    0.205448   9.187313e-07\nwind     3.103987  4.981081e-182    3.041892  8.441013e-179",
      "text/html": "<div>\n<style scoped>\n    .dataframe tbody tr th:only-of-type {\n        vertical-align: middle;\n    }\n\n    .dataframe tbody tr th {\n        vertical-align: top;\n    }\n\n    .dataframe thead th {\n        text-align: right;\n    }\n</style>\n<table border=\"1\" class=\"dataframe\">\n  <thead>\n    <tr style=\"text-align: right;\">\n      <th></th>\n      <th>coef</th>\n      <th>p-value</th>\n      <th>coef</th>\n      <th>p-value</th>\n    </tr>\n  </thead>\n  <tbody>\n    <tr>\n      <th>const</th>\n      <td>120.925048</td>\n      <td>0.000000e+00</td>\n      <td>127.317477</td>\n      <td>0.000000e+00</td>\n    </tr>\n    <tr>\n      <th>time</th>\n      <td>-0.025730</td>\n      <td>2.067474e-02</td>\n      <td>-0.047023</td>\n      <td>1.531822e-06</td>\n    </tr>\n    <tr>\n      <th>no2</th>\n      <td>-2.606179</td>\n      <td>4.958148e-118</td>\n      <td>-2.702620</td>\n      <td>2.454669e-131</td>\n    </tr>\n    <tr>\n      <th>pm10</th>\n      <td>0.233320</td>\n      <td>9.266049e-11</td>\n      <td>0.260888</td>\n      <td>1.893776e-13</td>\n    </tr>\n    <tr>\n      <th>co</th>\n      <td>-0.022999</td>\n      <td>2.196687e-03</td>\n      <td>-0.022696</td>\n      <td>2.576535e-03</td>\n    </tr>\n    <tr>\n      <th>tmax</th>\n      <td>0.341165</td>\n      <td>2.323488e-11</td>\n      <td>0.203616</td>\n      <td>5.260751e-08</td>\n    </tr>\n    <tr>\n      <th>tmin</th>\n      <td>-0.264375</td>\n      <td>7.304717e-05</td>\n      <td>NaN</td>\n      <td>NaN</td>\n    </tr>\n    <tr>\n      <th>hum</th>\n      <td>-0.717897</td>\n      <td>1.302800e-168</td>\n      <td>-0.770307</td>\n      <td>3.217124e-254</td>\n    </tr>\n    <tr>\n      <th>opady</th>\n      <td>0.222206</td>\n      <td>1.198890e-07</td>\n      <td>0.205448</td>\n      <td>9.187313e-07</td>\n    </tr>\n    <tr>\n      <th>wind</th>\n      <td>3.103987</td>\n      <td>4.981081e-182</td>\n      <td>3.041892</td>\n      <td>8.441013e-179</td>\n    </tr>\n  </tbody>\n</table>\n</div>"
     },
     "execution_count": 50,
     "metadata": {},
     "output_type": "execute_result"
    }
   ],
   "source": [
    "frames=[org_coef,reduced_coef]\n",
    "news=pd.concat(frames,axis=1)\n",
    "news"
   ],
   "metadata": {
    "collapsed": false,
    "pycharm": {
     "name": "#%%\n"
    }
   }
  },
  {
   "cell_type": "code",
   "execution_count": 51,
   "outputs": [
    {
     "name": "stdout",
     "output_type": "stream",
     "text": [
      "r-squered for train 0.686876319168346\n",
      "r-squered for test 0.7153927558809599\n",
      "             coef        p-value\n",
      "const  127.317477   0.000000e+00\n",
      "time    -0.047023   1.531822e-06\n",
      "no2     -2.702620  2.454669e-131\n",
      "pm10     0.260888   1.893776e-13\n",
      "co      -0.022696   2.576535e-03\n",
      "tmax     0.203616   5.260751e-08\n",
      "hum     -0.770307  3.217124e-254\n",
      "opady    0.205448   9.187313e-07\n",
      "wind     3.041892  8.441013e-179\n"
     ]
    },
    {
     "name": "stderr",
     "output_type": "stream",
     "text": [
      "C:\\Users\\Yura Dudyuk\\anaconda3\\lib\\site-packages\\statsmodels\\tsa\\tsatools.py:142: FutureWarning: In a future version of pandas all arguments of concat except for the argument 'objs' will be keyword-only\n",
      "  x = pd.concat(x[::order], 1)\n"
     ]
    }
   ],
   "source": [
    "chem=dff['o3']\n",
    "features=dff.drop(columns=['o3','so2','pm2.5','tysk','lat','lon','tmin'],axis=1)\n",
    "X_train,X_test,Y_train,Y_test = train_test_split (features,chem,test_size=0.15,random_state=10)\n",
    "regr=LinearRegression()\n",
    "regr.fit(X_train,Y_train)\n",
    "print(\"r-squered for train\",regr.score(X_train,Y_train))\n",
    "print(\"r-squered for test\",regr.score(X_test,Y_test))\n",
    "\n",
    "x_incl_const=sm.add_constant(X_train)\n",
    "model = sm.OLS(Y_train,x_incl_const)\n",
    "results=model.fit()\n",
    "dd=pd.DataFrame({'coef': results.params,'p-value':results.pvalues})\n",
    "print(dd)"
   ],
   "metadata": {
    "collapsed": false,
    "pycharm": {
     "name": "#%%\n"
    }
   }
  },
  {
   "cell_type": "code",
   "execution_count": 52,
   "outputs": [
    {
     "data": {
      "text/plain": "array([50.68729838, 70.67046039, 65.76006251, 56.97573174, 70.99220147,\n       66.41092786, 69.87723291, 72.47198816, 73.85668901, 59.88585431,\n       72.33026281, 66.29465295, 72.95697764, 55.5832177 , 59.51984249,\n       76.70788533, 72.82143603, 64.07991597, 60.28621828, 62.19770953,\n       80.61726918, 75.07141664, 78.08495417, 47.64494864, 59.53678939,\n       60.96242418, 59.81377798, 59.66259374, 74.89042506, 65.46338843,\n       64.44163776, 79.74134396, 63.60583311, 66.51211176, 59.06067818,\n       58.78176492, 48.85476529, 68.58726155, 61.86161069, 63.61348641,\n       73.30286035, 59.30699694, 53.3709068 , 57.90708228, 74.7072166 ,\n       54.64288359, 62.61431999, 71.65127581, 77.07127196, 54.57229882,\n       63.27381346, 78.24695127, 79.65345769, 58.30142095, 62.21087514,\n       67.80791266, 69.68242407, 55.29065276, 65.22619395, 62.28751145,\n       72.29402733, 61.11575936, 58.48719221, 52.04266813, 53.06606223,\n       69.53099382, 69.04248946, 72.97283064, 74.70846813, 58.56947102,\n       59.10296278, 71.68239063, 79.92253499, 78.70264984, 77.68767562,\n       57.83587432, 72.99631085, 56.44856927, 61.23017606, 54.28024327,\n       71.45532164, 71.03876651, 55.14180177, 71.31498676, 64.77475267,\n       55.30821115, 76.20587635, 68.15396504, 74.29920844, 68.79194013,\n       68.27982078, 60.06247915, 66.52970657, 69.11250844, 66.84514532,\n       75.01600227, 69.51439578, 67.30518588, 61.96038604, 61.03557884,\n       71.46020757, 61.4681057 , 64.27831561, 71.00212872, 64.4460428 ,\n       63.38764243, 45.60675948, 72.95754693, 69.28052809, 70.49216795,\n       69.18450775, 57.09426255, 67.50438488, 39.31834846, 57.06795171,\n       41.83825115, 68.68008955, 67.17352268, 65.56180581, 81.11688779,\n       59.34959301, 59.57564464, 67.86867199, 78.14817002, 70.36131273,\n       61.77268441, 71.23098344, 53.75097186, 79.80218655, 71.55549822,\n       64.67396263, 54.69322239, 69.42808243, 48.85884348, 73.12578691,\n       61.43986617, 81.11488936, 68.91796041, 69.49039075, 61.64493692,\n       61.77837798, 54.19075358, 54.72808147, 54.77555385, 67.1854032 ,\n       59.74045692, 74.52917267, 76.25615435, 69.1895878 , 63.78194916,\n       60.42249239, 67.00423575, 67.48417852, 66.24481565, 51.43797512,\n       57.87364195, 54.60053877, 70.11976846, 72.72324439, 64.98986617,\n       81.54561121, 70.56137263, 63.59403573, 60.19973514, 57.39455806,\n       67.38495953, 58.43006806, 71.5630196 , 58.49578111, 64.70593315,\n       61.74763894, 56.9309391 , 79.15195107, 70.76807197, 57.58622889,\n       48.42868849, 53.93478728, 66.97687107, 78.20125027, 60.41142074,\n       49.26289356, 84.09207106, 67.4394734 , 70.31521034, 60.38590347,\n       60.10482435, 59.86815032, 59.75442353, 69.90373942, 60.66691452,\n       65.9543813 , 63.85865155, 68.89620483, 61.81912534, 67.59326807,\n       78.10533778, 56.59025229, 71.54083885, 40.68586957, 79.98428212,\n       65.54527129, 68.00158152, 70.55975668, 73.82114949, 62.34052847,\n       60.32643073, 71.60757948, 69.97411837, 62.53235323, 65.54766068,\n       69.38491378, 66.67784062, 78.5576269 , 59.44607149, 61.75908288,\n       57.4342711 , 57.42228235, 69.18890179, 67.3600197 , 66.06318614,\n       70.23789835, 73.66410015, 78.00997603, 64.44325309, 66.1752127 ,\n       67.96025987, 68.46149985, 62.10819314, 65.35750533, 83.13177015,\n       64.30302769, 57.33785489, 79.37257873, 58.94956434, 62.43840706,\n       71.96952302, 62.39776366, 71.47638123, 67.37930412, 68.47965966,\n       77.8618228 , 68.97143339, 63.89896693, 64.28889755, 54.90531269,\n       37.13281993, 54.05227075, 64.42024329, 63.88285794, 75.92178732,\n       64.02509101, 61.51822007, 64.51108521, 68.67872751, 64.77607345,\n       60.66977786, 63.56119603, 60.26142816, 78.22347933, 82.49598785,\n       62.75236163, 62.65559387, 67.42907964, 70.28371339, 48.88307922,\n       62.4884772 , 61.42527712, 67.09505125, 71.7150455 , 78.36275154,\n       80.20737287, 68.59902561, 66.55092976, 72.38622792, 68.40173297,\n       43.61626107, 48.70454599, 67.95502865, 70.20404982, 72.53607547,\n       64.76259601, 71.09682616, 69.06120601, 59.43478084, 69.6975876 ,\n       76.12920966, 69.05557068, 60.48200535, 64.96132573, 64.42570323,\n       69.62928949, 73.2902066 , 65.03831066, 52.4303127 , 65.04022562,\n       58.227356  , 54.86519817, 55.64634373, 63.29204991, 70.12800736,\n       62.89906191, 60.19158239, 77.00620519, 57.68544155, 69.47976441,\n       67.60515342, 70.46622987, 46.56958095, 68.29009574, 68.96265588,\n       82.24592938, 58.84715156, 65.59674955, 71.54400268, 68.93413777,\n       54.69745829, 62.7590276 , 79.11423308, 73.3314366 , 67.07001359,\n       78.60209637, 64.12828359, 58.67056972, 72.32000986, 54.93832644,\n       62.43213101, 52.13212026, 64.33404572, 70.13027489, 63.44767495,\n       61.05915764, 65.63897164, 72.23326509, 55.7509403 , 54.76790373,\n       50.61338966, 73.53904939, 72.18525977, 55.07123306, 69.58725253,\n       62.14698384, 63.67678975, 70.43424624, 75.01826763, 68.07869998,\n       67.44101556, 72.50035705, 79.94039619, 62.4876033 , 64.94781733,\n       61.33499817, 60.54708569, 64.13443946, 70.92902262, 65.51087658,\n       63.28782418, 74.71318403, 75.1326365 , 60.59177753, 50.33557229,\n       56.46594856, 66.84042579, 63.4372133 , 53.05783375, 71.57046832,\n       69.02201939, 64.1046144 , 63.15271701, 54.93980007, 55.25875438,\n       53.5727875 , 62.24589052, 59.45373039, 60.34214957, 79.73434787,\n       70.12966722, 59.96441638, 75.34678684, 67.60956914, 58.0824166 ,\n       67.55011891, 68.75890183, 76.68589381, 60.45412917, 57.77151146,\n       69.52003468, 57.50534774, 58.12418675, 63.16253876, 74.10284776,\n       70.15372398, 67.30766592, 38.86407434, 74.38453382, 60.85154978,\n       73.41039562, 76.88732126, 59.53126171, 68.94084931, 50.88187081,\n       59.67942503, 75.90846683, 61.47252737, 69.74505198, 58.42241827,\n       35.91993923, 69.01220627, 61.55360967, 60.92829118, 72.19797637,\n       67.07726362, 66.61627633, 56.4958575 , 72.85576303, 69.0132759 ,\n       55.08302625, 59.42457901, 80.57559219, 66.02110994, 43.74669954,\n       76.79749517, 56.76716069, 54.03228485, 54.67106662, 57.71248699,\n       66.47265306, 72.37311654, 75.88826411, 62.92802438, 60.8542818 ,\n       64.00168242, 69.52040597, 67.28850964, 55.65397438, 54.07353498,\n       61.49748411, 71.06064031, 71.90547448, 74.25400113, 74.34117248,\n       71.12983472, 83.70432241, 55.12050303, 63.61894995, 57.5614729 ,\n       58.33678073, 67.02439588, 69.27207876, 58.12311653, 68.74073542,\n       76.40670631, 65.43440191, 67.32135774, 64.65465299, 69.21190261,\n       72.02933836, 65.86819663, 61.93963575, 62.87278307, 70.33723958,\n       70.68367344, 67.79232818, 81.98271619, 53.00510281, 55.36006725,\n       63.86339797, 67.62555004, 69.48119743, 65.61649502, 65.13978171,\n       61.73434646, 78.00549522, 70.54879643, 73.82299406, 63.08071351,\n       64.17698776, 56.15307508, 62.66144354, 71.81521782, 78.68886289,\n       54.9689975 , 77.49389993, 63.3755556 , 65.19689733, 70.73458815,\n       67.65499818, 67.83739739, 50.51491738, 71.49013852, 55.09330475,\n       65.2653183 , 57.71865646, 70.41409978, 62.91035771, 69.87210225,\n       77.63871105, 76.33277993])"
     },
     "execution_count": 52,
     "metadata": {},
     "output_type": "execute_result"
    }
   ],
   "source": [
    "y_test_pred=regr.predict(X_test)\n",
    "y_test_pred\n"
   ],
   "metadata": {
    "collapsed": false,
    "pycharm": {
     "name": "#%%\n"
    }
   }
  },
  {
   "cell_type": "code",
   "execution_count": 52,
   "outputs": [],
   "source": [],
   "metadata": {
    "collapsed": false,
    "pycharm": {
     "name": "#%%\n"
    }
   }
  },
  {
   "cell_type": "code",
   "execution_count": 53,
   "outputs": [
    {
     "data": {
      "text/plain": "<Figure size 360x360 with 1 Axes>",
      "image/png": "[encoded data removed]"
     },
     "metadata": {},
     "output_type": "display_data"
    }
   ],
   "source": [
    "sns.displot(Y_test-y_test_pred)\n",
    "y_for_gaus=Y_test-y_test_pred"
   ],
   "metadata": {
    "collapsed": false,
    "pycharm": {
     "name": "#%%\n"
    }
   }
  },
  {
   "cell_type": "code",
   "execution_count": 54,
   "outputs": [
    {
     "data": {
      "text/plain": "ShapiroResult(statistic=0.9766064882278442, pvalue=3.8128226265143894e-07)"
     },
     "execution_count": 54,
     "metadata": {},
     "output_type": "execute_result"
    }
   ],
   "source": [
    "import scipy\n",
    "scipy.stats.shapiro(y_for_gaus)"
   ],
   "metadata": {
    "collapsed": false,
    "pycharm": {
     "name": "#%%\n"
    }
   }
  },
  {
   "cell_type": "code",
   "execution_count": 55,
   "outputs": [
    {
     "name": "stdout",
     "output_type": "stream",
     "text": [
      "MAE 4.199494868484274\n",
      "MSE 28.290307000180427\n",
      "RMSE 5.318863318433782\n"
     ]
    }
   ],
   "source": [
    "print('MAE',metrics.mean_absolute_error(Y_test,y_test_pred))\n",
    "print('MSE',metrics.mean_squared_error(Y_test,y_test_pred))\n",
    "print('RMSE',np.sqrt(metrics.mean_squared_error(Y_test,y_test_pred)))"
   ],
   "metadata": {
    "collapsed": false,
    "pycharm": {
     "name": "#%%\n"
    }
   }
  },
  {
   "cell_type": "code",
   "execution_count": 56,
   "outputs": [
    {
     "name": "stdout",
     "output_type": "stream",
     "text": [
      "r-squered for train 0.8770304662433641\n",
      "r-squered for test 0.8616456845374831\n",
      "MAE 2.8760101555897513\n",
      "MSE 13.752587610163927\n",
      "RMSE 3.7084481404172185\n"
     ]
    },
    {
     "data": {
      "text/plain": "ShapiroResult(statistic=0.9927096366882324, pvalue=0.016064155846834183)"
     },
     "execution_count": 56,
     "metadata": {},
     "output_type": "execute_result"
    },
    {
     "data": {
      "text/plain": "<Figure size 360x360 with 1 Axes>",
      "image/png": "[encoded data removed]"
     },
     "metadata": {},
     "output_type": "display_data"
    }
   ],
   "source": [
    "model=RandomForestRegressor(n_estimators=60,min_samples_leaf=5,max_depth=6,n_jobs=1)\n",
    "model.fit(X_train,Y_train)\n",
    "print(\"r-squered for train\",model.score(X_train,Y_train))\n",
    "print(\"r-squered for test\",model.score(X_test,Y_test))\n",
    "y_test_pred=model.predict(X_test)\n",
    "\n",
    "sns.displot(Y_test-y_test_pred)\n",
    "y_for_gaus=Y_test-y_test_pred\n",
    "scipy.stats.shapiro(y_for_gaus)\n",
    "print('MAE',metrics.mean_absolute_error(Y_test,y_test_pred))\n",
    "print('MSE',metrics.mean_squared_error(Y_test,y_test_pred))\n",
    "print('RMSE',np.sqrt(metrics.mean_squared_error(Y_test,y_test_pred)))\n",
    "scipy.stats.shapiro(y_for_gaus)"
   ],
   "metadata": {
    "collapsed": false,
    "pycharm": {
     "name": "#%%\n"
    }
   }
  },
  {
   "cell_type": "code",
   "execution_count": 56,
   "outputs": [],
   "source": [],
   "metadata": {
    "collapsed": false,
    "pycharm": {
     "name": "#%%\n"
    }
   }
  }
 ],
 "metadata": {
  "kernelspec": {
   "display_name": "Python 3",
   "language": "python",
   "name": "python3"
  },
  "language_info": {
   "codemirror_mode": {
    "name": "ipython",
    "version": 2
   },
   "file_extension": ".py",
   "mimetype": "text/x-python",
   "name": "python",
   "nbconvert_exporter": "python",
   "pygments_lexer": "ipython2",
   "version": "2.7.6"
  }
 },
 "nbformat": 4,
 "nbformat_minor": 0
}