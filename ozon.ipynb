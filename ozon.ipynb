{
 "cells": [
  {
   "cell_type": "code",
   "execution_count": 44,
   "outputs": [],
   "source": [
    "import pandas as pd\n",
    "import xarray as xr\n",
    "from pandas import to_datetime as tdt\n",
    "import numpy as np\n",
    "\n",
    "names_of_conc=['no2_conc','o3_conc','so2_conc','pm2p5_conc','pm10_conc','co_conc']\n",
    "names_of_infiles=['no2_spring.nc','o3_spring.nc','so2_spring.nc','pm2.5_spring.nc','pm10_spring.nc','co_spring.nc']\n",
    "names_of_outfiles=['no2_for_matrix.txt','o3_for_matrix.txt','so2_for_matrix.txt','pm2p5_for_matrix.txt','pm10_for_matrix.txt','co_for_matrix.txt']\n",
    "\n",
    "def do_everything(days,infile,name_chemical,outfile):\n",
    "    days=days*6\n",
    "    ds = xr.open_dataset(infile)\n",
    "    df_ = ds.to_dataframe().reset_index()\n",
    "    start_date = tdt('2021-03-01')\n",
    "    df_['time'] = start_date + df_['time']\n",
    "    df = df_[(df_['latitude'] >= 50.3)  & (df_['latitude'] <= 51.7) & (df_['longitude'] <= 29.8) & (df_['longitude'] >= 22)]\n",
    "    time=np.array(df['time'])[:days]\n",
    "    vykydy=[]\n",
    "    for i in range(days):\n",
    "        dd=df[df['time']==time[i]]\n",
    "        chemical=np.array(dd[name_chemical])\n",
    "        vykydy.append((chemical.sum()/1008))\n",
    "    result_data = []\n",
    "    for i in range(0,days,6):\n",
    "        ser = (vykydy[i] + vykydy[i+1] + vykydy[i+2] +vykydy[i+3] + vykydy[i+4] + vykydy[i+5])/6\n",
    "        result_data.append(ser)\n",
    "    len_of_result_data=len(result_data)\n",
    "    np.savetxt(outfile, result_data, delimiter='\\n', fmt='%1.2f')\n",
    "for i in range (5):\n",
    "    do_everything(92,names_of_infiles[i],names_of_conc[i],names_of_outfiles[i])\n"
   ],
   "metadata": {
    "collapsed": false,
    "pycharm": {
     "name": "#%%\n"
    }
   }
  },
  {
   "cell_type": "code",
   "execution_count": 42,
   "outputs": [],
   "source": [
    "import pandas as pd\n",
    "import xarray as xr\n",
    "from pandas import to_datetime as tdt\n",
    "import numpy as np\n",
    "\n",
    "\n",
    "names_of_infiles=['no2_spring.nc','o3_spring.nc','so2_spring.nc','pm2.5_spring.nc','pm10_spring.nc','co_spring.nc']\n",
    "\n",
    "\n",
    "def prep(file_paths: list, lat_min=None, lat_max=None, long_min=None, long_max=None) -> pd.DataFrame:\n",
    "    first_df = xr.open_dataset(file_paths[0])\n",
    "    first_df = first_df.to_dataframe().reset_index().reset_index()\n",
    "    start_date = tdt('2021-03-01')\n",
    "    first_df['time'] = start_date + first_df['time']\n",
    "\n",
    "    first_df = first_df[(first_df['latitude'] >= lat_min) & (first_df['latitude'] <= lat_max)\n",
    "              & (first_df['longitude'] >= long_min)& (first_df['longitude'] <= long_max)]\n",
    "    first_df = first_df.drop(columns=['longitude','latitude','level','time'])\n",
    "    res = first_df.copy(deep=True)\n",
    "\n",
    "    for f in file_paths[1:]:\n",
    "        _df = xr.open_dataset(f)\n",
    "        _df = _df.to_dataframe().reset_index().reset_index()\n",
    "        _df['time'] = start_date + _df['time']\n",
    "\n",
    "        _df = _df[(_df['latitude'] >= lat_min) & (_df['latitude'] <= lat_max)\n",
    "                   & (_df['longitude'] >= long_min)& (_df['longitude'] <= long_max)]\n",
    "        _df = _df.drop(columns=['longitude','latitude','level','time'])\n",
    "        res = res.merge(_df, on='index', how='left')\n",
    "\n",
    "    return res.drop(columns='index')\n"
   ],
   "metadata": {
    "collapsed": false,
    "pycharm": {
     "name": "#%%\n"
    }
   }
  },
  {
   "cell_type": "code",
   "execution_count": 43,
   "outputs": [
    {
     "data": {
      "text/plain": "       no2_conc    o3_conc  so2_conc  pm2p5_conc  pm10_conc     co_conc\n0      4.786252  52.067883  2.109083    8.933200  12.472599  201.739655\n1      5.183743  48.610947  2.101096    8.116792   9.810987  201.875107\n2      5.423501  53.156441  3.716337    7.138286  11.403473  183.057281\n3      5.637799  53.092793  5.756590    9.794201  11.825789  183.955597\n4     13.023629  43.032497  6.437304   14.760189  19.231266  234.732834\n...         ...        ...       ...         ...        ...         ...\n4963   1.772491  38.981445  0.932460    5.158408   7.152264  143.861252\n4964   0.784834  65.498566  1.294439    4.550786   9.324713  135.610825\n4965   0.600636  71.967300  0.717476    4.736873   5.940708  134.872620\n4966   1.190074  75.319412  1.142497    4.406613   5.371469  132.936523\n4967   5.902436  44.723003  2.006259    5.228481   8.870756  136.039169\n\n[4968 rows x 6 columns]",
      "text/html": "<div>\n<style scoped>\n    .dataframe tbody tr th:only-of-type {\n        vertical-align: middle;\n    }\n\n    .dataframe tbody tr th {\n        vertical-align: top;\n    }\n\n    .dataframe thead th {\n        text-align: right;\n    }\n</style>\n<table border=\"1\" class=\"dataframe\">\n  <thead>\n    <tr style=\"text-align: right;\">\n      <th></th>\n      <th>no2_conc</th>\n      <th>o3_conc</th>\n      <th>so2_conc</th>\n      <th>pm2p5_conc</th>\n      <th>pm10_conc</th>\n      <th>co_conc</th>\n    </tr>\n  </thead>\n  <tbody>\n    <tr>\n      <th>0</th>\n      <td>4.786252</td>\n      <td>52.067883</td>\n      <td>2.109083</td>\n      <td>8.933200</td>\n      <td>12.472599</td>\n      <td>201.739655</td>\n    </tr>\n    <tr>\n      <th>1</th>\n      <td>5.183743</td>\n      <td>48.610947</td>\n      <td>2.101096</td>\n      <td>8.116792</td>\n      <td>9.810987</td>\n      <td>201.875107</td>\n    </tr>\n    <tr>\n      <th>2</th>\n      <td>5.423501</td>\n      <td>53.156441</td>\n      <td>3.716337</td>\n      <td>7.138286</td>\n      <td>11.403473</td>\n      <td>183.057281</td>\n    </tr>\n    <tr>\n      <th>3</th>\n      <td>5.637799</td>\n      <td>53.092793</td>\n      <td>5.756590</td>\n      <td>9.794201</td>\n      <td>11.825789</td>\n      <td>183.955597</td>\n    </tr>\n    <tr>\n      <th>4</th>\n      <td>13.023629</td>\n      <td>43.032497</td>\n      <td>6.437304</td>\n      <td>14.760189</td>\n      <td>19.231266</td>\n      <td>234.732834</td>\n    </tr>\n    <tr>\n      <th>...</th>\n      <td>...</td>\n      <td>...</td>\n      <td>...</td>\n      <td>...</td>\n      <td>...</td>\n      <td>...</td>\n    </tr>\n    <tr>\n      <th>4963</th>\n      <td>1.772491</td>\n      <td>38.981445</td>\n      <td>0.932460</td>\n      <td>5.158408</td>\n      <td>7.152264</td>\n      <td>143.861252</td>\n    </tr>\n    <tr>\n      <th>4964</th>\n      <td>0.784834</td>\n      <td>65.498566</td>\n      <td>1.294439</td>\n      <td>4.550786</td>\n      <td>9.324713</td>\n      <td>135.610825</td>\n    </tr>\n    <tr>\n      <th>4965</th>\n      <td>0.600636</td>\n      <td>71.967300</td>\n      <td>0.717476</td>\n      <td>4.736873</td>\n      <td>5.940708</td>\n      <td>134.872620</td>\n    </tr>\n    <tr>\n      <th>4966</th>\n      <td>1.190074</td>\n      <td>75.319412</td>\n      <td>1.142497</td>\n      <td>4.406613</td>\n      <td>5.371469</td>\n      <td>132.936523</td>\n    </tr>\n    <tr>\n      <th>4967</th>\n      <td>5.902436</td>\n      <td>44.723003</td>\n      <td>2.006259</td>\n      <td>5.228481</td>\n      <td>8.870756</td>\n      <td>136.039169</td>\n    </tr>\n  </tbody>\n</table>\n<p>4968 rows × 6 columns</p>\n</div>"
     },
     "execution_count": 43,
     "metadata": {},
     "output_type": "execute_result"
    }
   ],
   "source": [
    "prep(names_of_infiles, lat_min=51.4, lat_max=51.7, long_min=22, long_max=22.9)"
   ],
   "metadata": {
    "collapsed": false,
    "pycharm": {
     "name": "#%%\n"
    }
   }
  },
  {
   "cell_type": "code",
   "execution_count": null,
   "outputs": [],
   "source": [
    "df_no2 = xr.open_dataset('no2_spring.nc')\n",
    "df_o3 = xr.open_dataset('o3_spring.nc')\n",
    "\n",
    "df_ = pd.to_dataframe().reset_index().reset_index()\n",
    "start_date = tdt('2021-03-01')\n",
    "df_['time'] = start_date + df_['time']\n",
    "dd=df_[ (df_['latitude'] >=51.4) & (df_['latitude'] <=51.7) & (df_['longitude'] >=22)& (df_['longitude'] <=22.9)]\n",
    "dd=dd.drop(columns=['longitude','latitude','level','time'])\n",
    "dd"
   ],
   "metadata": {
    "collapsed": false,
    "pycharm": {
     "name": "#%%\n"
    }
   }
  },
  {
   "cell_type": "code",
   "execution_count": null,
   "outputs": [],
   "source": [
    "prep(['test.nc', 'test2.nc'], lat_min=51.4, lat_max=51.7, long_min=22, long_max=22.9).to_csv('res.csv')"
   ],
   "metadata": {
    "collapsed": false,
    "pycharm": {
     "name": "#%%\n"
    }
   }
  },
  {
   "cell_type": "code",
   "execution_count": 32,
   "outputs": [
    {
     "data": {
      "text/plain": "       index   no2_conc\n0          0   4.786252\n1          1   5.183743\n2          2   5.423501\n3          3   5.637799\n4          4  13.023629\n...      ...        ...\n63475  63475   1.772491\n63476  63476   0.784834\n63477  63477   0.600636\n63478  63478   1.190074\n63479  63479   5.902436\n\n[4968 rows x 2 columns]",
      "text/html": "<div>\n<style scoped>\n    .dataframe tbody tr th:only-of-type {\n        vertical-align: middle;\n    }\n\n    .dataframe tbody tr th {\n        vertical-align: top;\n    }\n\n    .dataframe thead th {\n        text-align: right;\n    }\n</style>\n<table border=\"1\" class=\"dataframe\">\n  <thead>\n    <tr style=\"text-align: right;\">\n      <th></th>\n      <th>index</th>\n      <th>no2_conc</th>\n    </tr>\n  </thead>\n  <tbody>\n    <tr>\n      <th>0</th>\n      <td>0</td>\n      <td>4.786252</td>\n    </tr>\n    <tr>\n      <th>1</th>\n      <td>1</td>\n      <td>5.183743</td>\n    </tr>\n    <tr>\n      <th>2</th>\n      <td>2</td>\n      <td>5.423501</td>\n    </tr>\n    <tr>\n      <th>3</th>\n      <td>3</td>\n      <td>5.637799</td>\n    </tr>\n    <tr>\n      <th>4</th>\n      <td>4</td>\n      <td>13.023629</td>\n    </tr>\n    <tr>\n      <th>...</th>\n      <td>...</td>\n      <td>...</td>\n    </tr>\n    <tr>\n      <th>63475</th>\n      <td>63475</td>\n      <td>1.772491</td>\n    </tr>\n    <tr>\n      <th>63476</th>\n      <td>63476</td>\n      <td>0.784834</td>\n    </tr>\n    <tr>\n      <th>63477</th>\n      <td>63477</td>\n      <td>0.600636</td>\n    </tr>\n    <tr>\n      <th>63478</th>\n      <td>63478</td>\n      <td>1.190074</td>\n    </tr>\n    <tr>\n      <th>63479</th>\n      <td>63479</td>\n      <td>5.902436</td>\n    </tr>\n  </tbody>\n</table>\n<p>4968 rows × 2 columns</p>\n</div>"
     },
     "execution_count": 32,
     "metadata": {},
     "output_type": "execute_result"
    }
   ],
   "source": [
    "df_no2 = xr.open_dataset('no2_spring.nc')\n",
    "df_o3 = xr.open_dataset('o3_spring.nc')\n",
    "\n",
    "df_ = ds.to_dataframe().reset_index().reset_index()\n",
    "start_date = tdt('2021-03-01')\n",
    "df_['time'] = start_date + df_['time']\n",
    "dd=df_[ (df_['latitude'] >=51.4) & (df_['latitude'] <=51.7) & (df_['longitude'] >=22)& (df_['longitude'] <=22.9)]\n",
    "dd=dd.drop(columns=['longitude','latitude','level','time'])\n",
    "dd"
   ],
   "metadata": {
    "collapsed": false,
    "pycharm": {
     "name": "#%%\n"
    }
   }
  },
  {
   "cell_type": "code",
   "execution_count": 26,
   "outputs": [
    {
     "data": {
      "text/plain": "       longitude   latitude  level                time   no2_conc\n0          22.65  51.650002    0.0 2021-03-01 01:00:00   4.786252\n1          22.65  51.650002    0.0 2021-03-01 05:00:00   5.183743\n2          22.65  51.650002    0.0 2021-03-01 09:00:00   5.423501\n3          22.65  51.650002    0.0 2021-03-01 13:00:00   5.637799\n4          22.65  51.650002    0.0 2021-03-01 17:00:00  13.023629\n...          ...        ...    ...                 ...        ...\n63475      22.85  51.450001    0.0 2021-05-31 05:00:00   1.772491\n63476      22.85  51.450001    0.0 2021-05-31 09:00:00   0.784834\n63477      22.85  51.450001    0.0 2021-05-31 13:00:00   0.600636\n63478      22.85  51.450001    0.0 2021-05-31 17:00:00   1.190074\n63479      22.85  51.450001    0.0 2021-05-31 21:00:00   5.902436\n\n[4968 rows x 5 columns]",
      "text/html": "<div>\n<style scoped>\n    .dataframe tbody tr th:only-of-type {\n        vertical-align: middle;\n    }\n\n    .dataframe tbody tr th {\n        vertical-align: top;\n    }\n\n    .dataframe thead th {\n        text-align: right;\n    }\n</style>\n<table border=\"1\" class=\"dataframe\">\n  <thead>\n    <tr style=\"text-align: right;\">\n      <th></th>\n      <th>longitude</th>\n      <th>latitude</th>\n      <th>level</th>\n      <th>time</th>\n      <th>no2_conc</th>\n    </tr>\n  </thead>\n  <tbody>\n    <tr>\n      <th>0</th>\n      <td>22.65</td>\n      <td>51.650002</td>\n      <td>0.0</td>\n      <td>2021-03-01 01:00:00</td>\n      <td>4.786252</td>\n    </tr>\n    <tr>\n      <th>1</th>\n      <td>22.65</td>\n      <td>51.650002</td>\n      <td>0.0</td>\n      <td>2021-03-01 05:00:00</td>\n      <td>5.183743</td>\n    </tr>\n    <tr>\n      <th>2</th>\n      <td>22.65</td>\n      <td>51.650002</td>\n      <td>0.0</td>\n      <td>2021-03-01 09:00:00</td>\n      <td>5.423501</td>\n    </tr>\n    <tr>\n      <th>3</th>\n      <td>22.65</td>\n      <td>51.650002</td>\n      <td>0.0</td>\n      <td>2021-03-01 13:00:00</td>\n      <td>5.637799</td>\n    </tr>\n    <tr>\n      <th>4</th>\n      <td>22.65</td>\n      <td>51.650002</td>\n      <td>0.0</td>\n      <td>2021-03-01 17:00:00</td>\n      <td>13.023629</td>\n    </tr>\n    <tr>\n      <th>...</th>\n      <td>...</td>\n      <td>...</td>\n      <td>...</td>\n      <td>...</td>\n      <td>...</td>\n    </tr>\n    <tr>\n      <th>63475</th>\n      <td>22.85</td>\n      <td>51.450001</td>\n      <td>0.0</td>\n      <td>2021-05-31 05:00:00</td>\n      <td>1.772491</td>\n    </tr>\n    <tr>\n      <th>63476</th>\n      <td>22.85</td>\n      <td>51.450001</td>\n      <td>0.0</td>\n      <td>2021-05-31 09:00:00</td>\n      <td>0.784834</td>\n    </tr>\n    <tr>\n      <th>63477</th>\n      <td>22.85</td>\n      <td>51.450001</td>\n      <td>0.0</td>\n      <td>2021-05-31 13:00:00</td>\n      <td>0.600636</td>\n    </tr>\n    <tr>\n      <th>63478</th>\n      <td>22.85</td>\n      <td>51.450001</td>\n      <td>0.0</td>\n      <td>2021-05-31 17:00:00</td>\n      <td>1.190074</td>\n    </tr>\n    <tr>\n      <th>63479</th>\n      <td>22.85</td>\n      <td>51.450001</td>\n      <td>0.0</td>\n      <td>2021-05-31 21:00:00</td>\n      <td>5.902436</td>\n    </tr>\n  </tbody>\n</table>\n<p>4968 rows × 5 columns</p>\n</div>"
     },
     "execution_count": 26,
     "metadata": {},
     "output_type": "execute_result"
    }
   ],
   "source": [
    "dd"
   ],
   "metadata": {
    "collapsed": false,
    "pycharm": {
     "name": "#%%\n"
    }
   }
  },
  {
   "cell_type": "code",
   "execution_count": 31,
   "outputs": [
    {
     "data": {
      "text/plain": "       index    o3_conc\n0          0  52.067883\n1          1  48.610947\n2          2  53.156441\n3          3  53.092793\n4          4  43.032497\n...      ...        ...\n63475  63475  38.981445\n63476  63476  65.498566\n63477  63477  71.967300\n63478  63478  75.319412\n63479  63479  44.723003\n\n[4968 rows x 2 columns]",
      "text/html": "<div>\n<style scoped>\n    .dataframe tbody tr th:only-of-type {\n        vertical-align: middle;\n    }\n\n    .dataframe tbody tr th {\n        vertical-align: top;\n    }\n\n    .dataframe thead th {\n        text-align: right;\n    }\n</style>\n<table border=\"1\" class=\"dataframe\">\n  <thead>\n    <tr style=\"text-align: right;\">\n      <th></th>\n      <th>index</th>\n      <th>o3_conc</th>\n    </tr>\n  </thead>\n  <tbody>\n    <tr>\n      <th>0</th>\n      <td>0</td>\n      <td>52.067883</td>\n    </tr>\n    <tr>\n      <th>1</th>\n      <td>1</td>\n      <td>48.610947</td>\n    </tr>\n    <tr>\n      <th>2</th>\n      <td>2</td>\n      <td>53.156441</td>\n    </tr>\n    <tr>\n      <th>3</th>\n      <td>3</td>\n      <td>53.092793</td>\n    </tr>\n    <tr>\n      <th>4</th>\n      <td>4</td>\n      <td>43.032497</td>\n    </tr>\n    <tr>\n      <th>...</th>\n      <td>...</td>\n      <td>...</td>\n    </tr>\n    <tr>\n      <th>63475</th>\n      <td>63475</td>\n      <td>38.981445</td>\n    </tr>\n    <tr>\n      <th>63476</th>\n      <td>63476</td>\n      <td>65.498566</td>\n    </tr>\n    <tr>\n      <th>63477</th>\n      <td>63477</td>\n      <td>71.967300</td>\n    </tr>\n    <tr>\n      <th>63478</th>\n      <td>63478</td>\n      <td>75.319412</td>\n    </tr>\n    <tr>\n      <th>63479</th>\n      <td>63479</td>\n      <td>44.723003</td>\n    </tr>\n  </tbody>\n</table>\n<p>4968 rows × 2 columns</p>\n</div>"
     },
     "execution_count": 31,
     "metadata": {},
     "output_type": "execute_result"
    }
   ],
   "source": [
    "ds = xr.open_dataset('o3_spring.nc')\n",
    "df_ = ds.to_dataframe().reset_index().reset_index()\n",
    "start_date = tdt('2021-03-01')\n",
    "df_['time'] = start_date + df_['time']\n",
    "dd1=df_[ (df_['latitude'] >=51.4) & (df_['latitude'] <=51.7) & (df_['longitude'] >=22)& (df_['longitude'] <=22.9)]\n",
    "dd1=dd1.drop(columns=['longitude','latitude','level','time'])\n",
    "dd1\n",
    "\n"
   ],
   "metadata": {
    "collapsed": false,
    "pycharm": {
     "name": "#%%\n"
    }
   }
  },
  {
   "cell_type": "code",
   "execution_count": null,
   "outputs": [],
   "source": [
    "dd1.merge(dd, on='index', how='left')\n"
   ],
   "metadata": {
    "collapsed": false,
    "pycharm": {
     "name": "#%%\n"
    }
   }
  }
 ],
 "metadata": {
  "kernelspec": {
   "display_name": "Python 3",
   "language": "python",
   "name": "python3"
  },
  "language_info": {
   "codemirror_mode": {
    "name": "ipython",
    "version": 2
   },
   "file_extension": ".py",
   "mimetype": "text/x-python",
   "name": "python",
   "nbconvert_exporter": "python",
   "pygments_lexer": "ipython2",
   "version": "2.7.6"
  }
 },
 "nbformat": 4,
 "nbformat_minor": 0
}