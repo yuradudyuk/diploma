{
 "cells": [
  {
   "cell_type": "code",
   "execution_count": 10,
   "outputs": [
    {
     "data": {
      "text/plain": "            no2        o3       so2     pm2.5      pm10        co      tmax  \\\ntime  -0.415741  0.387441 -0.240323 -0.368899 -0.390421 -0.605185  0.826676   \nlon   -0.424547  0.030846 -0.461588 -0.207922 -0.254245 -0.258727 -0.042636   \nlat   -0.188201  0.042263 -0.147747 -0.097050 -0.086878 -0.051185 -0.007945   \nno2    1.000000 -0.521072  0.726618  0.624651  0.651734  0.751877 -0.277203   \no3    -0.521072  1.000000 -0.059292 -0.308254 -0.297094 -0.510993  0.349467   \nso2    0.726618 -0.059292  1.000000  0.687509  0.715760  0.611125 -0.049439   \npm2.5  0.624651 -0.308254  0.687509  1.000000  0.989233  0.782036 -0.012987   \npm10   0.651734 -0.297094  0.715760  0.989233  1.000000  0.777753 -0.032763   \nco     0.751877 -0.510993  0.611125  0.782036  0.777753  1.000000 -0.392282   \ntmax  -0.277203  0.349467 -0.049439 -0.012987 -0.032763 -0.392282  1.000000   \ntmin  -0.243154  0.175435 -0.159459 -0.153268 -0.179913 -0.413195  0.876554   \nhum    0.308719 -0.673717 -0.013148  0.282630  0.249959  0.439669 -0.353050   \nopady -0.064895 -0.169933 -0.183186 -0.116184 -0.150461 -0.085150  0.132974   \ntysk  -0.005493 -0.075370 -0.060192  0.132733  0.143303  0.060516 -0.118298   \nwind   0.074401  0.313442  0.199419 -0.069917 -0.046335 -0.030763 -0.105003   \n\n           tmin       hum     opady      tysk      wind  \ntime   0.846596 -0.440903  0.224874 -0.222992 -0.080717  \nlon   -0.032703  0.175312  0.085854  0.094838 -0.096535  \nlat    0.002081  0.045270 -0.023346  0.340029 -0.002991  \nno2   -0.243154  0.308719 -0.064895 -0.005493  0.074401  \no3     0.175435 -0.673717 -0.169933 -0.075370  0.313442  \nso2   -0.159459 -0.013148 -0.183186 -0.060192  0.199419  \npm2.5 -0.153268  0.282630 -0.116184  0.132733 -0.069917  \npm10  -0.179913  0.249959 -0.150461  0.143303 -0.046335  \nco    -0.413195  0.439669 -0.085150  0.060516 -0.030763  \ntmax   0.876554 -0.353050  0.132974 -0.118298 -0.105003  \ntmin   1.000000 -0.112886  0.353958 -0.261290 -0.053905  \nhum   -0.112886  1.000000  0.416990 -0.102690 -0.035014  \nopady  0.353958  0.416990  1.000000 -0.335279  0.003805  \ntysk  -0.261290 -0.102690 -0.335279  1.000000 -0.238502  \nwind  -0.053905 -0.035014  0.003805 -0.238502  1.000000  ",
      "text/html": "<div>\n<style scoped>\n    .dataframe tbody tr th:only-of-type {\n        vertical-align: middle;\n    }\n\n    .dataframe tbody tr th {\n        vertical-align: top;\n    }\n\n    .dataframe thead th {\n        text-align: right;\n    }\n</style>\n<table border=\"1\" class=\"dataframe\">\n  <thead>\n    <tr style=\"text-align: right;\">\n      <th></th>\n      <th>no2</th>\n      <th>o3</th>\n      <th>so2</th>\n      <th>pm2.5</th>\n      <th>pm10</th>\n      <th>co</th>\n      <th>tmax</th>\n      <th>tmin</th>\n      <th>hum</th>\n      <th>opady</th>\n      <th>tysk</th>\n      <th>wind</th>\n    </tr>\n  </thead>\n  <tbody>\n    <tr>\n      <th>time</th>\n      <td>-0.415741</td>\n      <td>0.387441</td>\n      <td>-0.240323</td>\n      <td>-0.368899</td>\n      <td>-0.390421</td>\n      <td>-0.605185</td>\n      <td>0.826676</td>\n      <td>0.846596</td>\n      <td>-0.440903</td>\n      <td>0.224874</td>\n      <td>-0.222992</td>\n      <td>-0.080717</td>\n    </tr>\n    <tr>\n      <th>lon</th>\n      <td>-0.424547</td>\n      <td>0.030846</td>\n      <td>-0.461588</td>\n      <td>-0.207922</td>\n      <td>-0.254245</td>\n      <td>-0.258727</td>\n      <td>-0.042636</td>\n      <td>-0.032703</td>\n      <td>0.175312</td>\n      <td>0.085854</td>\n      <td>0.094838</td>\n      <td>-0.096535</td>\n    </tr>\n    <tr>\n      <th>lat</th>\n      <td>-0.188201</td>\n      <td>0.042263</td>\n      <td>-0.147747</td>\n      <td>-0.097050</td>\n      <td>-0.086878</td>\n      <td>-0.051185</td>\n      <td>-0.007945</td>\n      <td>0.002081</td>\n      <td>0.045270</td>\n      <td>-0.023346</td>\n      <td>0.340029</td>\n      <td>-0.002991</td>\n    </tr>\n    <tr>\n      <th>no2</th>\n      <td>1.000000</td>\n      <td>-0.521072</td>\n      <td>0.726618</td>\n      <td>0.624651</td>\n      <td>0.651734</td>\n      <td>0.751877</td>\n      <td>-0.277203</td>\n      <td>-0.243154</td>\n      <td>0.308719</td>\n      <td>-0.064895</td>\n      <td>-0.005493</td>\n      <td>0.074401</td>\n    </tr>\n    <tr>\n      <th>o3</th>\n      <td>-0.521072</td>\n      <td>1.000000</td>\n      <td>-0.059292</td>\n      <td>-0.308254</td>\n      <td>-0.297094</td>\n      <td>-0.510993</td>\n      <td>0.349467</td>\n      <td>0.175435</td>\n      <td>-0.673717</td>\n      <td>-0.169933</td>\n      <td>-0.075370</td>\n      <td>0.313442</td>\n    </tr>\n    <tr>\n      <th>so2</th>\n      <td>0.726618</td>\n      <td>-0.059292</td>\n      <td>1.000000</td>\n      <td>0.687509</td>\n      <td>0.715760</td>\n      <td>0.611125</td>\n      <td>-0.049439</td>\n      <td>-0.159459</td>\n      <td>-0.013148</td>\n      <td>-0.183186</td>\n      <td>-0.060192</td>\n      <td>0.199419</td>\n    </tr>\n    <tr>\n      <th>pm2.5</th>\n      <td>0.624651</td>\n      <td>-0.308254</td>\n      <td>0.687509</td>\n      <td>1.000000</td>\n      <td>0.989233</td>\n      <td>0.782036</td>\n      <td>-0.012987</td>\n      <td>-0.153268</td>\n      <td>0.282630</td>\n      <td>-0.116184</td>\n      <td>0.132733</td>\n      <td>-0.069917</td>\n    </tr>\n    <tr>\n      <th>pm10</th>\n      <td>0.651734</td>\n      <td>-0.297094</td>\n      <td>0.715760</td>\n      <td>0.989233</td>\n      <td>1.000000</td>\n      <td>0.777753</td>\n      <td>-0.032763</td>\n      <td>-0.179913</td>\n      <td>0.249959</td>\n      <td>-0.150461</td>\n      <td>0.143303</td>\n      <td>-0.046335</td>\n    </tr>\n    <tr>\n      <th>co</th>\n      <td>0.751877</td>\n      <td>-0.510993</td>\n      <td>0.611125</td>\n      <td>0.782036</td>\n      <td>0.777753</td>\n      <td>1.000000</td>\n      <td>-0.392282</td>\n      <td>-0.413195</td>\n      <td>0.439669</td>\n      <td>-0.085150</td>\n      <td>0.060516</td>\n      <td>-0.030763</td>\n    </tr>\n    <tr>\n      <th>tmax</th>\n      <td>-0.277203</td>\n      <td>0.349467</td>\n      <td>-0.049439</td>\n      <td>-0.012987</td>\n      <td>-0.032763</td>\n      <td>-0.392282</td>\n      <td>1.000000</td>\n      <td>0.876554</td>\n      <td>-0.353050</td>\n      <td>0.132974</td>\n      <td>-0.118298</td>\n      <td>-0.105003</td>\n    </tr>\n    <tr>\n      <th>tmin</th>\n      <td>-0.243154</td>\n      <td>0.175435</td>\n      <td>-0.159459</td>\n      <td>-0.153268</td>\n      <td>-0.179913</td>\n      <td>-0.413195</td>\n      <td>0.876554</td>\n      <td>1.000000</td>\n      <td>-0.112886</td>\n      <td>0.353958</td>\n      <td>-0.261290</td>\n      <td>-0.053905</td>\n    </tr>\n    <tr>\n      <th>hum</th>\n      <td>0.308719</td>\n      <td>-0.673717</td>\n      <td>-0.013148</td>\n      <td>0.282630</td>\n      <td>0.249959</td>\n      <td>0.439669</td>\n      <td>-0.353050</td>\n      <td>-0.112886</td>\n      <td>1.000000</td>\n      <td>0.416990</td>\n      <td>-0.102690</td>\n      <td>-0.035014</td>\n    </tr>\n    <tr>\n      <th>opady</th>\n      <td>-0.064895</td>\n      <td>-0.169933</td>\n      <td>-0.183186</td>\n      <td>-0.116184</td>\n      <td>-0.150461</td>\n      <td>-0.085150</td>\n      <td>0.132974</td>\n      <td>0.353958</td>\n      <td>0.416990</td>\n      <td>1.000000</td>\n      <td>-0.335279</td>\n      <td>0.003805</td>\n    </tr>\n    <tr>\n      <th>tysk</th>\n      <td>-0.005493</td>\n      <td>-0.075370</td>\n      <td>-0.060192</td>\n      <td>0.132733</td>\n      <td>0.143303</td>\n      <td>0.060516</td>\n      <td>-0.118298</td>\n      <td>-0.261290</td>\n      <td>-0.102690</td>\n      <td>-0.335279</td>\n      <td>1.000000</td>\n      <td>-0.238502</td>\n    </tr>\n    <tr>\n      <th>wind</th>\n      <td>0.074401</td>\n      <td>0.313442</td>\n      <td>0.199419</td>\n      <td>-0.069917</td>\n      <td>-0.046335</td>\n      <td>-0.030763</td>\n      <td>-0.105003</td>\n      <td>-0.053905</td>\n      <td>-0.035014</td>\n      <td>0.003805</td>\n      <td>-0.238502</td>\n      <td>1.000000</td>\n    </tr>\n  </tbody>\n</table>\n</div>"
     },
     "execution_count": 10,
     "metadata": {},
     "output_type": "execute_result"
    }
   ],
   "source": [
    "import xarray as xr\n",
    "import pandas as pd\n",
    "import numpy as np\n",
    "import math as mh\n",
    "import matplotlib.pyplot as plt\n",
    "from sklearn.linear_model import LinearRegression\n",
    "from sklearn.preprocessing import PolynomialFeatures\n",
    "from sklearn.model_selection import train_test_split\n",
    "import seaborn as sns\n",
    "import statsmodels.api as sm\n",
    "from statsmodels.stats.outliers_influence import variance_inflation_factor\n",
    "from sklearn import metrics\n",
    "from sklearn.ensemble import RandomForestRegressor\n",
    "dff=pd.read_csv('atlast_data.csv',index_col=0)\n",
    "cor=dff.corr()\n",
    "#cor=cor.drop(columns=['time','lon','lat'])\n",
    "cor.drop(columns=['time','lon','lat'],axis=0)\n"
   ],
   "metadata": {
    "collapsed": false,
    "pycharm": {
     "name": "#%%\n"
    }
   }
  },
  {
   "cell_type": "code",
   "execution_count": 11,
   "outputs": [
    {
     "name": "stdout",
     "output_type": "stream",
     "text": [
      "r-squered for train 0.769495504794041\n",
      "r-squered for test 0.7417495535109059\n",
      "             coef        p-value\n",
      "const -118.934235   4.590980e-34\n",
      "time    -0.051377   7.184695e-19\n",
      "lon      0.204540   2.640781e-07\n",
      "lat     -1.156441   5.043416e-14\n",
      "no2     -0.611893   1.675527e-18\n",
      "so2      2.598846  1.100077e-177\n",
      "co       0.121072  1.941970e-234\n",
      "tmin     0.447551   6.093058e-67\n",
      "hum      0.010399   4.460057e-01\n",
      "opady   -0.096855   2.240263e-05\n",
      "tysk     1.600020   2.630007e-63\n"
     ]
    },
    {
     "name": "stderr",
     "output_type": "stream",
     "text": [
      "C:\\Users\\Yura Dudyuk\\anaconda3\\lib\\site-packages\\statsmodels\\tsa\\tsatools.py:142: FutureWarning: In a future version of pandas all arguments of concat except for the argument 'objs' will be keyword-only\n",
      "  x = pd.concat(x[::order], 1)\n"
     ]
    }
   ],
   "source": [
    "chem=dff['pm10']\n",
    "features=dff.drop(columns=['o3','pm10','pm2.5','wind','tmax'],axis=1)\n",
    "X_train,X_test,Y_train,Y_test = train_test_split (features,chem,test_size=0.15,random_state=10)\n",
    "regr=LinearRegression()\n",
    "regr.fit(X_train,Y_train)\n",
    "print(\"r-squered for train\",regr.score(X_train,Y_train))\n",
    "print(\"r-squered for test\",regr.score(X_test,Y_test))\n",
    "x_incl_const=sm.add_constant(X_train)\n",
    "model = sm.OLS(Y_train,x_incl_const)\n",
    "results=model.fit()\n",
    "dd=pd.DataFrame({'coef': results.params,'p-value':results.pvalues})\n",
    "print(dd)"
   ],
   "metadata": {
    "collapsed": false,
    "pycharm": {
     "name": "#%%\n"
    }
   }
  },
  {
   "cell_type": "code",
   "execution_count": 12,
   "outputs": [
    {
     "data": {
      "text/plain": "   coef_name           vif\n0      const  30612.395270\n1       time      7.732960\n2        lon      1.530426\n3        lat      1.279037\n4        no2      3.769222\n5        so2      2.910682\n6         co      3.517117\n7       tmin      5.428187\n8        hum      3.237217\n9      opady      1.723035\n10      tysk      1.437392",
      "text/html": "<div>\n<style scoped>\n    .dataframe tbody tr th:only-of-type {\n        vertical-align: middle;\n    }\n\n    .dataframe tbody tr th {\n        vertical-align: top;\n    }\n\n    .dataframe thead th {\n        text-align: right;\n    }\n</style>\n<table border=\"1\" class=\"dataframe\">\n  <thead>\n    <tr style=\"text-align: right;\">\n      <th></th>\n      <th>coef_name</th>\n      <th>vif</th>\n    </tr>\n  </thead>\n  <tbody>\n    <tr>\n      <th>0</th>\n      <td>const</td>\n      <td>30612.395270</td>\n    </tr>\n    <tr>\n      <th>1</th>\n      <td>time</td>\n      <td>7.732960</td>\n    </tr>\n    <tr>\n      <th>2</th>\n      <td>lon</td>\n      <td>1.530426</td>\n    </tr>\n    <tr>\n      <th>3</th>\n      <td>lat</td>\n      <td>1.279037</td>\n    </tr>\n    <tr>\n      <th>4</th>\n      <td>no2</td>\n      <td>3.769222</td>\n    </tr>\n    <tr>\n      <th>5</th>\n      <td>so2</td>\n      <td>2.910682</td>\n    </tr>\n    <tr>\n      <th>6</th>\n      <td>co</td>\n      <td>3.517117</td>\n    </tr>\n    <tr>\n      <th>7</th>\n      <td>tmin</td>\n      <td>5.428187</td>\n    </tr>\n    <tr>\n      <th>8</th>\n      <td>hum</td>\n      <td>3.237217</td>\n    </tr>\n    <tr>\n      <th>9</th>\n      <td>opady</td>\n      <td>1.723035</td>\n    </tr>\n    <tr>\n      <th>10</th>\n      <td>tysk</td>\n      <td>1.437392</td>\n    </tr>\n  </tbody>\n</table>\n</div>"
     },
     "execution_count": 12,
     "metadata": {},
     "output_type": "execute_result"
    }
   ],
   "source": [
    "variance_inflation_factor(exog=x_incl_const.values,exog_idx=1)\n",
    "vif=[variance_inflation_factor(exog=x_incl_const.values,exog_idx=i) for i in range(x_incl_const.shape[1])]\n",
    "dd=pd.DataFrame({'coef_name': x_incl_const.columns,'vif':vif})\n",
    "dd"
   ],
   "metadata": {
    "collapsed": false,
    "pycharm": {
     "name": "#%%\n"
    }
   }
  },
  {
   "cell_type": "code",
   "execution_count": 13,
   "outputs": [
    {
     "name": "stdout",
     "output_type": "stream",
     "text": [
      "BIC 14106.935822694782\n",
      "r-squared 0.769495504794041\n"
     ]
    },
    {
     "name": "stderr",
     "output_type": "stream",
     "text": [
      "C:\\Users\\Yura Dudyuk\\anaconda3\\lib\\site-packages\\statsmodels\\tsa\\tsatools.py:142: FutureWarning: In a future version of pandas all arguments of concat except for the argument 'objs' will be keyword-only\n",
      "  x = pd.concat(x[::order], 1)\n"
     ]
    }
   ],
   "source": [
    "x_incl_const=sm.add_constant(X_train)\n",
    "model = sm.OLS(Y_train,x_incl_const)\n",
    "results=model.fit()\n",
    "org_coef=pd.DataFrame({'coef': results.params,'p-value':results.pvalues})\n",
    "print('BIC',results.bic)\n",
    "print('r-squared',results.rsquared)"
   ],
   "metadata": {
    "collapsed": false,
    "pycharm": {
     "name": "#%%\n"
    }
   }
  },
  {
   "cell_type": "code",
   "execution_count": 14,
   "outputs": [
    {
     "name": "stdout",
     "output_type": "stream",
     "text": [
      "BIC 14099.576270158579\n",
      "r-squared 0.7694477477497808\n"
     ]
    },
    {
     "name": "stderr",
     "output_type": "stream",
     "text": [
      "C:\\Users\\Yura Dudyuk\\anaconda3\\lib\\site-packages\\statsmodels\\tsa\\tsatools.py:142: FutureWarning: In a future version of pandas all arguments of concat except for the argument 'objs' will be keyword-only\n",
      "  x = pd.concat(x[::order], 1)\n"
     ]
    }
   ],
   "source": [
    "x_incl_const=sm.add_constant(X_train)\n",
    "x_incl_const=x_incl_const.drop(['hum'],axis=1)\n",
    "model = sm.OLS(Y_train,x_incl_const)\n",
    "results=model.fit()\n",
    "reduced_coef=pd.DataFrame({'coef': results.params,'p-value':results.pvalues})\n",
    "print('BIC',results.bic)\n",
    "print('r-squared',results.rsquared)"
   ],
   "metadata": {
    "collapsed": false,
    "pycharm": {
     "name": "#%%\n"
    }
   }
  },
  {
   "cell_type": "code",
   "execution_count": 15,
   "outputs": [
    {
     "data": {
      "text/plain": "             coef        p-value        coef        p-value\nconst -118.934235   4.590980e-34 -118.261021   5.612700e-34\ntime    -0.051377   7.184695e-19   -0.053802   1.114370e-28\nlon      0.204540   2.640781e-07    0.214097   1.369374e-08\nlat     -1.156441   5.043416e-14   -1.136544   5.802898e-14\nno2     -0.611893   1.675527e-18   -0.599436   8.884079e-19\nso2      2.598846  1.100077e-177    2.578794  3.605933e-191\nco       0.121072  1.941970e-234    0.121682  5.133281e-248\ntmin     0.447551   6.093058e-67    0.456282   8.527499e-86\nhum      0.010399   4.460057e-01         NaN            NaN\nopady   -0.096855   2.240263e-05   -0.089001   1.261241e-05\ntysk     1.600020   2.630007e-63    1.588727   5.336520e-64",
      "text/html": "<div>\n<style scoped>\n    .dataframe tbody tr th:only-of-type {\n        vertical-align: middle;\n    }\n\n    .dataframe tbody tr th {\n        vertical-align: top;\n    }\n\n    .dataframe thead th {\n        text-align: right;\n    }\n</style>\n<table border=\"1\" class=\"dataframe\">\n  <thead>\n    <tr style=\"text-align: right;\">\n      <th></th>\n      <th>coef</th>\n      <th>p-value</th>\n      <th>coef</th>\n      <th>p-value</th>\n    </tr>\n  </thead>\n  <tbody>\n    <tr>\n      <th>const</th>\n      <td>-118.934235</td>\n      <td>4.590980e-34</td>\n      <td>-118.261021</td>\n      <td>5.612700e-34</td>\n    </tr>\n    <tr>\n      <th>time</th>\n      <td>-0.051377</td>\n      <td>7.184695e-19</td>\n      <td>-0.053802</td>\n      <td>1.114370e-28</td>\n    </tr>\n    <tr>\n      <th>lon</th>\n      <td>0.204540</td>\n      <td>2.640781e-07</td>\n      <td>0.214097</td>\n      <td>1.369374e-08</td>\n    </tr>\n    <tr>\n      <th>lat</th>\n      <td>-1.156441</td>\n      <td>5.043416e-14</td>\n      <td>-1.136544</td>\n      <td>5.802898e-14</td>\n    </tr>\n    <tr>\n      <th>no2</th>\n      <td>-0.611893</td>\n      <td>1.675527e-18</td>\n      <td>-0.599436</td>\n      <td>8.884079e-19</td>\n    </tr>\n    <tr>\n      <th>so2</th>\n      <td>2.598846</td>\n      <td>1.100077e-177</td>\n      <td>2.578794</td>\n      <td>3.605933e-191</td>\n    </tr>\n    <tr>\n      <th>co</th>\n      <td>0.121072</td>\n      <td>1.941970e-234</td>\n      <td>0.121682</td>\n      <td>5.133281e-248</td>\n    </tr>\n    <tr>\n      <th>tmin</th>\n      <td>0.447551</td>\n      <td>6.093058e-67</td>\n      <td>0.456282</td>\n      <td>8.527499e-86</td>\n    </tr>\n    <tr>\n      <th>hum</th>\n      <td>0.010399</td>\n      <td>4.460057e-01</td>\n      <td>NaN</td>\n      <td>NaN</td>\n    </tr>\n    <tr>\n      <th>opady</th>\n      <td>-0.096855</td>\n      <td>2.240263e-05</td>\n      <td>-0.089001</td>\n      <td>1.261241e-05</td>\n    </tr>\n    <tr>\n      <th>tysk</th>\n      <td>1.600020</td>\n      <td>2.630007e-63</td>\n      <td>1.588727</td>\n      <td>5.336520e-64</td>\n    </tr>\n  </tbody>\n</table>\n</div>"
     },
     "execution_count": 15,
     "metadata": {},
     "output_type": "execute_result"
    }
   ],
   "source": [
    "frames=[org_coef,reduced_coef]\n",
    "news=pd.concat(frames,axis=1)\n",
    "news"
   ],
   "metadata": {
    "collapsed": false,
    "pycharm": {
     "name": "#%%\n"
    }
   }
  },
  {
   "cell_type": "code",
   "execution_count": 16,
   "outputs": [
    {
     "name": "stdout",
     "output_type": "stream",
     "text": [
      "r-squered for train 0.7694477477497808\n",
      "r-squered for test 0.741836347180264\n",
      "             coef        p-value\n",
      "const -118.261021   5.612700e-34\n",
      "time    -0.053802   1.114370e-28\n",
      "lon      0.214097   1.369374e-08\n",
      "lat     -1.136544   5.802898e-14\n",
      "no2     -0.599436   8.884079e-19\n",
      "so2      2.578794  3.605933e-191\n",
      "co       0.121682  5.133281e-248\n",
      "tmin     0.456282   8.527499e-86\n",
      "opady   -0.089001   1.261241e-05\n",
      "tysk     1.588727   5.336520e-64\n"
     ]
    },
    {
     "name": "stderr",
     "output_type": "stream",
     "text": [
      "C:\\Users\\Yura Dudyuk\\anaconda3\\lib\\site-packages\\statsmodels\\tsa\\tsatools.py:142: FutureWarning: In a future version of pandas all arguments of concat except for the argument 'objs' will be keyword-only\n",
      "  x = pd.concat(x[::order], 1)\n"
     ]
    }
   ],
   "source": [
    "chem=dff['pm10']\n",
    "features=dff.drop(columns=['o3','pm10','pm2.5','wind','tmax','hum'],axis=1)\n",
    "X_train,X_test,Y_train,Y_test = train_test_split (features,chem,test_size=0.15,random_state=10)\n",
    "regr=LinearRegression()\n",
    "regr.fit(X_train,Y_train)\n",
    "print(\"r-squered for train\",regr.score(X_train,Y_train))\n",
    "print(\"r-squered for test\",regr.score(X_test,Y_test))\n",
    "\n",
    "x_incl_const=sm.add_constant(X_train)\n",
    "model = sm.OLS(Y_train,x_incl_const)\n",
    "results=model.fit()\n",
    "dd=pd.DataFrame({'coef': results.params,'p-value':results.pvalues})\n",
    "print(dd)"
   ],
   "metadata": {
    "collapsed": false,
    "pycharm": {
     "name": "#%%\n"
    }
   }
  },
  {
   "cell_type": "code",
   "execution_count": 17,
   "outputs": [
    {
     "data": {
      "text/plain": "array([12.71613145,  4.65298915,  8.41002715, 19.23399039,  8.5273422 ,\n        5.98915212,  8.74114514,  3.64565483, 10.53283655, 12.192896  ,\n        9.07489148,  7.14852745,  6.93822752,  8.72269769, 13.49704995,\n        5.87994931,  3.09731258, 16.91815156, 10.23627098, 11.88683319,\n       11.7764553 , 10.19785108, 14.41580965, 20.26635977,  6.71319326,\n       11.4547103 ,  3.88068586, 11.15279463, 18.10369863,  2.49236695,\n       10.90774233,  5.76155126, 12.72687307,  7.75031908, 10.39211397,\n       21.76661419, 12.02376364, 11.8256155 ,  9.00533649,  9.97455733,\n        8.17207623, 17.31783723, 15.43118193,  7.68025542, 10.70556726,\n       10.22311463, 16.40212258,  8.34918032,  5.54063564, 12.22061078,\n        8.28463332, 10.8894931 ,  4.90011125, 10.18851794,  7.05228331,\n       18.74005435,  2.93383484, 14.83551181,  5.1356164 , 18.62074883,\n        4.04278102, 12.71339506,  9.03918663, 21.19157589, 10.70077173,\n        8.22180026, 11.59519088,  7.56091956,  8.88083009, 10.20808951,\n       10.82337939, 10.33140445,  9.67620678,  5.41359383,  7.22974327,\n       12.75068862,  9.19209772, 13.41979283,  8.217069  , 13.63553541,\n        6.91691607,  5.67633406, 12.9667028 , 10.47202527, 12.19479435,\n       12.39563299, 11.48470445,  3.69429213,  7.21634907,  4.90325267,\n        7.31378386, 17.55612469, 11.54018144, 14.13515764,  4.63327576,\n       12.21677191,  3.5881549 ,  6.67482941, 14.89019006, 11.52292646,\n        3.7257395 ,  9.35392038,  9.91160696,  4.57622121, 17.01147335,\n        8.22151826, 12.83378674,  8.88796018,  7.43643553,  7.84890126,\n        5.92596759,  7.79172517,  4.56679697, 19.61634472, 11.39540734,\n       15.48624879, 11.89769249,  6.79130142,  4.95680983,  9.07698869,\n       21.0090305 , 11.4378699 ,  5.10058546,  6.28717575, 10.20783227,\n        7.14525351,  9.83920641, 11.85423497, 14.26253747, 10.13013705,\n        9.24590065, 10.64618889,  4.63384281, 20.98749163, 19.54985209,\n       12.73841508,  9.73829483,  5.32405116,  8.1258099 ,  6.24285288,\n       11.10589424, 26.68128131, 20.52445508, 10.56411371, 13.37563563,\n        7.98202414,  8.85624845,  8.27944853, 17.48284041,  8.57099695,\n       13.7176946 ,  5.17138998,  5.57553902,  9.0040835 , 14.24886   ,\n       14.70333397, 10.14324435,  9.10693384,  5.31658895, 11.08311932,\n       15.16969534,  5.00996758, 12.63693269, 11.31902941,  6.68409279,\n       12.70401176, 12.24685023,  8.34740607,  6.66033704,  4.71635536,\n       14.15865034,  8.70521675,  6.33430164,  6.89560317, 14.70759597,\n        9.2062902 ,  9.9766107 ,  4.72857896,  8.99283357, 13.60975538,\n       11.11412621,  5.2994716 ,  4.30804295,  8.55155235,  9.49393263,\n       10.93616741,  5.34543055, 10.45375648, 12.33952315,  7.71790063,\n       19.64328979,  7.98196653, 15.26712106, 10.66346771, 14.9762946 ,\n        5.49699393,  4.61328009,  6.53778259, 13.61287138, 11.08481498,\n        6.03442752,  5.7719417 ,  6.5311651 , 13.48684538,  4.15043908,\n       11.90823114, 10.74876469,  6.8341614 ,  9.26666706,  8.78069046,\n       10.80583134, 11.77152814, 15.69999712, 10.3372956 ,  9.9408748 ,\n       12.43477994, 18.8363451 ,  4.0368072 ,  3.83027867,  9.6314286 ,\n        1.09975854,  6.77229421, 15.05342342, 13.01117442,  9.82109022,\n       18.75343383,  4.73088385, 10.66413916,  7.32748379,  5.58873619,\n        3.55969802, 15.96887951,  6.1065785 ,  9.11890973, 12.17592262,\n        9.38276667,  8.04162779,  8.69068331,  2.86572707,  5.17356255,\n       11.48162917,  6.49881848,  9.7149078 ,  3.52131857, 10.6810252 ,\n       24.82061849, 13.82005616, 13.90241977,  2.3661607 ,  6.52493064,\n       13.50804641,  9.11386244,  9.28982223,  7.21331733, 11.87888941,\n       21.89984806, 11.20921009, 12.35877914,  7.40093099,  8.62641423,\n       10.7785551 ,  7.90040442,  4.2521117 ,  7.49781999, 18.66994863,\n        8.27537216,  5.29550908, 15.93605956,  3.39008972,  9.58768546,\n        5.79290067, 29.48160767, 13.37666149,  9.39962443,  9.50122058,\n        7.82168253, 29.71521191,  6.86967114, 11.85259762,  7.86135887,\n        7.55653589,  9.32732068,  6.66021849,  6.70173685,  4.24447302,\n        7.69119452,  3.22276504, 10.24039569, 14.06633885,  2.87107465,\n       10.59181464,  9.42309904,  5.6011183 , 20.73030338, 17.23898635,\n        8.79313563,  9.56833176,  8.7834997 , 18.48105535,  6.31972306,\n        9.35641482,  9.40450175, 10.10329382, 11.55596958, 16.36926195,\n        3.7824449 , 16.94849508, 15.91749267,  7.12932728,  5.07958524,\n        6.67302563, 15.93819565,  4.61323428, 10.2548008 ,  7.40704422,\n       16.75091401,  9.89243505,  5.54180976,  8.34958857,  6.66322248,\n        5.69137316,  6.80057593,  9.5802799 , 12.71466455, 13.60855453,\n       14.76422751, 33.08467722, 12.36096831,  3.87007259,  3.4205056 ,\n        8.46388286, 16.4205861 ,  6.73417844, 10.36920034, 14.57195019,\n       17.32498168,  6.72527639,  7.7923506 ,  8.94034437,  5.92325162,\n        9.09293475, 11.86685871,  7.64390564,  8.97931762,  6.50113108,\n       12.85369422,  6.46823659,  6.25227868, 10.5630623 ,  9.46602928,\n        3.87232163, 14.10195537,  3.04038275, 11.52880823, 10.17280624,\n        6.74113642, 10.50961727, 10.77357945, 11.05986251, 15.33513168,\n       17.58930447,  6.77943662, 17.78058346, 13.88918912,  4.32795064,\n       10.87302932,  4.51428796, 20.98607155,  7.06202803, 11.01454072,\n       11.43953079,  9.77723523,  8.82043028,  7.36997961,  6.65443829,\n        5.49729902, 17.03549646,  5.90906336,  6.69011899, 16.91218099,\n        3.1854749 ,  7.91574688, 10.33463779,  9.32315686, 15.47488494,\n        3.69363656,  9.76199128,  9.63617119,  6.25615808,  6.24815726,\n        1.25297077, 10.33945095,  9.55644395, 10.81996406,  9.76554633,\n       11.0288138 , 14.36755109, 10.99353694,  6.44794703, 15.39860778,\n        4.98108809, 10.00391533,  6.88502096,  5.49793523, 15.36177076,\n       32.06459513,  7.62756201, 10.82473432,  8.26343698,  4.423388  ,\n        9.97100554,  6.46204424,  8.59373903,  6.88670163,  6.45474809,\n       17.07199484, 10.40903925,  8.50179954,  4.72011202, 19.86197837,\n        4.89068429, 11.29224058,  9.68986433, 14.32867814, 15.17626563,\n        5.61660719,  8.21288065,  5.74435553,  7.04806605,  3.91889851,\n        2.7936486 , 13.3179115 , 10.1498112 ,  8.09262088, 14.75105569,\n       10.40799287,  5.26784655, 11.35534054, 13.39029869,  6.91914425,\n        9.59425677,  8.53722566, 28.44135025, 10.22786385, 14.40435569,\n        9.88885055,  4.98885881,  5.67118521, 10.49845543,  9.85122135,\n       10.08074472, 16.7718889 ,  8.67782877,  2.20219463, 16.86442892,\n        6.29813443,  8.90598724,  6.8583021 , 15.55486135,  5.94319649,\n        8.63934149,  7.57881178,  9.2708378 , 14.64557947, 14.24139173,\n       11.54887755,  4.03306421,  5.38470756,  3.44216846, 19.15379321,\n        5.9236156 ,  9.36257039,  8.78258975,  6.52625606,  8.61636979,\n        7.51669432, 14.21951978,  6.20900654,  3.67508331,  7.89926057,\n       13.28563444,  9.87855216, 31.43505017,  9.92127227,  5.53812607,\n       20.91946912,  8.92182184, 28.60244197,  6.21100117, 10.68306929,\n       19.53293696, 11.72156807,  9.69680395,  6.43181219, 13.94763492,\n       12.24095578, 10.85725888])"
     },
     "execution_count": 17,
     "metadata": {},
     "output_type": "execute_result"
    }
   ],
   "source": [
    "y_test_pred=regr.predict(X_test)\n",
    "y_test_pred\n"
   ],
   "metadata": {
    "collapsed": false,
    "pycharm": {
     "name": "#%%\n"
    }
   }
  },
  {
   "cell_type": "code",
   "execution_count": 18,
   "outputs": [
    {
     "data": {
      "text/plain": "<matplotlib.collections.PathCollection at 0x255c699a040>"
     },
     "execution_count": 18,
     "metadata": {},
     "output_type": "execute_result"
    },
    {
     "data": {
      "text/plain": "<Figure size 432x288 with 1 Axes>",
      "image/png": "[encoded data removed]"
     },
     "metadata": {},
     "output_type": "display_data"
    }
   ],
   "source": [],
   "metadata": {
    "collapsed": false,
    "pycharm": {
     "name": "#%%\n"
    }
   }
  },
  {
   "cell_type": "code",
   "execution_count": 19,
   "outputs": [
    {
     "data": {
      "text/plain": "<Figure size 360x360 with 1 Axes>",
      "image/png": "[encoded data removed]"
     },
     "metadata": {},
     "output_type": "display_data"
    }
   ],
   "source": [
    "sns.displot(Y_test-y_test_pred)\n",
    "y_for_gaus=Y_test-y_test_pred"
   ],
   "metadata": {
    "collapsed": false,
    "pycharm": {
     "name": "#%%\n"
    }
   }
  },
  {
   "cell_type": "code",
   "execution_count": 20,
   "outputs": [
    {
     "data": {
      "text/plain": "ShapiroResult(statistic=0.9419125914573669, pvalue=5.004292878522942e-13)"
     },
     "execution_count": 20,
     "metadata": {},
     "output_type": "execute_result"
    }
   ],
   "source": [
    "import scipy\n",
    "scipy.stats.shapiro(y_for_gaus)"
   ],
   "metadata": {
    "collapsed": false,
    "pycharm": {
     "name": "#%%\n"
    }
   }
  },
  {
   "cell_type": "code",
   "execution_count": 21,
   "outputs": [
    {
     "name": "stdout",
     "output_type": "stream",
     "text": [
      "MAE 2.0203365961362385\n",
      "MSE 8.12447037766412\n",
      "RMSE 2.8503456593304817\n"
     ]
    }
   ],
   "source": [
    "print('MAE',metrics.mean_absolute_error(Y_test,y_test_pred))\n",
    "print('MSE',metrics.mean_squared_error(Y_test,y_test_pred))\n",
    "print('RMSE',np.sqrt(metrics.mean_squared_error(Y_test,y_test_pred)))"
   ],
   "metadata": {
    "collapsed": false,
    "pycharm": {
     "name": "#%%\n"
    }
   }
  },
  {
   "cell_type": "code",
   "execution_count": 22,
   "outputs": [
    {
     "name": "stdout",
     "output_type": "stream",
     "text": [
      "r-squered for train 0.8865833531803248\n",
      "r-squered for test 0.8203056798419734\n",
      "MAE 1.6248141593817276\n",
      "MSE 5.655022173775085\n",
      "RMSE 2.378029052340422\n"
     ]
    },
    {
     "data": {
      "text/plain": "ShapiroResult(statistic=0.9104925394058228, pvalue=1.548811523106411e-16)"
     },
     "execution_count": 22,
     "metadata": {},
     "output_type": "execute_result"
    },
    {
     "data": {
      "text/plain": "<Figure size 360x360 with 1 Axes>",
      "image/png": "[encoded data removed]"
     },
     "metadata": {},
     "output_type": "display_data"
    }
   ],
   "source": [
    "model=RandomForestRegressor(n_estimators=60,min_samples_leaf=5,max_depth=6,n_jobs=1)\n",
    "model.fit(X_train,Y_train)\n",
    "print(\"r-squered for train\",model.score(X_train,Y_train))\n",
    "print(\"r-squered for test\",model.score(X_test,Y_test))\n",
    "y_test_pred=model.predict(X_test)\n",
    "\n",
    "sns.displot(Y_test-y_test_pred)\n",
    "y_for_gaus=Y_test-y_test_pred\n",
    "scipy.stats.shapiro(y_for_gaus)\n",
    "print('MAE',metrics.mean_absolute_error(Y_test,y_test_pred))\n",
    "print('MSE',metrics.mean_squared_error(Y_test,y_test_pred))\n",
    "print('RMSE',np.sqrt(metrics.mean_squared_error(Y_test,y_test_pred)))\n",
    "scipy.stats.shapiro(y_for_gaus)"
   ],
   "metadata": {
    "collapsed": false,
    "pycharm": {
     "name": "#%%\n"
    }
   }
  },
  {
   "cell_type": "code",
   "execution_count": null,
   "outputs": [],
   "source": [],
   "metadata": {
    "collapsed": false,
    "pycharm": {
     "name": "#%%\n"
    }
   }
  }
 ],
 "metadata": {
  "kernelspec": {
   "display_name": "Python 3",
   "language": "python",
   "name": "python3"
  },
  "language_info": {
   "codemirror_mode": {
    "name": "ipython",
    "version": 2
   },
   "file_extension": ".py",
   "mimetype": "text/x-python",
   "name": "python",
   "nbconvert_exporter": "python",
   "pygments_lexer": "ipython2",
   "version": "2.7.6"
  }
 },
 "nbformat": 4,
 "nbformat_minor": 0
}