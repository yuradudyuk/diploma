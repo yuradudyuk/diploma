{
 "cells": [
  {
   "cell_type": "code",
   "execution_count": 9,
   "outputs": [
    {
     "data": {
      "text/plain": "            no2        o3       so2     pm2.5      pm10        co      tmax  \\\ntime  -0.415741  0.387441 -0.240323 -0.368899 -0.390421 -0.605185  0.826676   \nlon   -0.424547  0.030846 -0.461588 -0.207922 -0.254245 -0.258727 -0.042636   \nlat   -0.188201  0.042263 -0.147747 -0.097050 -0.086878 -0.051185 -0.007945   \nno2    1.000000 -0.521072  0.726618  0.624651  0.651734  0.751877 -0.277203   \no3    -0.521072  1.000000 -0.059292 -0.308254 -0.297094 -0.510993  0.349467   \nso2    0.726618 -0.059292  1.000000  0.687509  0.715760  0.611125 -0.049439   \npm2.5  0.624651 -0.308254  0.687509  1.000000  0.989233  0.782036 -0.012987   \npm10   0.651734 -0.297094  0.715760  0.989233  1.000000  0.777753 -0.032763   \nco     0.751877 -0.510993  0.611125  0.782036  0.777753  1.000000 -0.392282   \ntmax  -0.277203  0.349467 -0.049439 -0.012987 -0.032763 -0.392282  1.000000   \ntmin  -0.243154  0.175435 -0.159459 -0.153268 -0.179913 -0.413195  0.876554   \nhum    0.308719 -0.673717 -0.013148  0.282630  0.249959  0.439669 -0.353050   \nopady -0.064895 -0.169933 -0.183186 -0.116184 -0.150461 -0.085150  0.132974   \ntysk  -0.005493 -0.075370 -0.060192  0.132733  0.143303  0.060516 -0.118298   \nwind   0.074401  0.313442  0.199419 -0.069917 -0.046335 -0.030763 -0.105003   \n\n           tmin       hum     opady      tysk      wind  \ntime   0.846596 -0.440903  0.224874 -0.222992 -0.080717  \nlon   -0.032703  0.175312  0.085854  0.094838 -0.096535  \nlat    0.002081  0.045270 -0.023346  0.340029 -0.002991  \nno2   -0.243154  0.308719 -0.064895 -0.005493  0.074401  \no3     0.175435 -0.673717 -0.169933 -0.075370  0.313442  \nso2   -0.159459 -0.013148 -0.183186 -0.060192  0.199419  \npm2.5 -0.153268  0.282630 -0.116184  0.132733 -0.069917  \npm10  -0.179913  0.249959 -0.150461  0.143303 -0.046335  \nco    -0.413195  0.439669 -0.085150  0.060516 -0.030763  \ntmax   0.876554 -0.353050  0.132974 -0.118298 -0.105003  \ntmin   1.000000 -0.112886  0.353958 -0.261290 -0.053905  \nhum   -0.112886  1.000000  0.416990 -0.102690 -0.035014  \nopady  0.353958  0.416990  1.000000 -0.335279  0.003805  \ntysk  -0.261290 -0.102690 -0.335279  1.000000 -0.238502  \nwind  -0.053905 -0.035014  0.003805 -0.238502  1.000000  ",
      "text/html": "<div>\n<style scoped>\n    .dataframe tbody tr th:only-of-type {\n        vertical-align: middle;\n    }\n\n    .dataframe tbody tr th {\n        vertical-align: top;\n    }\n\n    .dataframe thead th {\n        text-align: right;\n    }\n</style>\n<table border=\"1\" class=\"dataframe\">\n  <thead>\n    <tr style=\"text-align: right;\">\n      <th></th>\n      <th>no2</th>\n      <th>o3</th>\n      <th>so2</th>\n      <th>pm2.5</th>\n      <th>pm10</th>\n      <th>co</th>\n      <th>tmax</th>\n      <th>tmin</th>\n      <th>hum</th>\n      <th>opady</th>\n      <th>tysk</th>\n      <th>wind</th>\n    </tr>\n  </thead>\n  <tbody>\n    <tr>\n      <th>time</th>\n      <td>-0.415741</td>\n      <td>0.387441</td>\n      <td>-0.240323</td>\n      <td>-0.368899</td>\n      <td>-0.390421</td>\n      <td>-0.605185</td>\n      <td>0.826676</td>\n      <td>0.846596</td>\n      <td>-0.440903</td>\n      <td>0.224874</td>\n      <td>-0.222992</td>\n      <td>-0.080717</td>\n    </tr>\n    <tr>\n      <th>lon</th>\n      <td>-0.424547</td>\n      <td>0.030846</td>\n      <td>-0.461588</td>\n      <td>-0.207922</td>\n      <td>-0.254245</td>\n      <td>-0.258727</td>\n      <td>-0.042636</td>\n      <td>-0.032703</td>\n      <td>0.175312</td>\n      <td>0.085854</td>\n      <td>0.094838</td>\n      <td>-0.096535</td>\n    </tr>\n    <tr>\n      <th>lat</th>\n      <td>-0.188201</td>\n      <td>0.042263</td>\n      <td>-0.147747</td>\n      <td>-0.097050</td>\n      <td>-0.086878</td>\n      <td>-0.051185</td>\n      <td>-0.007945</td>\n      <td>0.002081</td>\n      <td>0.045270</td>\n      <td>-0.023346</td>\n      <td>0.340029</td>\n      <td>-0.002991</td>\n    </tr>\n    <tr>\n      <th>no2</th>\n      <td>1.000000</td>\n      <td>-0.521072</td>\n      <td>0.726618</td>\n      <td>0.624651</td>\n      <td>0.651734</td>\n      <td>0.751877</td>\n      <td>-0.277203</td>\n      <td>-0.243154</td>\n      <td>0.308719</td>\n      <td>-0.064895</td>\n      <td>-0.005493</td>\n      <td>0.074401</td>\n    </tr>\n    <tr>\n      <th>o3</th>\n      <td>-0.521072</td>\n      <td>1.000000</td>\n      <td>-0.059292</td>\n      <td>-0.308254</td>\n      <td>-0.297094</td>\n      <td>-0.510993</td>\n      <td>0.349467</td>\n      <td>0.175435</td>\n      <td>-0.673717</td>\n      <td>-0.169933</td>\n      <td>-0.075370</td>\n      <td>0.313442</td>\n    </tr>\n    <tr>\n      <th>so2</th>\n      <td>0.726618</td>\n      <td>-0.059292</td>\n      <td>1.000000</td>\n      <td>0.687509</td>\n      <td>0.715760</td>\n      <td>0.611125</td>\n      <td>-0.049439</td>\n      <td>-0.159459</td>\n      <td>-0.013148</td>\n      <td>-0.183186</td>\n      <td>-0.060192</td>\n      <td>0.199419</td>\n    </tr>\n    <tr>\n      <th>pm2.5</th>\n      <td>0.624651</td>\n      <td>-0.308254</td>\n      <td>0.687509</td>\n      <td>1.000000</td>\n      <td>0.989233</td>\n      <td>0.782036</td>\n      <td>-0.012987</td>\n      <td>-0.153268</td>\n      <td>0.282630</td>\n      <td>-0.116184</td>\n      <td>0.132733</td>\n      <td>-0.069917</td>\n    </tr>\n    <tr>\n      <th>pm10</th>\n      <td>0.651734</td>\n      <td>-0.297094</td>\n      <td>0.715760</td>\n      <td>0.989233</td>\n      <td>1.000000</td>\n      <td>0.777753</td>\n      <td>-0.032763</td>\n      <td>-0.179913</td>\n      <td>0.249959</td>\n      <td>-0.150461</td>\n      <td>0.143303</td>\n      <td>-0.046335</td>\n    </tr>\n    <tr>\n      <th>co</th>\n      <td>0.751877</td>\n      <td>-0.510993</td>\n      <td>0.611125</td>\n      <td>0.782036</td>\n      <td>0.777753</td>\n      <td>1.000000</td>\n      <td>-0.392282</td>\n      <td>-0.413195</td>\n      <td>0.439669</td>\n      <td>-0.085150</td>\n      <td>0.060516</td>\n      <td>-0.030763</td>\n    </tr>\n    <tr>\n      <th>tmax</th>\n      <td>-0.277203</td>\n      <td>0.349467</td>\n      <td>-0.049439</td>\n      <td>-0.012987</td>\n      <td>-0.032763</td>\n      <td>-0.392282</td>\n      <td>1.000000</td>\n      <td>0.876554</td>\n      <td>-0.353050</td>\n      <td>0.132974</td>\n      <td>-0.118298</td>\n      <td>-0.105003</td>\n    </tr>\n    <tr>\n      <th>tmin</th>\n      <td>-0.243154</td>\n      <td>0.175435</td>\n      <td>-0.159459</td>\n      <td>-0.153268</td>\n      <td>-0.179913</td>\n      <td>-0.413195</td>\n      <td>0.876554</td>\n      <td>1.000000</td>\n      <td>-0.112886</td>\n      <td>0.353958</td>\n      <td>-0.261290</td>\n      <td>-0.053905</td>\n    </tr>\n    <tr>\n      <th>hum</th>\n      <td>0.308719</td>\n      <td>-0.673717</td>\n      <td>-0.013148</td>\n      <td>0.282630</td>\n      <td>0.249959</td>\n      <td>0.439669</td>\n      <td>-0.353050</td>\n      <td>-0.112886</td>\n      <td>1.000000</td>\n      <td>0.416990</td>\n      <td>-0.102690</td>\n      <td>-0.035014</td>\n    </tr>\n    <tr>\n      <th>opady</th>\n      <td>-0.064895</td>\n      <td>-0.169933</td>\n      <td>-0.183186</td>\n      <td>-0.116184</td>\n      <td>-0.150461</td>\n      <td>-0.085150</td>\n      <td>0.132974</td>\n      <td>0.353958</td>\n      <td>0.416990</td>\n      <td>1.000000</td>\n      <td>-0.335279</td>\n      <td>0.003805</td>\n    </tr>\n    <tr>\n      <th>tysk</th>\n      <td>-0.005493</td>\n      <td>-0.075370</td>\n      <td>-0.060192</td>\n      <td>0.132733</td>\n      <td>0.143303</td>\n      <td>0.060516</td>\n      <td>-0.118298</td>\n      <td>-0.261290</td>\n      <td>-0.102690</td>\n      <td>-0.335279</td>\n      <td>1.000000</td>\n      <td>-0.238502</td>\n    </tr>\n    <tr>\n      <th>wind</th>\n      <td>0.074401</td>\n      <td>0.313442</td>\n      <td>0.199419</td>\n      <td>-0.069917</td>\n      <td>-0.046335</td>\n      <td>-0.030763</td>\n      <td>-0.105003</td>\n      <td>-0.053905</td>\n      <td>-0.035014</td>\n      <td>0.003805</td>\n      <td>-0.238502</td>\n      <td>1.000000</td>\n    </tr>\n  </tbody>\n</table>\n</div>"
     },
     "execution_count": 9,
     "metadata": {},
     "output_type": "execute_result"
    }
   ],
   "source": [
    "import xarray as xr\n",
    "import pandas as pd\n",
    "import numpy as np\n",
    "import math as mh\n",
    "import matplotlib.pyplot as plt\n",
    "from sklearn.linear_model import LinearRegression\n",
    "from sklearn.preprocessing import PolynomialFeatures\n",
    "from sklearn.model_selection import train_test_split\n",
    "import seaborn as sns\n",
    "import statsmodels.api as sm\n",
    "from statsmodels.stats.outliers_influence import variance_inflation_factor\n",
    "from sklearn import metrics\n",
    "from sklearn.ensemble import RandomForestRegressor\n",
    "dff=pd.read_csv('atlast_data.csv',index_col=0)\n",
    "cor=dff.corr()\n",
    "#cor=cor.drop(columns=['time','lon','lat'])\n",
    "cor.drop(columns=['time','lon','lat'],axis=0)"
   ],
   "metadata": {
    "collapsed": false,
    "pycharm": {
     "name": "#%%\n"
    }
   }
  },
  {
   "cell_type": "code",
   "execution_count": 10,
   "outputs": [
    {
     "name": "stdout",
     "output_type": "stream",
     "text": [
      "r-squered for train 0.9792208964767306\n",
      "r-squered for test 0.9742698014661292\n",
      "           coef       p-value\n",
      "const  0.225498  6.645035e-18\n",
      "pm10   0.802987  0.000000e+00\n"
     ]
    },
    {
     "name": "stderr",
     "output_type": "stream",
     "text": [
      "C:\\Users\\Yura Dudyuk\\anaconda3\\lib\\site-packages\\statsmodels\\tsa\\tsatools.py:142: FutureWarning: In a future version of pandas all arguments of concat except for the argument 'objs' will be keyword-only\n",
      "  x = pd.concat(x[::order], 1)\n"
     ]
    }
   ],
   "source": [
    "chem=dff['pm2.5']\n",
    "features=dff.drop(columns=['no2','o3','so2','co','wind','tysk','lat','lon','opady','hum','tmax','tmin','time','pm2.5'],axis=1)\n",
    "X_train,X_test,Y_train,Y_test = train_test_split (features,chem,test_size=0.15,random_state=10)\n",
    "regr=LinearRegression()\n",
    "regr.fit(X_train,Y_train)\n",
    "print(\"r-squered for train\",regr.score(X_train,Y_train))\n",
    "print(\"r-squered for test\",regr.score(X_test,Y_test))\n",
    "\n",
    "x_incl_const=sm.add_constant(X_train)\n",
    "model = sm.OLS(Y_train,x_incl_const)\n",
    "results=model.fit()\n",
    "dd=pd.DataFrame({'coef': results.params,'p-value':results.pvalues})\n",
    "print(dd)\n",
    "#features=dff.drop(columns=['no2','o3','so2','pm10','co','pm2.5','wind','tysk','lat','lon','opady','hum','tmax','tmin','time'],axis=1)"
   ],
   "metadata": {
    "collapsed": false,
    "pycharm": {
     "name": "#%%\n"
    }
   }
  },
  {
   "cell_type": "code",
   "execution_count": 11,
   "outputs": [
    {
     "data": {
      "text/plain": "array([ 9.87504533,  4.92971081,  4.99208275, 14.02015698,  6.49699025,\n        4.97925069,  6.39202771,  6.46743541,  9.60330582,  7.43221804,\n        6.60108948,  7.41058554,  4.70592548,  3.94011255,  9.55800075,\n        5.23746637,  4.12008662, 16.0097815 ,  6.94075596, 12.1480718 ,\n       13.28765381,  8.61729502,  9.10114465, 14.63696586,  4.7872563 ,\n        7.12540695,  3.37711435,  9.51511762, 15.67155011,  6.32176611,\n       13.93881289,  6.89931813,  7.19819412,  9.90529397,  6.8980556 ,\n       15.76258602,  6.42066565, 10.04961548,  5.18961736,  7.58241212,\n        6.94375887, 14.42384388,  9.48113295,  6.91199499,  8.37980514,\n        4.76901726, 15.149554  ,  4.96507135,  4.91408822, 12.41833692,\n        8.42077636,  8.38219645,  5.52870082,  8.15282954,  6.41360048,\n       12.38913281,  2.94668995, 10.27559862,  5.59359066, 18.00344937,\n        6.22858242, 15.866091  ,  6.99557977, 15.76342226,  6.06111624,\n        8.24627411,  7.01208609,  4.57256751,  5.98504333,  6.05923189,\n        6.4560078 ,  8.70456325,  6.51632334,  4.14784543,  4.39605277,\n        9.8766494 ,  9.65539066, 10.797026  ,  6.16140542,  9.38472938,\n        6.80994194,  4.69666455, 14.59047944,  8.27702357,  8.71534045,\n       12.24517275,  5.4529138 ,  3.57032328,  7.16622143,  7.36789998,\n        6.0933835 , 14.71250834, 10.13544607, 10.02418007,  5.04674472,\n       12.16757082,  4.63756253,  7.42049433, 11.11637203,  9.13822107,\n        3.07074716,  7.02730486, 11.66081288,  3.90869327, 13.96512334,\n        5.79042739,  8.53855768,  5.87363796,  4.97253472,  4.17733951,\n        7.60482215,  4.25650544,  3.75786333,  9.09168564,  7.85219377,\n        6.28087199, 10.81675169,  5.11783695,  9.72631186,  3.854405  ,\n       27.19062535, 10.19976106,  5.50431607,  4.92902926,  7.72795532,\n        6.40849063,  7.55425816,  5.74977474, 11.15160953,  8.79555729,\n        7.59341854,  8.48599039,  5.10734105, 16.92861529, 18.2534456 ,\n        7.6367249 ,  7.29918527,  4.31600899,  7.06120069,  5.19518873,\n        8.30442093, 25.50559879, 19.11208025,  5.94350135, 10.52643007,\n        5.16086507,  6.31422769,  5.81711716, 13.42130839,  8.64926873,\n       13.91918829,  5.31094377,  3.4570527 ,  7.97415834, 12.30872094,\n       10.52280534,  5.55761086,  9.1188068 ,  4.16615849,  6.98244599,\n       10.98337806,  4.68787227,  8.66670369,  7.66253452,  5.87173166,\n       13.80820921, 12.40436894,  5.48576153,  7.19177273,  4.10445917,\n        8.7322174 ,  5.06521963,  4.14995645,  4.8943467 ,  7.83791641,\n        4.69095789,  8.87743743,  7.60172735,  6.00712305,  9.60688971,\n        5.67392544,  2.73713705,  5.1188192 ,  7.0140705 ,  5.77452809,\n        9.10350737,  4.68207883,  8.27477318,  9.65064686,  6.35387256,\n       11.00069816,  3.49726681, 11.33155755,  7.66154768, 10.64414094,\n        6.23720418,  3.82761823,  4.17234861,  8.91065632,  9.23357296,\n        7.20764752,  3.8155734 ,  5.89012436, 11.80254602,  6.05732661,\n       12.92962526,  9.44147328,  5.04881491,  8.18938573,  4.22636631,\n        8.05251023, 16.40047348, 15.28949928,  7.85328935,  9.02129538,\n       11.15166466, 16.12263523,  3.96741495,  4.04689435,  6.05261241,\n        4.21574584,  5.10271977, 10.17322598, 12.44505783,  9.70137166,\n        9.43638436,  7.46564419,  8.29087771,  4.47497212,  5.88363711,\n        6.0196345 , 12.03163316,  4.42172021,  5.59163892, 10.09035849,\n        6.59832397,  6.78349467,  6.52022835,  3.213969  ,  4.85776805,\n        8.86662144,  5.06860084, 11.93693168,  3.24537525,  7.05591982,\n       24.40186079, 14.79988684, 12.52449459,  3.20838078,  6.55497472,\n       10.47391128,  7.65147501, 10.20633153,  5.66465175, 12.49105721,\n       20.60832056,  9.70098775, 10.3730937 ,  5.65305413,  6.57549632,\n        8.52824812,  7.95661412,  5.26561727,  5.7702264 ,  8.10525417,\n       11.50761742,  4.15301245, 12.61130233,  4.25674207,  9.14166814,\n        5.78692365, 33.56612437, 12.82548416,  6.52022631,  8.92785899,\n        5.52292116, 26.08094687,  5.81443077,  6.45613186,  6.62535323,\n        8.79180493,  9.95881339,  9.70267044,  4.02986832,  3.76671304,\n        6.08920842,  5.83154767,  8.02803615, 11.97871106,  6.25296104,\n        6.60236529, 12.03954427,  6.09345344, 19.63666983, 17.49449618,\n        7.76873917,  4.59442311,  9.60853871, 11.95521463,  5.18450138,\n        7.12176741,  7.36606362,  8.9237901 ,  8.29383161, 11.01709624,\n        3.70760898, 11.01722285, 14.55266787,  6.35906869,  4.64192548,\n        6.28050084, 11.98190082,  4.74295186,  7.25304397,  7.08979013,\n       15.14194615,  8.14582206,  5.60650084,  4.6128148 ,  6.22434864,\n        4.86714283,  5.44114618,  5.91267887, 10.57867624,  5.92900599,\n       12.66453381, 32.91201853, 16.8068243 ,  4.27196799,  3.38171189,\n       12.11590563, 15.30923416,  6.65636052,  5.47720001,  6.06978496,\n       25.58835704,  5.8825017 ,  4.74628304,  4.6742443 ,  4.42989806,\n        8.22761593,  8.17200641,  4.99365261,  6.29114377,  5.37899735,\n       10.60495197,  5.13045101,  7.34194486, 11.88417601,  4.55804459,\n        5.0646121 , 12.68858774,  3.06068929,  7.58088616,  6.51563362,\n        4.55552208,  7.36939786,  9.15570248,  6.49200088, 10.60279143,\n       14.95167938,  6.42777778, 13.85068086, 10.52317087,  3.7436429 ,\n       16.40036525,  4.78422735, 17.45430147,  4.00430426,  7.7432476 ,\n        8.34931809,  8.22811114,  6.40145048,  4.91682514,  4.44159038,\n        5.33426611, 13.64547713,  4.90121582,  5.56210961, 15.6090679 ,\n        4.30813209,  4.44674311,  8.27980645,  9.94467081, 11.47434136,\n        3.25974859,  6.38490384,  7.40235433,  5.1651254 ,  4.90775719,\n        4.16664374,  9.04279974,  6.56108316,  6.01561411,  7.29323408,\n       11.6929423 , 10.58405718, 10.00945345,  4.14773158, 14.94705606,\n        5.44869277,  5.00921854,  4.87446326,  4.89409603, 12.45044796,\n       22.00982569,  5.77664677,  8.51923735,  5.07246705,  5.0178985 ,\n        6.23958629,  6.25737096,  4.43432126,  6.22636572,  5.24316894,\n       14.35461661,  6.30530524,  2.84605641,  8.9625635 , 18.07792485,\n        3.48484699,  7.61524862,  8.4002083 , 11.75888894, 12.91053977,\n        5.94720878,  4.76695627,  5.34972687,  5.67783964,  4.46969864,\n        3.13686891,  9.62406175,  7.2009387 ,  4.86417821, 12.33245528,\n        9.0023508 ,  9.27506439,  7.51909469,  5.62752224,  5.89260807,\n        7.31159462,  7.9221322 , 18.53694864,  8.99504926, 11.00543175,\n        9.78421057,  6.16370075,  5.34997958,  5.81931497,  9.04303152,\n        8.54597562, 10.80872214,  3.63825152,  3.45126666, 11.22558673,\n        5.7729133 ,  5.46979892,  5.68713529, 22.7410985 ,  5.22507898,\n        5.92670454, 10.26194513,  8.56581668, 15.2300302 , 10.4089765 ,\n        9.17672082,  3.79111182,  4.52654465,  3.54043456, 14.30461675,\n        5.57469203,  6.29920241,  6.57564284,  5.47700499,  6.539855  ,\n        4.88567644, 10.15472147,  4.47718754,  3.21114681,  5.92498203,\n       10.83252795,  8.87149287, 34.18825701,  6.33824588,  4.21988442,\n       13.28591394,  7.30265991, 24.51374963,  3.87089166,  6.30691901,\n       11.37571394,  8.49567506,  8.22125069,  4.91247496, 17.72402237,\n        8.89025673,  7.84019488])"
     },
     "execution_count": 11,
     "metadata": {},
     "output_type": "execute_result"
    }
   ],
   "source": [
    "y_test_pred=regr.predict(X_test)\n",
    "y_test_pred"
   ],
   "metadata": {
    "collapsed": false,
    "pycharm": {
     "name": "#%%\n"
    }
   }
  },
  {
   "cell_type": "code",
   "execution_count": 11,
   "outputs": [],
   "source": [],
   "metadata": {
    "collapsed": false,
    "pycharm": {
     "name": "#%%\n"
    }
   }
  },
  {
   "cell_type": "code",
   "execution_count": 12,
   "outputs": [
    {
     "data": {
      "text/plain": "<Figure size 360x360 with 1 Axes>",
      "image/png": "[encoded data removed]"
     },
     "metadata": {},
     "output_type": "display_data"
    }
   ],
   "source": [
    "sns.displot(Y_test-y_test_pred)\n",
    "y_for_gaus=Y_test-y_test_pred"
   ],
   "metadata": {
    "collapsed": false,
    "pycharm": {
     "name": "#%%\n"
    }
   }
  },
  {
   "cell_type": "code",
   "execution_count": 13,
   "outputs": [
    {
     "data": {
      "text/plain": "ShapiroResult(statistic=0.9655126929283142, pvalue=2.0829566960145485e-09)"
     },
     "execution_count": 13,
     "metadata": {},
     "output_type": "execute_result"
    }
   ],
   "source": [
    "import scipy\n",
    "scipy.stats.shapiro(y_for_gaus)"
   ],
   "metadata": {
    "collapsed": false,
    "pycharm": {
     "name": "#%%\n"
    }
   }
  },
  {
   "cell_type": "code",
   "execution_count": 14,
   "outputs": [
    {
     "name": "stdout",
     "output_type": "stream",
     "text": [
      "MAE 0.5244078470263382\n",
      "MSE 0.5284890644590519\n",
      "RMSE 0.7269725334970035\n"
     ]
    }
   ],
   "source": [
    "print('MAE',metrics.mean_absolute_error(Y_test,y_test_pred))\n",
    "print('MSE',metrics.mean_squared_error(Y_test,y_test_pred))\n",
    "print('RMSE',np.sqrt(metrics.mean_squared_error(Y_test,y_test_pred)))"
   ],
   "metadata": {
    "collapsed": false,
    "pycharm": {
     "name": "#%%\n"
    }
   }
  },
  {
   "cell_type": "code",
   "execution_count": 15,
   "outputs": [
    {
     "name": "stdout",
     "output_type": "stream",
     "text": [
      "r-squered for train 0.9815691897764277\n",
      "r-squered for test 0.9745941546372113\n",
      "MAE 0.5241802727164221\n",
      "MSE 0.5218269664688661\n",
      "RMSE 0.722375917697196\n"
     ]
    },
    {
     "data": {
      "text/plain": "ShapiroResult(statistic=0.9683430194854736, pvalue=7.07039404801435e-09)"
     },
     "execution_count": 15,
     "metadata": {},
     "output_type": "execute_result"
    },
    {
     "data": {
      "text/plain": "<Figure size 360x360 with 1 Axes>",
      "image/png": "[encoded data removed]"
     },
     "metadata": {},
     "output_type": "display_data"
    }
   ],
   "source": [
    "model=RandomForestRegressor(n_estimators=60,min_samples_leaf=5,max_depth=6,n_jobs=1)\n",
    "model.fit(X_train,Y_train)\n",
    "print(\"r-squered for train\",model.score(X_train,Y_train))\n",
    "print(\"r-squered for test\",model.score(X_test,Y_test))\n",
    "y_test_pred=model.predict(X_test)\n",
    "\n",
    "sns.displot(Y_test-y_test_pred)\n",
    "y_for_gaus=Y_test-y_test_pred\n",
    "scipy.stats.shapiro(y_for_gaus)\n",
    "print('MAE',metrics.mean_absolute_error(Y_test,y_test_pred))\n",
    "print('MSE',metrics.mean_squared_error(Y_test,y_test_pred))\n",
    "print('RMSE',np.sqrt(metrics.mean_squared_error(Y_test,y_test_pred)))\n",
    "scipy.stats.shapiro(y_for_gaus)"
   ],
   "metadata": {
    "collapsed": false,
    "pycharm": {
     "name": "#%%\n"
    }
   }
  }
 ],
 "metadata": {
  "kernelspec": {
   "display_name": "Python 3",
   "language": "python",
   "name": "python3"
  },
  "language_info": {
   "codemirror_mode": {
    "name": "ipython",
    "version": 2
   },
   "file_extension": ".py",
   "mimetype": "text/x-python",
   "name": "python",
   "nbconvert_exporter": "python",
   "pygments_lexer": "ipython2",
   "version": "2.7.6"
  }
 },
 "nbformat": 4,
 "nbformat_minor": 0
}