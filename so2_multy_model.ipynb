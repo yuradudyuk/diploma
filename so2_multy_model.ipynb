{
 "cells": [
  {
   "cell_type": "code",
   "execution_count": 15,
   "outputs": [
    {
     "data": {
      "text/plain": "            no2        o3       so2     pm2.5      pm10        co      tmax  \\\ntime  -0.415741  0.387441 -0.240323 -0.368899 -0.390421 -0.605185  0.826676   \nlon   -0.424547  0.030846 -0.461588 -0.207922 -0.254245 -0.258727 -0.042636   \nlat   -0.188201  0.042263 -0.147747 -0.097050 -0.086878 -0.051185 -0.007945   \nno2    1.000000 -0.521072  0.726618  0.624651  0.651734  0.751877 -0.277203   \no3    -0.521072  1.000000 -0.059292 -0.308254 -0.297094 -0.510993  0.349467   \nso2    0.726618 -0.059292  1.000000  0.687509  0.715760  0.611125 -0.049439   \npm2.5  0.624651 -0.308254  0.687509  1.000000  0.989233  0.782036 -0.012987   \npm10   0.651734 -0.297094  0.715760  0.989233  1.000000  0.777753 -0.032763   \nco     0.751877 -0.510993  0.611125  0.782036  0.777753  1.000000 -0.392282   \ntmax  -0.277203  0.349467 -0.049439 -0.012987 -0.032763 -0.392282  1.000000   \ntmin  -0.243154  0.175435 -0.159459 -0.153268 -0.179913 -0.413195  0.876554   \nhum    0.308719 -0.673717 -0.013148  0.282630  0.249959  0.439669 -0.353050   \nopady -0.064895 -0.169933 -0.183186 -0.116184 -0.150461 -0.085150  0.132974   \ntysk  -0.005493 -0.075370 -0.060192  0.132733  0.143303  0.060516 -0.118298   \nwind   0.074401  0.313442  0.199419 -0.069917 -0.046335 -0.030763 -0.105003   \n\n           tmin       hum     opady      tysk      wind  \ntime   0.846596 -0.440903  0.224874 -0.222992 -0.080717  \nlon   -0.032703  0.175312  0.085854  0.094838 -0.096535  \nlat    0.002081  0.045270 -0.023346  0.340029 -0.002991  \nno2   -0.243154  0.308719 -0.064895 -0.005493  0.074401  \no3     0.175435 -0.673717 -0.169933 -0.075370  0.313442  \nso2   -0.159459 -0.013148 -0.183186 -0.060192  0.199419  \npm2.5 -0.153268  0.282630 -0.116184  0.132733 -0.069917  \npm10  -0.179913  0.249959 -0.150461  0.143303 -0.046335  \nco    -0.413195  0.439669 -0.085150  0.060516 -0.030763  \ntmax   0.876554 -0.353050  0.132974 -0.118298 -0.105003  \ntmin   1.000000 -0.112886  0.353958 -0.261290 -0.053905  \nhum   -0.112886  1.000000  0.416990 -0.102690 -0.035014  \nopady  0.353958  0.416990  1.000000 -0.335279  0.003805  \ntysk  -0.261290 -0.102690 -0.335279  1.000000 -0.238502  \nwind  -0.053905 -0.035014  0.003805 -0.238502  1.000000  ",
      "text/html": "<div>\n<style scoped>\n    .dataframe tbody tr th:only-of-type {\n        vertical-align: middle;\n    }\n\n    .dataframe tbody tr th {\n        vertical-align: top;\n    }\n\n    .dataframe thead th {\n        text-align: right;\n    }\n</style>\n<table border=\"1\" class=\"dataframe\">\n  <thead>\n    <tr style=\"text-align: right;\">\n      <th></th>\n      <th>no2</th>\n      <th>o3</th>\n      <th>so2</th>\n      <th>pm2.5</th>\n      <th>pm10</th>\n      <th>co</th>\n      <th>tmax</th>\n      <th>tmin</th>\n      <th>hum</th>\n      <th>opady</th>\n      <th>tysk</th>\n      <th>wind</th>\n    </tr>\n  </thead>\n  <tbody>\n    <tr>\n      <th>time</th>\n      <td>-0.415741</td>\n      <td>0.387441</td>\n      <td>-0.240323</td>\n      <td>-0.368899</td>\n      <td>-0.390421</td>\n      <td>-0.605185</td>\n      <td>0.826676</td>\n      <td>0.846596</td>\n      <td>-0.440903</td>\n      <td>0.224874</td>\n      <td>-0.222992</td>\n      <td>-0.080717</td>\n    </tr>\n    <tr>\n      <th>lon</th>\n      <td>-0.424547</td>\n      <td>0.030846</td>\n      <td>-0.461588</td>\n      <td>-0.207922</td>\n      <td>-0.254245</td>\n      <td>-0.258727</td>\n      <td>-0.042636</td>\n      <td>-0.032703</td>\n      <td>0.175312</td>\n      <td>0.085854</td>\n      <td>0.094838</td>\n      <td>-0.096535</td>\n    </tr>\n    <tr>\n      <th>lat</th>\n      <td>-0.188201</td>\n      <td>0.042263</td>\n      <td>-0.147747</td>\n      <td>-0.097050</td>\n      <td>-0.086878</td>\n      <td>-0.051185</td>\n      <td>-0.007945</td>\n      <td>0.002081</td>\n      <td>0.045270</td>\n      <td>-0.023346</td>\n      <td>0.340029</td>\n      <td>-0.002991</td>\n    </tr>\n    <tr>\n      <th>no2</th>\n      <td>1.000000</td>\n      <td>-0.521072</td>\n      <td>0.726618</td>\n      <td>0.624651</td>\n      <td>0.651734</td>\n      <td>0.751877</td>\n      <td>-0.277203</td>\n      <td>-0.243154</td>\n      <td>0.308719</td>\n      <td>-0.064895</td>\n      <td>-0.005493</td>\n      <td>0.074401</td>\n    </tr>\n    <tr>\n      <th>o3</th>\n      <td>-0.521072</td>\n      <td>1.000000</td>\n      <td>-0.059292</td>\n      <td>-0.308254</td>\n      <td>-0.297094</td>\n      <td>-0.510993</td>\n      <td>0.349467</td>\n      <td>0.175435</td>\n      <td>-0.673717</td>\n      <td>-0.169933</td>\n      <td>-0.075370</td>\n      <td>0.313442</td>\n    </tr>\n    <tr>\n      <th>so2</th>\n      <td>0.726618</td>\n      <td>-0.059292</td>\n      <td>1.000000</td>\n      <td>0.687509</td>\n      <td>0.715760</td>\n      <td>0.611125</td>\n      <td>-0.049439</td>\n      <td>-0.159459</td>\n      <td>-0.013148</td>\n      <td>-0.183186</td>\n      <td>-0.060192</td>\n      <td>0.199419</td>\n    </tr>\n    <tr>\n      <th>pm2.5</th>\n      <td>0.624651</td>\n      <td>-0.308254</td>\n      <td>0.687509</td>\n      <td>1.000000</td>\n      <td>0.989233</td>\n      <td>0.782036</td>\n      <td>-0.012987</td>\n      <td>-0.153268</td>\n      <td>0.282630</td>\n      <td>-0.116184</td>\n      <td>0.132733</td>\n      <td>-0.069917</td>\n    </tr>\n    <tr>\n      <th>pm10</th>\n      <td>0.651734</td>\n      <td>-0.297094</td>\n      <td>0.715760</td>\n      <td>0.989233</td>\n      <td>1.000000</td>\n      <td>0.777753</td>\n      <td>-0.032763</td>\n      <td>-0.179913</td>\n      <td>0.249959</td>\n      <td>-0.150461</td>\n      <td>0.143303</td>\n      <td>-0.046335</td>\n    </tr>\n    <tr>\n      <th>co</th>\n      <td>0.751877</td>\n      <td>-0.510993</td>\n      <td>0.611125</td>\n      <td>0.782036</td>\n      <td>0.777753</td>\n      <td>1.000000</td>\n      <td>-0.392282</td>\n      <td>-0.413195</td>\n      <td>0.439669</td>\n      <td>-0.085150</td>\n      <td>0.060516</td>\n      <td>-0.030763</td>\n    </tr>\n    <tr>\n      <th>tmax</th>\n      <td>-0.277203</td>\n      <td>0.349467</td>\n      <td>-0.049439</td>\n      <td>-0.012987</td>\n      <td>-0.032763</td>\n      <td>-0.392282</td>\n      <td>1.000000</td>\n      <td>0.876554</td>\n      <td>-0.353050</td>\n      <td>0.132974</td>\n      <td>-0.118298</td>\n      <td>-0.105003</td>\n    </tr>\n    <tr>\n      <th>tmin</th>\n      <td>-0.243154</td>\n      <td>0.175435</td>\n      <td>-0.159459</td>\n      <td>-0.153268</td>\n      <td>-0.179913</td>\n      <td>-0.413195</td>\n      <td>0.876554</td>\n      <td>1.000000</td>\n      <td>-0.112886</td>\n      <td>0.353958</td>\n      <td>-0.261290</td>\n      <td>-0.053905</td>\n    </tr>\n    <tr>\n      <th>hum</th>\n      <td>0.308719</td>\n      <td>-0.673717</td>\n      <td>-0.013148</td>\n      <td>0.282630</td>\n      <td>0.249959</td>\n      <td>0.439669</td>\n      <td>-0.353050</td>\n      <td>-0.112886</td>\n      <td>1.000000</td>\n      <td>0.416990</td>\n      <td>-0.102690</td>\n      <td>-0.035014</td>\n    </tr>\n    <tr>\n      <th>opady</th>\n      <td>-0.064895</td>\n      <td>-0.169933</td>\n      <td>-0.183186</td>\n      <td>-0.116184</td>\n      <td>-0.150461</td>\n      <td>-0.085150</td>\n      <td>0.132974</td>\n      <td>0.353958</td>\n      <td>0.416990</td>\n      <td>1.000000</td>\n      <td>-0.335279</td>\n      <td>0.003805</td>\n    </tr>\n    <tr>\n      <th>tysk</th>\n      <td>-0.005493</td>\n      <td>-0.075370</td>\n      <td>-0.060192</td>\n      <td>0.132733</td>\n      <td>0.143303</td>\n      <td>0.060516</td>\n      <td>-0.118298</td>\n      <td>-0.261290</td>\n      <td>-0.102690</td>\n      <td>-0.335279</td>\n      <td>1.000000</td>\n      <td>-0.238502</td>\n    </tr>\n    <tr>\n      <th>wind</th>\n      <td>0.074401</td>\n      <td>0.313442</td>\n      <td>0.199419</td>\n      <td>-0.069917</td>\n      <td>-0.046335</td>\n      <td>-0.030763</td>\n      <td>-0.105003</td>\n      <td>-0.053905</td>\n      <td>-0.035014</td>\n      <td>0.003805</td>\n      <td>-0.238502</td>\n      <td>1.000000</td>\n    </tr>\n  </tbody>\n</table>\n</div>"
     },
     "execution_count": 15,
     "metadata": {},
     "output_type": "execute_result"
    }
   ],
   "source": [
    "import xarray as xr\n",
    "import pandas as pd\n",
    "import numpy as np\n",
    "import math as mh\n",
    "import matplotlib.pyplot as plt\n",
    "from sklearn.linear_model import LinearRegression\n",
    "from sklearn.preprocessing import PolynomialFeatures\n",
    "from sklearn.model_selection import train_test_split\n",
    "import seaborn as sns\n",
    "import statsmodels.api as sm\n",
    "from statsmodels.stats.outliers_influence import variance_inflation_factor\n",
    "from sklearn import metrics\n",
    "from sklearn.ensemble import RandomForestRegressor\n",
    "dff=pd.read_csv('atlast_data.csv',index_col=0)\n",
    "cor=dff.corr()\n",
    "#cor=cor.drop(columns=['time','lon','lat'])\n",
    "cor.drop(columns=['time','lon','lat'],axis=0)\n"
   ],
   "metadata": {
    "collapsed": false,
    "pycharm": {
     "name": "#%%\n"
    }
   }
  },
  {
   "cell_type": "code",
   "execution_count": 16,
   "outputs": [
    {
     "name": "stdout",
     "output_type": "stream",
     "text": [
      "r-squered for train 0.3191847455860898\n",
      "r-squered for test 0.39000657984630294\n"
     ]
    },
    {
     "name": "stderr",
     "output_type": "stream",
     "text": [
      "C:\\Users\\Yura Dudyuk\\anaconda3\\lib\\site-packages\\statsmodels\\tsa\\tsatools.py:142: FutureWarning: In a future version of pandas all arguments of concat except for the argument 'objs' will be keyword-only\n",
      "  x = pd.concat(x[::order], 1)\n"
     ]
    },
    {
     "name": "stdout",
     "output_type": "stream",
     "text": [
      "            coef        p-value\n",
      "const  29.311045   7.858064e-40\n",
      "time   -0.015548   7.156311e-35\n",
      "lon    -0.272219  1.244060e-140\n",
      "lat    -0.394382   2.092887e-20\n",
      "tmin    0.045039   3.882035e-11\n",
      "opady  -0.048739   2.541438e-16\n",
      "wind    0.129220   3.484868e-15\n"
     ]
    }
   ],
   "source": [
    "chem=dff['so2']\n",
    "features=dff.drop(columns=['no2','o3','so2','pm10','co','pm2.5','tysk','hum','tmax'],axis=1)\n",
    "X_train,X_test,Y_train,Y_test = train_test_split (features,chem,test_size=0.15,random_state=10)\n",
    "regr=LinearRegression()\n",
    "regr.fit(X_train,Y_train)\n",
    "print(\"r-squered for train\",regr.score(X_train,Y_train))\n",
    "print(\"r-squered for test\",regr.score(X_test,Y_test))\n",
    "x_incl_const=sm.add_constant(X_train)\n",
    "model = sm.OLS(Y_train,x_incl_const)\n",
    "results=model.fit()\n",
    "dd=pd.DataFrame({'coef': results.params,'p-value':results.pvalues})\n",
    "print(dd)"
   ],
   "metadata": {
    "collapsed": false,
    "pycharm": {
     "name": "#%%\n"
    }
   }
  },
  {
   "cell_type": "code",
   "execution_count": 17,
   "outputs": [
    {
     "data": {
      "text/plain": "  coef_name           vif\n0     const  16053.155617\n1      time      3.705657\n2       lon      1.030872\n3       lat      1.000965\n4      tmin      4.024760\n5     opady      1.183601\n6      wind      1.018669",
      "text/html": "<div>\n<style scoped>\n    .dataframe tbody tr th:only-of-type {\n        vertical-align: middle;\n    }\n\n    .dataframe tbody tr th {\n        vertical-align: top;\n    }\n\n    .dataframe thead th {\n        text-align: right;\n    }\n</style>\n<table border=\"1\" class=\"dataframe\">\n  <thead>\n    <tr style=\"text-align: right;\">\n      <th></th>\n      <th>coef_name</th>\n      <th>vif</th>\n    </tr>\n  </thead>\n  <tbody>\n    <tr>\n      <th>0</th>\n      <td>const</td>\n      <td>16053.155617</td>\n    </tr>\n    <tr>\n      <th>1</th>\n      <td>time</td>\n      <td>3.705657</td>\n    </tr>\n    <tr>\n      <th>2</th>\n      <td>lon</td>\n      <td>1.030872</td>\n    </tr>\n    <tr>\n      <th>3</th>\n      <td>lat</td>\n      <td>1.000965</td>\n    </tr>\n    <tr>\n      <th>4</th>\n      <td>tmin</td>\n      <td>4.024760</td>\n    </tr>\n    <tr>\n      <th>5</th>\n      <td>opady</td>\n      <td>1.183601</td>\n    </tr>\n    <tr>\n      <th>6</th>\n      <td>wind</td>\n      <td>1.018669</td>\n    </tr>\n  </tbody>\n</table>\n</div>"
     },
     "execution_count": 17,
     "metadata": {},
     "output_type": "execute_result"
    }
   ],
   "source": [
    "variance_inflation_factor(exog=x_incl_const.values,exog_idx=1)\n",
    "vif=[variance_inflation_factor(exog=x_incl_const.values,exog_idx=i) for i in range(x_incl_const.shape[1])]\n",
    "dd=pd.DataFrame({'coef_name': x_incl_const.columns,'vif':vif})\n",
    "dd"
   ],
   "metadata": {
    "collapsed": false,
    "pycharm": {
     "name": "#%%\n"
    }
   }
  },
  {
   "cell_type": "code",
   "execution_count": 17,
   "outputs": [],
   "source": [],
   "metadata": {
    "collapsed": false,
    "pycharm": {
     "name": "#%%\n"
    }
   }
  },
  {
   "cell_type": "code",
   "execution_count": 17,
   "outputs": [],
   "source": [],
   "metadata": {
    "collapsed": false,
    "pycharm": {
     "name": "#%%\n"
    }
   }
  },
  {
   "cell_type": "code",
   "execution_count": 17,
   "outputs": [],
   "source": [],
   "metadata": {
    "collapsed": false,
    "pycharm": {
     "name": "#%%\n"
    }
   }
  },
  {
   "cell_type": "code",
   "execution_count": 18,
   "outputs": [
    {
     "data": {
      "text/plain": "array([ 1.20597256,  1.09590752,  2.18459692,  2.68886097,  2.38859169,\n        0.90785906,  1.68132675,  1.77437363,  1.38239096,  1.10830411,\n        1.5343716 ,  1.43434051,  1.16994864,  1.9433722 ,  2.06325471,\n        1.22931853,  0.93542042,  1.92234092,  2.38974025,  2.1767382 ,\n        2.43179957,  0.68289659,  2.76647274,  2.55843262,  1.34585506,\n        2.2738827 ,  0.76781297,  1.56944269,  2.36540796,  1.59723177,\n        2.42652897,  1.8472761 ,  0.99915531,  1.46209589,  1.30606452,\n        2.09940342,  1.24550678,  2.26618949,  1.08909247,  2.05044853,\n        1.97395121,  2.68937535,  1.91363882,  1.53784567,  2.74485129,\n        2.06942144,  2.26701555,  0.76985183,  1.05837778,  2.00243081,\n        1.51117195,  2.62312824,  0.61648279,  1.35145603,  1.84805892,\n        2.66755465,  0.69248813,  1.31109785,  1.24943261,  2.24046096,\n        1.24410625,  1.38777855,  2.12553478,  2.48188315,  1.03849998,\n        1.5178492 ,  1.92703335,  1.1099112 ,  1.35845769,  0.51474319,\n        0.76755299,  1.65758559,  1.80300774,  1.14510494,  1.0580968 ,\n        2.24063109,  1.07821938,  1.90838167,  0.56929526,  1.53892257,\n        2.35902227,  1.50034457,  0.63292829,  1.66983684,  1.35190808,\n        2.7970447 ,  2.05932198,  0.63767233,  0.6794886 ,  1.53165318,\n        2.6554058 ,  2.366158  ,  2.41311207,  1.72574596,  0.21479843,\n        1.39068237,  0.50672518,  1.68553349,  1.05731478,  1.29273162,\n        0.40488291,  1.10530388,  1.91843201,  0.99193219,  2.11422051,\n        0.92402844,  1.57825595,  1.10766224,  1.05794796,  0.12629899,\n        1.55129337,  1.93405297,  0.37753439,  1.50446233,  1.75398156,\n        1.0584299 ,  2.10277062,  1.94095809,  0.68443217,  2.37072941,\n        2.12342567,  1.77390956,  1.39884649,  0.77681863,  1.65352028,\n        1.65610479,  1.46492116,  1.19451501,  2.26896444,  1.53688714,\n        1.77700983,  1.37764577,  1.08663143,  2.00793245,  2.53459961,\n        2.37995809,  1.65286786,  1.69516758,  1.07032069,  1.19779296,\n        1.16848093,  1.99018173,  2.93760485,  2.1651769 ,  1.67513802,\n        0.77147325,  1.81283523,  1.24230762,  3.07718174,  1.79460033,\n        1.62606267,  1.54521848,  0.74435911,  1.85737822,  2.35142984,\n        2.43890217,  1.34446146,  0.82442046,  0.90144438,  1.68474677,\n        2.04658963,  1.26970973,  1.39095525,  2.0548919 ,  0.59055447,\n        1.65817312,  2.1364622 ,  0.94481889,  2.03838003, -0.0459342 ,\n        2.38033984,  1.16765847,  1.33688029,  0.50970137,  0.61020863,\n        0.55314465,  1.32427365,  1.12842696,  1.60718966,  2.22894102,\n        1.014522  ,  1.95736364,  0.47992185,  1.70399442,  0.83932939,\n        2.09280967,  0.85698886,  1.30582353,  2.06247009,  0.72720358,\n        0.92652675,  1.26025372,  2.36857062,  1.7550191 ,  1.29313697,\n        1.70724536,  0.57901924,  2.26274009,  1.96502055,  1.61238183,\n        1.72731427,  1.07533752,  1.37975878,  1.10905844,  0.70629011,\n        2.1237225 ,  1.72048025,  0.3457331 ,  1.70474603,  1.80293769,\n        1.96388092,  1.67189901,  2.39008343,  1.74542511,  1.10027557,\n        1.88482376,  2.95809626,  1.11272523,  0.76954252,  2.14913878,\n        0.73717224,  0.81209199,  1.76291803,  2.07583671,  2.88553208,\n        1.27423911,  1.39240539,  1.46942278,  1.81862242,  1.49738143,\n        1.37495126,  0.98691722,  0.95152805,  1.53327766,  2.17808725,\n        1.67331144,  2.22604444,  1.49267176,  0.64068209,  1.48212383,\n        2.42261179,  1.49527906,  2.0984104 ,  0.19230214,  2.33409919,\n        2.42187703,  2.06639676,  1.00047701, -0.23166233,  1.69044173,\n        0.8910228 ,  2.38409844,  1.25870402,  1.24721691,  1.29293296,\n        2.14924298,  1.8499044 ,  1.82385168,  1.28092964,  1.8081885 ,\n        2.00418262,  1.84589483,  0.84244926,  1.40097345,  1.51497292,\n        1.61548753,  0.71756515,  1.49628794,  0.93369293,  1.57765902,\n        0.81259741,  2.36229206,  1.31876133,  1.68913997,  0.53083441,\n        1.8273561 ,  1.90927199,  1.18353427,  1.86253313,  1.51196416,\n        0.9995786 ,  0.87266372,  2.09344998,  0.49666873,  0.78414208,\n        1.6620778 ,  2.00167291,  1.18331715,  1.29892026,  1.83136971,\n        1.79837543,  0.8036402 ,  1.31663911,  2.63284088,  2.80410019,\n        1.81022929,  1.90759495,  1.03946456,  1.41596459,  0.50457478,\n        1.03323904,  2.40843524,  1.49706963,  1.70577114,  2.35611565,\n        1.20622923,  2.5210447 ,  2.40631442,  2.01258558,  1.00524448,\n        1.33571338,  2.66810209,  0.64118223,  1.86895252,  1.86594665,\n        2.1438326 ,  0.89217476,  0.64602198,  0.57531774,  1.63057804,\n        1.01744638,  1.34616682,  1.17953958,  2.90390779,  1.33584211,\n        2.47373915,  3.03244465,  1.52811727,  0.75896606,  1.00078258,\n        1.22506213,  1.97788734,  1.44429743,  2.36738797,  1.45757366,\n        2.15500753,  1.96956137,  0.99952919,  1.36611965,  0.66383486,\n        2.54393894,  0.69292068,  0.73543691,  1.38233291,  1.25117437,\n        1.57864466,  1.67300933,  2.04648306,  2.13290034,  1.748771  ,\n        0.87214651,  2.31967796,  0.78855521,  1.81530672,  2.15424516,\n        2.10292874,  1.99576742,  0.83288761,  0.88645819,  2.00234186,\n        2.13616561,  1.11180548,  2.05617625,  1.83119991,  0.84762749,\n        1.34139231,  1.15603346,  1.663674  ,  2.25424283,  1.28003413,\n        2.88346271,  1.03277354,  1.38918383,  1.58740653,  1.52415177,\n        0.93925325,  1.36310025,  0.47168483,  1.87239465,  2.30990179,\n        0.0995647 ,  0.28004913,  1.15385574,  1.76921078,  2.25219244,\n        0.57409818,  1.73111358,  1.21106549,  1.44022004,  0.95420499,\n        0.88918966,  1.96301448,  1.85135118,  1.98053915,  1.64648166,\n        2.01636026,  1.92601879,  1.47735847, -0.05557523,  2.41128621,\n        0.70114564,  1.54798538,  1.63112192,  1.03105717,  2.55694564,\n        2.78678414,  1.01625647,  1.056125  ,  0.93017576,  0.90519442,\n        1.93663249,  1.78819948,  1.60431933,  2.25945401,  1.37601156,\n        1.85999237,  0.77556162,  1.07617459,  0.77244663,  2.61040036,\n        0.4090637 ,  1.31218444,  1.74433482,  1.55378675,  1.92749659,\n        0.83797247,  0.72327545,  1.21688154,  1.61731301,  0.35034096,\n       -0.68120167,  1.60867316,  2.00093292,  0.57127429,  1.05428079,\n        2.25606541,  1.29541014,  2.03297839,  1.93644997,  1.81375296,\n        1.37545843,  2.46494865,  2.59103943,  0.92420766,  1.94955955,\n        2.21373375,  0.67815738,  1.14088082,  0.29465892,  2.00437815,\n        0.9678175 ,  2.18715509,  1.52091342, -0.4847899 ,  2.30473348,\n        0.33799112,  2.34227401,  1.52822976,  1.86702034,  1.30323648,\n        1.5857749 ,  1.53162768,  1.86664838,  2.24371046,  2.31103214,\n        1.10666129,  1.06875049,  0.90662899,  0.68878678,  2.10068827,\n        1.33970092,  2.25272856,  1.57045381,  1.0633374 ,  2.20479356,\n        1.69256564,  0.95672136,  2.3731836 ,  1.07582504,  1.44374601,\n        1.87745557,  1.12872529,  2.66134029,  1.9826443 ,  0.52180568,\n        2.4861931 ,  1.69936873,  1.75994652,  0.65360055,  1.49686821,\n        1.06444754,  1.67955743,  1.69808862,  1.35872745,  0.89354236,\n        1.35070844,  2.14546304])"
     },
     "execution_count": 18,
     "metadata": {},
     "output_type": "execute_result"
    }
   ],
   "source": [
    "y_test_pred=regr.predict(X_test)\n",
    "y_test_pred\n"
   ],
   "metadata": {
    "collapsed": false,
    "pycharm": {
     "name": "#%%\n"
    }
   }
  },
  {
   "cell_type": "code",
   "execution_count": 18,
   "outputs": [],
   "source": [],
   "metadata": {
    "collapsed": false,
    "pycharm": {
     "name": "#%%\n"
    }
   }
  },
  {
   "cell_type": "code",
   "execution_count": 19,
   "outputs": [
    {
     "data": {
      "text/plain": "<Figure size 360x360 with 1 Axes>",
      "image/png": "[encoded data removed]"
     },
     "metadata": {},
     "output_type": "display_data"
    }
   ],
   "source": [
    "sns.displot(Y_test-y_test_pred)\n",
    "y_for_gaus=Y_test-y_test_pred"
   ],
   "metadata": {
    "collapsed": false,
    "pycharm": {
     "name": "#%%\n"
    }
   }
  },
  {
   "cell_type": "code",
   "execution_count": 20,
   "outputs": [
    {
     "data": {
      "text/plain": "ShapiroResult(statistic=0.9474928379058838, pvalue=2.8357257948058434e-12)"
     },
     "execution_count": 20,
     "metadata": {},
     "output_type": "execute_result"
    }
   ],
   "source": [
    "import scipy\n",
    "scipy.stats.shapiro(y_for_gaus)"
   ],
   "metadata": {
    "collapsed": false,
    "pycharm": {
     "name": "#%%\n"
    }
   }
  },
  {
   "cell_type": "code",
   "execution_count": 21,
   "outputs": [
    {
     "name": "stdout",
     "output_type": "stream",
     "text": [
      "MAE 0.6034836607438885\n",
      "MSE 0.6568832172945407\n",
      "RMSE 0.8104833232673827\n"
     ]
    }
   ],
   "source": [
    "print('MAE',metrics.mean_absolute_error(Y_test,y_test_pred))\n",
    "print('MSE',metrics.mean_squared_error(Y_test,y_test_pred))\n",
    "print('RMSE',np.sqrt(metrics.mean_squared_error(Y_test,y_test_pred)))"
   ],
   "metadata": {
    "collapsed": false,
    "pycharm": {
     "name": "#%%\n"
    }
   }
  },
  {
   "cell_type": "code",
   "execution_count": 22,
   "outputs": [
    {
     "name": "stdout",
     "output_type": "stream",
     "text": [
      "r-squered for train 0.6516949333193565\n",
      "r-squered for test 0.6569622586786925\n",
      "MAE 0.45492701400270297\n",
      "MSE 0.36940682920123324\n",
      "RMSE 0.6077884740608638\n"
     ]
    },
    {
     "data": {
      "text/plain": "ShapiroResult(statistic=0.947702169418335, pvalue=3.0335165802919395e-12)"
     },
     "execution_count": 22,
     "metadata": {},
     "output_type": "execute_result"
    },
    {
     "data": {
      "text/plain": "<Figure size 360x360 with 1 Axes>",
      "image/png": "[encoded data removed]"
     },
     "metadata": {},
     "output_type": "display_data"
    }
   ],
   "source": [
    "model=RandomForestRegressor(n_estimators=60,min_samples_leaf=5,max_depth=6,n_jobs=1)\n",
    "model.fit(X_train,Y_train)\n",
    "print(\"r-squered for train\",model.score(X_train,Y_train))\n",
    "print(\"r-squered for test\",model.score(X_test,Y_test))\n",
    "y_test_pred=model.predict(X_test)\n",
    "\n",
    "sns.displot(Y_test-y_test_pred)\n",
    "y_for_gaus=Y_test-y_test_pred\n",
    "scipy.stats.shapiro(y_for_gaus)\n",
    "print('MAE',metrics.mean_absolute_error(Y_test,y_test_pred))\n",
    "print('MSE',metrics.mean_squared_error(Y_test,y_test_pred))\n",
    "print('RMSE',np.sqrt(metrics.mean_squared_error(Y_test,y_test_pred)))\n",
    "scipy.stats.shapiro(y_for_gaus)"
   ],
   "metadata": {
    "collapsed": false,
    "pycharm": {
     "name": "#%%\n"
    }
   }
  }
 ],
 "metadata": {
  "kernelspec": {
   "display_name": "Python 3",
   "language": "python",
   "name": "python3"
  },
  "language_info": {
   "codemirror_mode": {
    "name": "ipython",
    "version": 2
   },
   "file_extension": ".py",
   "mimetype": "text/x-python",
   "name": "python",
   "nbconvert_exporter": "python",
   "pygments_lexer": "ipython2",
   "version": "2.7.6"
  }
 },
 "nbformat": 4,
 "nbformat_minor": 0
}