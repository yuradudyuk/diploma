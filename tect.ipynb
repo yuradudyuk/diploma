{
 "cells": [
  {
   "cell_type": "code",
   "execution_count": 2,
   "metadata": {
    "collapsed": true,
    "pycharm": {
     "name": "#%%\n"
    }
   },
   "outputs": [],
   "source": [
    "import xarray as xr\n",
    "import pandas as pd\n",
    "import numpy as np\n",
    "df1 = pd.read_csv('lefpartofua.csv',delimiter=',',skiprows=14)\n",
    "\n",
    "\n"
   ]
  },
  {
   "cell_type": "code",
   "execution_count": 4,
   "outputs": [
    {
     "data": {
      "text/plain": "array([50.75, 51.25, 51.75])"
     },
     "execution_count": 4,
     "metadata": {},
     "output_type": "execute_result"
    }
   ],
   "source": [
    "doy=[]\n",
    "for i in range (92):\n",
    "    doy.append(i+60)\n",
    "df2 = pd.read_csv('rightpartofua.csv',delimiter=',',skiprows=14)\n",
    "frames=[df1,df2]\n",
    "df = pd.concat(frames)\n",
    "dd=df[ (df['LAT'] >=50.5) & (df['LAT'] <=52) & (df['LON'] <=29.8)& (df['LON'] >=23)]\n",
    "\n",
    "longitude=np.array(dd['LAT'])\n",
    "longitude=np.unique(longitude)\n",
    "longitude\n"
   ],
   "metadata": {
    "collapsed": false,
    "pycharm": {
     "name": "#%%\n"
    }
   }
  },
  {
   "cell_type": "code",
   "execution_count": 12,
   "outputs": [],
   "source": [
    "\n",
    "n=60\n",
    "temp_max=[]\n",
    "temp_min=[]\n",
    "humidity=[]\n",
    "opady=[]\n",
    "wind_speed=[]\n",
    "atmo_pressure=[]\n",
    "for i in range (92):\n",
    "    dd2=dd[dd['DOY']==doy[i]]\n",
    "    tempmax=np.array(dd2['T2M_MAX'])\n",
    "    temp_max.append((tempmax.sum()/n))\n",
    "\n",
    "    tempmin=np.array(dd2['T2M_MIN'])\n",
    "    temp_min.append((tempmin.sum()/n))\n",
    "\n",
    "    rh2m=np.array(dd2['RH2M'])\n",
    "    humidity.append((rh2m.sum()/n))\n",
    "\n",
    "    precto=np.array(dd2['PRECTOTCORR'])\n",
    "    opady.append((precto.sum()/n))\n",
    "\n",
    "    pressure=np.array(dd2['PS'])\n",
    "    atmo_pressure.append((pressure.sum()/n))\n",
    "\n",
    "    windspeed=np.array(dd2['WS2M'])\n",
    "    wind_speed.append((windspeed.sum()/n))\n"
   ],
   "metadata": {
    "collapsed": false,
    "pycharm": {
     "name": "#%%\n"
    }
   }
  },
  {
   "cell_type": "code",
   "execution_count": 13,
   "outputs": [],
   "source": [
    "names=['temp_max_formatrix.txt','temp_min_formatrix.txt','humidity_formatrix.txt','opady_formatrix.txt','atmo_pressure_formatrix.txt','wind_speed_formatrix.txt']\n",
    "\n",
    "np.savetxt('temp_max_formatrix.txt',temp_max , delimiter='\\n', fmt='%1.15f')\n",
    "\n",
    "np.savetxt('temp_min_formatrix.txt',temp_min , delimiter='\\n', fmt='%1.15f')\n",
    "\n",
    "np.savetxt('humidity_formatrix.txt',humidity , delimiter='\\n', fmt='%1.15f')\n",
    "\n",
    "np.savetxt('opady_formatrix.txt', opady, delimiter='\\n', fmt='%1.15f')\n",
    "\n",
    "np.savetxt('atmo_pressure_formatrix.txt',atmo_pressure , delimiter='\\n', fmt='%1.15f')\n",
    "\n",
    "np.savetxt('wind_speed_formatrix.txt', wind_speed, delimiter='\\n', fmt='%1.15f')\n"
   ],
   "metadata": {
    "collapsed": false,
    "pycharm": {
     "name": "#%%\n"
    }
   }
  },
  {
   "cell_type": "code",
   "execution_count": 7,
   "outputs": [
    {
     "data": {
      "text/plain": "        LAT    LON  YEAR  DOY  T2M_MAX  T2M_MIN   RH2M  PRECTOTCORR      PS  \\\n7968  50.25  22.75  2021   87     7.73     1.91  82.62         4.60   99.90   \n7969  50.25  23.25  2021   87     7.52     1.10  84.70         5.46   99.81   \n7970  50.25  23.75  2021   87     7.43    -0.17  87.00         6.26   99.73   \n7971  50.25  24.25  2021   87     7.42    -0.84  88.50         7.09   99.85   \n7972  50.25  24.75  2021   87     6.69    -0.89  90.49         7.93   99.74   \n7973  50.25  25.25  2021   87     5.77    -0.47  92.60         8.65   99.56   \n7974  50.25  25.75  2021   87     5.01     0.18  94.46         9.24   99.43   \n7975  50.25  26.25  2021   87     4.54     0.78  95.66         9.74   99.47   \n7976  50.25  26.75  2021   87     4.44     0.94  95.81        11.15   99.49   \n7977  50.25  27.25  2021   87     5.24     0.48  95.13        12.22   99.49   \n7978  50.25  27.75  2021   87     6.88    -0.09  93.96        12.75   99.51   \n7979  50.25  28.25  2021   87     9.10    -0.52  92.31        12.46   99.58   \n7980  50.25  28.75  2021   87    11.45    -0.77  89.91        10.98   99.73   \n7981  50.25  29.25  2021   87    12.68    -0.97  87.26         7.78   99.96   \n7982  50.25  29.75  2021   87    13.57    -1.00  83.39         4.83  100.18   \n7984  50.75  22.75  2021   87     7.70     1.80  82.82         3.10  100.05   \n7985  50.75  23.25  2021   87     7.45     0.84  85.18         4.01   99.92   \n7986  50.75  23.75  2021   87     7.45    -0.21  87.25         4.84  100.02   \n7987  50.75  24.25  2021   87     7.45    -1.05  89.22         5.60  100.11   \n7988  50.75  24.75  2021   87     6.92    -1.10  91.09         6.28  100.12   \n7989  50.75  25.25  2021   87     6.22    -0.63  92.86         6.94  100.08   \n7990  50.75  25.75  2021   87     5.58     0.10  94.38         7.64  100.04   \n7991  50.75  26.25  2021   87     5.14     0.85  95.25         8.49  100.01   \n7992  50.75  26.75  2021   87     5.04     1.09  95.65         9.69   99.99   \n7993  50.75  27.25  2021   87     5.13     0.72  95.47        10.50   99.93   \n7994  50.75  27.75  2021   87     5.39     0.06  95.09        10.78   99.88   \n7995  50.75  28.25  2021   87     6.48    -0.59  94.19        10.29   99.91   \n7996  50.75  28.75  2021   87     9.85    -0.95  91.72         8.71  100.09   \n7997  50.75  29.25  2021   87    11.94    -1.03  88.89         6.45  100.32   \n7998  50.75  29.75  2021   87    13.26    -0.95  85.21         4.36  100.51   \n8000  51.25  22.75  2021   87     7.47     1.76  84.21         1.89  100.40   \n8001  51.25  23.25  2021   87     7.36     1.01  86.12         2.52  100.36   \n8002  51.25  23.75  2021   87     7.46     0.10  87.88         3.25  100.39   \n8003  51.25  24.25  2021   87     7.40    -0.60  89.82         4.00  100.40   \n8004  51.25  24.75  2021   87     7.00    -0.64  91.48         4.78  100.40   \n8005  51.25  25.25  2021   87     6.41    -0.29  92.80         5.63  100.40   \n8006  51.25  25.75  2021   87     5.87     0.27  93.74         6.51  100.41   \n8007  51.25  26.25  2021   87     5.81     0.90  94.19         7.28  100.42   \n8008  51.25  26.75  2021   87     5.99     1.05  94.84         7.87  100.39   \n8009  51.25  27.25  2021   87     5.87     0.66  95.02         8.23  100.31   \n8010  51.25  27.75  2021   87     5.57     0.06  95.03         8.20  100.23   \n8011  51.25  28.25  2021   87     5.93    -0.53  94.70         7.67  100.21   \n8012  51.25  28.75  2021   87     8.47    -0.96  93.38         6.54  100.32   \n8013  51.25  29.25  2021   87    11.00    -1.01  90.25         4.80  100.54   \n8014  51.25  29.75  2021   87    12.80    -0.78  86.73         2.64  100.75   \n8016  51.75  22.75  2021   87     7.47     2.00  83.92         0.96  100.72   \n8017  51.75  23.25  2021   87     7.47     1.48  85.44         1.30  100.69   \n8018  51.75  23.75  2021   87     7.65     0.77  87.06         1.95  100.68   \n8019  51.75  24.25  2021   87     7.59     0.09  88.99         2.98  100.66   \n8020  51.75  24.75  2021   87     7.22    -0.17  90.78         3.85  100.65   \n8021  51.75  25.25  2021   87     6.69    -0.02  91.78         4.57  100.64   \n8022  51.75  25.75  2021   87     6.33     0.41  92.06         5.16  100.64   \n8023  51.75  26.25  2021   87     6.62     0.97  92.41         5.64  100.65   \n8024  51.75  26.75  2021   87     6.79     0.82  93.28         6.01  100.68   \n8025  51.75  27.25  2021   87     6.65     0.23  94.06         6.26  100.65   \n8026  51.75  27.75  2021   87     6.10    -0.34  94.75         6.12  100.59   \n8027  51.75  28.25  2021   87     5.85    -0.71  95.08         5.57  100.55   \n8028  51.75  28.75  2021   87     7.42    -1.01  94.53         4.80  100.57   \n8029  51.75  29.25  2021   87    10.29    -0.98  91.16         3.58  100.68   \n8030  51.75  29.75  2021   87    12.29    -0.68  87.95         2.13  100.79   \n\n      WS2M  \n7968  3.15  \n7969  3.20  \n7970  3.23  \n7971  3.25  \n7972  3.20  \n7973  3.17  \n7974  3.17  \n7975  3.16  \n7976  3.10  \n7977  3.04  \n7978  3.10  \n7979  3.24  \n7980  3.29  \n7981  3.15  \n7982  2.93  \n7984  3.11  \n7985  3.15  \n7986  3.21  \n7987  3.27  \n7988  3.20  \n7989  3.10  \n7990  3.05  \n7991  3.06  \n7992  3.08  \n7993  3.05  \n7994  3.02  \n7995  3.04  \n7996  3.14  \n7997  3.07  \n7998  2.97  \n8000  3.12  \n8001  3.15  \n8002  3.18  \n8003  3.17  \n8004  3.09  \n8005  3.01  \n8006  2.96  \n8007  2.98  \n8008  3.04  \n8009  3.02  \n8010  2.93  \n8011  2.86  \n8012  2.98  \n8013  2.96  \n8014  2.93  \n8016  3.13  \n8017  3.13  \n8018  3.09  \n8019  3.04  \n8020  2.94  \n8021  2.88  \n8022  2.88  \n8023  2.93  \n8024  2.96  \n8025  2.92  \n8026  2.77  \n8027  2.62  \n8028  2.71  \n8029  2.84  \n8030  2.90  ",
      "text/html": "<div>\n<style scoped>\n    .dataframe tbody tr th:only-of-type {\n        vertical-align: middle;\n    }\n\n    .dataframe tbody tr th {\n        vertical-align: top;\n    }\n\n    .dataframe thead th {\n        text-align: right;\n    }\n</style>\n<table border=\"1\" class=\"dataframe\">\n  <thead>\n    <tr style=\"text-align: right;\">\n      <th></th>\n      <th>LAT</th>\n      <th>LON</th>\n      <th>YEAR</th>\n      <th>DOY</th>\n      <th>T2M_MAX</th>\n      <th>T2M_MIN</th>\n      <th>RH2M</th>\n      <th>PRECTOTCORR</th>\n      <th>PS</th>\n      <th>WS2M</th>\n    </tr>\n  </thead>\n  <tbody>\n    <tr>\n      <th>7968</th>\n      <td>50.25</td>\n      <td>22.75</td>\n      <td>2021</td>\n      <td>87</td>\n      <td>7.73</td>\n      <td>1.91</td>\n      <td>82.62</td>\n      <td>4.60</td>\n      <td>99.90</td>\n      <td>3.15</td>\n    </tr>\n    <tr>\n      <th>7969</th>\n      <td>50.25</td>\n      <td>23.25</td>\n      <td>2021</td>\n      <td>87</td>\n      <td>7.52</td>\n      <td>1.10</td>\n      <td>84.70</td>\n      <td>5.46</td>\n      <td>99.81</td>\n      <td>3.20</td>\n    </tr>\n    <tr>\n      <th>7970</th>\n      <td>50.25</td>\n      <td>23.75</td>\n      <td>2021</td>\n      <td>87</td>\n      <td>7.43</td>\n      <td>-0.17</td>\n      <td>87.00</td>\n      <td>6.26</td>\n      <td>99.73</td>\n      <td>3.23</td>\n    </tr>\n    <tr>\n      <th>7971</th>\n      <td>50.25</td>\n      <td>24.25</td>\n      <td>2021</td>\n      <td>87</td>\n      <td>7.42</td>\n      <td>-0.84</td>\n      <td>88.50</td>\n      <td>7.09</td>\n      <td>99.85</td>\n      <td>3.25</td>\n    </tr>\n    <tr>\n      <th>7972</th>\n      <td>50.25</td>\n      <td>24.75</td>\n      <td>2021</td>\n      <td>87</td>\n      <td>6.69</td>\n      <td>-0.89</td>\n      <td>90.49</td>\n      <td>7.93</td>\n      <td>99.74</td>\n      <td>3.20</td>\n    </tr>\n    <tr>\n      <th>7973</th>\n      <td>50.25</td>\n      <td>25.25</td>\n      <td>2021</td>\n      <td>87</td>\n      <td>5.77</td>\n      <td>-0.47</td>\n      <td>92.60</td>\n      <td>8.65</td>\n      <td>99.56</td>\n      <td>3.17</td>\n    </tr>\n    <tr>\n      <th>7974</th>\n      <td>50.25</td>\n      <td>25.75</td>\n      <td>2021</td>\n      <td>87</td>\n      <td>5.01</td>\n      <td>0.18</td>\n      <td>94.46</td>\n      <td>9.24</td>\n      <td>99.43</td>\n      <td>3.17</td>\n    </tr>\n    <tr>\n      <th>7975</th>\n      <td>50.25</td>\n      <td>26.25</td>\n      <td>2021</td>\n      <td>87</td>\n      <td>4.54</td>\n      <td>0.78</td>\n      <td>95.66</td>\n      <td>9.74</td>\n      <td>99.47</td>\n      <td>3.16</td>\n    </tr>\n    <tr>\n      <th>7976</th>\n      <td>50.25</td>\n      <td>26.75</td>\n      <td>2021</td>\n      <td>87</td>\n      <td>4.44</td>\n      <td>0.94</td>\n      <td>95.81</td>\n      <td>11.15</td>\n      <td>99.49</td>\n      <td>3.10</td>\n    </tr>\n    <tr>\n      <th>7977</th>\n      <td>50.25</td>\n      <td>27.25</td>\n      <td>2021</td>\n      <td>87</td>\n      <td>5.24</td>\n      <td>0.48</td>\n      <td>95.13</td>\n      <td>12.22</td>\n      <td>99.49</td>\n      <td>3.04</td>\n    </tr>\n    <tr>\n      <th>7978</th>\n      <td>50.25</td>\n      <td>27.75</td>\n      <td>2021</td>\n      <td>87</td>\n      <td>6.88</td>\n      <td>-0.09</td>\n      <td>93.96</td>\n      <td>12.75</td>\n      <td>99.51</td>\n      <td>3.10</td>\n    </tr>\n    <tr>\n      <th>7979</th>\n      <td>50.25</td>\n      <td>28.25</td>\n      <td>2021</td>\n      <td>87</td>\n      <td>9.10</td>\n      <td>-0.52</td>\n      <td>92.31</td>\n      <td>12.46</td>\n      <td>99.58</td>\n      <td>3.24</td>\n    </tr>\n    <tr>\n      <th>7980</th>\n      <td>50.25</td>\n      <td>28.75</td>\n      <td>2021</td>\n      <td>87</td>\n      <td>11.45</td>\n      <td>-0.77</td>\n      <td>89.91</td>\n      <td>10.98</td>\n      <td>99.73</td>\n      <td>3.29</td>\n    </tr>\n    <tr>\n      <th>7981</th>\n      <td>50.25</td>\n      <td>29.25</td>\n      <td>2021</td>\n      <td>87</td>\n      <td>12.68</td>\n      <td>-0.97</td>\n      <td>87.26</td>\n      <td>7.78</td>\n      <td>99.96</td>\n      <td>3.15</td>\n    </tr>\n    <tr>\n      <th>7982</th>\n      <td>50.25</td>\n      <td>29.75</td>\n      <td>2021</td>\n      <td>87</td>\n      <td>13.57</td>\n      <td>-1.00</td>\n      <td>83.39</td>\n      <td>4.83</td>\n      <td>100.18</td>\n      <td>2.93</td>\n    </tr>\n    <tr>\n      <th>7984</th>\n      <td>50.75</td>\n      <td>22.75</td>\n      <td>2021</td>\n      <td>87</td>\n      <td>7.70</td>\n      <td>1.80</td>\n      <td>82.82</td>\n      <td>3.10</td>\n      <td>100.05</td>\n      <td>3.11</td>\n    </tr>\n    <tr>\n      <th>7985</th>\n      <td>50.75</td>\n      <td>23.25</td>\n      <td>2021</td>\n      <td>87</td>\n      <td>7.45</td>\n      <td>0.84</td>\n      <td>85.18</td>\n      <td>4.01</td>\n      <td>99.92</td>\n      <td>3.15</td>\n    </tr>\n    <tr>\n      <th>7986</th>\n      <td>50.75</td>\n      <td>23.75</td>\n      <td>2021</td>\n      <td>87</td>\n      <td>7.45</td>\n      <td>-0.21</td>\n      <td>87.25</td>\n      <td>4.84</td>\n      <td>100.02</td>\n      <td>3.21</td>\n    </tr>\n    <tr>\n      <th>7987</th>\n      <td>50.75</td>\n      <td>24.25</td>\n      <td>2021</td>\n      <td>87</td>\n      <td>7.45</td>\n      <td>-1.05</td>\n      <td>89.22</td>\n      <td>5.60</td>\n      <td>100.11</td>\n      <td>3.27</td>\n    </tr>\n    <tr>\n      <th>7988</th>\n      <td>50.75</td>\n      <td>24.75</td>\n      <td>2021</td>\n      <td>87</td>\n      <td>6.92</td>\n      <td>-1.10</td>\n      <td>91.09</td>\n      <td>6.28</td>\n      <td>100.12</td>\n      <td>3.20</td>\n    </tr>\n    <tr>\n      <th>7989</th>\n      <td>50.75</td>\n      <td>25.25</td>\n      <td>2021</td>\n      <td>87</td>\n      <td>6.22</td>\n      <td>-0.63</td>\n      <td>92.86</td>\n      <td>6.94</td>\n      <td>100.08</td>\n      <td>3.10</td>\n    </tr>\n    <tr>\n      <th>7990</th>\n      <td>50.75</td>\n      <td>25.75</td>\n      <td>2021</td>\n      <td>87</td>\n      <td>5.58</td>\n      <td>0.10</td>\n      <td>94.38</td>\n      <td>7.64</td>\n      <td>100.04</td>\n      <td>3.05</td>\n    </tr>\n    <tr>\n      <th>7991</th>\n      <td>50.75</td>\n      <td>26.25</td>\n      <td>2021</td>\n      <td>87</td>\n      <td>5.14</td>\n      <td>0.85</td>\n      <td>95.25</td>\n      <td>8.49</td>\n      <td>100.01</td>\n      <td>3.06</td>\n    </tr>\n    <tr>\n      <th>7992</th>\n      <td>50.75</td>\n      <td>26.75</td>\n      <td>2021</td>\n      <td>87</td>\n      <td>5.04</td>\n      <td>1.09</td>\n      <td>95.65</td>\n      <td>9.69</td>\n      <td>99.99</td>\n      <td>3.08</td>\n    </tr>\n    <tr>\n      <th>7993</th>\n      <td>50.75</td>\n      <td>27.25</td>\n      <td>2021</td>\n      <td>87</td>\n      <td>5.13</td>\n      <td>0.72</td>\n      <td>95.47</td>\n      <td>10.50</td>\n      <td>99.93</td>\n      <td>3.05</td>\n    </tr>\n    <tr>\n      <th>7994</th>\n      <td>50.75</td>\n      <td>27.75</td>\n      <td>2021</td>\n      <td>87</td>\n      <td>5.39</td>\n      <td>0.06</td>\n      <td>95.09</td>\n      <td>10.78</td>\n      <td>99.88</td>\n      <td>3.02</td>\n    </tr>\n    <tr>\n      <th>7995</th>\n      <td>50.75</td>\n      <td>28.25</td>\n      <td>2021</td>\n      <td>87</td>\n      <td>6.48</td>\n      <td>-0.59</td>\n      <td>94.19</td>\n      <td>10.29</td>\n      <td>99.91</td>\n      <td>3.04</td>\n    </tr>\n    <tr>\n      <th>7996</th>\n      <td>50.75</td>\n      <td>28.75</td>\n      <td>2021</td>\n      <td>87</td>\n      <td>9.85</td>\n      <td>-0.95</td>\n      <td>91.72</td>\n      <td>8.71</td>\n      <td>100.09</td>\n      <td>3.14</td>\n    </tr>\n    <tr>\n      <th>7997</th>\n      <td>50.75</td>\n      <td>29.25</td>\n      <td>2021</td>\n      <td>87</td>\n      <td>11.94</td>\n      <td>-1.03</td>\n      <td>88.89</td>\n      <td>6.45</td>\n      <td>100.32</td>\n      <td>3.07</td>\n    </tr>\n    <tr>\n      <th>7998</th>\n      <td>50.75</td>\n      <td>29.75</td>\n      <td>2021</td>\n      <td>87</td>\n      <td>13.26</td>\n      <td>-0.95</td>\n      <td>85.21</td>\n      <td>4.36</td>\n      <td>100.51</td>\n      <td>2.97</td>\n    </tr>\n    <tr>\n      <th>8000</th>\n      <td>51.25</td>\n      <td>22.75</td>\n      <td>2021</td>\n      <td>87</td>\n      <td>7.47</td>\n      <td>1.76</td>\n      <td>84.21</td>\n      <td>1.89</td>\n      <td>100.40</td>\n      <td>3.12</td>\n    </tr>\n    <tr>\n      <th>8001</th>\n      <td>51.25</td>\n      <td>23.25</td>\n      <td>2021</td>\n      <td>87</td>\n      <td>7.36</td>\n      <td>1.01</td>\n      <td>86.12</td>\n      <td>2.52</td>\n      <td>100.36</td>\n      <td>3.15</td>\n    </tr>\n    <tr>\n      <th>8002</th>\n      <td>51.25</td>\n      <td>23.75</td>\n      <td>2021</td>\n      <td>87</td>\n      <td>7.46</td>\n      <td>0.10</td>\n      <td>87.88</td>\n      <td>3.25</td>\n      <td>100.39</td>\n      <td>3.18</td>\n    </tr>\n    <tr>\n      <th>8003</th>\n      <td>51.25</td>\n      <td>24.25</td>\n      <td>2021</td>\n      <td>87</td>\n      <td>7.40</td>\n      <td>-0.60</td>\n      <td>89.82</td>\n      <td>4.00</td>\n      <td>100.40</td>\n      <td>3.17</td>\n    </tr>\n    <tr>\n      <th>8004</th>\n      <td>51.25</td>\n      <td>24.75</td>\n      <td>2021</td>\n      <td>87</td>\n      <td>7.00</td>\n      <td>-0.64</td>\n      <td>91.48</td>\n      <td>4.78</td>\n      <td>100.40</td>\n      <td>3.09</td>\n    </tr>\n    <tr>\n      <th>8005</th>\n      <td>51.25</td>\n      <td>25.25</td>\n      <td>2021</td>\n      <td>87</td>\n      <td>6.41</td>\n      <td>-0.29</td>\n      <td>92.80</td>\n      <td>5.63</td>\n      <td>100.40</td>\n      <td>3.01</td>\n    </tr>\n    <tr>\n      <th>8006</th>\n      <td>51.25</td>\n      <td>25.75</td>\n      <td>2021</td>\n      <td>87</td>\n      <td>5.87</td>\n      <td>0.27</td>\n      <td>93.74</td>\n      <td>6.51</td>\n      <td>100.41</td>\n      <td>2.96</td>\n    </tr>\n    <tr>\n      <th>8007</th>\n      <td>51.25</td>\n      <td>26.25</td>\n      <td>2021</td>\n      <td>87</td>\n      <td>5.81</td>\n      <td>0.90</td>\n      <td>94.19</td>\n      <td>7.28</td>\n      <td>100.42</td>\n      <td>2.98</td>\n    </tr>\n    <tr>\n      <th>8008</th>\n      <td>51.25</td>\n      <td>26.75</td>\n      <td>2021</td>\n      <td>87</td>\n      <td>5.99</td>\n      <td>1.05</td>\n      <td>94.84</td>\n      <td>7.87</td>\n      <td>100.39</td>\n      <td>3.04</td>\n    </tr>\n    <tr>\n      <th>8009</th>\n      <td>51.25</td>\n      <td>27.25</td>\n      <td>2021</td>\n      <td>87</td>\n      <td>5.87</td>\n      <td>0.66</td>\n      <td>95.02</td>\n      <td>8.23</td>\n      <td>100.31</td>\n      <td>3.02</td>\n    </tr>\n    <tr>\n      <th>8010</th>\n      <td>51.25</td>\n      <td>27.75</td>\n      <td>2021</td>\n      <td>87</td>\n      <td>5.57</td>\n      <td>0.06</td>\n      <td>95.03</td>\n      <td>8.20</td>\n      <td>100.23</td>\n      <td>2.93</td>\n    </tr>\n    <tr>\n      <th>8011</th>\n      <td>51.25</td>\n      <td>28.25</td>\n      <td>2021</td>\n      <td>87</td>\n      <td>5.93</td>\n      <td>-0.53</td>\n      <td>94.70</td>\n      <td>7.67</td>\n      <td>100.21</td>\n      <td>2.86</td>\n    </tr>\n    <tr>\n      <th>8012</th>\n      <td>51.25</td>\n      <td>28.75</td>\n      <td>2021</td>\n      <td>87</td>\n      <td>8.47</td>\n      <td>-0.96</td>\n      <td>93.38</td>\n      <td>6.54</td>\n      <td>100.32</td>\n      <td>2.98</td>\n    </tr>\n    <tr>\n      <th>8013</th>\n      <td>51.25</td>\n      <td>29.25</td>\n      <td>2021</td>\n      <td>87</td>\n      <td>11.00</td>\n      <td>-1.01</td>\n      <td>90.25</td>\n      <td>4.80</td>\n      <td>100.54</td>\n      <td>2.96</td>\n    </tr>\n    <tr>\n      <th>8014</th>\n      <td>51.25</td>\n      <td>29.75</td>\n      <td>2021</td>\n      <td>87</td>\n      <td>12.80</td>\n      <td>-0.78</td>\n      <td>86.73</td>\n      <td>2.64</td>\n      <td>100.75</td>\n      <td>2.93</td>\n    </tr>\n    <tr>\n      <th>8016</th>\n      <td>51.75</td>\n      <td>22.75</td>\n      <td>2021</td>\n      <td>87</td>\n      <td>7.47</td>\n      <td>2.00</td>\n      <td>83.92</td>\n      <td>0.96</td>\n      <td>100.72</td>\n      <td>3.13</td>\n    </tr>\n    <tr>\n      <th>8017</th>\n      <td>51.75</td>\n      <td>23.25</td>\n      <td>2021</td>\n      <td>87</td>\n      <td>7.47</td>\n      <td>1.48</td>\n      <td>85.44</td>\n      <td>1.30</td>\n      <td>100.69</td>\n      <td>3.13</td>\n    </tr>\n    <tr>\n      <th>8018</th>\n      <td>51.75</td>\n      <td>23.75</td>\n      <td>2021</td>\n      <td>87</td>\n      <td>7.65</td>\n      <td>0.77</td>\n      <td>87.06</td>\n      <td>1.95</td>\n      <td>100.68</td>\n      <td>3.09</td>\n    </tr>\n    <tr>\n      <th>8019</th>\n      <td>51.75</td>\n      <td>24.25</td>\n      <td>2021</td>\n      <td>87</td>\n      <td>7.59</td>\n      <td>0.09</td>\n      <td>88.99</td>\n      <td>2.98</td>\n      <td>100.66</td>\n      <td>3.04</td>\n    </tr>\n    <tr>\n      <th>8020</th>\n      <td>51.75</td>\n      <td>24.75</td>\n      <td>2021</td>\n      <td>87</td>\n      <td>7.22</td>\n      <td>-0.17</td>\n      <td>90.78</td>\n      <td>3.85</td>\n      <td>100.65</td>\n      <td>2.94</td>\n    </tr>\n    <tr>\n      <th>8021</th>\n      <td>51.75</td>\n      <td>25.25</td>\n      <td>2021</td>\n      <td>87</td>\n      <td>6.69</td>\n      <td>-0.02</td>\n      <td>91.78</td>\n      <td>4.57</td>\n      <td>100.64</td>\n      <td>2.88</td>\n    </tr>\n    <tr>\n      <th>8022</th>\n      <td>51.75</td>\n      <td>25.75</td>\n      <td>2021</td>\n      <td>87</td>\n      <td>6.33</td>\n      <td>0.41</td>\n      <td>92.06</td>\n      <td>5.16</td>\n      <td>100.64</td>\n      <td>2.88</td>\n    </tr>\n    <tr>\n      <th>8023</th>\n      <td>51.75</td>\n      <td>26.25</td>\n      <td>2021</td>\n      <td>87</td>\n      <td>6.62</td>\n      <td>0.97</td>\n      <td>92.41</td>\n      <td>5.64</td>\n      <td>100.65</td>\n      <td>2.93</td>\n    </tr>\n    <tr>\n      <th>8024</th>\n      <td>51.75</td>\n      <td>26.75</td>\n      <td>2021</td>\n      <td>87</td>\n      <td>6.79</td>\n      <td>0.82</td>\n      <td>93.28</td>\n      <td>6.01</td>\n      <td>100.68</td>\n      <td>2.96</td>\n    </tr>\n    <tr>\n      <th>8025</th>\n      <td>51.75</td>\n      <td>27.25</td>\n      <td>2021</td>\n      <td>87</td>\n      <td>6.65</td>\n      <td>0.23</td>\n      <td>94.06</td>\n      <td>6.26</td>\n      <td>100.65</td>\n      <td>2.92</td>\n    </tr>\n    <tr>\n      <th>8026</th>\n      <td>51.75</td>\n      <td>27.75</td>\n      <td>2021</td>\n      <td>87</td>\n      <td>6.10</td>\n      <td>-0.34</td>\n      <td>94.75</td>\n      <td>6.12</td>\n      <td>100.59</td>\n      <td>2.77</td>\n    </tr>\n    <tr>\n      <th>8027</th>\n      <td>51.75</td>\n      <td>28.25</td>\n      <td>2021</td>\n      <td>87</td>\n      <td>5.85</td>\n      <td>-0.71</td>\n      <td>95.08</td>\n      <td>5.57</td>\n      <td>100.55</td>\n      <td>2.62</td>\n    </tr>\n    <tr>\n      <th>8028</th>\n      <td>51.75</td>\n      <td>28.75</td>\n      <td>2021</td>\n      <td>87</td>\n      <td>7.42</td>\n      <td>-1.01</td>\n      <td>94.53</td>\n      <td>4.80</td>\n      <td>100.57</td>\n      <td>2.71</td>\n    </tr>\n    <tr>\n      <th>8029</th>\n      <td>51.75</td>\n      <td>29.25</td>\n      <td>2021</td>\n      <td>87</td>\n      <td>10.29</td>\n      <td>-0.98</td>\n      <td>91.16</td>\n      <td>3.58</td>\n      <td>100.68</td>\n      <td>2.84</td>\n    </tr>\n    <tr>\n      <th>8030</th>\n      <td>51.75</td>\n      <td>29.75</td>\n      <td>2021</td>\n      <td>87</td>\n      <td>12.29</td>\n      <td>-0.68</td>\n      <td>87.95</td>\n      <td>2.13</td>\n      <td>100.79</td>\n      <td>2.90</td>\n    </tr>\n  </tbody>\n</table>\n</div>"
     },
     "execution_count": 7,
     "metadata": {},
     "output_type": "execute_result"
    }
   ],
   "source": [
    "dd2=dd.loc[dd['DOY']==87]\n",
    "dd2"
   ],
   "metadata": {
    "collapsed": false,
    "pycharm": {
     "name": "#%%\n"
    }
   }
  },
  {
   "cell_type": "code",
   "execution_count": 11,
   "outputs": [],
   "source": [],
   "metadata": {
    "collapsed": false,
    "pycharm": {
     "name": "#%%\n"
    }
   }
  },
  {
   "cell_type": "code",
   "execution_count": 11,
   "outputs": [],
   "source": [],
   "metadata": {
    "collapsed": false,
    "pycharm": {
     "name": "#%%\n"
    }
   }
  },
  {
   "cell_type": "code",
   "execution_count": 11,
   "outputs": [],
   "source": [],
   "metadata": {
    "collapsed": false,
    "pycharm": {
     "name": "#%%\n"
    }
   }
  },
  {
   "cell_type": "code",
   "execution_count": 11,
   "outputs": [],
   "source": [],
   "metadata": {
    "collapsed": false,
    "pycharm": {
     "name": "#%%\n"
    }
   }
  },
  {
   "cell_type": "code",
   "execution_count": 11,
   "outputs": [],
   "source": [],
   "metadata": {
    "collapsed": false,
    "pycharm": {
     "name": "#%%\n"
    }
   }
  },
  {
   "cell_type": "code",
   "execution_count": 7,
   "outputs": [],
   "source": [],
   "metadata": {
    "collapsed": false,
    "pycharm": {
     "name": "#%%\n"
    }
   }
  },
  {
   "cell_type": "code",
   "execution_count": 9,
   "outputs": [
    {
     "data": {
      "text/plain": "         no2         o3       so2      pm2.5       pm10          co  \\\n0   3.783875  49.345239  1.917797   8.031209   9.464757  195.043783   \n1   3.836256  54.881348  2.443517  10.640936  12.686302  194.041806   \n2   3.776707  59.521372  2.019546   9.903540  12.192924  194.684164   \n3   4.072212  60.743476  3.560883  18.353051  21.905664  218.238623   \n4   4.161248  54.715312  2.169823  16.485047  20.540913  215.664741   \n..       ...        ...       ...        ...        ...         ...   \n87  2.440870  69.778423  1.555527   7.581488   9.272971  138.705194   \n88  2.474146  66.731147  1.539976   7.226729   9.757848  136.916692   \n89  1.873383  67.046069  1.213483   7.028793   8.978765  141.783249   \n90  1.731858  63.695421  0.955741   5.393526   5.977667  146.129706   \n91  1.734039  60.847541  1.143347   5.120509   5.638763  136.934553   \n\n        t_max      t_min        hum     opady        tysk    windsp  \n0    3.428095  -3.116810  89.428643  0.892929  100.233405  2.278095  \n1    5.069071  -2.856452  88.059738  0.563429  100.105833  4.160595  \n2    5.402143  -2.870619  85.664762  0.294976   99.984667  3.474976  \n3    7.673833  -2.744738  87.377595  0.170310   99.096476  4.160167  \n4    5.114690  -2.167905  89.347357  2.254476   98.806048  2.620929  \n..        ...        ...        ...       ...         ...       ...  \n87  23.214738  12.393286  72.264690  1.822452   99.215333  1.649143  \n88  22.316952  13.576238  76.382500  4.522000   98.874190  1.749476  \n89  21.198548  13.022548  78.835310  2.953667   98.658667  2.301833  \n90  18.631810  11.068310  81.460214  5.784262   98.838071  2.607000  \n91  17.105976   9.591571  78.632738  2.921667   99.082833  2.422262  \n\n[92 rows x 12 columns]",
      "text/html": "<div>\n<style scoped>\n    .dataframe tbody tr th:only-of-type {\n        vertical-align: middle;\n    }\n\n    .dataframe tbody tr th {\n        vertical-align: top;\n    }\n\n    .dataframe thead th {\n        text-align: right;\n    }\n</style>\n<table border=\"1\" class=\"dataframe\">\n  <thead>\n    <tr style=\"text-align: right;\">\n      <th></th>\n      <th>no2</th>\n      <th>o3</th>\n      <th>so2</th>\n      <th>pm2.5</th>\n      <th>pm10</th>\n      <th>co</th>\n      <th>t_max</th>\n      <th>t_min</th>\n      <th>hum</th>\n      <th>opady</th>\n      <th>tysk</th>\n      <th>windsp</th>\n    </tr>\n  </thead>\n  <tbody>\n    <tr>\n      <th>0</th>\n      <td>3.783875</td>\n      <td>49.345239</td>\n      <td>1.917797</td>\n      <td>8.031209</td>\n      <td>9.464757</td>\n      <td>195.043783</td>\n      <td>3.428095</td>\n      <td>-3.116810</td>\n      <td>89.428643</td>\n      <td>0.892929</td>\n      <td>100.233405</td>\n      <td>2.278095</td>\n    </tr>\n    <tr>\n      <th>1</th>\n      <td>3.836256</td>\n      <td>54.881348</td>\n      <td>2.443517</td>\n      <td>10.640936</td>\n      <td>12.686302</td>\n      <td>194.041806</td>\n      <td>5.069071</td>\n      <td>-2.856452</td>\n      <td>88.059738</td>\n      <td>0.563429</td>\n      <td>100.105833</td>\n      <td>4.160595</td>\n    </tr>\n    <tr>\n      <th>2</th>\n      <td>3.776707</td>\n      <td>59.521372</td>\n      <td>2.019546</td>\n      <td>9.903540</td>\n      <td>12.192924</td>\n      <td>194.684164</td>\n      <td>5.402143</td>\n      <td>-2.870619</td>\n      <td>85.664762</td>\n      <td>0.294976</td>\n      <td>99.984667</td>\n      <td>3.474976</td>\n    </tr>\n    <tr>\n      <th>3</th>\n      <td>4.072212</td>\n      <td>60.743476</td>\n      <td>3.560883</td>\n      <td>18.353051</td>\n      <td>21.905664</td>\n      <td>218.238623</td>\n      <td>7.673833</td>\n      <td>-2.744738</td>\n      <td>87.377595</td>\n      <td>0.170310</td>\n      <td>99.096476</td>\n      <td>4.160167</td>\n    </tr>\n    <tr>\n      <th>4</th>\n      <td>4.161248</td>\n      <td>54.715312</td>\n      <td>2.169823</td>\n      <td>16.485047</td>\n      <td>20.540913</td>\n      <td>215.664741</td>\n      <td>5.114690</td>\n      <td>-2.167905</td>\n      <td>89.347357</td>\n      <td>2.254476</td>\n      <td>98.806048</td>\n      <td>2.620929</td>\n    </tr>\n    <tr>\n      <th>...</th>\n      <td>...</td>\n      <td>...</td>\n      <td>...</td>\n      <td>...</td>\n      <td>...</td>\n      <td>...</td>\n      <td>...</td>\n      <td>...</td>\n      <td>...</td>\n      <td>...</td>\n      <td>...</td>\n      <td>...</td>\n    </tr>\n    <tr>\n      <th>87</th>\n      <td>2.440870</td>\n      <td>69.778423</td>\n      <td>1.555527</td>\n      <td>7.581488</td>\n      <td>9.272971</td>\n      <td>138.705194</td>\n      <td>23.214738</td>\n      <td>12.393286</td>\n      <td>72.264690</td>\n      <td>1.822452</td>\n      <td>99.215333</td>\n      <td>1.649143</td>\n    </tr>\n    <tr>\n      <th>88</th>\n      <td>2.474146</td>\n      <td>66.731147</td>\n      <td>1.539976</td>\n      <td>7.226729</td>\n      <td>9.757848</td>\n      <td>136.916692</td>\n      <td>22.316952</td>\n      <td>13.576238</td>\n      <td>76.382500</td>\n      <td>4.522000</td>\n      <td>98.874190</td>\n      <td>1.749476</td>\n    </tr>\n    <tr>\n      <th>89</th>\n      <td>1.873383</td>\n      <td>67.046069</td>\n      <td>1.213483</td>\n      <td>7.028793</td>\n      <td>8.978765</td>\n      <td>141.783249</td>\n      <td>21.198548</td>\n      <td>13.022548</td>\n      <td>78.835310</td>\n      <td>2.953667</td>\n      <td>98.658667</td>\n      <td>2.301833</td>\n    </tr>\n    <tr>\n      <th>90</th>\n      <td>1.731858</td>\n      <td>63.695421</td>\n      <td>0.955741</td>\n      <td>5.393526</td>\n      <td>5.977667</td>\n      <td>146.129706</td>\n      <td>18.631810</td>\n      <td>11.068310</td>\n      <td>81.460214</td>\n      <td>5.784262</td>\n      <td>98.838071</td>\n      <td>2.607000</td>\n    </tr>\n    <tr>\n      <th>91</th>\n      <td>1.734039</td>\n      <td>60.847541</td>\n      <td>1.143347</td>\n      <td>5.120509</td>\n      <td>5.638763</td>\n      <td>136.934553</td>\n      <td>17.105976</td>\n      <td>9.591571</td>\n      <td>78.632738</td>\n      <td>2.921667</td>\n      <td>99.082833</td>\n      <td>2.422262</td>\n    </tr>\n  </tbody>\n</table>\n<p>92 rows × 12 columns</p>\n</div>"
     },
     "execution_count": 9,
     "metadata": {},
     "output_type": "execute_result"
    }
   ],
   "source": [
    "dff=pd.read_csv('dataframe_of_first_ model.csv', delimiter=',',index_col=0 )\n",
    "dff\n"
   ],
   "metadata": {
    "collapsed": false,
    "pycharm": {
     "name": "#%%\n"
    }
   }
  },
  {
   "cell_type": "code",
   "execution_count": 12,
   "outputs": [],
   "source": [],
   "metadata": {
    "collapsed": false,
    "pycharm": {
     "name": "#%%\n"
    }
   }
  },
  {
   "cell_type": "code",
   "execution_count": 12,
   "outputs": [],
   "source": [],
   "metadata": {
    "collapsed": false,
    "pycharm": {
     "name": "#%%\n"
    }
   }
  },
  {
   "cell_type": "code",
   "execution_count": 12,
   "outputs": [],
   "source": [],
   "metadata": {
    "collapsed": false,
    "pycharm": {
     "name": "#%%\n"
    }
   }
  },
  {
   "cell_type": "code",
   "execution_count": 12,
   "outputs": [],
   "source": [],
   "metadata": {
    "collapsed": false,
    "pycharm": {
     "name": "#%%\n"
    }
   }
  }
 ],
 "metadata": {
  "kernelspec": {
   "display_name": "Python 3",
   "language": "python",
   "name": "python3"
  },
  "language_info": {
   "codemirror_mode": {
    "name": "ipython",
    "version": 2
   },
   "file_extension": ".py",
   "mimetype": "text/x-python",
   "name": "python",
   "nbconvert_exporter": "python",
   "pygments_lexer": "ipython2",
   "version": "2.7.6"
  }
 },
 "nbformat": 4,
 "nbformat_minor": 0
}