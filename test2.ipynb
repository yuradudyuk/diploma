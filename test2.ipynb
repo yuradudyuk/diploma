{
 "cells": [
  {
   "cell_type": "code",
   "execution_count": 19,
   "outputs": [
    {
     "data": {
      "text/plain": "         longitude   latitude  level                time  no2_conc\n0            22.65  51.650002    0.0 2021-03-01 01:00:00  4.786252\n552          22.65  51.549999    0.0 2021-03-01 01:00:00  5.009497\n1104         22.65  51.450001    0.0 2021-03-01 01:00:00  5.160295\n1656         22.65  51.349998    0.0 2021-03-01 01:00:00  5.340183\n2208         22.65  51.250000    0.0 2021-03-01 01:00:00  5.673115\n...            ...        ...    ...                 ...       ...\n2199720      29.75  50.750000    0.0 2021-03-01 01:00:00  3.664290\n2200272      29.75  50.650002    0.0 2021-03-01 01:00:00  3.675091\n2200824      29.75  50.549999    0.0 2021-03-01 01:00:00  3.684740\n2201376      29.75  50.450001    0.0 2021-03-01 01:00:00  3.682445\n2201928      29.75  50.349998    0.0 2021-03-01 01:00:00  3.555790\n\n[1008 rows x 5 columns]",
      "text/html": "<div>\n<style scoped>\n    .dataframe tbody tr th:only-of-type {\n        vertical-align: middle;\n    }\n\n    .dataframe tbody tr th {\n        vertical-align: top;\n    }\n\n    .dataframe thead th {\n        text-align: right;\n    }\n</style>\n<table border=\"1\" class=\"dataframe\">\n  <thead>\n    <tr style=\"text-align: right;\">\n      <th></th>\n      <th>longitude</th>\n      <th>latitude</th>\n      <th>level</th>\n      <th>time</th>\n      <th>no2_conc</th>\n    </tr>\n  </thead>\n  <tbody>\n    <tr>\n      <th>0</th>\n      <td>22.65</td>\n      <td>51.650002</td>\n      <td>0.0</td>\n      <td>2021-03-01 01:00:00</td>\n      <td>4.786252</td>\n    </tr>\n    <tr>\n      <th>552</th>\n      <td>22.65</td>\n      <td>51.549999</td>\n      <td>0.0</td>\n      <td>2021-03-01 01:00:00</td>\n      <td>5.009497</td>\n    </tr>\n    <tr>\n      <th>1104</th>\n      <td>22.65</td>\n      <td>51.450001</td>\n      <td>0.0</td>\n      <td>2021-03-01 01:00:00</td>\n      <td>5.160295</td>\n    </tr>\n    <tr>\n      <th>1656</th>\n      <td>22.65</td>\n      <td>51.349998</td>\n      <td>0.0</td>\n      <td>2021-03-01 01:00:00</td>\n      <td>5.340183</td>\n    </tr>\n    <tr>\n      <th>2208</th>\n      <td>22.65</td>\n      <td>51.250000</td>\n      <td>0.0</td>\n      <td>2021-03-01 01:00:00</td>\n      <td>5.673115</td>\n    </tr>\n    <tr>\n      <th>...</th>\n      <td>...</td>\n      <td>...</td>\n      <td>...</td>\n      <td>...</td>\n      <td>...</td>\n    </tr>\n    <tr>\n      <th>2199720</th>\n      <td>29.75</td>\n      <td>50.750000</td>\n      <td>0.0</td>\n      <td>2021-03-01 01:00:00</td>\n      <td>3.664290</td>\n    </tr>\n    <tr>\n      <th>2200272</th>\n      <td>29.75</td>\n      <td>50.650002</td>\n      <td>0.0</td>\n      <td>2021-03-01 01:00:00</td>\n      <td>3.675091</td>\n    </tr>\n    <tr>\n      <th>2200824</th>\n      <td>29.75</td>\n      <td>50.549999</td>\n      <td>0.0</td>\n      <td>2021-03-01 01:00:00</td>\n      <td>3.684740</td>\n    </tr>\n    <tr>\n      <th>2201376</th>\n      <td>29.75</td>\n      <td>50.450001</td>\n      <td>0.0</td>\n      <td>2021-03-01 01:00:00</td>\n      <td>3.682445</td>\n    </tr>\n    <tr>\n      <th>2201928</th>\n      <td>29.75</td>\n      <td>50.349998</td>\n      <td>0.0</td>\n      <td>2021-03-01 01:00:00</td>\n      <td>3.555790</td>\n    </tr>\n  </tbody>\n</table>\n<p>1008 rows × 5 columns</p>\n</div>"
     },
     "execution_count": 19,
     "metadata": {},
     "output_type": "execute_result"
    }
   ],
   "source": [
    "import pandas as pd\n",
    "import xarray as xr\n",
    "from pandas import to_datetime as tdt\n",
    "import numpy as np\n",
    "days=6*92\n",
    "ds = xr.open_dataset('no2_spring.nc')\n",
    "df_ = ds.to_dataframe().reset_index()\n",
    "start_date = tdt('2021-03-01')\n",
    "df_['time'] = start_date + df_['time']\n",
    "df = df_[(df_['latitude'] >= 50.3)  & (df_['latitude'] <= 51.7) & (df_['longitude'] <= 29.8) & (df_['longitude'] >= 22)]\n",
    "time=np.array(df['time'])[:days]\n",
    "vykydy=[]\n",
    "for i in range(days):\n",
    "    dd=df[df['time']==time[i]]\n",
    "    chemical=np.array(dd[name_chemical])\n",
    "    vykydy.append((chemical.sum()/1008))\n",
    "result_data = []\n",
    "for i in range(0,days,6):\n",
    "    ser = (vykydy[i] + vykydy[i+1] + vykydy[i+2] +vykydy[i+3] + vykydy[i+4] + vykydy[i+5])/6\n",
    "    result_data.append(ser)\n",
    "len_of_result_data=len(result_data)\n",
    "np.savetxt(outfile, result_data, delimiter='\\n', fmt='%1.15f')\n",
    "for i in range (5):\n",
    "    do_everything(92,names_of_infiles[0],names_of_conc[0],names_of_outfiles[0])"
   ],
   "metadata": {
    "collapsed": false,
    "pycharm": {
     "name": "#%%\n"
    }
   }
  },
  {
   "cell_type": "code",
   "execution_count": null,
   "outputs": [],
   "source": [],
   "metadata": {
    "collapsed": false,
    "pycharm": {
     "name": "#%%\n"
    }
   }
  }
 ],
 "metadata": {
  "kernelspec": {
   "display_name": "Python 3",
   "language": "python",
   "name": "python3"
  },
  "language_info": {
   "codemirror_mode": {
    "name": "ipython",
    "version": 2
   },
   "file_extension": ".py",
   "mimetype": "text/x-python",
   "name": "python",
   "nbconvert_exporter": "python",
   "pygments_lexer": "ipython2",
   "version": "2.7.6"
  }
 },
 "nbformat": 4,
 "nbformat_minor": 0
}